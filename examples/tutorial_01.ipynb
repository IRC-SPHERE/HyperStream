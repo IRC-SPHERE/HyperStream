{
 "cells": [
  {
   "cell_type": "markdown",
   "metadata": {},
   "source": [
    "# HyperStream Tutorial 1: Introduction\n",
    "\n",
    "## Requirements\n",
    "\n",
    "In order to run this and the following tutorials, it is necessary to have access to a MongoDB server running in the **localhost port 27017**. It is possible to change the host and port of the MongoDB server by modifying the configuration file __hyperstream_config.json__ located in the same folder as this notebook.\n",
    "\n",
    "We also require all the dependencies listed in the HyperStream requirements, the installation instructions can be found in https://github.com/IRC-SPHERE/HyperStream"
   ]
  },
  {
   "cell_type": "code",
   "execution_count": 1,
   "metadata": {
    "collapsed": false
   },
   "outputs": [],
   "source": [
    "import sys\n",
    "sys.path.append(\"../\") # Add parent dir in the Path\n",
    "\n",
    "from hyperstream import HyperStream"
   ]
  },
  {
   "cell_type": "markdown",
   "metadata": {},
   "source": [
    "## Starting a Hyperstream instance\n",
    "\n",
    "First of all, we will create a HyperStream instance. This instance will connect to the MongoDB server that is specified in the configuration file and it will raise an error if the MongoDB server is not running."
   ]
  },
  {
   "cell_type": "code",
   "execution_count": 2,
   "metadata": {
    "collapsed": false
   },
   "outputs": [
    {
     "name": "stdout",
     "output_type": "stream",
     "text": [
      "HyperStream version 0.2.6, connected to mongodb://localhost:27017/hyperstream\n"
     ]
    }
   ],
   "source": [
    "from hyperstream import HyperStream\n",
    "\n",
    "hs = HyperStream(loglevel=0)\n",
    "print hs"
   ]
  },
  {
   "cell_type": "markdown",
   "metadata": {},
   "source": [
    "## Selecting a tool\n",
    "\n",
    "HyperStream counts with a set of predefined tools in hyperstream.tools. This tools can be used to define the nodes of a factor graph that will produce values or compute certain functions given the specified input nodes. For this tutorial, we will focus on the **clock** tool. This tool produces time ticks from the specified start and stride times."
   ]
  },
  {
   "cell_type": "code",
   "execution_count": 3,
   "metadata": {
    "collapsed": false
   },
   "outputs": [],
   "source": [
    "from hyperstream import StreamId\n",
    "\n",
    "T = hs.channel_manager.tools\n",
    "\n",
    "clock = StreamId(name=\"clock\")\n",
    "\n",
    "clock_tool = T[clock].window().last().value(stride=2.0)"
   ]
  },
  {
   "cell_type": "markdown",
   "metadata": {},
   "source": [
    "## Specifying the memory channel\n",
    "\n",
    "We need to specify where do we want to store the resulting stream of data that will be generated. It is possible to choose a MongoDB database instead of in memory selecting **hs.channel_manger.mongo**. In this tutorial we use the memory channel by creating an instance of memory and then creating the stream on it."
   ]
  },
  {
   "cell_type": "code",
   "execution_count": 4,
   "metadata": {
    "collapsed": false
   },
   "outputs": [],
   "source": [
    "M = hs.channel_manager.memory\n",
    "\n",
    "ticker = M.get_or_create_stream(stream_id=StreamId(name=\"ticker\"))"
   ]
  },
  {
   "cell_type": "markdown",
   "metadata": {},
   "source": [
    "## Querying the tool\n",
    "\n",
    "Now we only need to create the time interval that we want to query. We do this by specifieng the begining and end."
   ]
  },
  {
   "cell_type": "code",
   "execution_count": 5,
   "metadata": {
    "collapsed": false
   },
   "outputs": [],
   "source": [
    "from pytz import UTC\n",
    "from datetime import datetime, timedelta\n",
    "\n",
    "now = datetime.utcnow().replace(tzinfo=UTC)\n",
    "before = (now - timedelta(seconds=10)).replace(tzinfo=UTC)\n",
    "\n",
    "from hyperstream import TimeInterval\n",
    "\n",
    "ti = TimeInterval(before, now)"
   ]
  },
  {
   "cell_type": "markdown",
   "metadata": {},
   "source": [
    "## Executing the tool\n",
    "\n",
    "Now that we defined the tool to use, where we want to store the results and the time interval, it is possible to execute the tool."
   ]
  },
  {
   "cell_type": "code",
   "execution_count": 6,
   "metadata": {
    "collapsed": true
   },
   "outputs": [],
   "source": [
    "clock_tool.execute(sources=[], sink=ticker, interval=ti, alignment_stream=None)"
   ]
  },
  {
   "cell_type": "markdown",
   "metadata": {},
   "source": [
    "## Printing the results\n",
    "\n",
    "The resulting stream is stored in the ticker. We can get now a list of tuples containing the timestamps and its corresponding clock value."
   ]
  },
  {
   "cell_type": "code",
   "execution_count": 7,
   "metadata": {
    "collapsed": false
   },
   "outputs": [
    {
     "name": "stdout",
     "output_type": "stream",
     "text": [
      "[2017-06-19 15:51:16+00:00]: 2017-06-19 15:51:16+00:00\n",
      "[2017-06-19 15:51:18+00:00]: 2017-06-19 15:51:18+00:00\n",
      "[2017-06-19 15:51:20+00:00]: 2017-06-19 15:51:20+00:00\n",
      "[2017-06-19 15:51:22+00:00]: 2017-06-19 15:51:22+00:00\n",
      "[2017-06-19 15:51:24+00:00]: 2017-06-19 15:51:24+00:00\n"
     ]
    }
   ],
   "source": [
    "for timestamp, value in ticker.window().items():\n",
    "    print '[%s]: %s' % (timestamp, value)"
   ]
  }
 ],
 "metadata": {
  "kernelspec": {
   "display_name": "Python 2",
   "language": "python",
   "name": "python2"
  },
  "language_info": {
   "codemirror_mode": {
    "name": "ipython",
    "version": 2
   },
   "file_extension": ".py",
   "mimetype": "text/x-python",
   "name": "python",
   "nbconvert_exporter": "python",
   "pygments_lexer": "ipython2",
   "version": "2.7.6"
  }
 },
 "nbformat": 4,
 "nbformat_minor": 1
}
