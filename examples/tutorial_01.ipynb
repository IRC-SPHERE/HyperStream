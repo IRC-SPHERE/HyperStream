{
 "cells": [
  {
   "cell_type": "markdown",
   "metadata": {},
   "source": [
    "<img style=\"float: right;\" src=\"hyperstream.svg\">\n",
    "\n",
    "# HyperStream Tutorial 1: Introduction\n",
    "\n",
    "## Requirements\n",
    "\n",
    "In order to run this and the following tutorials, it is necessary to have access to a MongoDB server running in the **localhost port 27017**. It is possible to change the host and port of the MongoDB server by modifying the configuration file __hyperstream_config.json__ located in the same folder as this notebook.\n",
    "\n",
    "We also require all the dependencies listed in the HyperStream requirements, the installation instructions can be found in https://github.com/IRC-SPHERE/HyperStream"
   ]
  },
  {
   "cell_type": "code",
   "execution_count": 1,
   "metadata": {
    "collapsed": false
   },
   "outputs": [
    {
     "name": "stdout",
     "output_type": "stream",
     "text": [
      "CPython 2.7.6\n",
      "IPython 5.3.0\n",
      "\n",
      "hyperstream 0.3.0-beta\n",
      "\n",
      "compiler   : GCC 4.8.4\n",
      "system     : Linux\n",
      "release    : 3.19.0-80-generic\n",
      "machine    : x86_64\n",
      "processor  : x86_64\n",
      "CPU cores  : 4\n",
      "interpreter: 64bit\n",
      "Git hash   : 33621000d8f335505eac32a5a274194d2588a4c9\n"
     ]
    }
   ],
   "source": [
    "%load_ext watermark\n",
    "\n",
    "import sys\n",
    "sys.path.append(\"../\") # Add parent dir in the Path\n",
    "\n",
    "from hyperstream import HyperStream\n",
    "from hyperstream import StreamId\n",
    "from hyperstream import TimeInterval\n",
    "\n",
    "from pytz import UTC\n",
    "from datetime import datetime, timedelta\n",
    "\n",
    "%watermark -v -m -p hyperstream -g"
   ]
  },
  {
   "cell_type": "markdown",
   "metadata": {},
   "source": [
    "## Starting a Hyperstream instance\n",
    "\n",
    "First of all, we will create a HyperStream instance. This instance will connect to the MongoDB server that is specified in the configuration file."
   ]
  },
  {
   "cell_type": "code",
   "execution_count": 2,
   "metadata": {
    "collapsed": false
   },
   "outputs": [
    {
     "name": "stdout",
     "output_type": "stream",
     "text": [
      "HyperStream version 0.3.0-beta, connected to mongodb://localhost:27017/hyperstream\n"
     ]
    }
   ],
   "source": [
    "hs = HyperStream(loglevel=0)\n",
    "print hs"
   ]
  },
  {
   "cell_type": "markdown",
   "metadata": {},
   "source": [
    "## Selecting a tool\n",
    "\n",
    "HyperStream counts with a set of predefined tools in hyperstream.tools. These tools can be used to define the nodes of a factor graph that will produce values or compute certain functions given the specified input nodes. For this tutorial, we will focus on the **clock** tool. This tool produces time ticks from the specified start and stride times."
   ]
  },
  {
   "cell_type": "code",
   "execution_count": 3,
   "metadata": {
    "collapsed": false
   },
   "outputs": [],
   "source": [
    "T = hs.channel_manager.tools\n",
    "\n",
    "clock = StreamId(name=\"clock\")\n",
    "\n",
    "clock_tool = T[clock].window().last().value(stride=2.0)"
   ]
  },
  {
   "cell_type": "markdown",
   "metadata": {},
   "source": [
    "## Specifying the memory channel\n",
    "\n",
    "We need to specify where do we want to store the resulting stream of data that will be generated. It is possible to choose a MongoDB database instead of in memory selecting **hs.channel_manger.mongo**. In this tutorial we use the memory channel by creating an instance of memory and then creating the stream on it."
   ]
  },
  {
   "cell_type": "code",
   "execution_count": 4,
   "metadata": {
    "collapsed": false
   },
   "outputs": [],
   "source": [
    "M = hs.channel_manager.memory\n",
    "\n",
    "ticker = M.get_or_create_stream(stream_id=StreamId(name=\"ticker\"))"
   ]
  },
  {
   "cell_type": "markdown",
   "metadata": {},
   "source": [
    "## Executing the tool\n",
    "\n",
    "Now we only need to specify the time interval that we want to query. We do this by specifieng the begining and end."
   ]
  },
  {
   "cell_type": "code",
   "execution_count": 5,
   "metadata": {
    "collapsed": false
   },
   "outputs": [],
   "source": [
    "now = datetime.utcnow().replace(tzinfo=UTC)\n",
    "before = (now - timedelta(seconds=10)).replace(tzinfo=UTC)\n",
    "\n",
    "ti = TimeInterval(before, now)"
   ]
  },
  {
   "cell_type": "markdown",
   "metadata": {},
   "source": [
    "Now that we defined the tool to use, where we want to store the results and the time interval, it is possible to execute the tool. Then, we will have all the computed results in the specified __sink__."
   ]
  },
  {
   "cell_type": "code",
   "execution_count": 6,
   "metadata": {
    "collapsed": false
   },
   "outputs": [],
   "source": [
    "clock_tool.execute(sources=[], sink=ticker, interval=ti, alignment_stream=None)"
   ]
  },
  {
   "cell_type": "code",
   "execution_count": 7,
   "metadata": {
    "collapsed": false
   },
   "outputs": [
    {
     "data": {
      "text/plain": [
       "TimeIntervals([TimeInterval(start=datetime.datetime(2017, 7, 6, 10, 48, 4, 437483, tzinfo=<UTC>), end=datetime.datetime(2017, 7, 6, 10, 48, 14, 437483, tzinfo=<UTC>))])"
      ]
     },
     "execution_count": 7,
     "metadata": {},
     "output_type": "execute_result"
    }
   ],
   "source": [
    "ticker.calculated_intervals"
   ]
  },
  {
   "cell_type": "markdown",
   "metadata": {},
   "source": [
    "## Printing the results\n",
    "\n",
    "The resulting stream is stored in the ticker. We can get now a list of tuples containing the timestamps and its corresponding clock value."
   ]
  },
  {
   "cell_type": "code",
   "execution_count": 8,
   "metadata": {
    "collapsed": false
   },
   "outputs": [
    {
     "name": "stdout",
     "output_type": "stream",
     "text": [
      "[2017-07-06 10:48:06+00:00]: 2017-07-06 10:48:06+00:00\n",
      "[2017-07-06 10:48:08+00:00]: 2017-07-06 10:48:08+00:00\n",
      "[2017-07-06 10:48:10+00:00]: 2017-07-06 10:48:10+00:00\n",
      "[2017-07-06 10:48:12+00:00]: 2017-07-06 10:48:12+00:00\n",
      "[2017-07-06 10:48:14+00:00]: 2017-07-06 10:48:14+00:00\n"
     ]
    }
   ],
   "source": [
    "for timestamp, value in ticker.window().items():\n",
    "    print '[%s]: %s' % (timestamp, value)"
   ]
  },
  {
   "cell_type": "markdown",
   "metadata": {},
   "source": [
    "# Executing new interval\n",
    "\n",
    "It is possible to execute the tool again with an interval that has not been computed previously. In this case the missing interval will be computed again."
   ]
  },
  {
   "cell_type": "code",
   "execution_count": 9,
   "metadata": {
    "collapsed": false
   },
   "outputs": [
    {
     "data": {
      "text/plain": [
       "TimeIntervals([TimeInterval(start=datetime.datetime(2017, 7, 6, 10, 47, 34, 437483, tzinfo=<UTC>), end=datetime.datetime(2017, 7, 6, 10, 48, 14, 437483, tzinfo=<UTC>))])"
      ]
     },
     "execution_count": 9,
     "metadata": {},
     "output_type": "execute_result"
    }
   ],
   "source": [
    "before = (now - timedelta(seconds=40)).replace(tzinfo=UTC)\n",
    "\n",
    "ti = TimeInterval(before, now)\n",
    "\n",
    "clock_tool.execute(sources=[], sink=ticker, interval=ti, alignment_stream=None)\n",
    "ticker.calculated_intervals"
   ]
  },
  {
   "cell_type": "markdown",
   "metadata": {},
   "source": [
    "# Query\n",
    "\n",
    "It is possible to query only certain window by passing the interval of interest to the stream."
   ]
  },
  {
   "cell_type": "code",
   "execution_count": 10,
   "metadata": {
    "collapsed": false
   },
   "outputs": [
    {
     "name": "stdout",
     "output_type": "stream",
     "text": [
      "[2017-07-06 10:47:46+00:00]: 2017-07-06 10:47:46+00:00\n",
      "[2017-07-06 10:47:48+00:00]: 2017-07-06 10:47:48+00:00\n",
      "[2017-07-06 10:47:50+00:00]: 2017-07-06 10:47:50+00:00\n",
      "[2017-07-06 10:47:52+00:00]: 2017-07-06 10:47:52+00:00\n",
      "[2017-07-06 10:47:54+00:00]: 2017-07-06 10:47:54+00:00\n"
     ]
    }
   ],
   "source": [
    "time1 = (now - timedelta(seconds=30)).replace(tzinfo=UTC)\n",
    "time2 = (now - timedelta(seconds=20)).replace(tzinfo=UTC)\n",
    "\n",
    "ti = TimeInterval(time1, time2)\n",
    "\n",
    "for timestamp, value in ticker.window(ti).items():\n",
    "    print '[%s]: %s' % (timestamp, value)"
   ]
  }
 ],
 "metadata": {
  "kernelspec": {
   "display_name": "Python 2",
   "language": "python",
   "name": "python2"
  },
  "language_info": {
   "codemirror_mode": {
    "name": "ipython",
    "version": 2
   },
   "file_extension": ".py",
   "mimetype": "text/x-python",
   "name": "python",
   "nbconvert_exporter": "python",
   "pygments_lexer": "ipython2",
   "version": "2.7.6"
  }
 },
 "nbformat": 4,
 "nbformat_minor": 1
}
