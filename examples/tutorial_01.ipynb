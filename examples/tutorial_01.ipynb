{
 "cells": [
  {
   "cell_type": "markdown",
   "metadata": {},
   "source": [
    "# HyperStream Tutorial 1: Introduction\n",
    "\n",
    "## Requirements\n",
    "\n",
    "In order to run this and the following tutorials, it is necessary to have access to a MongoDB server running in the **localhost port 27017**. It is possible to change the host and port of the MongoDB server by modifying the configuration file __hyperstream_config.json__ located in the same folder as this notebook."
   ]
  },
  {
   "cell_type": "code",
   "execution_count": 1,
   "metadata": {
    "collapsed": false
   },
   "outputs": [],
   "source": [
    "import sys\n",
    "sys.path.append(\"../\") # Add parent dir in the Path\n",
    "\n",
    "from hyperstream import HyperStream"
   ]
  },
  {
   "cell_type": "markdown",
   "metadata": {},
   "source": [
    "## Starting an Hyperstream instance\n",
    "\n",
    "First of all, we will create a HyperStream instance. This instance will connect to the MongoDB server that is specified in the configuration file and it will raise an error if the MongoDB server is not running."
   ]
  },
  {
   "cell_type": "code",
   "execution_count": 6,
   "metadata": {
    "collapsed": false
   },
   "outputs": [
    {
     "name": "stdout",
     "output_type": "stream",
     "text": [
      "HyperStream version 0.2.6, connected to mongodb://localhost:27017/hyperstream\n"
     ]
    }
   ],
   "source": [
    "hs = HyperStream()\n",
    "print hs"
   ]
  },
  {
   "cell_type": "markdown",
   "metadata": {},
   "source": [
    "## Memory and tools\n",
    "\n"
   ]
  },
  {
   "cell_type": "code",
   "execution_count": null,
   "metadata": {
    "collapsed": true
   },
   "outputs": [],
   "source": [
    "from hyperstream.workflow.workflow import Workflow\n",
    "\n",
    "from hyperstream import StreamId, TimeInterval\n",
    "from pytz import UTC\n",
    "from datetime import datetime, timedelta"
   ]
  },
  {
   "cell_type": "code",
   "execution_count": 3,
   "metadata": {
    "collapsed": false
   },
   "outputs": [],
   "source": [
    "M = hs.channel_manager.memory\n",
    "T = hs.channel_manager.tools"
   ]
  },
  {
   "cell_type": "code",
   "execution_count": 4,
   "metadata": {
    "collapsed": false
   },
   "outputs": [],
   "source": [
    "clock_sid = StreamId(name=\"clock\")\n",
    "clock_tool = T[clock_sid].window().last().value()\n",
    "\n",
    "ticker = M.get_or_create_stream(stream_id=StreamId(name=\"ticker\"))\n",
    "\n",
    "now = datetime.utcnow().replace(tzinfo=UTC)\n",
    "before = (now - timedelta(seconds=6)).replace(tzinfo=UTC)\n",
    "ti = TimeInterval(before, now)\n",
    "\n",
    "clock_tool.execute(sources=[], sink=ticker, interval=ti, alignment_stream=None)"
   ]
  },
  {
   "cell_type": "code",
   "execution_count": 5,
   "metadata": {
    "collapsed": false
   },
   "outputs": [
    {
     "name": "stdout",
     "output_type": "stream",
     "text": [
      "[2017-06-15 10:40:23+00:00]: 2017-06-15 10:40:23+00:00\n",
      "[2017-06-15 10:40:24+00:00]: 2017-06-15 10:40:24+00:00\n",
      "[2017-06-15 10:40:25+00:00]: 2017-06-15 10:40:25+00:00\n",
      "[2017-06-15 10:40:26+00:00]: 2017-06-15 10:40:26+00:00\n",
      "[2017-06-15 10:40:27+00:00]: 2017-06-15 10:40:27+00:00\n",
      "[2017-06-15 10:40:28+00:00]: 2017-06-15 10:40:28+00:00\n"
     ]
    }
   ],
   "source": [
    "for timestamp, value in ticker.window().items():\n",
    "    print('[%s]: %s' % (timestamp, value))"
   ]
  },
  {
   "cell_type": "code",
   "execution_count": null,
   "metadata": {
    "collapsed": true
   },
   "outputs": [],
   "source": []
  }
 ],
 "metadata": {
  "kernelspec": {
   "display_name": "Python 2",
   "language": "python",
   "name": "python2"
  },
  "language_info": {
   "codemirror_mode": {
    "name": "ipython",
    "version": 2
   },
   "file_extension": ".py",
   "mimetype": "text/x-python",
   "name": "python",
   "nbconvert_exporter": "python",
   "pygments_lexer": "ipython2",
   "version": "2.7.6"
  }
 },
 "nbformat": 4,
 "nbformat_minor": 1
}
