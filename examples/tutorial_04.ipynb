{
 "cells": [
  {
   "cell_type": "markdown",
   "metadata": {},
   "source": [
    "<img style=\"float: right;\" src=\"hyperstream.svg\">\n",
    "\n",
    "# HyperStream Tutorial 4: Real-time streams\n",
    "\n",
    "We will be ussing the tool created in the previous tutorial and we will compose the output of the stream with a new one."
   ]
  },
  {
   "cell_type": "code",
   "execution_count": 1,
   "metadata": {
    "collapsed": false
   },
   "outputs": [
    {
     "name": "stdout",
     "output_type": "stream",
     "text": [
      "CPython 2.7.6\n",
      "IPython 5.3.0\n",
      "\n",
      "hyperstream 0.3.0-beta\n",
      "\n",
      "compiler   : GCC 4.8.4\n",
      "system     : Linux\n",
      "release    : 3.19.0-80-generic\n",
      "machine    : x86_64\n",
      "processor  : x86_64\n",
      "CPU cores  : 4\n",
      "interpreter: 64bit\n",
      "Git hash   : 33621000d8f335505eac32a5a274194d2588a4c9\n"
     ]
    }
   ],
   "source": [
    "%load_ext watermark\n",
    "\n",
    "import sys\n",
    "from datetime import datetime\n",
    "from datetime import datetime, timedelta\n",
    "\n",
    "sys.path.append(\"../\") # Add parent dir in the Path\n",
    "\n",
    "from hyperstream import HyperStream\n",
    "from hyperstream import TimeInterval\n",
    "from hyperstream.utils import UTC\n",
    "\n",
    "%watermark -v -m -p hyperstream -g"
   ]
  },
  {
   "cell_type": "code",
   "execution_count": 2,
   "metadata": {
    "collapsed": false
   },
   "outputs": [
    {
     "name": "stdout",
     "output_type": "stream",
     "text": [
      "HyperStream version 0.3.0-beta, connected to mongodb://localhost:27017/hyperstream\n",
      "[2017-07-04 08:39:45+00:00]: [{'value': 9.428, 'measure': u'E24808-level-stage-i-15_min-mAOD'}]\n",
      "[2017-07-04 08:40:00+00:00]: [{'value': 0.264, 'measure': u'E22561-flow-stage-i-15_min-m3_s'}]\n",
      "[2017-07-04 08:45:00+00:00]: [{'value': 14.057, 'measure': u'2900TH-flow--Mean-15_min-m3_s'}, {'value': 0.03, 'measure': u'E21863-flow-stage-i-15_min-m3_s'}, {'value': 0.71, 'measure': u'E15611-level-stage-i-15_min-mASD'}, {'value': -0.433, 'measure': u'BB_EAST_UR-level-tidal_level-i-15_min-mAOD'}, {'value': 0.564, 'measure': u'53120-level-stage-i-15_min-m'}, {'value': 0.076, 'measure': u'E21187-level-stage-i-15_min-m'}, {'value': 7.254, 'measure': u'DIFF_TB3_TB9-level-tidal_level-i-15_min-m'}, {'value': 0.041, 'measure': u'DIFF_TB2_TB9-level-tidal_level-i-15_min-m'}, {'value': 2.386, 'measure': u'E70139-north_west-level-tidal_level-Mean-15_min-mAOD'}, {'value': 2.52, 'measure': u'E73439-north_west-level-tidal_level-Mean-15_min-mAOD'}, {'value': 52.505, 'measure': u'E6135-level-stage-i-15_min-mAOD'}, {'value': -3.18, 'measure': u'BB_WEST_UR-level-tidal_level-i-15_min-mAOD'}, {'value': -0.494, 'measure': u'BB_EAST_DR-level-tidal_level-i-15_min-mAOD'}, {'value': 0.047, 'measure': u'E21987-level-stage-i-15_min-m'}, {'value': 0.115, 'measure': u'E21765-level-stage-i-15_min-m'}, {'value': 0.122, 'measure': u'E21042-level-stage-i-15_min-m'}, {'value': -1.243, 'measure': u'E71339-level-tidal_level-Mean-15_min-mAOD'}, {'value': 2.341, 'measure': u'E73639-north_west-level-tidal_level-Mean-15_min-mAOD'}, {'value': 1.291, 'measure': u'2490TH-level-stage-i-15_min-mASD'}, {'value': 0.545, 'measure': u'023022-level-stage-i-15_min-m'}, {'value': -3.18, 'measure': u'BB_WEST_DR-level-tidal_level-i-15_min-mAOD'}, {'value': 1.175, 'measure': u'52152-level-stage-i-15_min-mASD'}, {'value': 2.686, 'measure': u'DIFF_WestUR_EastDR-level-tidal_level-i-15_min-m'}, {'value': 0.314, 'measure': u'024003-level-stage-i-15_min-m'}, {'value': 0.193, 'measure': u'022013-level-stage-i-15_min-mASD'}, {'value': 0.0, 'measure': u'080282-rainfall-tipping_bucket_raingauge-t-15_min-mm'}, {'value': 0.25, 'measure': u'E21188-flow-stage-i-15_min-m3_s'}, {'value': 0.0, 'measure': u'DIFF_WestUR_WestDR-level-tidal_level-i-15_min-m'}, {'value': 0.358, 'measure': u'024008-level-stage-i-15_min-m'}, {'value': 0.201, 'measure': u'E2105-level-stage-i-15_min-mASD'}, {'value': -0.172, 'measure': u'L2600-level-stage-i-15_min-mAOD'}, {'value': 0.033, 'measure': u'E21862-level-stage-i-15_min-mASD'}, {'value': 4.385, 'measure': u'3401TH_AOD-level-tidal_level-i-15_min-mAOD'}, {'value': 0.634, 'measure': u'F3501-level-stage-i-15_min-m'}, {'value': -1.744, 'measure': u'023055-level-reservoir_level-i-15_min-m'}, {'value': 1.233, 'measure': u'E21648-flow-stage-i-15_min-m3_s'}, {'value': 2.195, 'measure': u'0004-level-tidal_level-i-15_min-mAOD'}, {'value': 0.299, 'measure': u'024001-level-stage-i-15_min-m'}, {'value': 0.958, 'measure': u'46839-level-stage-i-15_min-mASD'}, {'value': 7.28, 'measure': u'DIFF_TB3_TB1-level-tidal_level-i-15_min-m'}, {'value': 2.168, 'measure': u'0006-level-tidal_level-i-15_min-mAOD'}, {'value': -4.8, 'measure': u'0007-level-tidal_level-i-15_min-mAOD'}, {'value': 0.146, 'measure': u'023007-level-stage-i-15_min-m'}, {'value': 0.199, 'measure': u'E24518-flow-stage-i-15_min-m3_s'}, {'value': 1.943, 'measure': u'0008-level-tidal_level-i-15_min-mAOD'}, {'value': 0.191, 'measure': u'E21647-level-stage-i-15_min-m'}, {'value': 0.685, 'measure': u'023003-level-stage-i-15_min-m'}, {'value': 0.194, 'measure': u'2469_w1TH-level-stage-i-15_min-mASD'}, {'value': 21.14, 'measure': u'E15667-level-downstage-i-15_min-mAOD'}, {'value': -0.78, 'measure': u'E5755-level-tidal_level-i-15_min-mAOD'}, {'value': 0.352, 'measure': u'024009-level-stage-i-15_min-m'}, {'value': 0.065, 'measure': u'51105-level-stage-i-15_min-m'}, {'value': 0.061, 'measure': u'DIFF_EastUR_EastDR-level-tidal_level-i-15_min-m'}, {'value': 0.33, 'measure': u'F2807-level-stage-i-15_min-m'}, {'value': 0.699, 'measure': u'023023-level-stage-i-15_min-m'}, {'value': -4.25, 'measure': u'E21775-level-groundwater-i-15_min-m'}, {'value': 2.749, 'measure': u'2900TH-level-stage-i-15_min-mASD'}, {'value': 2.269, 'measure': u'0019-level-tidal_level-i-15_min-mAOD'}, {'value': 0.376, 'measure': u'022001-level-stage-i-15_min-m'}, {'value': 0.015, 'measure': u'DIFF_TB2_TB1-level-tidal_level-i-15_min-m'}, {'value': 2.33, 'measure': u'2490TH-flow--Mean-15_min-m3_s'}, {'value': 2.13, 'measure': u'3401TH_TAOD-level-tidal_level-i-15_min-mAOD'}, {'value': 0.298, 'measure': u'E21657-level-stage-i-15_min-m'}, {'value': 4.005, 'measure': u'52157-level-stage-i-15_min-m'}, {'value': 0.014, 'measure': u'E22300-anglian-flow-stage-i-15_min-m3_s'}, {'value': 2.056, 'measure': u'52120-level-stage-i-15_min-mASD'}, {'value': 2.747, 'measure': u'DIFF_EastUR_WestDR-level-tidal_level-i-15_min-m'}]\n",
      "[2017-07-04 08:45:01+00:00]: [{'value': 2.469, 'measure': u'0018-level-tidal_level-i-15_min-mAOD'}, {'value': 2.495, 'measure': u'0001-level-tidal_level-i-15_min-mAOD'}, {'value': 0.939, 'measure': u'0009-level-tidal_level-i-15_min-mAOD'}]\n",
      "[2017-07-04 08:45:03+00:00]: [{'value': 2.494, 'measure': u'0020-level-tidal_level-i-15_min-mAOD'}, {'value': 2.509, 'measure': u'0003-level-tidal_level-i-15_min-mAOD'}]\n",
      "[2017-07-04 08:55:00+00:00]: [{'value': 53.32, 'measure': u'E6120-anglian-level-stage-i-15_min-mAOD'}, {'value': 52.504, 'measure': u'E6106-level-stage-i-15_min-mAOD'}]\n"
     ]
    }
   ],
   "source": [
    "hs = HyperStream(loglevel=20)\n",
    "print hs\n",
    "\n",
    "environment_stream = hs.channel_manager.memory.get_or_create_stream(\"environment\")\n",
    "\n",
    "now = datetime.utcnow().replace(tzinfo=UTC)\n",
    "before = (now - timedelta(minutes=30)).replace(tzinfo=UTC)\n",
    "\n",
    "ti = TimeInterval(before, now)\n",
    "\n",
    "environment_tool = hs.plugins.example.tools.environment_data_gov_uk()\n",
    "\n",
    "environment_tool.execute(sources=[], sink=environment_stream, interval=ti)\n",
    "\n",
    "for key, value in environment_stream.window().items():\n",
    "    print '[%s]: %s' % (key, value)"
   ]
  },
  {
   "cell_type": "code",
   "execution_count": null,
   "metadata": {
    "collapsed": true
   },
   "outputs": [],
   "source": []
  },
  {
   "cell_type": "code",
   "execution_count": null,
   "metadata": {
    "collapsed": true
   },
   "outputs": [],
   "source": []
  }
 ],
 "metadata": {
  "kernelspec": {
   "display_name": "Python 2",
   "language": "python",
   "name": "python2"
  },
  "language_info": {
   "codemirror_mode": {
    "name": "ipython",
    "version": 2
   },
   "file_extension": ".py",
   "mimetype": "text/x-python",
   "name": "python",
   "nbconvert_exporter": "python",
   "pygments_lexer": "ipython2",
   "version": "2.7.6"
  }
 },
 "nbformat": 4,
 "nbformat_minor": 1
}
