{
 "cells": [
  {
   "cell_type": "markdown",
   "metadata": {},
   "source": [
    "<img style=\"float: right;\" src=\"hyperstream.svg\">\n",
    "\n",
    "# HyperStream Tutorial 4: Real-time streams\n",
    "\n",
    "In this tutorial, we show how to create a new plugin that collects real-time data ussing a publicly available API. In this case, we use the [Environment Agency flood-monitoring API][1].\n",
    "\n",
    "## Creating a plugin tool to use the API\n",
    "\n",
    "### 1. Create a folder in plugins\n",
    "\n",
    "First of all, we need to create a new folder to contain the new tool. The new folder needs to be in the folder __plugins__, in this example __plugins/example/tools/environment_data_gov_uk/__. Also, we need to create an **\\__init\\__.py** file in every subfolder.\n",
    "\n",
    "    plugins/\n",
    "        |- __init__.py\n",
    "        |- example/\n",
    "            |- __init__.py\n",
    "            |- tools/\n",
    "                |- __init__.py\n",
    "                |- environment_data_gov_uk\n",
    "                    |- __init__.py\n",
    "                    |- 2017-06-21_v0.0.1.py\n",
    "\n",
    "### 2. Write the plugin in Python\n",
    "\n",
    "As we have seen in a previous tutorial, we can create a new plugin in Python, in this case the code of the plugin **./plugins/example/tools/environment_data_gov_uk/2017-06-21_v0.0.1.py** uses the API to query only one of the water readings for the specified interval of time:\n",
    "\n",
    "```Python\n",
    "from datetime import datetime\n",
    "from datetime import datetime, timedelta\n",
    "\n",
    "from hyperstream import Tool, StreamInstance, StreamInstanceCollection\n",
    "from hyperstream.utils import check_input_stream_count\n",
    "from hyperstream.utils import UTC\n",
    "\n",
    "from dateutil.parser import parse\n",
    "\n",
    "import urllib\n",
    "import urllib2\n",
    "import json\n",
    "\n",
    "# this uses Environment Agency flood and river level data from the real-time\n",
    "# data API (Beta)\n",
    "# For questions on the APIs please contact data.info@environment-agency.gov.uk,\n",
    "# a forum for announcements and discussion is under consideration.\n",
    "class EnvironmentDataGovUk(Tool):\n",
    "    def __init__(self, station):\n",
    "        self.station = station\n",
    "        super(EnvironmentDataGovUk, self).__init__()\n",
    "\n",
    "    @check_input_stream_count(0)\n",
    "    def _execute(self, sources, alignment_stream, interval):\n",
    "        startdate = interval[0].strftime(\"%Y-%m-%d\")\n",
    "        enddate = interval[1].strftime(\"%Y-%m-%d\")\n",
    "\n",
    "        url = \"https://environment.data.gov.uk/flood-monitoring/id/stations/{}/readings\".format(self.station)\n",
    "        values = {'startdate' : startdate,\n",
    "                  'enddate' : enddate}\n",
    "        url_parameters = urllib.urlencode(values)\n",
    "\n",
    "        full_url = url + '?' + url_parameters\n",
    "        response = urllib2.urlopen(full_url)\n",
    "        data = json.load(response)\n",
    "\n",
    "        for item in data['items']:\n",
    "            dt = parse(item.get('dateTime'))\n",
    "            if dt in interval:\n",
    "                value = float(item.get('value'))\n",
    "                yield StreamInstance(dt, value)\n",
    "\n",
    "```\n",
    "\n",
    "### 3. Add HyperStream configuration\n",
    "\n",
    "Now, it is necessary to add information about this plugin into the **hyperstream_config.json**. In particular, we need to add the following information in the plugin section:\n",
    "\n",
    "- channel_id_prefix: This is to create Channels (explained in another tutorial).\n",
    "- channel_names: A list of available Channels\n",
    "- path: path to the new plugin\n",
    "- has_tools: If the new plugin has tools\n",
    "- has_assets: If it contains folders or files that are needed by the plugin\n",
    "\n",
    "Next, we have an example of an configuration file with the new plugin:\n",
    "\n",
    "```json\n",
    "{\n",
    "    \"mongo\": {\n",
    "        \"host\": \"localhost\",\n",
    "        \"port\": 27017,\n",
    "        \"tz_aware\": true,\n",
    "        \"db\": \"hyperstream\"\n",
    "    },\n",
    "    \"plugins\": [{\n",
    "        \"channel_id_prefix\": \"example\",\n",
    "        \"channel_names\": [],\n",
    "        \"path\": \"plugins/example\",\n",
    "        \"has_tools\": true,\n",
    "        \"has_assets\": false\n",
    "    }],\n",
    "    \"online_engine\": {\n",
    "        \"interval\": {\n",
    "            \"start\": -60,\n",
    "            \"end\": -10\n",
    "        },\n",
    "        \"sleep\": 5,\n",
    "        \"iterations\": 100\n",
    "    }\n",
    "}\n",
    "\n",
    "```\n",
    "\n",
    "\n",
    "### Aknowledge\n",
    "\n",
    "    this uses Environment Agency flood and river level data from the real-time data API (Beta)\n",
    "    \n",
    "[1]: https://environment.data.gov.uk/flood-monitoring/doc/reference#introduction"
   ]
  },
  {
   "cell_type": "code",
   "execution_count": 1,
   "metadata": {
    "collapsed": false
   },
   "outputs": [
    {
     "name": "stdout",
     "output_type": "stream",
     "text": [
      "CPython 2.7.6\n",
      "IPython 5.3.0\n",
      "\n",
      "hyperstream 0.3.0-beta\n",
      "\n",
      "compiler   : GCC 4.8.4\n",
      "system     : Linux\n",
      "release    : 3.19.0-80-generic\n",
      "machine    : x86_64\n",
      "processor  : x86_64\n",
      "CPU cores  : 4\n",
      "interpreter: 64bit\n",
      "Git hash   : 708766381961acd7fad7aaf7fc5e5a53ee52511d\n"
     ]
    }
   ],
   "source": [
    "%load_ext watermark\n",
    "\n",
    "import sys\n",
    "from datetime import datetime\n",
    "from datetime import datetime, timedelta\n",
    "\n",
    "sys.path.append(\"../\") # Add parent dir in the Path\n",
    "\n",
    "from hyperstream import HyperStream, StreamId\n",
    "from hyperstream import TimeInterval\n",
    "from hyperstream.utils import UTC\n",
    "\n",
    "from utils import plot_high_chart\n",
    "\n",
    "%watermark -v -m -p hyperstream -g"
   ]
  },
  {
   "cell_type": "markdown",
   "metadata": {},
   "source": [
    "### Select the water Station\n",
    "\n",
    "For our example, we will query a water station called Bristol Avon Little Avon Axe and North Somerset St. This station has the station number 531118. It is possible to select another station by changing the station_number; a list of 50 other possible stations can be found following [this link][2].\n",
    "\n",
    "[2]: https://environment.data.gov.uk/flood-monitoring/id/stations?_limit=50"
   ]
  },
  {
   "cell_type": "code",
   "execution_count": 2,
   "metadata": {
    "collapsed": true
   },
   "outputs": [],
   "source": [
    "station_number = \"531118\"\n",
    "station_name = \"Bristol Avon Little Avon Axe and North Somerset St\""
   ]
  },
  {
   "cell_type": "markdown",
   "metadata": {},
   "source": [
    "### Tool and Stream\n",
    "\n",
    "First we will create a Stream to store the data and an instance of the new tool."
   ]
  },
  {
   "cell_type": "code",
   "execution_count": 3,
   "metadata": {
    "collapsed": false
   },
   "outputs": [
    {
     "name": "stdout",
     "output_type": "stream",
     "text": [
      "HyperStream version 0.3.0-beta, connected to mongodb://localhost:27017/hyperstream\n"
     ]
    }
   ],
   "source": [
    "hs = HyperStream(loglevel=20)\n",
    "print hs\n",
    "\n",
    "environment_stream = hs.channel_manager.memory.get_or_create_stream(\"environment\")\n",
    "environment_tool = hs.plugins.example.tools.environment_data_gov_uk(station=station_number)"
   ]
  },
  {
   "cell_type": "markdown",
   "metadata": {},
   "source": [
    "### Execute the tool\n",
    "\n",
    "Now we will specify an interval of time for which we want the water levels. In this particular case we will ask for the last 7 days. Then, we can execute the tool for the specified interval of time. The result will be stored in the specified Stream."
   ]
  },
  {
   "cell_type": "code",
   "execution_count": 4,
   "metadata": {
    "collapsed": true
   },
   "outputs": [],
   "source": [
    "now = datetime.utcnow().replace(tzinfo=UTC)\n",
    "before = (now - timedelta(weeks=1)).replace(tzinfo=UTC)\n",
    "ti = TimeInterval(before, now)\n",
    "\n",
    "environment_tool.execute(sources=[], sink=environment_stream, interval=ti)"
   ]
  },
  {
   "cell_type": "markdown",
   "metadata": {},
   "source": [
    "### Visualization\n",
    "\n",
    "Now we can visualize all the data stored in the stream"
   ]
  },
  {
   "cell_type": "code",
   "execution_count": 5,
   "metadata": {
    "collapsed": false
   },
   "outputs": [
    {
     "data": {
      "text/html": [
       "\n",
       "        <html>\n",
       "        <head>\n",
       "        <title>Bristol Avon Little Avon Axe and North Somerset St</title>\n",
       "           <!--<script src=\"https://ajax.googleapis.com/ajax/libs/jquery/2.1.3/jquery.min.js\"></script>-->\n",
       "           <!--<script src=\"https://code.highcharts.com/stock/highstock.js\"></script>-->\n",
       "           <!--<script src=\"https://code.highcharts.com/stock/modules/exporting.js\"></script>-->\n",
       "           <script src=\"./scripts/jquery.min.js\"></script>\n",
       "           <script src=\"./scripts/highstock.js\"></script>\n",
       "           <script src=\"./scripts/exporting.js\"></script>\n",
       "        </head>\n",
       "        <body>\n",
       "\n",
       "        <div id=\"container753\" style=\"width: 800px; height: 600px; margin: 125 auto\"></div>\n",
       "\n",
       "        <script language=\"JavaScript\">\n",
       "               var data = [[1499705100000.0, 0.044], [1499706000000.0, 0.044], [1499706900000.0, 0.044], [1499707800000.0, 0.044], [1499708700000.0, 0.044], [1499709600000.0, 0.044], [1499710500000.0, 0.044], [1499711400000.0, 0.045], [1499712300000.0, 0.045], [1499713200000.0, 0.045], [1499714100000.0, 0.046], [1499715000000.0, 0.046], [1499715900000.0, 0.046], [1499716800000.0, 0.046], [1499717700000.0, 0.046], [1499718600000.0, 0.046], [1499719500000.0, 0.046], [1499720400000.0, 0.046], [1499721300000.0, 0.046], [1499722200000.0, 0.046], [1499723100000.0, 0.046], [1499724000000.0, 0.046], [1499724900000.0, 0.046], [1499725800000.0, 0.046], [1499726700000.0, 0.046], [1499727600000.0, 0.046], [1499728500000.0, 0.046], [1499729400000.0, 0.046], [1499730300000.0, 0.044], [1499731200000.0, 0.043], [1499732100000.0, 0.044], [1499733000000.0, 0.043], [1499733900000.0, 0.044], [1499734800000.0, 0.045], [1499735700000.0, 0.045], [1499736600000.0, 0.045], [1499737500000.0, 0.044], [1499738400000.0, 0.043], [1499739300000.0, 0.043], [1499740200000.0, 0.044], [1499741100000.0, 0.044], [1499742000000.0, 0.043], [1499742900000.0, 0.043], [1499743800000.0, 0.043], [1499744700000.0, 0.044], [1499745600000.0, 0.044], [1499746500000.0, 0.044], [1499747400000.0, 0.045], [1499748300000.0, 0.044], [1499749200000.0, 0.045], [1499750100000.0, 0.044], [1499751000000.0, 0.045], [1499751900000.0, 0.045], [1499752800000.0, 0.045], [1499753700000.0, 0.045], [1499754600000.0, 0.045], [1499755500000.0, 0.043], [1499756400000.0, 0.043], [1499757300000.0, 0.043], [1499758200000.0, 0.043], [1499759100000.0, 0.044], [1499760000000.0, 0.044], [1499760900000.0, 0.045], [1499761800000.0, 0.045], [1499762700000.0, 0.045], [1499763600000.0, 0.045], [1499764500000.0, 0.045], [1499765400000.0, 0.045], [1499766300000.0, 0.045], [1499767200000.0, 0.044], [1499768100000.0, 0.044], [1499769000000.0, 0.044], [1499769900000.0, 0.043], [1499770800000.0, 0.043], [1499771700000.0, 0.044], [1499772600000.0, 0.044], [1499773500000.0, 0.044], [1499774400000.0, 0.045], [1499775300000.0, 0.044], [1499776200000.0, 0.045], [1499777100000.0, 0.045], [1499778000000.0, 0.044], [1499778900000.0, 0.044], [1499779800000.0, 0.044], [1499780700000.0, 0.045], [1499781600000.0, 0.045], [1499782500000.0, 0.045], [1499783400000.0, 0.045], [1499784300000.0, 0.045], [1499785200000.0, 0.045], [1499786100000.0, 0.045], [1499787000000.0, 0.045], [1499787900000.0, 0.045], [1499788800000.0, 0.045], [1499789700000.0, 0.045], [1499790600000.0, 0.045], [1499791500000.0, 0.059], [1499792400000.0, 0.065], [1499793300000.0, 0.045], [1499794200000.0, 0.067], [1499795100000.0, 0.059], [1499796000000.0, 0.073], [1499796900000.0, 0.06], [1499797800000.0, 0.05], [1499798700000.0, 0.07], [1499799600000.0, 0.141], [1499800500000.0, 0.248], [1499801400000.0, 0.343], [1499802300000.0, 0.379], [1499803200000.0, 0.408], [1499804100000.0, 0.434], [1499805000000.0, 0.454], [1499805900000.0, 0.466], [1499806800000.0, 0.472], [1499807700000.0, 0.472], [1499808600000.0, 0.465], [1499809500000.0, 0.459], [1499810400000.0, 0.444], [1499811300000.0, 0.42], [1499812200000.0, 0.397], [1499813100000.0, 0.379], [1499814000000.0, 0.356], [1499814900000.0, 0.36], [1499815800000.0, 0.326], [1499816700000.0, 0.301], [1499817600000.0, 0.284], [1499818500000.0, 0.272], [1499819400000.0, 0.264], [1499820300000.0, 0.26], [1499821200000.0, 0.257], [1499822100000.0, 0.259], [1499823000000.0, 0.268], [1499823900000.0, 0.279], [1499824800000.0, 0.287], [1499825700000.0, 0.292], [1499826600000.0, 0.29], [1499827500000.0, 0.285], [1499828400000.0, 0.278], [1499829300000.0, 0.271], [1499830200000.0, 0.263], [1499831100000.0, 0.254], [1499832000000.0, 0.247], [1499832900000.0, 0.241], [1499833800000.0, 0.236], [1499834700000.0, 0.232], [1499835600000.0, 0.229], [1499836500000.0, 0.226], [1499837400000.0, 0.223], [1499838300000.0, 0.218], [1499839200000.0, 0.213], [1499840100000.0, 0.205], [1499841000000.0, 0.198], [1499841900000.0, 0.187], [1499842800000.0, 0.18], [1499843700000.0, 0.173], [1499844600000.0, 0.167], [1499845500000.0, 0.16], [1499846400000.0, 0.156], [1499847300000.0, 0.15], [1499848200000.0, 0.146], [1499849100000.0, 0.142], [1499850000000.0, 0.138], [1499850900000.0, 0.134], [1499851800000.0, 0.13], [1499852700000.0, 0.127], [1499853600000.0, 0.124], [1499854500000.0, 0.121], [1499855400000.0, 0.119], [1499856300000.0, 0.116], [1499857200000.0, 0.114], [1499858100000.0, 0.112], [1499859000000.0, 0.109], [1499859900000.0, 0.107], [1499860800000.0, 0.106], [1499861700000.0, 0.105], [1499862600000.0, 0.103], [1499863500000.0, 0.103], [1499864400000.0, 0.103], [1499865300000.0, 0.103], [1499866200000.0, 0.102], [1499867100000.0, 0.1], [1499868000000.0, 0.1], [1499868900000.0, 0.098], [1499869800000.0, 0.096], [1499870700000.0, 0.095], [1499871600000.0, 0.092], [1499872500000.0, 0.091], [1499873400000.0, 0.089], [1499874300000.0, 0.087], [1499875200000.0, 0.086], [1499876100000.0, 0.084], [1499877000000.0, 0.083], [1499877900000.0, 0.081], [1499878800000.0, 0.08], [1499879700000.0, 0.079], [1499880600000.0, 0.077], [1499881500000.0, 0.076], [1499882400000.0, 0.075], [1499883300000.0, 0.074], [1499884200000.0, 0.073], [1499885100000.0, 0.072], [1499886000000.0, 0.071], [1499886900000.0, 0.07], [1499887800000.0, 0.069], [1499888700000.0, 0.068], [1499889600000.0, 0.066], [1499890500000.0, 0.065], [1499891400000.0, 0.063], [1499892300000.0, 0.062], [1499893200000.0, 0.058], [1499894100000.0, 0.052], [1499895000000.0, 0.036], [1499895900000.0, 0.011], [1499896800000.0, 0.009], [1499897700000.0, 0.013], [1499898600000.0, 0.017], [1499899500000.0, 0.016], [1499900400000.0, 0.017], [1499901300000.0, 0.018], [1499902200000.0, 0.018], [1499903100000.0, 0.018], [1499904000000.0, 0.016], [1499904900000.0, 0.016], [1499905800000.0, 0.016], [1499906700000.0, 0.017], [1499907600000.0, 0.018], [1499908500000.0, 0.016], [1499909400000.0, 0.016], [1499910300000.0, 0.016], [1499911200000.0, 0.015], [1499912100000.0, 0.016], [1499913000000.0, 0.016], [1499913900000.0, 0.015], [1499914800000.0, 0.013], [1499915700000.0, 0.014], [1499916600000.0, 0.013], [1499917500000.0, 0.013], [1499918400000.0, 0.013], [1499919300000.0, 0.011], [1499920200000.0, 0.011], [1499921100000.0, 0.011], [1499922000000.0, 0.011], [1499922900000.0, 0.011], [1499923800000.0, 0.011], [1499924700000.0, 0.012], [1499925600000.0, 0.013], [1499926500000.0, 0.013], [1499927400000.0, 0.013], [1499928300000.0, 0.013], [1499929200000.0, 0.014], [1499930100000.0, 0.013], [1499931000000.0, 0.014], [1499931900000.0, 0.013], [1499932800000.0, 0.013], [1499933700000.0, 0.014], [1499934600000.0, 0.014], [1499935500000.0, 0.014], [1499936400000.0, 0.013], [1499937300000.0, 0.013], [1499938200000.0, 0.013], [1499939100000.0, 0.013], [1499940000000.0, 0.013], [1499940900000.0, 0.018], [1499941800000.0, 0.021], [1499942700000.0, 0.023], [1499943600000.0, 0.024], [1499944500000.0, 0.025], [1499945400000.0, 0.024], [1499946300000.0, 0.023], [1499947200000.0, 0.023], [1499948100000.0, 0.024], [1499949000000.0, 0.024], [1499949900000.0, 0.023], [1499950800000.0, 0.023], [1499951700000.0, 0.023], [1499952600000.0, 0.023], [1499953500000.0, 0.023], [1499954400000.0, 0.023], [1499955300000.0, 0.02], [1499956200000.0, 0.02], [1499957100000.0, 0.02], [1499958000000.0, 0.02], [1499958900000.0, 0.021], [1499959800000.0, 0.02], [1499960700000.0, 0.018], [1499961600000.0, 0.019], [1499962500000.0, 0.018], [1499963400000.0, 0.018], [1499964300000.0, 0.016], [1499965200000.0, 0.018], [1499966100000.0, 0.019], [1499967000000.0, 0.019], [1499967900000.0, 0.018], [1499968800000.0, 0.018], [1499969700000.0, 0.017], [1499970600000.0, 0.016], [1499971500000.0, 0.016], [1499972400000.0, 0.014], [1499973300000.0, 0.013], [1499974200000.0, 0.013], [1499975100000.0, 0.012], [1499976000000.0, 0.012], [1499976900000.0, 0.011], [1499977800000.0, 0.011], [1499978700000.0, 0.01], [1499979600000.0, 0.011], [1499980500000.0, 0.009], [1499981400000.0, 0.02], [1499982300000.0, 0.019], [1499983200000.0, 0.016], [1499984100000.0, 0.023], [1499985000000.0, 0.026], [1499985900000.0, 0.026], [1499986800000.0, 0.026], [1499987700000.0, 0.028], [1499988600000.0, 0.029], [1499989500000.0, 0.029], [1499990400000.0, 0.029], [1499991300000.0, 0.029], [1499992200000.0, 0.029], [1499993100000.0, 0.029], [1499994000000.0, 0.029], [1499994900000.0, 0.029], [1499995800000.0, 0.029], [1499996700000.0, 0.029], [1499997600000.0, 0.029], [1499998500000.0, 0.029], [1499999400000.0, 0.029], [1500000300000.0, 0.029], [1500001200000.0, 0.029], [1500002100000.0, 0.029], [1500003000000.0, 0.029], [1500003900000.0, 0.029], [1500004800000.0, 0.029], [1500005700000.0, 0.029], [1500006600000.0, 0.03], [1500007500000.0, 0.03], [1500008400000.0, 0.03], [1500009300000.0, 0.03], [1500010200000.0, 0.031], [1500011100000.0, 0.031], [1500012000000.0, 0.031], [1500012900000.0, 0.031], [1500013800000.0, 0.031], [1500014700000.0, 0.031], [1500015600000.0, 0.03], [1500016500000.0, 0.03], [1500018300000.0, 0.03], [1500019200000.0, 0.03], [1500020100000.0, 0.03], [1500021000000.0, 0.03], [1500021900000.0, 0.031], [1500022800000.0, 0.03], [1500023700000.0, 0.03], [1500024600000.0, 0.03], [1500025500000.0, 0.03], [1500026400000.0, 0.03], [1500027300000.0, 0.03], [1500028200000.0, 0.03], [1500029100000.0, 0.03], [1500030900000.0, 0.03], [1500031800000.0, 0.03], [1500032700000.0, 0.031], [1500034500000.0, 0.031], [1500035400000.0, 0.031], [1500036300000.0, 0.031], [1500037200000.0, 0.032], [1500038100000.0, 0.032], [1500039000000.0, 0.031], [1500039900000.0, 0.032], [1500040800000.0, 0.031], [1500042600000.0, 0.031], [1500043500000.0, 0.031], [1500044400000.0, 0.031], [1500045300000.0, 0.032], [1500046200000.0, 0.031], [1500047100000.0, 0.031], [1500048000000.0, 0.031], [1500048900000.0, 0.031], [1500049800000.0, 0.032], [1500050700000.0, 0.031], [1500051600000.0, 0.031], [1500052500000.0, 0.032], [1500053400000.0, 0.032], [1500054300000.0, 0.032], [1500055200000.0, 0.032], [1500056100000.0, 0.032], [1500057000000.0, 0.033], [1500057900000.0, 0.033], [1500058800000.0, 0.033], [1500059700000.0, 0.032], [1500060600000.0, 0.032], [1500061500000.0, 0.033], [1500062400000.0, 0.033], [1500063300000.0, 0.034], [1500064200000.0, 0.034], [1500065100000.0, 0.033], [1500066000000.0, 0.034], [1500066900000.0, 0.033], [1500067800000.0, 0.034], [1500068700000.0, 0.034], [1500069600000.0, 0.034], [1500070500000.0, 0.033], [1500072300000.0, 0.033], [1500073200000.0, 0.034], [1500074100000.0, 0.034], [1500075000000.0, 0.034], [1500075900000.0, 0.034], [1500076800000.0, 0.034], [1500077700000.0, 0.034], [1500078600000.0, 0.034], [1500079500000.0, 0.034], [1500080400000.0, 0.034], [1500081300000.0, 0.034], [1500082200000.0, 0.034], [1500083100000.0, 0.034], [1500084000000.0, 0.033], [1500084900000.0, 0.034], [1500085800000.0, 0.034], [1500086700000.0, 0.034], [1500087600000.0, 0.034], [1500088500000.0, 0.034], [1500089400000.0, 0.034], [1500090300000.0, 0.034], [1500091200000.0, 0.034], [1500092100000.0, 0.034], [1500093000000.0, 0.034], [1500093900000.0, 0.034], [1500094800000.0, 0.034], [1500095700000.0, 0.034], [1500096600000.0, 0.033], [1500097500000.0, 0.034], [1500098400000.0, 0.033]];\n",
       "\n",
       "            Highcharts.stockChart('container753', {\n",
       "                chart: {\n",
       "                    zoomType: 'x'\n",
       "                },\n",
       "                title: {\n",
       "                    text: 'Bristol Avon Little Avon Axe and North Somerset St'\n",
       "                },\n",
       "                xAxis: {\n",
       "                    type: 'datetime', ordinal: true\n",
       "                },\n",
       "                yAxis: {\n",
       "                    title: {\n",
       "                        text: 'meters'\n",
       "                    }\n",
       "                },\n",
       "                legend: {\n",
       "                    enabled: false\n",
       "                },\n",
       "\n",
       "                series: [{\n",
       "                    type: 'spline',\n",
       "                    name: 'meters',\n",
       "                    data: data\n",
       "                }]\n",
       "            });\n",
       "        </script>\n",
       "\n",
       "        </body>\n",
       "        </html>\n",
       "    "
      ],
      "text/plain": [
       "<IPython.core.display.HTML object>"
      ]
     },
     "metadata": {},
     "output_type": "display_data"
    }
   ],
   "source": [
    "my_time, my_data = zip(*[(key.__str__(), value) for key, value in environment_stream.window().items()])\n",
    "\n",
    "plot_high_chart(my_time, my_data, type=\"high_stock\", title=station_name, yax='meters')"
   ]
  },
  {
   "cell_type": "code",
   "execution_count": null,
   "metadata": {
    "collapsed": true
   },
   "outputs": [],
   "source": []
  }
 ],
 "metadata": {
  "kernelspec": {
   "display_name": "Python 2",
   "language": "python",
   "name": "python2"
  },
  "language_info": {
   "codemirror_mode": {
    "name": "ipython",
    "version": 2
   },
   "file_extension": ".py",
   "mimetype": "text/x-python",
   "name": "python",
   "nbconvert_exporter": "python",
   "pygments_lexer": "ipython2",
   "version": "2.7.6"
  }
 },
 "nbformat": 4,
 "nbformat_minor": 1
}
