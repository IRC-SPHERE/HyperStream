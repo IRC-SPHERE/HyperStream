{
 "cells": [
  {
   "cell_type": "markdown",
   "metadata": {},
   "source": [
    "<img style=\"float: right;\" src=\"hyperstream.svg\">\n",
    "\n",
    "# HyperStream Tutorial 4: Real-time streams\n",
    "\n",
    "We will be ussing the tool created in the previous tutorial and we will compose the output of the stream with a new one.\n",
    "\n",
    "In this example, we show how to create a new plugin that collects real-time data ussing a publicly available API. In this case, we use the [Environment Agency flood-monitoring API][1]. Because we do not want to abuse from the free service, we limit the queries to only one station and a small portion of time.\n",
    "\n",
    "## Creating a plugin tool to read csv files\n",
    "\n",
    "### 1. Create a folder in plugins\n",
    "\n",
    "First of all, we need to create a new folder to contain our new tool. The new folder needs to be in the folder __plugins__, in this example __plugins/example/tools/csv_reader/__. We need to create an **\\__init\\__.py** file in every subfolder to be able to treat all the folders as a Python package.\n",
    "\n",
    "    plugins/\n",
    "        |- __init__.py\n",
    "        |- example/\n",
    "            |- __init__.py\n",
    "            |- tools/\n",
    "                |- __init__.py\n",
    "                |- environment_data_gov_uk\n",
    "                    |- __init__.py\n",
    "                    |- 2017-06-21_v0.0.1.py\n",
    "\n",
    "### 2. Write the plugin in Python\n",
    "\n",
    "As we have seen in a previous tutorial, we can create a new plugin in Python, in this case the code of the plugin **./plugins/example/tools/environment_data_gov_uk/2017-06-21_v0.0.1.py** is the following:\n",
    "\n",
    "```Python\n",
    "from datetime import datetime\n",
    "from datetime import datetime, timedelta\n",
    "\n",
    "from hyperstream import Tool, StreamInstance, StreamInstanceCollection\n",
    "from hyperstream.utils import check_input_stream_count\n",
    "from hyperstream.utils import UTC\n",
    "\n",
    "from dateutil.parser import parse\n",
    "\n",
    "import urllib\n",
    "import urllib2\n",
    "import json\n",
    "\n",
    "# this uses Environment Agency flood and river level data from the real-time\n",
    "# data API (Beta)\n",
    "# For questions on the APIs please contact data.info@environment-agency.gov.uk,\n",
    "# a forum for announcements and discussion is under consideration.\n",
    "class EnvironmentDataGovUk(Tool):\n",
    "    def __init__(self, station):\n",
    "        self.station = station\n",
    "        super(EnvironmentDataGovUk, self).__init__()\n",
    "\n",
    "    @check_input_stream_count(0)\n",
    "    def _execute(self, sources, alignment_stream, interval):\n",
    "        startdate = interval[0].strftime(\"%Y-%m-%d\")\n",
    "        enddate = interval[1].strftime(\"%Y-%m-%d\")\n",
    "\n",
    "        url = \"https://environment.data.gov.uk/flood-monitoring/id/stations/{}/readings\".format(self.station)\n",
    "        values = {'startdate' : startdate,\n",
    "                  'enddate' : enddate}\n",
    "        url_parameters = urllib.urlencode(values)\n",
    "\n",
    "        full_url = url + '?' + url_parameters\n",
    "        response = urllib2.urlopen(full_url)\n",
    "        data = json.load(response)\n",
    "\n",
    "        for item in data['items']:\n",
    "            dt = parse(item.get('dateTime'))\n",
    "            if dt in interval:\n",
    "                value = float(item.get('value'))\n",
    "                yield StreamInstance(dt, value)\n",
    "\n",
    "```\n",
    "\n",
    "### 3. Add HyperStream configuration\n",
    "\n",
    "Now, it is necessary to add information about this plugin into the **hyperstream_config.json**. In particular, we need to add the following information in the plugin section:\n",
    "\n",
    "- channel_id_prefix:\n",
    "- channel_names: \n",
    "- path: path to the new plugin\n",
    "- has_tools: If the new plugin has tools\n",
    "- has_assets:\n",
    "\n",
    "Next, we have an example of an configuration file with the new plugin:\n",
    "\n",
    "```json\n",
    "{\n",
    "    \"mongo\": {\n",
    "        \"host\": \"localhost\",\n",
    "        \"port\": 27017,\n",
    "        \"tz_aware\": true,\n",
    "        \"db\": \"hyperstream\"\n",
    "    },\n",
    "    \"plugins\": [{\n",
    "        \"channel_id_prefix\": \"example\",\n",
    "        \"channel_names\": [],\n",
    "        \"path\": \"plugins/example\",\n",
    "        \"has_tools\": true,\n",
    "        \"has_assets\": false\n",
    "    }],\n",
    "    \"online_engine\": {\n",
    "        \"interval\": {\n",
    "            \"start\": -60,\n",
    "            \"end\": -10\n",
    "        },\n",
    "        \"sleep\": 5,\n",
    "        \"iterations\": 100\n",
    "    }\n",
    "}\n",
    "\n",
    "```\n",
    "\n",
    "\n",
    "### Aknowledge\n",
    "\n",
    "    this uses Environment Agency flood and river level data from the real-time data API (Beta)\n",
    "    \n",
    "[1]: https://environment.data.gov.uk/flood-monitoring/doc/reference#introduction"
   ]
  },
  {
   "cell_type": "code",
   "execution_count": 1,
   "metadata": {
    "collapsed": false
   },
   "outputs": [
    {
     "name": "stdout",
     "output_type": "stream",
     "text": [
      "CPython 2.7.6\n",
      "IPython 5.3.0\n",
      "\n",
      "hyperstream 0.3.0-beta\n",
      "\n",
      "compiler   : GCC 4.8.4\n",
      "system     : Linux\n",
      "release    : 3.19.0-80-generic\n",
      "machine    : x86_64\n",
      "processor  : x86_64\n",
      "CPU cores  : 4\n",
      "interpreter: 64bit\n",
      "Git hash   : 01e9ff80d8882214b54405871a5655ad567288fb\n"
     ]
    }
   ],
   "source": [
    "%load_ext watermark\n",
    "\n",
    "import sys\n",
    "from datetime import datetime\n",
    "from datetime import datetime, timedelta\n",
    "\n",
    "sys.path.append(\"../\") # Add parent dir in the Path\n",
    "\n",
    "from hyperstream import HyperStream, StreamId\n",
    "from hyperstream import TimeInterval\n",
    "from hyperstream.utils import UTC\n",
    "\n",
    "from utils import plot_high_chart\n",
    "\n",
    "%watermark -v -m -p hyperstream -g"
   ]
  },
  {
   "cell_type": "markdown",
   "metadata": {},
   "source": [
    "### Select the water Station\n",
    "\n",
    "For our example, we will query a watter station called Bristol Avon Little Avon Axe and North Somerset St, with the station number 531118. However, feel free to change the station to any of the available (you can find 50 other stations ussing [this link][2])\n",
    "\n",
    "[2]: https://environment.data.gov.uk/flood-monitoring/id/stations?_limit=50"
   ]
  },
  {
   "cell_type": "code",
   "execution_count": 2,
   "metadata": {
    "collapsed": true
   },
   "outputs": [],
   "source": [
    "station_number = \"531118\"\n",
    "station_name = \"Bristol Avon Little Avon Axe and North Somerset St\""
   ]
  },
  {
   "cell_type": "markdown",
   "metadata": {},
   "source": [
    "### Tool and Stream\n",
    "\n",
    "First we will create a Stream to store the data, and a tool to use the API"
   ]
  },
  {
   "cell_type": "code",
   "execution_count": 3,
   "metadata": {
    "collapsed": false
   },
   "outputs": [
    {
     "name": "stdout",
     "output_type": "stream",
     "text": [
      "HyperStream version 0.3.0-beta, connected to mongodb://localhost:27017/hyperstream\n"
     ]
    }
   ],
   "source": [
    "hs = HyperStream(loglevel=20)\n",
    "print hs\n",
    "\n",
    "environment_stream = hs.channel_manager.memory.get_or_create_stream(\"environment\")\n",
    "environment_tool = hs.plugins.example.tools.environment_data_gov_uk(station=station_number)"
   ]
  },
  {
   "cell_type": "markdown",
   "metadata": {},
   "source": [
    "### Execute the tool\n",
    "\n",
    "Now we will specify an interval with the last 7 days of data, and we can execute the tool and store the results in the new Stream."
   ]
  },
  {
   "cell_type": "code",
   "execution_count": 4,
   "metadata": {
    "collapsed": true
   },
   "outputs": [],
   "source": [
    "now = datetime.utcnow().replace(tzinfo=UTC)\n",
    "before = (now - timedelta(weeks=1)).replace(tzinfo=UTC)\n",
    "ti = TimeInterval(before, now)\n",
    "\n",
    "environment_tool.execute(sources=[], sink=environment_stream, interval=ti)"
   ]
  },
  {
   "cell_type": "markdown",
   "metadata": {},
   "source": [
    "### Visualization\n",
    "\n",
    "Now we can visualize all the data stored in the stream"
   ]
  },
  {
   "cell_type": "code",
   "execution_count": 5,
   "metadata": {
    "collapsed": false
   },
   "outputs": [
    {
     "data": {
      "text/html": [
       "\n",
       "        <html>\n",
       "        <head>\n",
       "        <title>Bristol Avon Little Avon Axe and North Somerset St</title>\n",
       "           <!--<script src=\"https://ajax.googleapis.com/ajax/libs/jquery/2.1.3/jquery.min.js\"></script>-->\n",
       "           <!--<script src=\"https://code.highcharts.com/stock/highstock.js\"></script>-->\n",
       "           <!--<script src=\"https://code.highcharts.com/stock/modules/exporting.js\"></script>-->\n",
       "           <script src=\"./scripts/jquery.min.js\"></script>\n",
       "           <script src=\"./scripts/highstock.js\"></script>\n",
       "           <script src=\"./scripts/exporting.js\"></script>\n",
       "        </head>\n",
       "        <body>\n",
       "\n",
       "        <div id=\"container5148\" style=\"width: 800px; height: 600px; margin: 125 auto\"></div>\n",
       "\n",
       "        <script language=\"JavaScript\">\n",
       "               var data = [[1499436000000.0, 0.029], [1499436900000.0, 0.03], [1499437800000.0, 0.03], [1499438700000.0, 0.03], [1499439600000.0, 0.031], [1499440500000.0, 0.031], [1499441400000.0, 0.032], [1499442300000.0, 0.031], [1499443200000.0, 0.032], [1499444100000.0, 0.032], [1499445000000.0, 0.032], [1499445900000.0, 0.033], [1499446800000.0, 0.033], [1499447700000.0, 0.032], [1499448600000.0, 0.032], [1499449500000.0, 0.033], [1499450400000.0, 0.033], [1499451300000.0, 0.033], [1499452200000.0, 0.034], [1499453100000.0, 0.034], [1499454000000.0, 0.034], [1499454900000.0, 0.035], [1499455800000.0, 0.034], [1499456700000.0, 0.034], [1499457600000.0, 0.035], [1499458500000.0, 0.035], [1499459400000.0, 0.036], [1499460300000.0, 0.035], [1499461200000.0, 0.035], [1499462100000.0, 0.036], [1499463000000.0, 0.035], [1499463900000.0, 0.036], [1499464800000.0, 0.036], [1499465700000.0, 0.036], [1499466600000.0, 0.036], [1499467500000.0, 0.036], [1499468400000.0, 0.036], [1499469300000.0, 0.036], [1499470200000.0, 0.036], [1499471100000.0, 0.036], [1499472000000.0, 0.036], [1499472900000.0, 0.036], [1499473800000.0, 0.036], [1499474700000.0, 0.036], [1499475600000.0, 0.036], [1499476500000.0, 0.036], [1499477400000.0, 0.037], [1499478300000.0, 0.036], [1499479200000.0, 0.037], [1499480100000.0, 0.037], [1499481000000.0, 0.037], [1499481900000.0, 0.037], [1499482800000.0, 0.038], [1499483700000.0, 0.038], [1499484600000.0, 0.038], [1499485500000.0, 0.038], [1499486400000.0, 0.038], [1499487300000.0, 0.039], [1499488200000.0, 0.04], [1499489100000.0, 0.04], [1499490000000.0, 0.041], [1499490900000.0, 0.041], [1499491800000.0, 0.041], [1499492700000.0, 0.041], [1499493600000.0, 0.041], [1499494500000.0, 0.04], [1499495400000.0, 0.04], [1499496300000.0, 0.04], [1499497200000.0, 0.04], [1499498100000.0, 0.039], [1499499000000.0, 0.039], [1499499900000.0, 0.039], [1499500800000.0, 0.039], [1499501700000.0, 0.039], [1499502600000.0, 0.038], [1499503500000.0, 0.038], [1499504400000.0, 0.038], [1499505300000.0, 0.038], [1499506200000.0, 0.038], [1499507100000.0, 0.038], [1499508000000.0, 0.038], [1499508900000.0, 0.038], [1499509800000.0, 0.038], [1499510700000.0, 0.038], [1499511600000.0, 0.038], [1499512500000.0, 0.038], [1499513400000.0, 0.038], [1499514300000.0, 0.037], [1499515200000.0, 0.038], [1499516100000.0, 0.038], [1499517000000.0, 0.037], [1499517900000.0, 0.038], [1499518800000.0, 0.038], [1499519700000.0, 0.038], [1499520600000.0, 0.038], [1499521500000.0, 0.038], [1499522400000.0, 0.038], [1499523300000.0, 0.038], [1499524200000.0, 0.038], [1499525100000.0, 0.038], [1499526000000.0, 0.038], [1499526900000.0, 0.037], [1499527800000.0, 0.038], [1499528700000.0, 0.038], [1499529600000.0, 0.038], [1499530500000.0, 0.038], [1499531400000.0, 0.038], [1499532300000.0, 0.038], [1499533200000.0, 0.038], [1499534100000.0, 0.039], [1499535000000.0, 0.039], [1499535900000.0, 0.039], [1499536800000.0, 0.039], [1499537700000.0, 0.04], [1499538600000.0, 0.04], [1499539500000.0, 0.041], [1499540400000.0, 0.04], [1499541300000.0, 0.041], [1499542200000.0, 0.041], [1499543100000.0, 0.041], [1499544000000.0, 0.041], [1499544900000.0, 0.041], [1499545800000.0, 0.041], [1499546700000.0, 0.042], [1499547600000.0, 0.043], [1499548500000.0, 0.042], [1499549400000.0, 0.043], [1499550300000.0, 0.043], [1499551200000.0, 0.041], [1499552100000.0, 0.042], [1499553000000.0, 0.043], [1499553900000.0, 0.043], [1499554800000.0, 0.042], [1499555700000.0, 0.041], [1499556600000.0, 0.042], [1499557500000.0, 0.042], [1499558400000.0, 0.041], [1499559300000.0, 0.042], [1499560200000.0, 0.042], [1499561100000.0, 0.042], [1499562000000.0, 0.041], [1499562900000.0, 0.041], [1499563800000.0, 0.041], [1499564700000.0, 0.042], [1499565600000.0, 0.042], [1499566500000.0, 0.042], [1499567400000.0, 0.043], [1499568300000.0, 0.043], [1499569200000.0, 0.043], [1499570100000.0, 0.043], [1499571000000.0, 0.042], [1499571900000.0, 0.042], [1499572800000.0, 0.042], [1499573700000.0, 0.043], [1499574600000.0, 0.045], [1499575500000.0, 0.043], [1499576400000.0, 0.044], [1499577300000.0, 0.044], [1499578200000.0, 0.043], [1499579100000.0, 0.043], [1499580000000.0, 0.043], [1499580900000.0, 0.042], [1499581800000.0, 0.042], [1499582700000.0, 0.042], [1499583600000.0, 0.042], [1499584500000.0, 0.041], [1499585400000.0, 0.04], [1499586300000.0, 0.039], [1499587200000.0, 0.039], [1499588100000.0, 0.039], [1499589000000.0, 0.039], [1499589900000.0, 0.039], [1499590800000.0, 0.039], [1499591700000.0, 0.039], [1499592600000.0, 0.039], [1499593500000.0, 0.04], [1499594400000.0, 0.039], [1499595300000.0, 0.04], [1499596200000.0, 0.04], [1499597100000.0, 0.04], [1499598000000.0, 0.039], [1499598900000.0, 0.039], [1499599800000.0, 0.04], [1499600700000.0, 0.04], [1499601600000.0, 0.04], [1499602500000.0, 0.04], [1499603400000.0, 0.039], [1499604300000.0, 0.04], [1499605200000.0, 0.041], [1499606100000.0, 0.041], [1499607000000.0, 0.04], [1499607900000.0, 0.041], [1499608800000.0, 0.04], [1499609700000.0, 0.04], [1499610600000.0, 0.04], [1499611500000.0, 0.039], [1499612400000.0, 0.041], [1499613300000.0, 0.04], [1499614200000.0, 0.04], [1499615100000.0, 0.041], [1499616000000.0, 0.041], [1499616900000.0, 0.04], [1499617800000.0, 0.041], [1499618700000.0, 0.041], [1499619600000.0, 0.041], [1499620500000.0, 0.041], [1499621400000.0, 0.041], [1499622300000.0, 0.041], [1499623200000.0, 0.042], [1499624100000.0, 0.042], [1499625000000.0, 0.042], [1499625900000.0, 0.043], [1499626800000.0, 0.042], [1499627700000.0, 0.043], [1499628600000.0, 0.042], [1499629500000.0, 0.043], [1499630400000.0, 0.043], [1499631300000.0, 0.043], [1499632200000.0, 0.043], [1499633100000.0, 0.043], [1499634000000.0, 0.044], [1499634900000.0, 0.043], [1499635800000.0, 0.044], [1499636700000.0, 0.044], [1499637600000.0, 0.044], [1499638500000.0, 0.044], [1499639400000.0, 0.044], [1499640300000.0, 0.044], [1499641200000.0, 0.044], [1499642100000.0, 0.044], [1499643000000.0, 0.045], [1499643900000.0, 0.044], [1499644800000.0, 0.044], [1499645700000.0, 0.044], [1499646600000.0, 0.044], [1499647500000.0, 0.044], [1499648400000.0, 0.045], [1499649300000.0, 0.045], [1499650200000.0, 0.044], [1499651100000.0, 0.044], [1499652000000.0, 0.044], [1499652900000.0, 0.045], [1499653800000.0, 0.045], [1499654700000.0, 0.045], [1499655600000.0, 0.045], [1499656500000.0, 0.045], [1499657400000.0, 0.044], [1499658300000.0, 0.044], [1499659200000.0, 0.044], [1499660100000.0, 0.044], [1499661000000.0, 0.044], [1499661900000.0, 0.044], [1499662800000.0, 0.044], [1499663700000.0, 0.045], [1499664600000.0, 0.045], [1499665500000.0, 0.045], [1499666400000.0, 0.044], [1499667300000.0, 0.044], [1499668200000.0, 0.045], [1499669100000.0, 0.044], [1499670000000.0, 0.044], [1499670900000.0, 0.044], [1499671800000.0, 0.044], [1499672700000.0, 0.045], [1499673600000.0, 0.045], [1499674500000.0, 0.045], [1499675400000.0, 0.045], [1499676300000.0, 0.045], [1499677200000.0, 0.045], [1499678100000.0, 0.045], [1499679000000.0, 0.045], [1499679900000.0, 0.045], [1499680800000.0, 0.044], [1499681700000.0, 0.044], [1499682600000.0, 0.044], [1499683500000.0, 0.043], [1499684400000.0, 0.044], [1499685300000.0, 0.045], [1499686200000.0, 0.044], [1499687100000.0, 0.044], [1499688000000.0, 0.044], [1499688900000.0, 0.044], [1499689800000.0, 0.044], [1499690700000.0, 0.044], [1499691600000.0, 0.044], [1499692500000.0, 0.043], [1499693400000.0, 0.044], [1499694300000.0, 0.044], [1499695200000.0, 0.044], [1499696100000.0, 0.044], [1499697000000.0, 0.044], [1499697900000.0, 0.044], [1499698800000.0, 0.044], [1499699700000.0, 0.045], [1499700600000.0, 0.045], [1499701500000.0, 0.045], [1499702400000.0, 0.044], [1499703300000.0, 0.044], [1499704200000.0, 0.044], [1499705100000.0, 0.044], [1499706000000.0, 0.044], [1499706900000.0, 0.044], [1499707800000.0, 0.044], [1499708700000.0, 0.044], [1499709600000.0, 0.044], [1499710500000.0, 0.044], [1499711400000.0, 0.045], [1499712300000.0, 0.045], [1499713200000.0, 0.045], [1499714100000.0, 0.046], [1499715000000.0, 0.046], [1499715900000.0, 0.046], [1499716800000.0, 0.046], [1499717700000.0, 0.046], [1499718600000.0, 0.046], [1499719500000.0, 0.046], [1499720400000.0, 0.046], [1499721300000.0, 0.046], [1499722200000.0, 0.046], [1499723100000.0, 0.046], [1499724000000.0, 0.046], [1499724900000.0, 0.046], [1499725800000.0, 0.046], [1499726700000.0, 0.046], [1499727600000.0, 0.046], [1499728500000.0, 0.046], [1499729400000.0, 0.046], [1499730300000.0, 0.044], [1499731200000.0, 0.043], [1499732100000.0, 0.044], [1499733000000.0, 0.043], [1499733900000.0, 0.044], [1499734800000.0, 0.045], [1499735700000.0, 0.045], [1499736600000.0, 0.045], [1499737500000.0, 0.044], [1499738400000.0, 0.043], [1499739300000.0, 0.043], [1499740200000.0, 0.044], [1499741100000.0, 0.044], [1499742000000.0, 0.043], [1499742900000.0, 0.043], [1499743800000.0, 0.043], [1499744700000.0, 0.044], [1499745600000.0, 0.044], [1499746500000.0, 0.044], [1499747400000.0, 0.045], [1499748300000.0, 0.044], [1499749200000.0, 0.045], [1499750100000.0, 0.044], [1499751000000.0, 0.045], [1499751900000.0, 0.045], [1499752800000.0, 0.045], [1499753700000.0, 0.045], [1499754600000.0, 0.045], [1499755500000.0, 0.043], [1499756400000.0, 0.043], [1499757300000.0, 0.043], [1499758200000.0, 0.043], [1499759100000.0, 0.044], [1499760000000.0, 0.044], [1499760900000.0, 0.045], [1499761800000.0, 0.045], [1499762700000.0, 0.045], [1499763600000.0, 0.045], [1499764500000.0, 0.045], [1499765400000.0, 0.045], [1499766300000.0, 0.045], [1499767200000.0, 0.044], [1499768100000.0, 0.044], [1499769000000.0, 0.044], [1499769900000.0, 0.043], [1499770800000.0, 0.043], [1499771700000.0, 0.044], [1499772600000.0, 0.044], [1499773500000.0, 0.044], [1499774400000.0, 0.045], [1499775300000.0, 0.044], [1499776200000.0, 0.045], [1499777100000.0, 0.045], [1499778000000.0, 0.044], [1499778900000.0, 0.044], [1499779800000.0, 0.044], [1499780700000.0, 0.045], [1499781600000.0, 0.045], [1499782500000.0, 0.045], [1499783400000.0, 0.045], [1499784300000.0, 0.045], [1499785200000.0, 0.045], [1499786100000.0, 0.045], [1499787000000.0, 0.045], [1499787900000.0, 0.045], [1499788800000.0, 0.045], [1499789700000.0, 0.045], [1499790600000.0, 0.045], [1499791500000.0, 0.059], [1499792400000.0, 0.065], [1499793300000.0, 0.045], [1499794200000.0, 0.067], [1499795100000.0, 0.059], [1499796000000.0, 0.073], [1499796900000.0, 0.06], [1499797800000.0, 0.05], [1499798700000.0, 0.07], [1499799600000.0, 0.141], [1499800500000.0, 0.248], [1499801400000.0, 0.343], [1499802300000.0, 0.379], [1499803200000.0, 0.408], [1499804100000.0, 0.434], [1499805000000.0, 0.454], [1499805900000.0, 0.466], [1499806800000.0, 0.472], [1499807700000.0, 0.472], [1499808600000.0, 0.465], [1499809500000.0, 0.459], [1499810400000.0, 0.444], [1499811300000.0, 0.42], [1499812200000.0, 0.397], [1499813100000.0, 0.379], [1499814000000.0, 0.356], [1499814900000.0, 0.36], [1499815800000.0, 0.326], [1499816700000.0, 0.301], [1499818500000.0, 0.272], [1499819400000.0, 0.264], [1499822100000.0, 0.259], [1499823000000.0, 0.268], [1499823900000.0, 0.279], [1499824800000.0, 0.287], [1499825700000.0, 0.292], [1499826600000.0, 0.29], [1499827500000.0, 0.285], [1499828400000.0, 0.278], [1499829300000.0, 0.271], [1499830200000.0, 0.263], [1499831100000.0, 0.254], [1499832000000.0, 0.247], [1499834700000.0, 0.232], [1499835600000.0, 0.229], [1499836500000.0, 0.226], [1499838300000.0, 0.218], [1499839200000.0, 0.213], [1499840100000.0, 0.205]];\n",
       "\n",
       "            Highcharts.stockChart('container5148', {\n",
       "                chart: {\n",
       "                    zoomType: 'x'\n",
       "                },\n",
       "                title: {\n",
       "                    text: 'Bristol Avon Little Avon Axe and North Somerset St'\n",
       "                },\n",
       "                xAxis: {\n",
       "                    type: 'datetime', ordinal: true\n",
       "                },\n",
       "                yAxis: {\n",
       "                    title: {\n",
       "                        text: 'meters'\n",
       "                    }\n",
       "                },\n",
       "                legend: {\n",
       "                    enabled: false\n",
       "                },\n",
       "\n",
       "                series: [{\n",
       "                    type: 'spline',\n",
       "                    name: 'meters',\n",
       "                    data: data\n",
       "                }]\n",
       "            });\n",
       "        </script>\n",
       "\n",
       "        </body>\n",
       "        </html>\n",
       "    "
      ],
      "text/plain": [
       "<IPython.core.display.HTML object>"
      ]
     },
     "metadata": {},
     "output_type": "display_data"
    }
   ],
   "source": [
    "my_time, my_data = zip(*[(key.__str__(), value) for key, value in environment_stream.window().items()])\n",
    "\n",
    "plot_high_chart(my_time, my_data, type=\"high_stock\", title=station_name, yax='meters')"
   ]
  }
 ],
 "metadata": {
  "kernelspec": {
   "display_name": "Python 2",
   "language": "python",
   "name": "python2"
  },
  "language_info": {
   "codemirror_mode": {
    "name": "ipython",
    "version": 2
   },
   "file_extension": ".py",
   "mimetype": "text/x-python",
   "name": "python",
   "nbconvert_exporter": "python",
   "pygments_lexer": "ipython2",
   "version": "2.7.6"
  }
 },
 "nbformat": 4,
 "nbformat_minor": 1
}
