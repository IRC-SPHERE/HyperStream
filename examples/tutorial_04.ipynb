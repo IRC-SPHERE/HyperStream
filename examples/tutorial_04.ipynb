{
 "cells": [
  {
   "cell_type": "markdown",
   "metadata": {},
   "source": [
    "# HyperStream Tutorial 4: Real-time streams\n",
    "\n",
    "We will be ussing the tool created in the previous tutorial and we will compose the output of the stream with a new one."
   ]
  },
  {
   "cell_type": "code",
   "execution_count": 1,
   "metadata": {
    "collapsed": false
   },
   "outputs": [
    {
     "name": "stdout",
     "output_type": "stream",
     "text": [
      "CPython 2.7.6\n",
      "IPython 5.3.0\n",
      "\n",
      "hyperstream 0.3.0-beta\n",
      "\n",
      "compiler   : GCC 4.8.4\n",
      "system     : Linux\n",
      "release    : 3.19.0-80-generic\n",
      "machine    : x86_64\n",
      "processor  : x86_64\n",
      "CPU cores  : 4\n",
      "interpreter: 64bit\n",
      "Git hash   : 364a6b3f82dfd7f416a58fc010533bcaa950c308\n"
     ]
    }
   ],
   "source": [
    "%load_ext watermark\n",
    "\n",
    "import sys\n",
    "from datetime import datetime\n",
    "from datetime import datetime, timedelta\n",
    "\n",
    "sys.path.append(\"../\") # Add parent dir in the Path\n",
    "\n",
    "from hyperstream import HyperStream\n",
    "from hyperstream import TimeInterval\n",
    "from hyperstream.utils import UTC\n",
    "\n",
    "%watermark -v -m -p hyperstream -g"
   ]
  },
  {
   "cell_type": "code",
   "execution_count": 3,
   "metadata": {
    "collapsed": false
   },
   "outputs": [
    {
     "name": "stderr",
     "output_type": "stream",
     "text": [
      "INFO:root:Reading /home/maikel/git/uob/HyperStream/examples/hyperstream_config.json\n",
      "INFO:root:Updating channels\n",
      "INFO:root:Global plate definitions: \n",
      "INFO:root:\n",
      "root[root:None]\n",
      "\n"
     ]
    },
    {
     "name": "stdout",
     "output_type": "stream",
     "text": [
      "HyperStream version 0.3.0-beta, connected to mongodb://localhost:27017/hyperstream\n",
      "[2017-06-21 20:05:00+00:00]: [{'value': 1.889, 'measure': u'4098-level-stage-i-5_min-mASD'}]\n",
      "[2017-06-21 20:10:00+00:00]: [{'value': 52.453, 'measure': u'E6106-level-stage-i-15_min-mAOD'}, {'value': 53.243, 'measure': u'E6120-anglian-level-stage-i-15_min-mAOD'}, {'value': 0.271, 'measure': u'E22561-flow-stage-i-15_min-m3_s'}]\n",
      "[2017-06-21 20:15:00+00:00]: [{'value': 0.682, 'measure': u'E15611-level-stage-i-15_min-mASD'}, {'value': 0.0, 'measure': u'1335-rainfall-tipping_bucket_raingauge-t-15_min-mm'}, {'value': -0.433, 'measure': u'BB_EAST_UR-level-tidal_level-i-15_min-mAOD'}, {'value': 0.077, 'measure': u'E21187-level-stage-i-15_min-m'}, {'value': 21.5, 'measure': u'1412-temperature-dry_bulb-i-15_min-deg_C'}, {'value': 0.0, 'measure': u'1761-rainfall-tipping_bucket_raingauge-t-15_min-mm'}, {'value': 0.0, 'measure': u'1112-rainfall-tipping_bucket_raingauge-t-15_min-mm'}, {'value': 0.0, 'measure': u'3165-rainfall-tipping_bucket_raingauge-t-15_min-mm'}, {'value': 0.0, 'measure': u'3775-rainfall-tipping_bucket_raingauge-t-15_min-mm'}, {'value': -1.597, 'measure': u'E71339-level-tidal_level-Mean-15_min-mAOD'}, {'value': 0.0, 'measure': u'1087-rainfall-tipping_bucket_raingauge-t-15_min-mm'}, {'value': 0.0, 'measure': u'1812-rainfall-tipping_bucket_raingauge-t-15_min-mm'}, {'value': 0.0, 'measure': u'1740-rainfall-tipping_bucket_raingauge-t-15_min-mm'}, {'value': 0.0, 'measure': u'1140-rainfall-tipping_bucket_raingauge-t-15_min-mm'}, {'value': 0.0, 'measure': u'1045-rainfall-tipping_bucket_raingauge-t-15_min-mm'}, {'value': -3.18, 'measure': u'BB_WEST_DR-level-tidal_level-i-15_min-mAOD'}, {'value': 2.686, 'measure': u'DIFF_WestUR_EastDR-level-tidal_level-i-15_min-m'}, {'value': 0.0, 'measure': u'3771-rainfall-tipping_bucket_raingauge-t-15_min-mm'}, {'value': 0.255, 'measure': u'E21188-flow-stage-i-15_min-m3_s'}, {'value': 0.284, 'measure': u'4435-flow--i-15_min-m3_s'}, {'value': 0.255, 'measure': u'4115-level-stage-i-15_min-mASD'}, {'value': 0.0, 'measure': u'1713-rainfall-tipping_bucket_raingauge-t-15_min-mm'}, {'value': 0.0, 'measure': u'1602-rainfall-tipping_bucket_raingauge-t-15_min-mm'}, {'value': 0.0, 'measure': u'1412-rainfall-tipping_bucket_raingauge-t-15_min-mm'}, {'value': 0.062, 'measure': u'E21005-level-stage-i-15_min-m'}, {'value': 0.0, 'measure': u'1141-rainfall-tipping_bucket_raingauge-t-15_min-mm'}, {'value': 0.0, 'measure': u'1339-rainfall-tipping_bucket_raingauge-t-15_min-mm'}, {'value': 0.0, 'measure': u'3604-rainfall-tipping_bucket_raingauge-t-15_min-mm'}, {'value': 1.261, 'measure': u'0004-level-tidal_level-i-15_min-mAOD'}, {'value': 0.0, 'measure': u'1331-rainfall-tipping_bucket_raingauge-t-15_min-mm'}, {'value': 0.0, 'measure': u'1117-rainfall-tipping_bucket_raingauge-t-15_min-mm'}, {'value': 0.0, 'measure': u'1082-rainfall-tipping_bucket_raingauge-t-15_min-mm'}, {'value': 0.0, 'measure': u'1687-rainfall-tipping_bucket_raingauge-t-15_min-mm'}, {'value': 0.0, 'measure': u'1413-rainfall-tipping_bucket_raingauge-t-15_min-mm'}, {'value': -0.101, 'measure': u'0008-level-tidal_level-i-15_min-mAOD'}, {'value': 21.143, 'measure': u'E15667-level-downstage-i-15_min-mAOD'}, {'value': 0.0, 'measure': u'1760-rainfall-tipping_bucket_raingauge-t-15_min-mm'}, {'value': 0.061, 'measure': u'DIFF_EastUR_EastDR-level-tidal_level-i-15_min-m'}, {'value': 0.0, 'measure': u'1819-rainfall-tipping_bucket_raingauge-t-15_min-mm'}, {'value': 1.393, 'measure': u'0019-level-tidal_level-i-15_min-mAOD'}, {'value': 0.011, 'measure': u'DIFF_TB2_TB1-level-tidal_level-i-15_min-m'}, {'value': 0.493, 'measure': u'4203-level-stage-i-15_min-mASD'}, {'value': 0.0, 'measure': u'1813-rainfall-tipping_bucket_raingauge-t-15_min-mm'}, {'value': 0.0, 'measure': u'1155-rainfall-tipping_bucket_raingauge-t-15_min-mm'}, {'value': 1.31, 'measure': u'0020-level-tidal_level-i-15_min-mAOD'}, {'value': 0.0, 'measure': u'1387-rainfall-tipping_bucket_raingauge-t-15_min-mm'}, {'value': 0.0, 'measure': u'1817-rainfall-tipping_bucket_raingauge-t-15_min-mm'}, {'value': 0.093, 'measure': u'4435-level-stage-i-15_min-mASD'}, {'value': 0.0, 'measure': u'1793-rainfall-tipping_bucket_raingauge-t-15_min-mm'}, {'value': 0.0, 'measure': u'1773-rainfall-tipping_bucket_raingauge-t-15_min-mm'}, {'value': 0.503, 'measure': u'DIFF_TB3_TB9-level-tidal_level-i-15_min-m'}, {'value': 0.121, 'measure': u'DIFF_TB2_TB9-level-tidal_level-i-15_min-m'}, {'value': 0.0, 'measure': u'1769-rainfall-tipping_bucket_raingauge-t-15_min-mm'}, {'value': -3.18, 'measure': u'BB_WEST_UR-level-tidal_level-i-15_min-mAOD'}, {'value': 0.0, 'measure': u'1748-rainfall-tipping_bucket_raingauge-t-15_min-mm'}, {'value': -0.494, 'measure': u'BB_EAST_DR-level-tidal_level-i-15_min-mAOD'}, {'value': 0.05, 'measure': u'E21987-level-stage-i-15_min-m'}, {'value': 0.0, 'measure': u'1792-rainfall-tipping_bucket_raingauge-t-15_min-mm'}, {'value': 0.0, 'measure': u'1774-rainfall-tipping_bucket_raingauge-t-15_min-mm'}, {'value': 0.0, 'measure': u'1771-rainfall-tipping_bucket_raingauge-t-15_min-mm'}, {'value': 0.0, 'measure': u'1795-rainfall-tipping_bucket_raingauge-t-15_min-mm'}, {'value': 0.0, 'measure': u'1409-rainfall-tipping_bucket_raingauge-t-15_min-mm'}, {'value': 0.0, 'measure': u'1552-rainfall-tipping_bucket_raingauge-t-15_min-mm'}, {'value': 0.0, 'measure': u'VCHURCH-T_TG_341-rainfall-tipping_bucket_raingauge-t-15_min-mm'}, {'value': 0.0, 'measure': u'1794-rainfall-tipping_bucket_raingauge-t-15_min-mm'}, {'value': 0.0, 'measure': u'1121-rainfall-tipping_bucket_raingauge-t-15_min-mm'}, {'value': 0.0, 'measure': u'DIFF_WestUR_WestDR-level-tidal_level-i-15_min-m'}, {'value': 0.0, 'measure': u'1814-rainfall-tipping_bucket_raingauge-t-15_min-mm'}, {'value': 4.418, 'measure': u'3401TH_AOD-level-tidal_level-i-15_min-mAOD'}, {'value': 0.0, 'measure': u'475212_TG_354-rainfall-tipping_bucket_raingauge-t-15_min-mm'}, {'value': 0.0, 'measure': u'1040-rainfall-tipping_bucket_raingauge-t-15_min-mm'}, {'value': 0.945, 'measure': u'0001-level-tidal_level-i-15_min-mAOD'}, {'value': 0.0, 'measure': u'1201-rainfall-tipping_bucket_raingauge-t-15_min-mm'}, {'value': 0.0, 'measure': u'476898_TG_333-rainfall-tipping_bucket_raingauge-t-15_min-mm'}, {'value': 0.351, 'measure': u'2132-level-stage-i-15_min-mASD'}, {'value': 0.372, 'measure': u'DIFF_TB3_TB1-level-tidal_level-i-15_min-m'}, {'value': 0.443, 'measure': u'0006-level-tidal_level-i-15_min-mAOD'}, {'value': -1.028, 'measure': u'0009-level-tidal_level-i-15_min-mAOD'}, {'value': 0.059, 'measure': u'4238-level-stage-i-15_min-mASD'}, {'value': 0.0, 'measure': u'1548-rainfall-tipping_bucket_raingauge-t-15_min-mm'}, {'value': 0.095, 'measure': u'4163-level-stage-i-15_min-mASD'}, {'value': -0.828, 'measure': u'E5755-level-tidal_level-i-15_min-mAOD'}, {'value': 0.0, 'measure': u'1712-rainfall-tipping_bucket_raingauge-t-15_min-mm'}, {'value': 0.0, 'measure': u'3816-rainfall-tipping_bucket_raingauge-t-15_min-mm'}, {'value': 0.0, 'measure': u'1770-rainfall-tipping_bucket_raingauge-t-15_min-mm'}, {'value': 0.0, 'measure': u'1086-rainfall-tipping_bucket_raingauge-t-15_min-mm'}, {'value': 2.138, 'measure': u'3401TH_TAOD-level-tidal_level-i-15_min-mAOD'}, {'value': 0.0, 'measure': u'1119-rainfall-tipping_bucket_raingauge-t-15_min-mm'}, {'value': 0.016, 'measure': u'E22300-anglian-flow-stage-i-15_min-m3_s'}, {'value': 0.0, 'measure': u'1747-rainfall-tipping_bucket_raingauge-t-15_min-mm'}, {'value': 2.747, 'measure': u'DIFF_EastUR_WestDR-level-tidal_level-i-15_min-m'}, {'value': 0.0, 'measure': u'3766-rainfall-tipping_bucket_raingauge-t-15_min-mm'}, {'value': 0.031, 'measure': u'E21412-flow-stage-i-15_min-m3_s'}, {'value': 0.0, 'measure': u'1332-rainfall-tipping_bucket_raingauge-t-15_min-mm'}]\n",
      "[2017-06-21 20:15:01+00:00]: [{'value': 1.044, 'measure': u'0018-level-tidal_level-i-15_min-mAOD'}]\n",
      "[2017-06-21 20:15:02+00:00]: [{'value': 0.596, 'measure': u'0007-level-tidal_level-i-15_min-mAOD'}]\n",
      "[2017-06-21 20:15:03+00:00]: [{'value': 0.967, 'measure': u'0003-level-tidal_level-i-15_min-mAOD'}]\n",
      "[2017-06-21 20:19:37+00:00]: [{'value': 9.481, 'measure': u'E24808-level-stage-i-15_min-mAOD'}]\n"
     ]
    }
   ],
   "source": [
    "hs = HyperStream(loglevel=20)\n",
    "print hs\n",
    "\n",
    "environment_stream = hs.channel_manager.memory.get_or_create_stream(\"environment\")\n",
    "\n",
    "now = datetime.utcnow().replace(tzinfo=UTC)\n",
    "before = (now - timedelta(minutes=30)).replace(tzinfo=UTC)\n",
    "\n",
    "ti = TimeInterval(before, now)\n",
    "\n",
    "environment_tool = hs.plugins.example.tools.environment_data_gov_uk()\n",
    "\n",
    "environment_tool.execute(sources=[], sink=environment_stream, interval=ti)\n",
    "\n",
    "for key, value in environment_stream.window().items():\n",
    "    print '[%s]: %s' % (key, value)"
   ]
  },
  {
   "cell_type": "code",
   "execution_count": null,
   "metadata": {
    "collapsed": true
   },
   "outputs": [],
   "source": []
  },
  {
   "cell_type": "code",
   "execution_count": null,
   "metadata": {
    "collapsed": true
   },
   "outputs": [],
   "source": []
  }
 ],
 "metadata": {
  "kernelspec": {
   "display_name": "Python 2",
   "language": "python",
   "name": "python2"
  },
  "language_info": {
   "codemirror_mode": {
    "name": "ipython",
    "version": 2
   },
   "file_extension": ".py",
   "mimetype": "text/x-python",
   "name": "python",
   "nbconvert_exporter": "python",
   "pygments_lexer": "ipython2",
   "version": "2.7.6"
  }
 },
 "nbformat": 4,
 "nbformat_minor": 1
}
