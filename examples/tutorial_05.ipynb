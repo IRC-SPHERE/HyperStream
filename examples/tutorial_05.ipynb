{
 "cells": [
  {
   "cell_type": "markdown",
   "metadata": {
    "deletable": true,
    "editable": true
   },
   "source": [
    "<img style=\"float: right;\" src=\"images/hyperstream.svg\">\n",
    "\n",
    "# HyperStream Tutorial 5: Workflows\n",
    "\n",
    "Workflows define a graph of streams. Usually, the first stream will be a special \"raw\" stream that pulls in data from a custom data source. Workflows can have multiple time ranges, which will cause the streams to be computed on all of the ranges given.\n",
    "\n",
    "## Introduction\n",
    "\n",
    "In this tutorial, we will be ussing a time-series dataset about the temperature in different countries and cities. The dataset is availabel at [The Census at School New Zeland][1]. The necessary files for this tutorial are already included in the folder **data/TimeSeriesDatasets_130207**.\n",
    "\n",
    "In particular, there are four files with the minimum and maximum temperatures in different cities of Asia, Australia, NZ and USA from 2000 to 2012. And the rainfall levels of New Zeland. \n",
    "\n",
    "![workflows](images/workflow_world_temp.svg)\n",
    "\n",
    "[1]: http://new.censusatschool.org.nz/resource/time-series-data-sets-2013/"
   ]
  },
  {
   "cell_type": "code",
   "execution_count": 1,
   "metadata": {
    "collapsed": false,
    "deletable": true,
    "editable": true
   },
   "outputs": [
    {
     "name": "stdout",
     "output_type": "stream",
     "text": [
      "HyperStream version 0.3.6, connected to mongodb://localhost:27017/hyperstream, session id <no session>\n",
      "[u'example', u'data_importers', u'data_generators']\n"
     ]
    }
   ],
   "source": [
    "try:\n",
    "    %load_ext watermark\n",
    "    watermark = True\n",
    "except ImportError:\n",
    "    watermark = False\n",
    "    pass\n",
    "\n",
    "import sys\n",
    "sys.path.append(\"../\") # Add parent dir in the Path\n",
    "\n",
    "from hyperstream import HyperStream\n",
    "from hyperstream import TimeInterval\n",
    "from hyperstream.utils import UTC\n",
    "import hyperstream\n",
    "\n",
    "from datetime import datetime\n",
    "from utils import plot_high_chart\n",
    "from utils import plot_multiple_stock\n",
    "from dateutil.parser import parse\n",
    "\n",
    "if watermark:\n",
    "    %watermark -v -m -p hyperstream -g\n",
    "\n",
    "hs = HyperStream(loglevel=30)\n",
    "print(hs)\n",
    "print([p.channel_id_prefix for p in hs.config.plugins])"
   ]
  },
  {
   "cell_type": "markdown",
   "metadata": {
    "deletable": true,
    "editable": true
   },
   "source": [
    "## Reading the data\n",
    "\n",
    "In the data folder there are four csv files with the names **TempAsia.csv, TempAustralia.csv, TempNZ.csv and TempUSA.csv**. The first column of each csv file contains a header with the names of the columns. The first one being the date and the following are the minimum and maximum temperature in different cities with the format **cityMin** and **cityMax**.\n",
    "\n",
    "Here is an example of the first 5 rows of the **TempAsia.csv** file:\n",
    "\n",
    "```\n",
    "Date,TokyoMax,TokyoMin,BangkokMax,BangkokMin\n",
    "2000M01,11.2,4.2,32.8,24\n",
    "```\n",
    "\n",
    "The format of the date has the form **YYYYMmm** where **YYYY** is the year and **mm** is the month. Because this format is not recognized by the default parser of the **csv_reader** tool, we will need to specify our own parser that first replaces the **M** by an hyphen **-** and then applies the **dateutils.parser**.\n",
    "\n",
    "Then, we will use a tool to read each csv, and a Stream to store all the results of applying the tool. When we specify to the tool that there is a header row in the csv file, the value of each Stream instance will be a dictionary with the name of the column and its corresponding value. For example, a Stream instance with the 4 cities shown above will look like:\n",
    "\n",
    "```\n",
    "[2000-01-19 00:00:00+00:00]: {'BangkokMin': 24.0, 'BangkokMax': 32.8, 'TokyoMin': 4.2}\n",
    "```"
   ]
  },
  {
   "cell_type": "code",
   "execution_count": 2,
   "metadata": {
    "collapsed": false,
    "deletable": true,
    "editable": true
   },
   "outputs": [],
   "source": [
    "def dateparser(dt):\n",
    "    return parse(dt.replace('M', '-')).replace(tzinfo=UTC)\n",
    "\n",
    "ti_all = TimeInterval(datetime(1999, 1, 1).replace(tzinfo=UTC),\n",
    "                      datetime(2013, 1, 1).replace(tzinfo=UTC))\n",
    "ti_sample = TimeInterval(datetime(2007, 1, 1).replace(tzinfo=UTC),\n",
    "                         datetime(2007, 3, 1).replace(tzinfo=UTC))\n",
    "\n",
    "# M will be the Memory Channel\n",
    "M = hs.channel_manager.memory\n",
    "\n",
    "countries_list = ['Asia', 'Australia', 'NZ', 'USA']"
   ]
  },
  {
   "cell_type": "markdown",
   "metadata": {
    "deletable": true,
    "editable": true
   },
   "source": [
    "## Create the plates and meta_data instances"
   ]
  },
  {
   "cell_type": "code",
   "execution_count": 3,
   "metadata": {
    "collapsed": false,
    "deletable": true,
    "editable": true
   },
   "outputs": [],
   "source": [
    "countries_dict = {\n",
    "    'Asia': ['BangkokMin', 'BangkokMax', 'HongKongMax', 'HongKongMin', 'KualaLumpurMax', 'KualaLumpurMin',\n",
    "             'NewDelhiMax', 'NewDelhiMin', 'TokyoMax', 'TokyoMin'],\n",
    "    'Australia': ['BrisbaneMax', 'BrisbaneMin', 'Canberramax', 'CanberraMin', 'GoldCoastMax', 'GoldCoastMin',\n",
    "                  'MelbourneMin', 'Melbournemax',  'SydneyMax', 'SydneyMin'],\n",
    "    'NZ': ['AucklandMax', 'AucklandMin', 'ChristchurchMax', 'ChristchurchMin', 'DunedinMax', 'DunedinMin',\n",
    "           'HamiltonMax', 'HamiltonMin','WellingtonMax', 'WellingtonMin'],\n",
    "    'USA': ['ChicagoMin', 'ChicagoMax', 'HoustonMax', 'HoustonMin', 'LosAngelesMax', 'LosAngelesMin',\n",
    "            'NYMax', 'NYMin', 'SeattleMax', 'SeattleMin']\n",
    "}\n",
    "\n",
    "# delete_plate requires the deletion to be first childs and then parents\n",
    "for plate_id in ['C.C', 'C']:\n",
    "    if plate_id in [plate[0] for plate in hs.plate_manager.plates.items()]:\n",
    "        hs.plate_manager.delete_plate(plate_id=plate_id, delete_meta_data=True)\n",
    "\n",
    "for country in countries_dict:\n",
    "    id_country = 'country_' + country\n",
    "    if not hs.plate_manager.meta_data_manager.contains(identifier=id_country):\n",
    "        hs.plate_manager.meta_data_manager.insert(\n",
    "            parent='root', data=country, tag='country', identifier=id_country)\n",
    "    for city in countries_dict[country]:\n",
    "        id_city = id_country + '.' + 'city_' + city\n",
    "        if not hs.plate_manager.meta_data_manager.contains(identifier=id_city):\n",
    "            hs.plate_manager.meta_data_manager.insert(\n",
    "                parent=id_country, data=city, tag='city', identifier=id_city)\n",
    "            \n",
    "C = hs.plate_manager.create_plate(plate_id=\"C\", description=\"Countries\", values=[], complement=True,\n",
    "                                  parent_plate=None, meta_data_id=\"country\")\n",
    "CC = hs.plate_manager.create_plate(plate_id=\"C.C\", description=\"Cities\", values=[], complement=True,\n",
    "                                   parent_plate=\"C\", meta_data_id=\"city\")"
   ]
  },
  {
   "cell_type": "code",
   "execution_count": 4,
   "metadata": {
    "collapsed": false,
    "deletable": true,
    "editable": true
   },
   "outputs": [
    {
     "name": "stdout",
     "output_type": "stream",
     "text": [
      "\n",
      "root[root:None]\n",
      "╟── city[city_BangkokMax:BangkokMax]\n",
      "╟── city[city_BangkokMin:BangkokMin]\n",
      "╟── city[city_HongKongMax:HongKongMax]\n",
      "╟── city[city_HongKongMin:HongKongMin]\n",
      "╟── city[city_KualaLumpurMax:KualaLumpurMax]\n",
      "╟── city[city_KualaLumpurMin:KualaLumpurMin]\n",
      "╟── city[city_NewDelhiMax:NewDelhiMax]\n",
      "╟── city[city_NewDelhiMin:NewDelhiMin]\n",
      "╟── city[city_TokyoMax:TokyoMax]\n",
      "╟── city[city_TokyoMin:TokyoMin]\n",
      "╟── country[country_NZ:NZ]\n",
      "║   ╟── city[country_NZ.city_AucklandMax:AucklandMax]\n",
      "║   ╟── city[country_NZ.city_AucklandMin:AucklandMin]\n",
      "║   ╟── city[country_NZ.city_ChristchurchMax:ChristchurchMax]\n",
      "║   ╟── city[country_NZ.city_ChristchurchMin:ChristchurchMin]\n",
      "║   ╟── city[country_NZ.city_DunedinMax:DunedinMax]\n",
      "║   ╟── city[country_NZ.city_DunedinMin:DunedinMin]\n",
      "║   ╟── city[country_NZ.city_HamiltonMax:HamiltonMax]\n",
      "║   ╟── city[country_NZ.city_HamiltonMin:HamiltonMin]\n",
      "║   ╟── city[country_NZ.city_WellingtonMax:WellingtonMax]\n",
      "║   ╙── city[country_NZ.city_WellingtonMin:WellingtonMin]\n",
      "╟── country[country_Australia:Australia]\n",
      "║   ╟── city[country_Australia.city_BrisbaneMax:BrisbaneMax]\n",
      "║   ╟── city[country_Australia.city_BrisbaneMin:BrisbaneMin]\n",
      "║   ╟── city[country_Australia.city_Canberramax:Canberramax]\n",
      "║   ╟── city[country_Australia.city_CanberraMin:CanberraMin]\n",
      "║   ╟── city[country_Australia.city_GoldCoastMax:GoldCoastMax]\n",
      "║   ╟── city[country_Australia.city_GoldCoastMin:GoldCoastMin]\n",
      "║   ╟── city[country_Australia.city_MelbourneMin:MelbourneMin]\n",
      "║   ╟── city[country_Australia.city_Melbournemax:Melbournemax]\n",
      "║   ╟── city[country_Australia.city_SydneyMax:SydneyMax]\n",
      "║   ╙── city[country_Australia.city_SydneyMin:SydneyMin]\n",
      "╟── country[country_USA:USA]\n",
      "║   ╟── city[country_USA.city_ChicagoMin:ChicagoMin]\n",
      "║   ╟── city[country_USA.city_ChicagoMax:ChicagoMax]\n",
      "║   ╟── city[country_USA.city_HoustonMax:HoustonMax]\n",
      "║   ╟── city[country_USA.city_HoustonMin:HoustonMin]\n",
      "║   ╟── city[country_USA.city_LosAngelesMax:LosAngelesMax]\n",
      "║   ╟── city[country_USA.city_LosAngelesMin:LosAngelesMin]\n",
      "║   ╟── city[country_USA.city_NYMax:NYMax]\n",
      "║   ╟── city[country_USA.city_NYMin:NYMin]\n",
      "║   ╟── city[country_USA.city_SeattleMax:SeattleMax]\n",
      "║   ╙── city[country_USA.city_SeattleMin:SeattleMin]\n",
      "╙── country[country_Asia:Asia]\n",
      "    ╟── city[country_Asia.city_BangkokMin:BangkokMin]\n",
      "    ╟── city[country_Asia.city_BangkokMax:BangkokMax]\n",
      "    ╟── city[country_Asia.city_HongKongMax:HongKongMax]\n",
      "    ╟── city[country_Asia.city_HongKongMin:HongKongMin]\n",
      "    ╟── city[country_Asia.city_KualaLumpurMax:KualaLumpurMax]\n",
      "    ╟── city[country_Asia.city_KualaLumpurMin:KualaLumpurMin]\n",
      "    ╟── city[country_Asia.city_NewDelhiMax:NewDelhiMax]\n",
      "    ╟── city[country_Asia.city_NewDelhiMin:NewDelhiMin]\n",
      "    ╟── city[country_Asia.city_TokyoMax:TokyoMax]\n",
      "    ╙── city[country_Asia.city_TokyoMin:TokyoMin]\n",
      "\n"
     ]
    }
   ],
   "source": [
    "print hs.plate_manager.meta_data_manager.global_plate_definitions"
   ]
  },
  {
   "cell_type": "markdown",
   "metadata": {
    "deletable": true,
    "editable": true
   },
   "source": [
    "## Create the workflow and execute it"
   ]
  },
  {
   "cell_type": "code",
   "execution_count": 5,
   "metadata": {
    "collapsed": false,
    "deletable": true,
    "editable": true
   },
   "outputs": [],
   "source": [
    "from hyperstream import Workflow\n",
    "\n",
    "# parameters for the csv_mutli_reader tool\n",
    "csv_params = dict(\n",
    "    filename_template='data/TimeSeriesDatasets_130207/Temp{}.csv',\n",
    "    datetime_parser=dateparser, skip_rows=1)\n",
    "\n",
    "\n",
    "with Workflow(workflow_id='tutorial_05', name='tutorial_05', owner='tutorials',\n",
    "              description='Tutorial 5 workflow', online=False) as w:\n",
    "\n",
    "    country_node = w.create_node(stream_name='raw_data', channel=M, plates=[C])\n",
    "    city_node = w.create_node(stream_name='temperature', channel=M, plates=[CC])\n",
    "\n",
    "    for c in C:\n",
    "        country_node[c] = hs.plugins.data_importers.factors.csv_multi_reader(source=None, **csv_params)\n",
    "\n",
    "        for cc in CC[c]:\n",
    "            city_node[cc] = hs.factors.splitter_from_stream(\n",
    "                source=country_node[c], splitting_node=country_node[c], use_mapping_keys_only=True)\n",
    "    \n",
    "    w.execute(ti_all)"
   ]
  },
  {
   "cell_type": "markdown",
   "metadata": {
    "deletable": true,
    "editable": true
   },
   "source": [
    "## See the country raw data streams"
   ]
  },
  {
   "cell_type": "code",
   "execution_count": 6,
   "metadata": {
    "collapsed": false,
    "deletable": true,
    "editable": true
   },
   "outputs": [
    {
     "name": "stdout",
     "output_type": "stream",
     "text": [
      "(('country', 'NZ'),)\n",
      "StreamInstance(timestamp=datetime.datetime(2000, 1, 27, 0, 0, tzinfo=<UTC>), value={'WellingtonMin': 14.2, 'ChristchurchMin': 10.8, 'HamiltonMin': 12.4, 'DunedinMax': 18.2, 'WellingtonMax': 20.0, 'ChristchurchMax': 20.2, 'AucklandMax': 23.4, 'HamiltonMax': 23.8, 'DunedinMin': 8.8, 'AucklandMin': 15.5})\n",
      "(('country', 'USA'),)\n",
      "StreamInstance(timestamp=datetime.datetime(2000, 1, 27, 0, 0, tzinfo=<UTC>), value={'ChicagoMax': 1.8, 'LosAngelesMin': 10.0, 'HoustonMax': 21.6, 'NYMax': 4.6, 'SeattleMax': 7.9, 'SeattleMin': 1.4, 'ChicagoMin': -8.1, 'NYMin': -5.6, 'HoustonMin': 7.4, 'LosAngelesMax': 19.6})\n",
      "(('country', 'Australia'),)\n",
      "StreamInstance(timestamp=datetime.datetime(2000, 1, 27, 0, 0, tzinfo=<UTC>), value={'BrisbaneMax': 28.2, 'MelbourneMin': 15.9, 'Melbournemax': 24.3, 'BrisbaneMin': 19.1, 'CanberraMin': 10.1, 'GoldCoastMax': 27.5, 'SydneyMax': 24.9, 'Canberramax': 24.5, 'GoldCoastMin': 20.2, 'SydneyMin': 17.7})\n",
      "(('country', 'Asia'),)\n",
      "StreamInstance(timestamp=datetime.datetime(2000, 1, 27, 0, 0, tzinfo=<UTC>), value={'NewDelhiMax': 20.1, 'NewDelhiMin': 8.1, 'HongKongMin': 14.3, 'KualaLumpurMin': 23.5, 'TokyoMax': 11.2, 'KualaLumpurMax': 32.2, 'HongKongMax': 19.5, 'BangkokMin': 24.0, 'BangkokMax': 32.8, 'TokyoMin': 4.2})\n"
     ]
    }
   ],
   "source": [
    "# Print the results\n",
    "for stream in country_node.streams:\n",
    "    print(stream)\n",
    "    print(country_node.streams[stream].window().first())"
   ]
  },
  {
   "cell_type": "code",
   "execution_count": 7,
   "metadata": {
    "collapsed": false,
    "deletable": true,
    "editable": true
   },
   "outputs": [
    {
     "name": "stdout",
     "output_type": "stream",
     "text": [
      "(('country', 'Australia'), ('city', 'GoldCoastMax'))\n",
      "StreamInstance(timestamp=datetime.datetime(2000, 1, 27, 0, 0, tzinfo=<UTC>), value=27.5)\n",
      "(('country', 'Asia'), ('city', 'TokyoMax'))\n",
      "StreamInstance(timestamp=datetime.datetime(2000, 1, 27, 0, 0, tzinfo=<UTC>), value=11.2)\n",
      "(('country', 'Asia'), ('city', 'BangkokMin'))\n",
      "StreamInstance(timestamp=datetime.datetime(2000, 1, 27, 0, 0, tzinfo=<UTC>), value=24.0)\n",
      "(('country', 'Asia'), ('city', 'HongKongMin'))\n",
      "StreamInstance(timestamp=datetime.datetime(2000, 1, 27, 0, 0, tzinfo=<UTC>), value=14.3)\n",
      "(('country', 'Asia'), ('city', 'BangkokMax'))\n",
      "StreamInstance(timestamp=datetime.datetime(2000, 1, 27, 0, 0, tzinfo=<UTC>), value=32.8)\n",
      "(('country', 'Asia'), ('city', 'KualaLumpurMin'))\n",
      "StreamInstance(timestamp=datetime.datetime(2000, 1, 27, 0, 0, tzinfo=<UTC>), value=23.5)\n",
      "(('country', 'USA'), ('city', 'LosAngelesMax'))\n",
      "StreamInstance(timestamp=datetime.datetime(2000, 1, 27, 0, 0, tzinfo=<UTC>), value=19.6)\n",
      "(('country', 'Australia'), ('city', 'Canberramax'))\n",
      "StreamInstance(timestamp=datetime.datetime(2000, 1, 27, 0, 0, tzinfo=<UTC>), value=24.5)\n",
      "(('country', 'Australia'), ('city', 'BrisbaneMax'))\n",
      "StreamInstance(timestamp=datetime.datetime(2000, 1, 27, 0, 0, tzinfo=<UTC>), value=28.2)\n",
      "(('country', 'NZ'), ('city', 'AucklandMax'))\n",
      "StreamInstance(timestamp=datetime.datetime(2000, 1, 27, 0, 0, tzinfo=<UTC>), value=23.4)\n",
      "(('country', 'Australia'), ('city', 'CanberraMin'))\n",
      "StreamInstance(timestamp=datetime.datetime(2000, 1, 27, 0, 0, tzinfo=<UTC>), value=10.1)\n",
      "(('country', 'NZ'), ('city', 'DunedinMin'))\n",
      "StreamInstance(timestamp=datetime.datetime(2000, 1, 27, 0, 0, tzinfo=<UTC>), value=8.8)\n",
      "(('country', 'NZ'), ('city', 'ChristchurchMin'))\n",
      "StreamInstance(timestamp=datetime.datetime(2000, 1, 27, 0, 0, tzinfo=<UTC>), value=10.8)\n",
      "(('country', 'USA'), ('city', 'NYMin'))\n",
      "StreamInstance(timestamp=datetime.datetime(2000, 1, 27, 0, 0, tzinfo=<UTC>), value=-5.6)\n",
      "(('country', 'Australia'), ('city', 'Melbournemax'))\n",
      "StreamInstance(timestamp=datetime.datetime(2000, 1, 27, 0, 0, tzinfo=<UTC>), value=24.3)\n",
      "(('country', 'NZ'), ('city', 'ChristchurchMax'))\n",
      "StreamInstance(timestamp=datetime.datetime(2000, 1, 27, 0, 0, tzinfo=<UTC>), value=20.2)\n",
      "(('country', 'Asia'), ('city', 'KualaLumpurMax'))\n",
      "StreamInstance(timestamp=datetime.datetime(2000, 1, 27, 0, 0, tzinfo=<UTC>), value=32.2)\n",
      "(('country', 'USA'), ('city', 'HoustonMin'))\n",
      "StreamInstance(timestamp=datetime.datetime(2000, 1, 27, 0, 0, tzinfo=<UTC>), value=7.4)\n",
      "(('country', 'USA'), ('city', 'LosAngelesMin'))\n",
      "StreamInstance(timestamp=datetime.datetime(2000, 1, 27, 0, 0, tzinfo=<UTC>), value=10.0)\n",
      "(('country', 'USA'), ('city', 'ChicagoMax'))\n",
      "StreamInstance(timestamp=datetime.datetime(2000, 1, 27, 0, 0, tzinfo=<UTC>), value=1.8)\n",
      "(('country', 'Australia'), ('city', 'MelbourneMin'))\n",
      "StreamInstance(timestamp=datetime.datetime(2000, 1, 27, 0, 0, tzinfo=<UTC>), value=15.9)\n",
      "(('country', 'NZ'), ('city', 'HamiltonMax'))\n",
      "StreamInstance(timestamp=datetime.datetime(2000, 1, 27, 0, 0, tzinfo=<UTC>), value=23.8)\n",
      "(('country', 'Asia'), ('city', 'TokyoMin'))\n",
      "StreamInstance(timestamp=datetime.datetime(2000, 1, 27, 0, 0, tzinfo=<UTC>), value=4.2)\n",
      "(('country', 'USA'), ('city', 'SeattleMin'))\n",
      "StreamInstance(timestamp=datetime.datetime(2000, 1, 27, 0, 0, tzinfo=<UTC>), value=1.4)\n",
      "(('country', 'Asia'), ('city', 'NewDelhiMin'))\n",
      "StreamInstance(timestamp=datetime.datetime(2000, 1, 27, 0, 0, tzinfo=<UTC>), value=8.1)\n",
      "(('country', 'Asia'), ('city', 'HongKongMax'))\n",
      "StreamInstance(timestamp=datetime.datetime(2000, 1, 27, 0, 0, tzinfo=<UTC>), value=19.5)\n",
      "(('country', 'Australia'), ('city', 'BrisbaneMin'))\n",
      "StreamInstance(timestamp=datetime.datetime(2000, 1, 27, 0, 0, tzinfo=<UTC>), value=19.1)\n",
      "(('country', 'Australia'), ('city', 'SydneyMax'))\n",
      "StreamInstance(timestamp=datetime.datetime(2000, 1, 27, 0, 0, tzinfo=<UTC>), value=24.9)\n",
      "(('country', 'USA'), ('city', 'NYMax'))\n",
      "StreamInstance(timestamp=datetime.datetime(2000, 1, 27, 0, 0, tzinfo=<UTC>), value=4.6)\n",
      "(('country', 'NZ'), ('city', 'DunedinMax'))\n",
      "StreamInstance(timestamp=datetime.datetime(2000, 1, 27, 0, 0, tzinfo=<UTC>), value=18.2)\n",
      "(('country', 'USA'), ('city', 'ChicagoMin'))\n",
      "StreamInstance(timestamp=datetime.datetime(2000, 1, 27, 0, 0, tzinfo=<UTC>), value=-8.1)\n",
      "(('country', 'NZ'), ('city', 'AucklandMin'))\n",
      "StreamInstance(timestamp=datetime.datetime(2000, 1, 27, 0, 0, tzinfo=<UTC>), value=15.5)\n",
      "(('country', 'Asia'), ('city', 'NewDelhiMax'))\n",
      "StreamInstance(timestamp=datetime.datetime(2000, 1, 27, 0, 0, tzinfo=<UTC>), value=20.1)\n",
      "(('country', 'NZ'), ('city', 'WellingtonMin'))\n",
      "StreamInstance(timestamp=datetime.datetime(2000, 1, 27, 0, 0, tzinfo=<UTC>), value=14.2)\n",
      "(('country', 'Australia'), ('city', 'GoldCoastMin'))\n",
      "StreamInstance(timestamp=datetime.datetime(2000, 1, 27, 0, 0, tzinfo=<UTC>), value=20.2)\n",
      "(('country', 'USA'), ('city', 'SeattleMax'))\n",
      "StreamInstance(timestamp=datetime.datetime(2000, 1, 27, 0, 0, tzinfo=<UTC>), value=7.9)\n",
      "(('country', 'NZ'), ('city', 'HamiltonMin'))\n",
      "StreamInstance(timestamp=datetime.datetime(2000, 1, 27, 0, 0, tzinfo=<UTC>), value=12.4)\n",
      "(('country', 'USA'), ('city', 'HoustonMax'))\n",
      "StreamInstance(timestamp=datetime.datetime(2000, 1, 27, 0, 0, tzinfo=<UTC>), value=21.6)\n",
      "(('country', 'NZ'), ('city', 'WellingtonMax'))\n",
      "StreamInstance(timestamp=datetime.datetime(2000, 1, 27, 0, 0, tzinfo=<UTC>), value=20.0)\n",
      "(('country', 'Australia'), ('city', 'SydneyMin'))\n",
      "StreamInstance(timestamp=datetime.datetime(2000, 1, 27, 0, 0, tzinfo=<UTC>), value=17.7)\n"
     ]
    }
   ],
   "source": [
    "for stream in city_node.streams:\n",
    "    print(stream)\n",
    "    print(city_node.streams[stream].window().first())"
   ]
  },
  {
   "cell_type": "code",
   "execution_count": 8,
   "metadata": {
    "collapsed": false,
    "deletable": true,
    "editable": true
   },
   "outputs": [
    {
     "data": {
      "text/html": [
       "\n",
       "     <html>\n",
       "        <head>\n",
       "        <title>Temperatures in Australia</title>\n",
       "           <script src=\"./scripts/jquery.min.js\"></script>\n",
       "           <script src=\"./scripts/highstock.js\"></script>\n",
       "           <script src=\"./scripts/exporting.js\"></script>\n",
       "        </head>\n",
       "        <body>\n",
       "\n",
       "        <div id=\"container1169\" style=\"width: 800px; height: 600px; margin: 125 auto\"></div>\n",
       "\n",
       "        <script language=\"JavaScript\">\n",
       "            var seriesOptions = [{'data': [[948931200000.0, 24.5], [951609600000.0, 28.9], [954115200000.0, 25.5], [956793600000.0, 20.3], [959385600000.0, 15.2], [962064000000.0, 12.4], [964656000000.0, 11.8], [967334400000.0, 13.1], [970012800000.0, 17.5], [972604800000.0, 18.8], [975283200000.0, 22.4], [977875200000.0, 27.8], [980553600000.0, 31.0], [983232000000.0, 28.4], [985651200000.0, 23.5], [988329600000.0, 21.5], [990921600000.0, 16.9], [993600000000.0, 14.2], [996192000000.0, 12.9], [998870400000.0, 13.7], [1001548800000.0, 18.6], [1004140800000.0, 18.9], [1006819200000.0, 22.6], [1009411200000.0, 26.7], [1012089600000.0, 28.8], [1014768000000.0, 24.6], [1017187200000.0, 25.1], [1019865600000.0, 22.4], [1022457600000.0, 18.2], [1025136000000.0, 13.4], [1027728000000.0, 12.5], [1030406400000.0, 14.9], [1033084800000.0, 17.7], [1035676800000.0, 21.3], [1038355200000.0, 27.5], [1040947200000.0, 28.2], [1043625600000.0, 30.5], [1046304000000.0, 29.3], [1048723200000.0, 24.0], [1051401600000.0, 20.2], [1053993600000.0, 17.2], [1056672000000.0, 13.0], [1059264000000.0, 12.4], [1061942400000.0, 13.1], [1064620800000.0, 16.0], [1067212800000.0, 17.5], [1069891200000.0, 23.6], [1072483200000.0, 27.1], [1075161600000.0, 29.2], [1077840000000.0, 30.6], [1080345600000.0, 26.7], [1083024000000.0, 22.3], [1085616000000.0, 16.7], [1088294400000.0, 13.0], [1090886400000.0, 12.1], [1093564800000.0, 14.6], [1096243200000.0, 17.1], [1098835200000.0, 20.1], [1101513600000.0, 23.6], [1104105600000.0, 26.7], [1106784000000.0, 29.0], [1109462400000.0, 27.0], [1111881600000.0, 24.4], [1114560000000.0, 24.6], [1117152000000.0, 18.4], [1119830400000.0, 14.1], [1122422400000.0, 12.7], [1125100800000.0, 14.4], [1127779200000.0, 16.4], [1130371200000.0, 20.3], [1133049600000.0, 25.2], [1135641600000.0, 29.0], [1138320000000.0, 30.5], [1140998400000.0, 30.5], [1143417600000.0, 26.9], [1146096000000.0, 19.8], [1148688000000.0, 16.2], [1151366400000.0, 12.3], [1153958400000.0, 12.8], [1156636800000.0, 15.4], [1159315200000.0, 19.6], [1161907200000.0, 24.3], [1164585600000.0, 26.7], [1167177600000.0, 28.0], [1169856000000.0, 31.5], [1172534400000.0, 29.0], [1174953600000.0, 25.8], [1177632000000.0, 22.1], [1180224000000.0, 18.1], [1182902400000.0, 11.8], [1185494400000.0, 11.4], [1188172800000.0, 14.9], [1190851200000.0, 17.1], [1193443200000.0, 23.2], [1196121600000.0, 25.1], [1198713600000.0, 25.2], [1201392000000.0, 29.2], [1204070400000.0, 24.6], [1206576000000.0, 26.1], [1209254400000.0, 19.6], [1211846400000.0, 17.2], [1214524800000.0, 14.5], [1217116800000.0, 11.7], [1219795200000.0, 12.8], [1222473600000.0, 18.0], [1225065600000.0, 23.0], [1227744000000.0, 23.7], [1230336000000.0, 25.2], [1233014400000.0, 31.0], [1235692800000.0, 28.7], [1238112000000.0, 26.7], [1240790400000.0, 19.7], [1243382400000.0, 16.5], [1246060800000.0, 12.8], [1248652800000.0, 12.3], [1251331200000.0, 14.8], [1254009600000.0, 17.8], [1256601600000.0, 19.1], [1259280000000.0, 29.1], [1261872000000.0, 29.1], [1264550400000.0, 31.7], [1267228800000.0, 27.2], [1269648000000.0, 24.6], [1272326400000.0, 21.1], [1274918400000.0, 16.6], [1277596800000.0, 13.2], [1280188800000.0, 12.9], [1282867200000.0, 12.4], [1285545600000.0, 16.4], [1288137600000.0, 19.6], [1290816000000.0, 22.4], [1293408000000.0, 25.1], [1296086400000.0, 28.8], [1298764800000.0, 26.7], [1301184000000.0, 23.3], [1303862400000.0, 19.6], [1306454400000.0, 15.8], [1309132800000.0, 13.8], [1311724800000.0, 12.3], [1314403200000.0, 16.1], [1317081600000.0, 18.6], [1319673600000.0, 20.8], [1322352000000.0, 25.5], [1324944000000.0, 23.6], [1327622400000.0, 27.5], [1330300800000.0, 25.1], [1332806400000.0, 22.2], [1335484800000.0, 20.2], [1338076800000.0, 15.7], [1340755200000.0, 13.1], [1343347200000.0, 13.2], [1346025600000.0, 13.6], [1348704000000.0, 18.0], [1351296000000.0, 21.1]], 'name': 'Canberramax'}, {'data': [[948931200000.0, 10.1], [951609600000.0, 13.2], [954115200000.0, 12.3], [956793600000.0, 5.0], [959385600000.0, 2.3], [962064000000.0, -1.9], [964656000000.0, -1.0], [967334400000.0, -0.1], [970012800000.0, 4.1], [972604800000.0, 4.6], [975283200000.0, 11.3], [977875200000.0, 10.3], [980553600000.0, 13.8], [983232000000.0, 13.8], [985651200000.0, 9.2], [988329600000.0, 4.8], [990921600000.0, -0.5], [993600000000.0, -1.1], [996192000000.0, 0.0], [998870400000.0, 0.1], [1001548800000.0, 3.4], [1004140800000.0, 4.1], [1006819200000.0, 6.0], [1009411200000.0, 10.1], [1012089600000.0, 11.7], [1014768000000.0, 13.0], [1017187200000.0, 9.2], [1019865600000.0, 7.1], [1022457600000.0, 2.2], [1025136000000.0, 1.1], [1027728000000.0, -2.0], [1030406400000.0, -1.6], [1033084800000.0, 1.7], [1035676800000.0, 4.4], [1038355200000.0, 10.7], [1040947200000.0, 11.0], [1043625600000.0, 12.5], [1046304000000.0, 14.3], [1048723200000.0, 9.0], [1051401600000.0, 6.4], [1053993600000.0, 3.6], [1056672000000.0, 2.7], [1059264000000.0, 0.0], [1061942400000.0, 0.1], [1064620800000.0, 2.7], [1067212800000.0, 4.3], [1069891200000.0, 7.6], [1072483200000.0, 12.4], [1075161600000.0, 12.2], [1077840000000.0, 13.3], [1080345600000.0, 9.5], [1083024000000.0, 6.7], [1085616000000.0, 0.1], [1088294400000.0, 1.0], [1090886400000.0, -1.5], [1093564800000.0, 0.7], [1096243200000.0, 3.1], [1098835200000.0, 5.7], [1101513600000.0, 7.8], [1104105600000.0, 10.5], [1106784000000.0, 12.6], [1109462400000.0, 12.3], [1111881600000.0, 8.7], [1114560000000.0, 6.5], [1117152000000.0, 1.1], [1119830400000.0, 1.4], [1122422400000.0, 0.3], [1125100800000.0, -0.7], [1127779200000.0, 3.7], [1130371200000.0, 7.2], [1133049600000.0, 12.9], [1135641600000.0, 10.6], [1138320000000.0, 15.6], [1140998400000.0, 13.4], [1143417600000.0, 11.3], [1146096000000.0, 3.1], [1148688000000.0, 1.0], [1151366400000.0, -1.2], [1153958400000.0, 0.6], [1156636800000.0, -1.2], [1159315200000.0, 2.3], [1161907200000.0, 4.6], [1164585600000.0, 8.7], [1167177600000.0, 11.1], [1169856000000.0, 13.8], [1172534400000.0, 14.5], [1174953600000.0, 11.5], [1177632000000.0, 6.8], [1180224000000.0, 4.8], [1182902400000.0, 1.0], [1185494400000.0, -0.4], [1188172800000.0, 2.5], [1190851200000.0, 2.1], [1193443200000.0, 6.5], [1196121600000.0, 11.2], [1198713600000.0, 12.1], [1201392000000.0, 14.5], [1204070400000.0, 11.9], [1206576000000.0, 10.2], [1209254400000.0, 4.1], [1211846400000.0, 1.5], [1214524800000.0, 3.1], [1217116800000.0, -1.2], [1219795200000.0, -0.7], [1222473600000.0, 2.4], [1225065600000.0, 5.9], [1227744000000.0, 9.3], [1230336000000.0, 10.8], [1233014400000.0, 13.2], [1235692800000.0, 13.7], [1238112000000.0, 10.9], [1240790400000.0, 7.3], [1243382400000.0, 3.3], [1246060800000.0, 2.3], [1248652800000.0, 0.4], [1251331200000.0, 1.1], [1254009600000.0, 2.4], [1256601600000.0, 5.5], [1259280000000.0, 11.7], [1261872000000.0, 11.9], [1264550400000.0, 14.4], [1267228800000.0, 14.7], [1269648000000.0, 10.4], [1272326400000.0, 6.0], [1274918400000.0, 2.2], [1277596800000.0, -0.6], [1280188800000.0, -1.3], [1282867200000.0, 0.3], [1285545600000.0, 2.7], [1288137600000.0, 5.8], [1290816000000.0, 9.0], [1293408000000.0, 10.4], [1296086400000.0, 14.4], [1298764800000.0, 13.5], [1301184000000.0, 11.0], [1303862400000.0, 4.0], [1306454400000.0, -1.5], [1309132800000.0, -0.7], [1311724800000.0, -2.1], [1314403200000.0, 0.1], [1317081600000.0, 0.2], [1319673600000.0, 4.5], [1322352000000.0, 8.8], [1324944000000.0, 9.4], [1327622400000.0, 11.2], [1330300800000.0, 11.9], [1332806400000.0, 8.9], [1335484800000.0, 5.3], [1338076800000.0, -1.7], [1340755200000.0, -0.6], [1343347200000.0, -2.1], [1346025600000.0, -2.2], [1348704000000.0, 1.0], [1351296000000.0, 2.4]], 'name': 'CanberraMin'}, {'data': [[948931200000.0, 27.5], [951609600000.0, 26.6], [954115200000.0, 27.0], [956793600000.0, 25.2], [959385600000.0, 22.9], [962064000000.0, 20.5], [964656000000.0, 21.8], [967334400000.0, 22.1], [970012800000.0, 25.7], [972604800000.0, 25.5], [975283200000.0, 26.4], [977875200000.0, 28.0], [980553600000.0, 29.2], [983232000000.0, 28.2], [985651200000.0, 28.8], [988329600000.0, 26.2], [990921600000.0, 23.6], [993600000000.0, 23.0], [996192000000.0, 21.8], [998870400000.0, 22.5], [1001548800000.0, 24.0], [1004140800000.0, 26.3], [1006819200000.0, 26.8], [1009411200000.0, 29.3], [1012089600000.0, 29.8], [1014768000000.0, 30.4], [1017187200000.0, 28.7], [1019865600000.0, 26.3], [1022457600000.0, 24.3], [1025136000000.0, 22.3], [1027728000000.0, 21.9], [1030406400000.0, 21.5], [1033084800000.0, 25.1], [1035676800000.0, 26.4], [1038355200000.0, 27.8], [1040947200000.0, 28.6], [1043625600000.0, 29.1], [1046304000000.0, 28.1], [1048723200000.0, 26.9], [1051401600000.0, 25.4], [1053993600000.0, 23.7], [1056672000000.0, 22.3], [1059264000000.0, 21.1], [1061942400000.0, 22.0], [1064620800000.0, 26.0], [1067212800000.0, 25.2], [1069891200000.0, 26.2], [1072483200000.0, 28.6], [1075161600000.0, 30.8], [1077840000000.0, 31.1], [1080345600000.0, 28.1], [1083024000000.0, 26.6], [1085616000000.0, 23.7], [1088294400000.0, 22.6], [1090886400000.0, 22.1], [1093564800000.0, 23.3], [1096243200000.0, 24.9], [1098835200000.0, 27.0], [1101513600000.0, 28.2], [1104105600000.0, 28.9], [1106784000000.0, 29.5], [1109462400000.0, 30.9], [1111881600000.0, 28.7], [1114560000000.0, 27.0], [1117152000000.0, 23.8], [1119830400000.0, 21.7], [1122422400000.0, 21.9], [1125100800000.0, 22.4], [1127779200000.0, 25.2], [1130371200000.0, 27.7], [1133049600000.0, 28.9], [1135641600000.0, 31.4], [1138320000000.0, 30.5], [1140998400000.0, 30.5], [1143417600000.0, 28.6], [1146096000000.0, 27.8], [1148688000000.0, 24.7], [1151366400000.0, 21.3], [1153958400000.0, 22.0], [1156636800000.0, 23.3], [1159315200000.0, 24.1], [1161907200000.0, 26.3], [1164585600000.0, 27.6], [1167177600000.0, 27.8], [1169856000000.0, 30.8], [1172534400000.0, 29.4], [1174953600000.0, 29.8], [1177632000000.0, 27.1], [1180224000000.0, 26.0], [1182902400000.0, 21.1], [1185494400000.0, 21.7], [1188172800000.0, 23.0], [1190851200000.0, 25.3], [1193443200000.0, 27.7], [1196121600000.0, 26.8], [1198713600000.0, 28.5], [1201392000000.0, 28.6], [1204070400000.0, 29.1], [1206576000000.0, 27.4], [1209254400000.0, 25.3], [1211846400000.0, 24.5], [1214524800000.0, 23.0], [1217116800000.0, 21.0], [1219795200000.0, 22.4], [1222473600000.0, 24.5], [1225065600000.0, 26.2], [1227744000000.0, 27.2], [1230336000000.0, 29.7], [1233014400000.0, 29.6], [1235692800000.0, 29.8], [1238112000000.0, 28.6], [1240790400000.0, 26.7], [1243382400000.0, 23.9], [1246060800000.0, 21.4], [1248652800000.0, 21.4], [1251331200000.0, 24.6], [1254009600000.0, 25.3], [1256601600000.0, 26.6], [1259280000000.0, 28.6], [1261872000000.0, 28.8], [1264550400000.0, 30.3], [1267228800000.0, 29.3], [1269648000000.0, 28.1], [1272326400000.0, 27.2], [1274918400000.0, 23.9], [1277596800000.0, 21.6], [1280188800000.0, 21.5], [1282867200000.0, 21.8], [1285545600000.0, 24.3], [1288137600000.0, 23.9], [1290816000000.0, 26.2], [1293408000000.0, 27.0], [1296086400000.0, 28.6], [1298764800000.0, 29.7], [1301184000000.0, 28.5], [1303862400000.0, 25.8], [1306454400000.0, 22.8], [1309132800000.0, 21.1], [1311724800000.0, 21.2], [1314403200000.0, 21.8], [1317081600000.0, 24.0], [1319673600000.0, 24.8], [1322352000000.0, 27.7], [1324944000000.0, 26.9], [1327622400000.0, 28.0], [1330300800000.0, 29.1], [1332806400000.0, 27.7], [1335484800000.0, 25.9], [1338076800000.0, 23.8], [1340755200000.0, 21.1], [1343347200000.0, 21.0], [1346025600000.0, 22.7], [1348704000000.0, 24.3], [1351296000000.0, 25.6]], 'name': 'GoldCoastMax'}, {'data': [[948931200000.0, 28.2], [951609600000.0, 27.7], [954115200000.0, 27.9], [956793600000.0, 25.7], [959385600000.0, 23.1], [962064000000.0, 20.6], [964656000000.0, 21.2], [967334400000.0, 22.4], [970012800000.0, 25.1], [972604800000.0, 25.5], [975283200000.0, 25.6], [977875200000.0, 28.3], [980553600000.0, 29.0], [983232000000.0, 28.1], [985651200000.0, 29.0], [988329600000.0, 26.0], [990921600000.0, 23.6], [993600000000.0, 22.5], [996192000000.0, 21.5], [998870400000.0, 22.0], [1001548800000.0, 24.1], [1004140800000.0, 26.6], [1006819200000.0, 26.5], [1009411200000.0, 29.2], [1012089600000.0, 30.2], [1014768000000.0, 30.1], [1017187200000.0, 28.5], [1019865600000.0, 26.8], [1022457600000.0, 24.5], [1025136000000.0, 22.1], [1027728000000.0, 21.7], [1030406400000.0, 21.4], [1033084800000.0, 24.7], [1035676800000.0, 26.0], [1038355200000.0, 27.0], [1040947200000.0, 28.6], [1043625600000.0, 28.7], [1046304000000.0, 28.0], [1048723200000.0, 26.7], [1051401600000.0, 25.6], [1053993600000.0, 23.6], [1056672000000.0, 21.8], [1059264000000.0, 20.6], [1061942400000.0, 21.6], [1064620800000.0, 26.2], [1067212800000.0, 25.4], [1069891200000.0, 26.5], [1072483200000.0, 28.0], [1075161600000.0, 30.1], [1077840000000.0, 30.5], [1080345600000.0, 27.9], [1083024000000.0, 26.1], [1085616000000.0, 23.9], [1088294400000.0, 22.4], [1090886400000.0, 21.7], [1093564800000.0, 22.6], [1096243200000.0, 23.8], [1098835200000.0, 26.7], [1101513600000.0, 27.4], [1104105600000.0, 28.0], [1106784000000.0, 29.0], [1109462400000.0, 29.6], [1111881600000.0, 28.1], [1114560000000.0, 26.5], [1117152000000.0, 23.6], [1119830400000.0, 21.3], [1122422400000.0, 21.6], [1125100800000.0, 21.9], [1127779200000.0, 24.1], [1130371200000.0, 26.4], [1133049600000.0, 26.5], [1135641600000.0, 30.5], [1138320000000.0, 29.6], [1140998400000.0, 30.0], [1143417600000.0, 27.5], [1146096000000.0, 26.9], [1148688000000.0, 24.5], [1151366400000.0, 21.1], [1153958400000.0, 22.0], [1156636800000.0, 22.8], [1159315200000.0, 23.5], [1161907200000.0, 25.2], [1164585600000.0, 26.7], [1167177600000.0, 26.8], [1169856000000.0, 29.0], [1172534400000.0, 28.2], [1174953600000.0, 29.1], [1177632000000.0, 26.7], [1180224000000.0, 25.4], [1182902400000.0, 20.2], [1185494400000.0, 20.8], [1188172800000.0, 22.3], [1190851200000.0, 24.0], [1193443200000.0, 26.4], [1196121600000.0, 25.9], [1198713600000.0, 27.9], [1201392000000.0, 28.2], [1204070400000.0, 28.4], [1206576000000.0, 26.5], [1209254400000.0, 25.3], [1211846400000.0, 23.5], [1214524800000.0, 22.4], [1217116800000.0, 20.2], [1219795200000.0, 20.9], [1222473600000.0, 23.6], [1225065600000.0, 25.1], [1227744000000.0, 27.6], [1230336000000.0, 28.8], [1233014400000.0, 29.2], [1235692800000.0, 28.8], [1238112000000.0, 28.2], [1240790400000.0, 26.5], [1243382400000.0, 23.3], [1246060800000.0, 21.1], [1248652800000.0, 20.8], [1251331200000.0, 24.0], [1254009600000.0, 25.7], [1256601600000.0, 26.8], [1259280000000.0, 28.0], [1261872000000.0, 28.9], [1264550400000.0, 29.7], [1267228800000.0, 29.2], [1269648000000.0, 27.4], [1272326400000.0, 26.1], [1274918400000.0, 23.5], [1277596800000.0, 21.2], [1280188800000.0, 20.7], [1282867200000.0, 21.0], [1285545600000.0, 23.5], [1288137600000.0, 23.7], [1290816000000.0, 26.0], [1293408000000.0, 26.9], [1296086400000.0, 28.3], [1298764800000.0, 29.2], [1301184000000.0, 27.8], [1303862400000.0, 25.3], [1306454400000.0, 22.4], [1309132800000.0, 20.5], [1311724800000.0, 20.9], [1314403200000.0, 21.7], [1317081600000.0, 23.7], [1319673600000.0, 24.7], [1322352000000.0, 27.6], [1324944000000.0, 26.5], [1327622400000.0, 27.9], [1330300800000.0, 28.4], [1332806400000.0, 27.3], [1335484800000.0, 25.4], [1338076800000.0, 23.1], [1340755200000.0, 20.6], [1343347200000.0, 20.5], [1346025600000.0, 22.3], [1348704000000.0, 24.2], [1351296000000.0, 25.5]], 'name': 'BrisbaneMax'}, {'data': [[948931200000.0, 19.1], [951609600000.0, 19.4], [954115200000.0, 19.3], [956793600000.0, 16.2], [959385600000.0, 12.9], [962064000000.0, 8.3], [964656000000.0, 6.8], [967334400000.0, 7.7], [970012800000.0, 11.3], [972604800000.0, 15.1], [975283200000.0, 16.7], [977875200000.0, 19.1], [980553600000.0, 20.5], [983232000000.0, 19.4], [985651200000.0, 19.5], [988329600000.0, 15.9], [990921600000.0, 11.0], [993600000000.0, 9.9], [996192000000.0, 8.2], [998870400000.0, 7.8], [1001548800000.0, 11.0], [1004140800000.0, 13.8], [1006819200000.0, 16.5], [1009411200000.0, 20.3], [1012089600000.0, 20.6], [1014768000000.0, 20.5], [1017187200000.0, 18.0], [1019865600000.0, 15.8], [1022457600000.0, 12.8], [1025136000000.0, 9.0], [1027728000000.0, 5.3], [1030406400000.0, 9.0], [1033084800000.0, 12.0], [1035676800000.0, 14.6], [1038355200000.0, 17.4], [1040947200000.0, 18.9], [1043625600000.0, 19.1], [1046304000000.0, 20.8], [1048723200000.0, 17.8], [1051401600000.0, 15.6], [1053993600000.0, 11.8], [1056672000000.0, 9.9], [1059264000000.0, 8.1], [1061942400000.0, 9.0], [1064620800000.0, 11.3], [1067212800000.0, 13.7], [1069891200000.0, 15.5], [1072483200000.0, 19.7], [1075161600000.0, 21.5], [1077840000000.0, 21.7], [1080345600000.0, 19.4], [1083024000000.0, 16.3], [1085616000000.0, 10.0], [1088294400000.0, 8.1], [1090886400000.0, 8.0], [1093564800000.0, 7.4], [1096243200000.0, 10.8], [1098835200000.0, 15.4], [1101513600000.0, 16.9], [1104105600000.0, 19.2], [1106784000000.0, 20.6], [1109462400000.0, 20.4], [1111881600000.0, 17.3], [1114560000000.0, 16.5], [1117152000000.0, 11.8], [1119830400000.0, 11.0], [1122422400000.0, 9.2], [1125100800000.0, 8.6], [1127779200000.0, 11.4], [1130371200000.0, 16.6], [1133049600000.0, 20.3], [1135641600000.0, 20.8], [1138320000000.0, 21.8], [1140998400000.0, 21.4], [1143417600000.0, 18.8], [1146096000000.0, 15.0], [1148688000000.0, 10.2], [1151366400000.0, 9.5], [1153958400000.0, 8.4], [1156636800000.0, 8.8], [1159315200000.0, 12.9], [1161907200000.0, 14.7], [1164585600000.0, 16.5], [1167177600000.0, 17.6], [1169856000000.0, 20.8], [1172534400000.0, 19.7], [1174953600000.0, 19.4], [1177632000000.0, 15.6], [1180224000000.0, 14.1], [1182902400000.0, 9.6], [1185494400000.0, 5.7], [1188172800000.0, 9.7], [1190851200000.0, 12.2], [1193443200000.0, 16.0], [1196121600000.0, 17.7], [1198713600000.0, 19.9], [1201392000000.0, 21.0], [1204070400000.0, 19.8], [1206576000000.0, 16.6], [1209254400000.0, 13.4], [1211846400000.0, 10.9], [1214524800000.0, 10.8], [1217116800000.0, 8.6], [1219795200000.0, 6.9], [1222473600000.0, 13.4], [1225065600000.0, 14.7], [1227744000000.0, 17.8], [1230336000000.0, 19.9], [1233014400000.0, 20.7], [1235692800000.0, 20.7], [1238112000000.0, 19.1], [1240790400000.0, 16.4], [1243382400000.0, 12.4], [1246060800000.0, 9.6], [1248652800000.0, 7.8], [1251331200000.0, 10.2], [1254009600000.0, 11.8], [1256601600000.0, 13.8], [1259280000000.0, 18.9], [1261872000000.0, 21.2], [1264550400000.0, 21.0], [1267228800000.0, 21.3], [1269648000000.0, 19.6], [1272326400000.0, 16.6], [1274918400000.0, 12.0], [1277596800000.0, 9.3], [1280188800000.0, 10.5], [1282867200000.0, 9.0], [1285545600000.0, 13.5], [1288137600000.0, 15.0], [1290816000000.0, 18.1], [1293408000000.0, 19.8], [1296086400000.0, 20.9], [1298764800000.0, 21.0], [1301184000000.0, 19.6], [1303862400000.0, 16.4], [1306454400000.0, 11.2], [1309132800000.0, 8.7], [1311724800000.0, 7.4], [1314403200000.0, 9.4], [1317081600000.0, 10.7], [1319673600000.0, 14.4], [1322352000000.0, 19.2], [1324944000000.0, 17.4], [1327622400000.0, 20.2], [1330300800000.0, 20.4], [1332806400000.0, 18.6], [1335484800000.0, 15.8], [1338076800000.0, 11.1], [1340755200000.0, 10.6], [1343347200000.0, 9.3], [1346025600000.0, 7.7], [1348704000000.0, 11.8], [1351296000000.0, 13.9]], 'name': 'BrisbaneMin'}, {'data': [[948931200000.0, 20.2], [951609600000.0, 20.7], [954115200000.0, 20.9], [956793600000.0, 18.7], [959385600000.0, 15.9], [962064000000.0, 12.3], [964656000000.0, 10.2], [967334400000.0, 11.0], [970012800000.0, 13.9], [972604800000.0, 16.3], [975283200000.0, 18.1], [977875200000.0, 20.1], [980553600000.0, 21.6], [983232000000.0, 20.5], [985651200000.0, 20.9], [988329600000.0, 18.0], [990921600000.0, 13.4], [993600000000.0, 12.6], [996192000000.0, 10.7], [998870400000.0, 10.6], [1001548800000.0, 13.6], [1004140800000.0, 15.8], [1006819200000.0, 17.2], [1009411200000.0, 20.5], [1012089600000.0, 21.4], [1014768000000.0, 22.0], [1017187200000.0, 20.1], [1019865600000.0, 18.3], [1022457600000.0, 15.6], [1025136000000.0, 12.4], [1027728000000.0, 9.2], [1030406400000.0, 11.8], [1033084800000.0, 14.7], [1035676800000.0, 16.0], [1038355200000.0, 18.6], [1040947200000.0, 19.4], [1043625600000.0, 20.8], [1046304000000.0, 21.2], [1048723200000.0, 19.0], [1051401600000.0, 17.4], [1053993600000.0, 14.4], [1056672000000.0, 12.6], [1059264000000.0, 10.7], [1061942400000.0, 11.7], [1064620800000.0, 13.2], [1067212800000.0, 14.9], [1069891200000.0, 17.2], [1072483200000.0, 20.2], [1075161600000.0, 21.9], [1077840000000.0, 21.9], [1080345600000.0, 20.5], [1083024000000.0, 18.0], [1085616000000.0, 13.0], [1088294400000.0, 11.2], [1090886400000.0, 11.0], [1093564800000.0, 10.7], [1096243200000.0, 13.0], [1098835200000.0, 16.7], [1101513600000.0, 18.2], [1104105600000.0, 19.9], [1106784000000.0, 21.8], [1109462400000.0, 21.7], [1111881600000.0, 18.8], [1114560000000.0, 18.5], [1117152000000.0, 14.1], [1119830400000.0, 13.2], [1122422400000.0, 11.7], [1125100800000.0, 11.5], [1127779200000.0, 13.4], [1130371200000.0, 17.4], [1133049600000.0, 20.0], [1135641600000.0, 20.8], [1138320000000.0, 22.2], [1140998400000.0, 21.9], [1143417600000.0, 20.0], [1146096000000.0, 16.5], [1148688000000.0, 12.9], [1151366400000.0, 11.6], [1153958400000.0, 11.1], [1156636800000.0, 11.9], [1159315200000.0, 14.7], [1161907200000.0, 16.0], [1164585600000.0, 17.1], [1167177600000.0, 18.8], [1169856000000.0, 21.0], [1172534400000.0, 21.4], [1174953600000.0, 20.7], [1177632000000.0, 17.2], [1180224000000.0, 16.3], [1182902400000.0, 11.6], [1185494400000.0, 8.5], [1188172800000.0, 12.1], [1190851200000.0, 13.7], [1193443200000.0, 17.3], [1196121600000.0, 18.2], [1198713600000.0, 20.5], [1201392000000.0, 21.8], [1204070400000.0, 20.7], [1206576000000.0, 18.8], [1209254400000.0, 15.5], [1211846400000.0, 13.3], [1214524800000.0, 12.8], [1217116800000.0, 10.5], [1219795200000.0, 9.5], [1222473600000.0, 15.1], [1225065600000.0, 15.7], [1227744000000.0, 18.5], [1230336000000.0, 20.1], [1233014400000.0, 21.6], [1235692800000.0, 21.3], [1238112000000.0, 20.4], [1240790400000.0, 17.7], [1243382400000.0, 14.5], [1246060800000.0, 11.8], [1248652800000.0, 10.7], [1251331200000.0, 12.7], [1254009600000.0, 13.7], [1256601600000.0, 16.1], [1259280000000.0, 19.6], [1261872000000.0, 21.3], [1264550400000.0, 21.8], [1267228800000.0, 21.8], [1269648000000.0, 21.1], [1272326400000.0, 18.7], [1274918400000.0, 14.6], [1277596800000.0, 12.2], [1280188800000.0, 12.4], [1282867200000.0, 11.0], [1285545600000.0, 15.4], [1288137600000.0, 16.0], [1290816000000.0, 18.7], [1293408000000.0, 20.6], [1296086400000.0, 21.6], [1298764800000.0, 21.6], [1301184000000.0, 20.5], [1303862400000.0, 17.9], [1306454400000.0, 13.0], [1309132800000.0, 11.4], [1311724800000.0, 10.2], [1314403200000.0, 11.9], [1317081600000.0, 13.5], [1319673600000.0, 16.0], [1322352000000.0, 19.9], [1324944000000.0, 19.0], [1327622400000.0, 21.1], [1330300800000.0, 21.1], [1332806400000.0, 20.2], [1335484800000.0, 17.5], [1338076800000.0, 14.0], [1340755200000.0, 13.0], [1343347200000.0, 12.1], [1346025600000.0, 10.9], [1348704000000.0, 14.0], [1351296000000.0, 15.7]], 'name': 'GoldCoastMin'}, {'data': [[948931200000.0, 24.3], [951609600000.0, 28.7], [954115200000.0, 25.1], [956793600000.0, 20.8], [959385600000.0, 16.0], [962064000000.0, 14.6], [964656000000.0, 14.4], [967334400000.0, 15.7], [970012800000.0, 18.3], [972604800000.0, 19.2], [975283200000.0, 23.7], [977875200000.0, 26.2], [980553600000.0, 29.4], [983232000000.0, 29.4], [985651200000.0, 24.4], [988329600000.0, 20.7], [990921600000.0, 17.0], [993600000000.0, 15.9], [996192000000.0, 14.7], [998870400000.0, 15.6], [1001548800000.0, 19.5], [1004140800000.0, 19.3], [1006819200000.0, 21.1], [1009411200000.0, 21.5], [1012089600000.0, 25.1], [1014768000000.0, 25.5], [1017187200000.0, 24.3], [1019865600000.0, 22.2], [1022457600000.0, 21.1], [1025136000000.0, 15.9], [1027728000000.0, 15.4], [1030406400000.0, 16.4], [1033084800000.0, 19.4], [1035676800000.0, 21.2], [1038355200000.0, 23.6], [1040947200000.0, 24.7], [1043625600000.0, 27.8], [1046304000000.0, 26.1], [1048723200000.0, 24.6], [1051401600000.0, 21.3], [1053993600000.0, 18.8], [1056672000000.0, 15.4], [1059264000000.0, 14.8], [1061942400000.0, 15.1], [1064620800000.0, 17.2], [1067212800000.0, 18.0], [1069891200000.0, 23.7], [1072483200000.0, 27.2], [1075161600000.0, 24.6], [1077840000000.0, 26.1], [1080345600000.0, 23.9], [1083024000000.0, 22.0], [1085616000000.0, 17.4], [1088294400000.0, 14.8], [1090886400000.0, 14.1], [1093564800000.0, 16.4], [1096243200000.0, 17.5], [1098835200000.0, 21.4], [1101513600000.0, 22.5], [1104105600000.0, 25.4], [1106784000000.0, 26.8], [1109462400000.0, 24.7], [1111881600000.0, 23.9], [1114560000000.0, 24.5], [1117152000000.0, 18.5], [1119830400000.0, 16.3], [1122422400000.0, 15.2], [1125100800000.0, 16.3], [1127779200000.0, 18.1], [1130371200000.0, 21.4], [1133049600000.0, 28.1], [1135641600000.0, 28.2], [1138320000000.0, 27.7], [1140998400000.0, 25.5], [1143417600000.0, 26.1], [1146096000000.0, 19.4], [1148688000000.0, 16.5], [1151366400000.0, 14.3], [1153958400000.0, 14.5], [1156636800000.0, 17.0], [1159315200000.0, 19.9], [1161907200000.0, 22.5], [1164585600000.0, 22.7], [1167177600000.0, 25.4], [1169856000000.0, 28.0], [1172534400000.0, 29.0], [1174953600000.0, 25.7], [1177632000000.0, 22.7], [1180224000000.0, 19.6], [1182902400000.0, 14.1], [1185494400000.0, 13.8], [1188172800000.0, 17.3], [1190851200000.0, 18.9], [1193443200000.0, 22.1], [1196121600000.0, 24.6], [1198713600000.0, 27.2], [1201392000000.0, 28.1], [1204070400000.0, 25.3], [1206576000000.0, 27.1], [1209254400000.0, 21.0], [1211846400000.0, 17.5], [1214524800000.0, 15.8], [1217116800000.0, 14.2], [1219795200000.0, 14.7], [1222473600000.0, 19.3], [1225065600000.0, 22.5], [1227744000000.0, 23.0], [1230336000000.0, 23.3], [1233014400000.0, 28.6], [1235692800000.0, 27.4], [1238112000000.0, 24.4], [1240790400000.0, 21.2], [1243382400000.0, 17.9], [1246060800000.0, 15.5], [1248652800000.0, 15.1], [1251331200000.0, 17.1], [1254009600000.0, 18.9], [1256601600000.0, 20.1], [1259280000000.0, 27.3], [1261872000000.0, 26.3], [1264550400000.0, 27.9], [1267228800000.0, 28.3], [1269648000000.0, 26.1], [1272326400000.0, 22.8], [1274918400000.0, 18.3], [1277596800000.0, 14.6], [1280188800000.0, 14.7], [1282867200000.0, 14.7], [1285545600000.0, 16.6], [1288137600000.0, 21.1], [1290816000000.0, 23.4], [1293408000000.0, 24.8], [1296086400000.0, 26.7], [1298764800000.0, 25.3], [1301184000000.0, 23.5], [1303862400000.0, 21.2], [1306454400000.0, 16.3], [1309132800000.0, 15.9], [1311724800000.0, 14.7], [1314403200000.0, 17.4], [1317081600000.0, 19.5], [1319673600000.0, 20.9], [1322352000000.0, 24.9], [1324944000000.0, 25.1], [1327622400000.0, 27.8], [1330300800000.0, 26.9], [1332806400000.0, 23.8], [1335484800000.0, 21.9], [1338076800000.0, 17.2], [1340755200000.0, 14.5], [1343347200000.0, 14.9], [1346025600000.0, 15.3], [1348704000000.0, 18.7], [1351296000000.0, 20.8]], 'name': 'Melbournemax'}, {'data': [[948931200000.0, 24.9], [951609600000.0, 27.9], [954115200000.0, 25.2], [956793600000.0, 22.8], [959385600000.0, 19.8], [962064000000.0, 17.1], [964656000000.0, 17.5], [967334400000.0, 18.2], [970012800000.0, 22.8], [972604800000.0, 22.8], [975283200000.0, 23.1], [977875200000.0, 28.2], [980553600000.0, 28.0], [983232000000.0, 26.9], [985651200000.0, 25.1], [988329600000.0, 23.5], [990921600000.0, 18.8], [993600000000.0, 19.2], [996192000000.0, 16.9], [998870400000.0, 19.1], [1001548800000.0, 21.9], [1004140800000.0, 23.8], [1006819200000.0, 23.5], [1009411200000.0, 27.0], [1012089600000.0, 26.8], [1014768000000.0, 25.1], [1017187200000.0, 25.3], [1019865600000.0, 23.7], [1022457600000.0, 21.2], [1025136000000.0, 18.9], [1027728000000.0, 17.9], [1030406400000.0, 19.1], [1033084800000.0, 22.8], [1035676800000.0, 24.7], [1038355200000.0, 26.3], [1040947200000.0, 26.2], [1043625600000.0, 27.7], [1046304000000.0, 27.4], [1048723200000.0, 24.5], [1051401600000.0, 22.0], [1053993600000.0, 20.4], [1056672000000.0, 19.5], [1059264000000.0, 17.5], [1061942400000.0, 18.9], [1064620800000.0, 22.1], [1067212800000.0, 21.2], [1069891200000.0, 23.5], [1072483200000.0, 26.9], [1075161600000.0, 27.9], [1077840000000.0, 28.0], [1080345600000.0, 25.9], [1083024000000.0, 23.9], [1085616000000.0, 20.6], [1088294400000.0, 19.8], [1090886400000.0, 17.4], [1093564800000.0, 19.5], [1096243200000.0, 21.6], [1098835200000.0, 23.3], [1101513600000.0, 26.0], [1104105600000.0, 25.9], [1106784000000.0, 27.1], [1109462400000.0, 27.6], [1111881600000.0, 23.9], [1114560000000.0, 25.5], [1117152000000.0, 20.5], [1119830400000.0, 19.3], [1122422400000.0, 18.7], [1125100800000.0, 19.6], [1127779200000.0, 20.7], [1130371200000.0, 24.5], [1133049600000.0, 25.8], [1135641600000.0, 30.3], [1138320000000.0, 28.4], [1140998400000.0, 28.2], [1143417600000.0, 26.9], [1146096000000.0, 23.9], [1148688000000.0, 19.9], [1151366400000.0, 16.5], [1153958400000.0, 17.4], [1156636800000.0, 18.9], [1159315200000.0, 22.9], [1161907200000.0, 24.9], [1164585600000.0, 25.9], [1167177600000.0, 25.6], [1169856000000.0, 28.1], [1172534400000.0, 26.8], [1174953600000.0, 26.6], [1177632000000.0, 22.9], [1180224000000.0, 22.8], [1182902400000.0, 16.7], [1185494400000.0, 16.8], [1188172800000.0, 20.0], [1190851200000.0, 21.1], [1193443200000.0, 26.1], [1196121600000.0, 24.0], [1198713600000.0, 25.8], [1201392000000.0, 27.2], [1204070400000.0, 24.7], [1206576000000.0, 25.8], [1209254400000.0, 21.2], [1211846400000.0, 20.3], [1214524800000.0, 18.7], [1217116800000.0, 17.1], [1219795200000.0, 17.2], [1222473600000.0, 22.1], [1225065600000.0, 24.9], [1227744000000.0, 24.6], [1230336000000.0, 27.6], [1233014400000.0, 29.1], [1235692800000.0, 26.3], [1238112000000.0, 26.3], [1240790400000.0, 22.7], [1243382400000.0, 20.5], [1246060800000.0, 18.3], [1248652800000.0, 18.1], [1251331200000.0, 21.6], [1254009600000.0, 24.0], [1256601600000.0, 22.3], [1259280000000.0, 28.3], [1261872000000.0, 27.0], [1264550400000.0, 27.8], [1267228800000.0, 28.4], [1269648000000.0, 27.0], [1272326400000.0, 24.3], [1274918400000.0, 20.5], [1277596800000.0, 17.6], [1280188800000.0, 16.8], [1282867200000.0, 18.3], [1285545600000.0, 21.2], [1288137600000.0, 23.0], [1290816000000.0, 24.8], [1293408000000.0, 27.0], [1296086400000.0, 28.2], [1298764800000.0, 29.7], [1301184000000.0, 26.4], [1303862400000.0, 22.5], [1306454400000.0, 19.1], [1309132800000.0, 18.0], [1311724800000.0, 17.2], [1314403200000.0, 19.4], [1317081600000.0, 22.1], [1319673600000.0, 22.4], [1322352000000.0, 26.4], [1324944000000.0, 22.8], [1327622400000.0, 27.1], [1330300800000.0, 26.3], [1332806400000.0, 25.1], [1335484800000.0, 23.6], [1338076800000.0, 20.5], [1340755200000.0, 17.7], [1343347200000.0, 17.3], [1346025600000.0, 19.9], [1348704000000.0, 22.6], [1351296000000.0, 24.2]], 'name': 'SydneyMax'}, {'data': [[948931200000.0, 17.7], [951609600000.0, 19.7], [954115200000.0, 18.9], [956793600000.0, 14.8], [959385600000.0, 11.3], [962064000000.0, 7.6], [964656000000.0, 7.8], [967334400000.0, 9.0], [970012800000.0, 12.4], [972604800000.0, 14.0], [975283200000.0, 17.3], [977875200000.0, 19.3], [980553600000.0, 20.4], [983232000000.0, 20.7], [985651200000.0, 18.6], [988329600000.0, 15.0], [990921600000.0, 10.8], [993600000000.0, 8.9], [996192000000.0, 8.9], [998870400000.0, 8.2], [1001548800000.0, 12.0], [1004140800000.0, 13.0], [1006819200000.0, 15.0], [1009411200000.0, 18.0], [1012089600000.0, 19.2], [1014768000000.0, 18.6], [1017187200000.0, 17.6], [1019865600000.0, 15.8], [1022457600000.0, 11.9], [1025136000000.0, 8.6], [1027728000000.0, 6.5], [1030406400000.0, 8.8], [1033084800000.0, 10.6], [1035676800000.0, 13.6], [1038355200000.0, 16.4], [1040947200000.0, 17.5], [1043625600000.0, 19.3], [1046304000000.0, 20.0], [1048723200000.0, 17.3], [1051401600000.0, 14.2], [1053993600000.0, 12.5], [1056672000000.0, 9.6], [1059264000000.0, 7.6], [1061942400000.0, 8.0], [1064620800000.0, 10.4], [1067212800000.0, 11.9], [1069891200000.0, 14.9], [1072483200000.0, 18.5], [1075161600000.0, 19.3], [1077840000000.0, 19.6], [1080345600000.0, 18.3], [1083024000000.0, 15.3], [1085616000000.0, 10.3], [1088294400000.0, 8.2], [1090886400000.0, 7.9], [1093564800000.0, 9.3], [1096243200000.0, 11.0], [1098835200000.0, 13.9], [1101513600000.0, 15.5], [1104105600000.0, 17.5], [1106784000000.0, 19.1], [1109462400000.0, 18.8], [1111881600000.0, 16.3], [1114560000000.0, 16.0], [1117152000000.0, 11.4], [1119830400000.0, 9.8], [1122422400000.0, 8.6], [1125100800000.0, 7.9], [1127779200000.0, 11.2], [1130371200000.0, 15.0], [1133049600000.0, 19.3], [1135641600000.0, 18.2], [1138320000000.0, 20.1], [1140998400000.0, 20.0], [1143417600000.0, 19.2], [1146096000000.0, 13.1], [1148688000000.0, 10.4], [1151366400000.0, 7.9], [1153958400000.0, 8.3], [1156636800000.0, 9.0], [1159315200000.0, 12.2], [1161907200000.0, 13.8], [1164585600000.0, 15.1], [1167177600000.0, 16.9], [1169856000000.0, 19.1], [1172534400000.0, 20.1], [1174953600000.0, 18.2], [1177632000000.0, 14.8], [1180224000000.0, 12.2], [1182902400000.0, 8.4], [1185494400000.0, 7.2], [1188172800000.0, 10.4], [1190851200000.0, 11.3], [1193443200000.0, 14.7], [1196121600000.0, 17.1], [1198713600000.0, 17.9], [1201392000000.0, 19.8], [1204070400000.0, 18.0], [1206576000000.0, 17.2], [1209254400000.0, 13.3], [1211846400000.0, 10.5], [1214524800000.0, 11.0], [1217116800000.0, 7.5], [1219795200000.0, 7.4], [1222473600000.0, 11.0], [1225065600000.0, 13.7], [1227744000000.0, 15.8], [1230336000000.0, 17.4], [1233014400000.0, 19.1], [1235692800000.0, 19.3], [1238112000000.0, 18.0], [1240790400000.0, 14.8], [1243382400000.0, 11.9], [1246060800000.0, 9.5], [1248652800000.0, 7.9], [1251331200000.0, 9.1], [1254009600000.0, 12.1], [1256601600000.0, 13.5], [1259280000000.0, 17.7], [1261872000000.0, 18.6], [1264550400000.0, 19.8], [1267228800000.0, 20.6], [1269648000000.0, 18.7], [1272326400000.0, 15.0], [1274918400000.0, 11.3], [1277596800000.0, 8.4], [1280188800000.0, 8.4], [1282867200000.0, 8.6], [1285545600000.0, 11.1], [1288137600000.0, 14.1], [1290816000000.0, 16.2], [1293408000000.0, 18.0], [1296086400000.0, 20.4], [1298764800000.0, 20.2], [1301184000000.0, 18.5], [1303862400000.0, 14.1], [1306454400000.0, 9.8], [1309132800000.0, 9.5], [1311724800000.0, 7.7], [1314403200000.0, 9.6], [1317081600000.0, 11.1], [1319673600000.0, 13.8], [1322352000000.0, 16.9], [1324944000000.0, 16.4], [1327622400000.0, 19.0], [1330300800000.0, 19.0], [1332806400000.0, 17.3], [1335484800000.0, 14.7], [1338076800000.0, 10.6], [1340755200000.0, 9.0], [1343347200000.0, 8.4], [1346025600000.0, 8.0], [1348704000000.0, 10.9], [1351296000000.0, 12.7]], 'name': 'SydneyMin'}, {'data': [[948931200000.0, 15.9], [951609600000.0, 18.9], [954115200000.0, 16.4], [956793600000.0, 12.7], [959385600000.0, 9.9], [962064000000.0, 7.7], [964656000000.0, 6.3], [967334400000.0, 7.1], [970012800000.0, 9.3], [972604800000.0, 10.1], [975283200000.0, 14.9], [977875200000.0, 13.8], [980553600000.0, 16.7], [983232000000.0, 17.3], [985651200000.0, 13.5], [988329600000.0, 11.1], [990921600000.0, 9.4], [993600000000.0, 9.0], [996192000000.0, 7.8], [998870400000.0, 7.9], [1001548800000.0, 9.6], [1004140800000.0, 9.6], [1006819200000.0, 10.9], [1009411200000.0, 12.2], [1012089600000.0, 14.4], [1014768000000.0, 14.2], [1017187200000.0, 14.0], [1019865600000.0, 12.2], [1022457600000.0, 10.9], [1025136000000.0, 8.5], [1027728000000.0, 7.1], [1030406400000.0, 7.0], [1033084800000.0, 8.6], [1035676800000.0, 9.9], [1038355200000.0, 12.1], [1040947200000.0, 14.2], [1043625600000.0, 15.1], [1046304000000.0, 16.2], [1048723200000.0, 14.9], [1051401600000.0, 10.8], [1053993600000.0, 9.4], [1056672000000.0, 8.4], [1059264000000.0, 6.8], [1061942400000.0, 6.7], [1064620800000.0, 7.0], [1067212800000.0, 8.5], [1069891200000.0, 11.9], [1072483200000.0, 14.7], [1075161600000.0, 13.8], [1077840000000.0, 15.1], [1080345600000.0, 13.7], [1083024000000.0, 11.1], [1085616000000.0, 8.5], [1088294400000.0, 8.1], [1090886400000.0, 7.4], [1093564800000.0, 7.4], [1096243200000.0, 9.3], [1098835200000.0, 10.5], [1101513600000.0, 11.5], [1104105600000.0, 13.9], [1106784000000.0, 15.2], [1109462400000.0, 13.8], [1111881600000.0, 12.9], [1114560000000.0, 12.5], [1117152000000.0, 8.8], [1119830400000.0, 8.1], [1122422400000.0, 8.0], [1125100800000.0, 7.4], [1127779200000.0, 8.9], [1130371200000.0, 11.2], [1133049600000.0, 13.8], [1135641600000.0, 13.6], [1138320000000.0, 16.1], [1140998400000.0, 15.1], [1143417600000.0, 14.8], [1146096000000.0, 9.9], [1148688000000.0, 8.2], [1151366400000.0, 5.9], [1153958400000.0, 7.2], [1156636800000.0, 7.2], [1159315200000.0, 8.2], [1161907200000.0, 9.0], [1164585600000.0, 11.3], [1167177600000.0, 12.5], [1169856000000.0, 16.8], [1172534400000.0, 17.9], [1174953600000.0, 14.3], [1177632000000.0, 11.7], [1180224000000.0, 11.8], [1182902400000.0, 6.7], [1185494400000.0, 6.5], [1188172800000.0, 7.9], [1190851200000.0, 8.7], [1193443200000.0, 10.2], [1196121600000.0, 13.7], [1198713600000.0, 15.3], [1201392000000.0, 16.6], [1204070400000.0, 15.6], [1206576000000.0, 14.0], [1209254400000.0, 10.5], [1211846400000.0, 8.4], [1214524800000.0, 9.6], [1217116800000.0, 6.4], [1219795200000.0, 6.7], [1222473600000.0, 8.5], [1225065600000.0, 10.4], [1227744000000.0, 11.7], [1230336000000.0, 12.7], [1233014400000.0, 15.5], [1235692800000.0, 16.1], [1238112000000.0, 13.9], [1240790400000.0, 10.4], [1243382400000.0, 9.1], [1246060800000.0, 7.1], [1248652800000.0, 7.8], [1251331200000.0, 8.3], [1254009600000.0, 9.0], [1256601600000.0, 9.8], [1259280000000.0, 15.0], [1261872000000.0, 13.7], [1264550400000.0, 15.3], [1267228800000.0, 17.1], [1269648000000.0, 15.4], [1272326400000.0, 13.8], [1274918400000.0, 8.9], [1277596800000.0, 6.9], [1280188800000.0, 6.7], [1282867200000.0, 7.2], [1285545600000.0, 8.4], [1288137600000.0, 9.9], [1290816000000.0, 12.6], [1293408000000.0, 13.7], [1296086400000.0, 16.6], [1298764800000.0, 15.4], [1301184000000.0, 14.1], [1303862400000.0, 11.1], [1306454400000.0, 8.9], [1309132800000.0, 7.4], [1311724800000.0, 7.4], [1314403200000.0, 8.0], [1317081600000.0, 8.8], [1319673600000.0, 10.6], [1322352000000.0, 13.1], [1324944000000.0, 14.3], [1327622400000.0, 16.2], [1330300800000.0, 16.1], [1332806400000.0, 13.9], [1335484800000.0, 11.0], [1338076800000.0, 9.3], [1340755200000.0, 7.4], [1343347200000.0, 7.0], [1346025600000.0, 7.5], [1348704000000.0, 8.8], [1351296000000.0, 9.7]], 'name': 'MelbourneMin'}];\n",
       "\n",
       "            /**\n",
       "             * Create the chart when all data is loaded\n",
       "             * @returns {undefined}\n",
       "             */\n",
       "            Highcharts.stockChart('container1169', {\n",
       "              chart: {\n",
       "                zoomType: 'x'\n",
       "              },\n",
       "              title: {\n",
       "                  text: 'Temperatures in Australia'\n",
       "              },\n",
       "              plotOptions: {\n",
       "                series: {\n",
       "                  showInNavigator: true,\n",
       "                }\n",
       "              },\n",
       "                yAxis: {\n",
       "                    title: {\n",
       "                        text: 'ºC'\n",
       "                    }\n",
       "                },\n",
       "              tooltip: {\n",
       "                pointFormat: '<span style=\"color:{series.color}\">{series.name}</span>:<b>{point.y}</b>',\n",
       "                valueDecimals: 2,\n",
       "                split: true\n",
       "              },\n",
       "              series: seriesOptions\n",
       "            });\n",
       "        </script>\n",
       "\n",
       "        </body>\n",
       "        </html>\n",
       "    "
      ],
      "text/plain": [
       "<IPython.core.display.HTML object>"
      ]
     },
     "metadata": {},
     "output_type": "display_data"
    }
   ],
   "source": [
    "this_country = 'Australia'\n",
    "this_country_cities_temp = M.find_streams(country=this_country, name='temperature')\n",
    "this_country_cities_names = []\n",
    "data = []\n",
    "time = []\n",
    "for city_id, city_stream in this_country_cities_temp.iteritems():\n",
    "    meta_data = dict(city_id.meta_data)\n",
    "    this_country_cities_names.append(meta_data['city'])\n",
    "    data.append([instance.value for instance in city_stream.window().items()])\n",
    "    time.append([str(instance.timestamp) for instance in city_stream.window().items()])\n",
    "\n",
    "plot_multiple_stock(data, time=time, names=this_country_cities_names,\n",
    "                    title='Temperatures in ' + this_country, ylabel='ºC')"
   ]
  },
  {
   "cell_type": "code",
   "execution_count": 19,
   "metadata": {
    "collapsed": false,
    "deletable": true,
    "editable": true
   },
   "outputs": [
    {
     "name": "stdout",
     "output_type": "stream",
     "text": [
      "{'factors': [{'id': 'csv_multi_reader', 'sink': 'raw_data', 'sources': []},\n",
      "             {'id': 'splitter_from_stream',\n",
      "              'sink': 'temperature',\n",
      "              'sources': ['raw_data']}],\n",
      " 'nodes': [{'id': 'raw_data'}, {'id': 'temperature'}],\n",
      " 'plates': {u'C': [{'id': 'raw_data', 'type': 'node'}],\n",
      "            u'C.C': [{'id': 'temperature', 'type': 'node'}]}}\n"
     ]
    }
   ],
   "source": [
    "from pprint import pprint\n",
    "pprint(w.to_dict(tool_long_names=False))"
   ]
  },
  {
   "cell_type": "code",
   "execution_count": null,
   "metadata": {
    "collapsed": true,
    "deletable": true,
    "editable": true
   },
   "outputs": [],
   "source": []
  },
  {
   "cell_type": "code",
   "execution_count": 10,
   "metadata": {
    "collapsed": false,
    "deletable": true,
    "editable": true
   },
   "outputs": [],
   "source": [
    "temp_tools_csv = {}\n",
    "temp_streams = {}\n",
    "for country in countries_list:\n",
    "    temp_tools_csv[country] = hs.plugins.example.tools.csv_reader(\n",
    "            'data/TimeSeriesDatasets_130207/Temp{}.csv'.format(country),\n",
    "            header=True, dateparser=dateparser)\n",
    "    temp_streams[country] = M.get_or_create_stream(country)\n",
    "    temp_tools_csv[country].execute(sources=[], sink=temp_streams[country],\n",
    "                                    interval=ti_all)"
   ]
  },
  {
   "cell_type": "markdown",
   "metadata": {
    "deletable": true,
    "editable": true
   },
   "source": [
    "## Print one Stream Instance per Stream\n",
    "\n",
    "Now that we have generated one Stream per each country, we can inspect the first Stream Instance of each Stream."
   ]
  },
  {
   "cell_type": "code",
   "execution_count": 11,
   "metadata": {
    "collapsed": false,
    "deletable": true,
    "editable": true
   },
   "outputs": [
    {
     "name": "stdout",
     "output_type": "stream",
     "text": [
      "Stream(stream_id=Asia, channel_id=memory)\n",
      "StreamInstance(timestamp=datetime.datetime(2000, 1, 27, 0, 0, tzinfo=<UTC>), value={'NewDelhiMax': 20.1, 'NewDelhiMin': 8.1, 'HongKongMin': 14.3, 'KualaLumpurMin': 23.5, 'TokyoMax': 11.2, 'KualaLumpurMax': 32.2, 'HongKongMax': 19.5, 'BangkokMin': 24.0, 'BangkokMax': 32.8, 'TokyoMin': 4.2})\n",
      "Stream(stream_id=Australia, channel_id=memory)\n",
      "StreamInstance(timestamp=datetime.datetime(2000, 1, 27, 0, 0, tzinfo=<UTC>), value={'BrisbaneMax': 28.2, 'MelbourneMin': 15.9, 'Melbournemax': 24.3, 'BrisbaneMin': 19.1, 'CanberraMin': 10.1, 'GoldCoastMax': 27.5, 'SydneyMax': 24.9, 'Canberramax': 24.5, 'GoldCoastMin': 20.2, 'SydneyMin': 17.7})\n",
      "Stream(stream_id=NZ, channel_id=memory)\n",
      "StreamInstance(timestamp=datetime.datetime(2000, 1, 27, 0, 0, tzinfo=<UTC>), value={'WellingtonMin': 14.2, 'ChristchurchMin': 10.8, 'HamiltonMin': 12.4, 'DunedinMax': 18.2, 'WellingtonMax': 20.0, 'ChristchurchMax': 20.2, 'AucklandMax': 23.4, 'HamiltonMax': 23.8, 'DunedinMin': 8.8, 'AucklandMin': 15.5})\n",
      "Stream(stream_id=USA, channel_id=memory)\n",
      "StreamInstance(timestamp=datetime.datetime(2000, 1, 27, 0, 0, tzinfo=<UTC>), value={'ChicagoMax': 1.8, 'LosAngelesMin': 10.0, 'HoustonMax': 21.6, 'NYMax': 4.6, 'SeattleMax': 7.9, 'SeattleMin': 1.4, 'ChicagoMin': -8.1, 'NYMin': -5.6, 'HoustonMin': 7.4, 'LosAngelesMax': 19.6})\n"
     ]
    }
   ],
   "source": [
    "for country in countries_list:\n",
    "    print(temp_streams[country])\n",
    "    print(temp_streams[country].window().first())"
   ]
  },
  {
   "cell_type": "markdown",
   "metadata": {
    "deletable": true,
    "editable": true
   },
   "source": [
    "## Visualize the temperatures in one Country\n",
    "\n",
    "Now, we can visualize the temperatures of all the cities in one country. First, we will create a list of all the cities in one of the Streams by looking at the first Stream Instance. Then, we will create a list of lists containing the temperature value of each city, together with their corresponding time. Then, we can use the function **plot_multiple_stock** created for this tutorial."
   ]
  },
  {
   "cell_type": "code",
   "execution_count": 12,
   "metadata": {
    "collapsed": false,
    "deletable": true,
    "editable": true,
    "scrolled": false
   },
   "outputs": [
    {
     "data": {
      "text/html": [
       "\n",
       "     <html>\n",
       "        <head>\n",
       "        <title>Temperatures in Asia</title>\n",
       "           <script src=\"./scripts/jquery.min.js\"></script>\n",
       "           <script src=\"./scripts/highstock.js\"></script>\n",
       "           <script src=\"./scripts/exporting.js\"></script>\n",
       "        </head>\n",
       "        <body>\n",
       "\n",
       "        <div id=\"container4393\" style=\"width: 800px; height: 600px; margin: 125 auto\"></div>\n",
       "\n",
       "        <script language=\"JavaScript\">\n",
       "            var seriesOptions = [{'data': [[948931200000.0, 20.1], [951609600000.0, 21.9], [954115200000.0, 29.7], [956793600000.0, 38.4], [959385600000.0, 40.0], [962064000000.0, 36.6], [964656000000.0, 33.7], [967334400000.0, 34.2], [970012800000.0, 34.7], [972604800000.0, 34.4], [975283200000.0, 28.8], [977875200000.0, 24.4], [980553600000.0, 19.7], [983232000000.0, 25.4], [985651200000.0, 30.4], [988329600000.0, 35.9], [990921600000.0, 38.6], [993600000000.0, 35.6], [996192000000.0, 34.7], [998870400000.0, 35.1], [1001548800000.0, 36.1], [1004140800000.0, 34.3], [1006819200000.0, 29.1], [1009411200000.0, 23.3], [1012089600000.0, 20.8], [1014768000000.0, 24.2], [1017187200000.0, 31.1], [1019865600000.0, 38.3], [1022457600000.0, 42.4], [1025136000000.0, 39.1], [1027728000000.0, 39.3], [1030406400000.0, 34.6], [1033084800000.0, 32.5], [1035676800000.0, 33.2], [1038355200000.0, 28.0], [1040947200000.0, 23.6], [1043625600000.0, 17.7], [1046304000000.0, 23.5], [1048723200000.0, 29.6], [1051401600000.0, 37.8], [1053993600000.0, 39.8], [1056672000000.0, 39.9], [1059264000000.0, 34.0], [1061942400000.0, 33.8], [1064620800000.0, 32.7], [1067212800000.0, 33.0], [1069891200000.0, 28.0], [1072483200000.0, 20.9], [1075161600000.0, 18.7], [1077840000000.0, 25.7], [1080345600000.0, 33.6], [1083024000000.0, 37.8], [1085616000000.0, 39.4], [1088294400000.0, 37.6], [1090886400000.0, 37.7], [1093564800000.0, 33.7], [1096243200000.0, 35.4], [1098835200000.0, 31.1], [1101513600000.0, 28.6], [1104105600000.0, 23.0], [1106784000000.0, 20.1], [1109462400000.0, 23.5], [1111881600000.0, 30.5], [1114560000000.0, 36.4], [1117152000000.0, 39.6], [1119830400000.0, 40.3], [1122422400000.0, 34.2], [1125100800000.0, 35.8], [1127779200000.0, 33.8], [1130371200000.0, 33.1], [1133049600000.0, 29.5], [1135641600000.0, 22.6], [1138320000000.0, 22.5], [1140998400000.0, 29.6], [1143417600000.0, 29.8], [1146096000000.0, 37.6], [1148688000000.0, 39.9], [1151366400000.0, 38.0], [1153958400000.0, 35.0], [1156636800000.0, 35.3], [1159315200000.0, 34.5], [1161907200000.0, 33.5], [1164585600000.0, 28.7], [1167177600000.0, 23.1], [1169856000000.0, 21.7], [1172534400000.0, 24.1], [1174953600000.0, 29.0], [1177632000000.0, 38.3], [1180224000000.0, 38.8], [1182902400000.0, 38.0], [1185494400000.0, 35.9], [1188172800000.0, 34.9], [1190851200000.0, 34.6], [1193443200000.0, 33.3], [1196121600000.0, 28.8], [1198713600000.0, 22.7], [1201392000000.0, 20.8], [1204070400000.0, 23.9], [1206576000000.0, 33.5], [1209254400000.0, 36.4], [1211846400000.0, 36.9], [1214524800000.0, 35.3], [1217116800000.0, 35.4], [1219795200000.0, 33.9], [1222473600000.0, 34.1], [1225065600000.0, 34.2], [1227744000000.0, 28.8], [1230336000000.0, 24.2], [1233014400000.0, 22.1], [1235692800000.0, 26.3], [1238112000000.0, 31.9], [1240790400000.0, 37.4], [1243382400000.0, 40.0], [1246060800000.0, 41.1], [1248652800000.0, 37.2], [1251331200000.0, 35.5], [1254009600000.0, 33.9], [1256601600000.0, 33.0], [1259280000000.0, 27.2], [1261872000000.0, 23.6], [1264550400000.0, 19.2], [1267228800000.0, 25.7], [1269648000000.0, 34.1], [1272326400000.0, 40.2], [1274918400000.0, 41.8], [1277596800000.0, 40.4], [1280188800000.0, 35.6], [1282867200000.0, 33.9], [1285545600000.0, 32.7], [1288137600000.0, 33.0], [1290816000000.0, 27.6], [1293408000000.0, 22.3], [1296086400000.0, 20.0], [1298764800000.0, 24.8], [1301184000000.0, 30.4], [1303862400000.0, 36.0], [1306454400000.0, 40.1], [1309132800000.0, 38.0], [1311724800000.0, 35.7], [1314403200000.0, 34.6], [1317081600000.0, 34.3], [1319673600000.0, 33.4], [1322352000000.0, 29.3], [1324944000000.0, 24.0], [1327622400000.0, 20.3], [1330300800000.0, 24.3], [1332806400000.0, 31.6], [1335484800000.0, 35.8], [1338076800000.0, 41.2], [1340755200000.0, 42.1], [1343347200000.0, 36.9], [1346025600000.0, 33.6], [1348704000000.0, 34.3], [1351296000000.0, 32.6]], 'name': 'NewDelhiMax'}, {'data': [[948931200000.0, 8.1], [951609600000.0, 9.1], [954115200000.0, 14.4], [956793600000.0, 22.4], [959385600000.0, 27.7], [962064000000.0, 27.0], [964656000000.0, 26.6], [967334400000.0, 26.7], [970012800000.0, 25.2], [972604800000.0, 20.1], [975283200000.0, 13.6], [977875200000.0, 7.2], [980553600000.0, 6.7], [983232000000.0, 9.9], [985651200000.0, 14.9], [988329600000.0, 20.7], [990921600000.0, 25.9], [993600000000.0, 26.4], [996192000000.0, 27.4], [998870400000.0, 27.0], [1001548800000.0, 24.6], [1004140800000.0, 19.9], [1006819200000.0, 12.7], [1009411200000.0, 8.9], [1012089600000.0, 7.6], [1014768000000.0, 10.1], [1017187200000.0, 15.9], [1019865600000.0, 22.4], [1022457600000.0, 27.4], [1025136000000.0, 28.3], [1027728000000.0, 30.5], [1030406400000.0, 27.1], [1033084800000.0, 23.4], [1035676800000.0, 19.9], [1038355200000.0, 13.2], [1040947200000.0, 8.7], [1043625600000.0, 6.5], [1046304000000.0, 11.1], [1048723200000.0, 15.3], [1051401600000.0, 22.0], [1053993600000.0, 25.1], [1056672000000.0, 28.7], [1059264000000.0, 26.3], [1061942400000.0, 26.7], [1064620800000.0, 25.2], [1067212800000.0, 18.1], [1069891200000.0, 11.7], [1072483200000.0, 9.7], [1075161600000.0, 8.2], [1077840000000.0, 10.6], [1080345600000.0, 17.2], [1083024000000.0, 22.6], [1085616000000.0, 25.8], [1088294400000.0, 26.4], [1090886400000.0, 28.4], [1093564800000.0, 26.2], [1096243200000.0, 24.9], [1098835200000.0, 19.0], [1101513600000.0, 12.7], [1104105600000.0, 9.6], [1106784000000.0, 7.8], [1109462400000.0, 10.9], [1111881600000.0, 17.0], [1114560000000.0, 20.4], [1117152000000.0, 24.7], [1119830400000.0, 28.0], [1122422400000.0, 26.8], [1125100800000.0, 27.1], [1127779200000.0, 24.9], [1130371200000.0, 18.7], [1133049600000.0, 13.5], [1135641600000.0, 5.9], [1138320000000.0, 7.2], [1140998400000.0, 13.7], [1143417600000.0, 15.2], [1146096000000.0, 20.0], [1148688000000.0, 24.5], [1151366400000.0, 24.4], [1153958400000.0, 26.9], [1156636800000.0, 26.5], [1159315200000.0, 24.6], [1161907200000.0, 20.5], [1164585600000.0, 13.8], [1167177600000.0, 9.1], [1169856000000.0, 7.0], [1172534400000.0, 11.9], [1174953600000.0, 15.5], [1177632000000.0, 23.0], [1180224000000.0, 25.2], [1182902400000.0, 28.3], [1185494400000.0, 27.1], [1188172800000.0, 27.1], [1190851200000.0, 24.9], [1193443200000.0, 17.6], [1196121600000.0, 12.6], [1198713600000.0, 8.1], [1201392000000.0, 6.5], [1204070400000.0, 8.8], [1206576000000.0, 17.2], [1209254400000.0, 21.2], [1211846400000.0, 24.3], [1214524800000.0, 26.4], [1217116800000.0, 26.9], [1219795200000.0, 26.3], [1222473600000.0, 24.1], [1225065600000.0, 20.8], [1227744000000.0, 13.0], [1230336000000.0, 10.2], [1233014400000.0, 9.3], [1235692800000.0, 11.3], [1238112000000.0, 16.2], [1240790400000.0, 22.0], [1243382400000.0, 25.9], [1246060800000.0, 28.3], [1248652800000.0, 27.7], [1251331200000.0, 27.0], [1254009600000.0, 25.0], [1256601600000.0, 18.9], [1259280000000.0, 13.4], [1261872000000.0, 8.8], [1264550400000.0, 8.3], [1267228800000.0, 11.7], [1269648000000.0, 18.6], [1272326400000.0, 24.2], [1274918400000.0, 27.6], [1277596800000.0, 28.4], [1280188800000.0, 27.4], [1282867200000.0, 26.7], [1285545600000.0, 24.5], [1288137600000.0, 21.0], [1290816000000.0, 15.4], [1293408000000.0, 7.9], [1296086400000.0, 6.5], [1298764800000.0, 11.0], [1301184000000.0, 16.2], [1303862400000.0, 20.7], [1306454400000.0, 26.6], [1309132800000.0, 26.9], [1311724800000.0, 27.2], [1314403200000.0, 26.6], [1317081600000.0, 25.3], [1319673600000.0, 20.1], [1322352000000.0, 14.9], [1324944000000.0, 8.0], [1327622400000.0, 7.5], [1330300800000.0, 9.9], [1332806400000.0, 15.2], [1335484800000.0, 21.6], [1338076800000.0, 26.4], [1340755200000.0, 30.4], [1343347200000.0, 28.3], [1346025600000.0, 26.3], [1348704000000.0, 25.0], [1351296000000.0, 18.5]], 'name': 'NewDelhiMin'}, {'data': [[948931200000.0, 14.3], [951609600000.0, 13.3], [954115200000.0, 17.7], [956793600000.0, 21.7], [959385600000.0, 24.6], [962064000000.0, 26.4], [964656000000.0, 26.9], [967334400000.0, 26.9], [970012800000.0, 25.6], [972604800000.0, 23.9], [975283200000.0, 18.2], [977875200000.0, 15.6], [980553600000.0, 14.6], [983232000000.0, 14.1], [985651200000.0, 18.4], [988329600000.0, 20.7], [990921600000.0, 25.0], [993600000000.0, 25.8], [996192000000.0, 26.1], [998870400000.0, 27.1], [1001548800000.0, 26.1], [1004140800000.0, 24.4], [1006819200000.0, 18.2], [1009411200000.0, 14.8], [1012089600000.0, 13.6], [1014768000000.0, 15.9], [1017187200000.0, 19.6], [1019865600000.0, 22.6], [1022457600000.0, 24.9], [1025136000000.0, 27.0], [1027728000000.0, 26.8], [1030406400000.0, 26.3], [1033084800000.0, 25.0], [1035676800000.0, 22.8], [1038355200000.0, 18.3], [1040947200000.0, 15.1], [1043625600000.0, 12.3], [1046304000000.0, 16.4], [1048723200000.0, 17.1], [1051401600000.0, 22.1], [1053993600000.0, 25.4], [1056672000000.0, 25.9], [1059264000000.0, 27.5], [1061942400000.0, 26.6], [1064620800000.0, 25.9], [1067212800000.0, 22.9], [1069891200000.0, 19.2], [1072483200000.0, 13.8], [1075161600000.0, 12.8], [1077840000000.0, 14.5], [1080345600000.0, 17.2], [1083024000000.0, 21.3], [1085616000000.0, 24.1], [1088294400000.0, 27.0], [1090886400000.0, 26.5], [1093564800000.0, 26.4], [1096243200000.0, 25.4], [1098835200000.0, 21.9], [1101513600000.0, 20.0], [1104105600000.0, 15.4], [1106784000000.0, 12.5], [1109462400000.0, 13.8], [1111881600000.0, 14.8], [1114560000000.0, 20.9], [1117152000000.0, 25.2], [1119830400000.0, 25.8], [1122422400000.0, 26.8], [1125100800000.0, 26.2], [1127779200000.0, 26.4], [1130371200000.0, 24.0], [1133049600000.0, 24.0], [1135641600000.0, 14.0], [1138320000000.0, 14.0], [1140998400000.0, 15.6], [1143417600000.0, 16.5], [1146096000000.0, 21.9], [1148688000000.0, 24.2], [1151366400000.0, 26.5], [1153958400000.0, 27.3], [1156636800000.0, 26.4], [1159315200000.0, 24.6], [1161907200000.0, 24.5], [1164585600000.0, 20.8], [1167177600000.0, 15.0], [1169856000000.0, 13.3], [1172534400000.0, 17.5], [1174953600000.0, 18.5], [1177632000000.0, 19.5], [1180224000000.0, 24.4], [1182902400000.0, 26.6], [1185494400000.0, 27.8], [1188172800000.0, 26.4], [1190851200000.0, 26.1], [1193443200000.0, 23.8], [1196121600000.0, 18.2], [1198713600000.0, 17.0], [1201392000000.0, 12.8], [1204070400000.0, 10.6], [1206576000000.0, 17.7], [1209254400000.0, 21.6], [1211846400000.0, 23.9], [1214524800000.0, 25.0], [1217116800000.0, 26.6], [1219795200000.0, 26.1], [1222473600000.0, 26.6], [1225065600000.0, 24.8], [1227744000000.0, 19.0], [1230336000000.0, 14.9], [1233014400000.0, 11.8], [1235692800000.0, 18.6], [1238112000000.0, 17.6], [1240790400000.0, 20.2], [1243382400000.0, 23.7], [1246060800000.0, 26.4], [1248652800000.0, 27.1], [1251331200000.0, 27.5], [1254009600000.0, 27.2], [1256601600000.0, 24.5], [1259280000000.0, 17.2], [1261872000000.0, 15.0], [1264550400000.0, 14.5], [1267228800000.0, 15.7], [1269648000000.0, 17.7], [1272326400000.0, 19.4], [1274918400000.0, 24.0], [1277596800000.0, 25.9], [1280188800000.0, 27.2], [1282867200000.0, 26.8], [1285545600000.0, 25.8], [1288137600000.0, 23.0], [1290816000000.0, 18.8], [1293408000000.0, 14.7], [1296086400000.0, 10.1], [1298764800000.0, 13.6], [1301184000000.0, 15.1], [1303862400000.0, 20.5], [1306454400000.0, 23.9], [1309132800000.0, 26.6], [1311724800000.0, 27.1], [1314403200000.0, 27.6], [1317081600000.0, 26.4], [1319673600000.0, 23.0], [1322352000000.0, 21.2], [1324944000000.0, 13.8], [1327622400000.0, 12.3], [1330300800000.0, 13.5], [1332806400000.0, 17.0], [1335484800000.0, 22.4], [1338076800000.0, 26.3], [1340755200000.0, 26.9], [1343347200000.0, 26.8], [1346025600000.0, 27.2], [1348704000000.0, 25.9], [1351296000000.0, 23.7]], 'name': 'HongKongMin'}, {'data': [[948931200000.0, 23.5], [951609600000.0, 23.6], [954115200000.0, 23.9], [956793600000.0, 24.2], [959385600000.0, 24.5], [962064000000.0, 24.0], [964656000000.0, 23.7], [967334400000.0, 23.5], [970012800000.0, 23.8], [972604800000.0, 23.7], [975283200000.0, 24.0], [977875200000.0, 24.0], [980553600000.0, 23.6], [983232000000.0, 23.7], [985651200000.0, 24.3], [988329600000.0, 24.2], [990921600000.0, 24.7], [993600000000.0, 24.0], [996192000000.0, 23.8], [998870400000.0, 24.1], [1001548800000.0, 23.8], [1004140800000.0, 23.9], [1006819200000.0, 23.9], [1009411200000.0, 23.7], [1012089600000.0, 23.3], [1014768000000.0, 24.0], [1017187200000.0, 24.4], [1019865600000.0, 24.2], [1022457600000.0, 25.2], [1025136000000.0, 24.5], [1027728000000.0, 24.4], [1030406400000.0, 24.2], [1033084800000.0, 23.6], [1035676800000.0, 24.0], [1038355200000.0, 23.9], [1040947200000.0, 24.0], [1043625600000.0, 24.1], [1046304000000.0, 24.0], [1048723200000.0, 24.4], [1051401600000.0, 24.5], [1053993600000.0, 24.8], [1056672000000.0, 24.3], [1059264000000.0, 23.9], [1061942400000.0, 24.4], [1064620800000.0, 23.9], [1067212800000.0, 23.7], [1069891200000.0, 24.0], [1072483200000.0, 23.6], [1075161600000.0, 23.8], [1077840000000.0, 23.8], [1080345600000.0, 24.4], [1083024000000.0, 24.4], [1085616000000.0, 24.6], [1088294400000.0, 24.1], [1090886400000.0, 22.9], [1093564800000.0, 23.8], [1096243200000.0, 23.4], [1098835200000.0, 23.6], [1101513600000.0, 23.5], [1104105600000.0, 23.8], [1106784000000.0, 23.4], [1109462400000.0, 24.2], [1111881600000.0, 24.5], [1114560000000.0, 24.6], [1117152000000.0, 24.4], [1119830400000.0, 24.6], [1122422400000.0, 23.6], [1125100800000.0, 23.9], [1127779200000.0, 24.0], [1130371200000.0, 23.6], [1133049600000.0, 23.4], [1135641600000.0, 23.6], [1138320000000.0, 23.2], [1140998400000.0, 23.3], [1143417600000.0, 24.1], [1146096000000.0, 24.0], [1148688000000.0, 23.9], [1151366400000.0, 23.7], [1153958400000.0, 24.1], [1156636800000.0, 23.7], [1159315200000.0, 23.4], [1161907200000.0, 23.8], [1164585600000.0, 23.2], [1167177600000.0, 24.1], [1169856000000.0, 23.7], [1172534400000.0, 23.3], [1174953600000.0, 23.9], [1177632000000.0, 23.8], [1180224000000.0, 24.4], [1182902400000.0, 24.2], [1185494400000.0, 23.8], [1188172800000.0, 23.6], [1190851200000.0, 23.7], [1193443200000.0, 23.6], [1196121600000.0, 23.5], [1198713600000.0, 23.3], [1201392000000.0, 23.3], [1204070400000.0, 23.0], [1206576000000.0, 23.2], [1209254400000.0, 23.7], [1211846400000.0, 24.4], [1214524800000.0, 23.8], [1217116800000.0, 23.6], [1219795200000.0, 23.9], [1222473600000.0, 23.4], [1225065600000.0, 23.9], [1227744000000.0, 23.9], [1230336000000.0, 23.3], [1233014400000.0, 23.1], [1235692800000.0, 23.4], [1238112000000.0, 23.4], [1240790400000.0, 24.3], [1243382400000.0, 24.7], [1246060800000.0, 24.9], [1248652800000.0, 24.2], [1251331200000.0, 24.2], [1254009600000.0, 24.2], [1256601600000.0, 24.2], [1259280000000.0, 23.8], [1261872000000.0, 23.8], [1264550400000.0, 23.6], [1267228800000.0, 24.4], [1269648000000.0, 24.5], [1272326400000.0, 25.0], [1274918400000.0, 25.7], [1277596800000.0, 25.4], [1280188800000.0, 24.6], [1282867200000.0, 25.3], [1285545600000.0, 24.6], [1288137600000.0, 25.1], [1290816000000.0, 24.9], [1293408000000.0, 24.2], [1296086400000.0, 24.2], [1298764800000.0, 24.5], [1301184000000.0, 24.3], [1303862400000.0, 25.0], [1306454400000.0, 25.3], [1309132800000.0, 25.2], [1311724800000.0, 25.0], [1314403200000.0, 24.6], [1317081600000.0, 24.7], [1319673600000.0, 24.9], [1322352000000.0, 24.8], [1324944000000.0, 24.6], [1327622400000.0, 24.5], [1330300800000.0, 24.5], [1332806400000.0, 24.7], [1335484800000.0, 25.1], [1338076800000.0, 24.9], [1340755200000.0, 24.9], [1343347200000.0, 24.6], [1346025600000.0, 24.5], [1348704000000.0, 24.6], [1351296000000.0, 24.5]], 'name': 'KualaLumpurMin'}, {'data': [[948931200000.0, 11.2], [951609600000.0, 9.9], [954115200000.0, 13.5], [956793600000.0, 18.7], [959385600000.0, 24.0], [962064000000.0, 26.1], [964656000000.0, 31.6], [967334400000.0, 32.4], [970012800000.0, 28.9], [972604800000.0, 21.9], [975283200000.0, 16.7], [977875200000.0, 12.6], [980553600000.0, 8.6], [983232000000.0, 10.7], [985651200000.0, 14.4], [988329600000.0, 20.4], [990921600000.0, 23.0], [993600000000.0, 26.6], [996192000000.0, 33.0], [998870400000.0, 30.0], [1001548800000.0, 26.4], [1004140800000.0, 22.5], [1006819200000.0, 16.7], [1009411200000.0, 12.0], [1012089600000.0, 11.5], [1014768000000.0, 11.9], [1017187200000.0, 16.5], [1019865600000.0, 20.3], [1022457600000.0, 22.3], [1025136000000.0, 25.3], [1027728000000.0, 31.7], [1030406400000.0, 32.1], [1033084800000.0, 26.2], [1035676800000.0, 22.6], [1038355200000.0, 15.2], [1040947200000.0, 10.4], [1043625600000.0, 9.3], [1046304000000.0, 9.9], [1048723200000.0, 12.7], [1051401600000.0, 19.2], [1053993600000.0, 22.4], [1056672000000.0, 26.6], [1059264000000.0, 26.0], [1061942400000.0, 29.5], [1064620800000.0, 28.1], [1067212800000.0, 21.4], [1069891200000.0, 17.4], [1072483200000.0, 13.2], [1075161600000.0, 10.1], [1077840000000.0, 12.9], [1080345600000.0, 14.0], [1083024000000.0, 21.3], [1085616000000.0, 23.7], [1088294400000.0, 27.5], [1090886400000.0, 33.1], [1093564800000.0, 31.0], [1096243200000.0, 28.7], [1098835200000.0, 20.7], [1101513600000.0, 19.0], [1104105600000.0, 13.4], [1106784000000.0, 10.0], [1109462400000.0, 9.9], [1111881600000.0, 13.1], [1114560000000.0, 19.6], [1117152000000.0, 21.9], [1119830400000.0, 26.7], [1122422400000.0, 29.1], [1125100800000.0, 31.8], [1127779200000.0, 28.2], [1130371200000.0, 22.3], [1133049600000.0, 17.0], [1135641600000.0, 10.2], [1138320000000.0, 8.5], [1140998400000.0, 10.5], [1143417600000.0, 14.0], [1146096000000.0, 17.5], [1148688000000.0, 22.7], [1151366400000.0, 25.4], [1153958400000.0, 28.6], [1156636800000.0, 31.1], [1159315200000.0, 27.1], [1161907200000.0, 22.9], [1164585600000.0, 17.9], [1167177600000.0, 12.5], [1169856000000.0, 10.9], [1172534400000.0, 12.8], [1174953600000.0, 15.0], [1177632000000.0, 17.9], [1180224000000.0, 24.0], [1182902400000.0, 27.1], [1185494400000.0, 27.4], [1188172800000.0, 33.0], [1190851200000.0, 28.5], [1193443200000.0, 22.2], [1196121600000.0, 16.6], [1198713600000.0, 12.6], [1201392000000.0, 9.4], [1204070400000.0, 9.6], [1206576000000.0, 14.9], [1209254400000.0, 18.4], [1211846400000.0, 22.0], [1214524800000.0, 24.6], [1217116800000.0, 30.9], [1219795200000.0, 30.7], [1222473600000.0, 27.7], [1225065600000.0, 22.6], [1227744000000.0, 16.4], [1230336000000.0, 13.7], [1233014400000.0, 10.2], [1235692800000.0, 11.5], [1238112000000.0, 13.7], [1240790400000.0, 20.2], [1243382400000.0, 23.6], [1246060800000.0, 25.8], [1248652800000.0, 29.3], [1251331200000.0, 30.1], [1254009600000.0, 26.5], [1256601600000.0, 22.3], [1259280000000.0, 17.0], [1261872000000.0, 12.4], [1264550400000.0, 11.0], [1267228800000.0, 9.9], [1269648000000.0, 13.2], [1272326400000.0, 16.6], [1274918400000.0, 23.0], [1277596800000.0, 27.5], [1280188800000.0, 31.6], [1282867200000.0, 33.5], [1285545600000.0, 29.0], [1288137600000.0, 21.8], [1290816000000.0, 17.2], [1293408000000.0, 13.7], [1296086400000.0, 9.1], [1298764800000.0, 11.2], [1301184000000.0, 12.3], [1303862400000.0, 18.9], [1306454400000.0, 22.2], [1309132800000.0, 26.0], [1311724800000.0, 30.9], [1314403200000.0, 31.2], [1317081600000.0, 28.8], [1319673600000.0, 23.0], [1322352000000.0, 18.3], [1324944000000.0, 11.1], [1327622400000.0, 8.3], [1330300800000.0, 9.1], [1332806400000.0, 12.5], [1335484800000.0, 18.5], [1338076800000.0, 23.6], [1340755200000.0, 24.8], [1343347200000.0, 30.1], [1346025600000.0, 33.1], [1348704000000.0, 29.8], [1351296000000.0, 23.0]], 'name': 'TokyoMax'}, {'data': [[948931200000.0, 32.2], [951609600000.0, 32.9], [954115200000.0, 33.3], [956793600000.0, 33.0], [959385600000.0, 33.9], [962064000000.0, 32.6], [964656000000.0, 33.1], [967334400000.0, 32.3], [970012800000.0, 32.5], [972604800000.0, 32.9], [975283200000.0, 32.3], [977875200000.0, 32.6], [980553600000.0, 32.2], [983232000000.0, 32.3], [985651200000.0, 33.5], [988329600000.0, 33.1], [990921600000.0, 33.6], [993600000000.0, 33.4], [996192000000.0, 33.0], [998870400000.0, 32.9], [1001548800000.0, 33.1], [1004140800000.0, 32.7], [1006819200000.0, 32.5], [1009411200000.0, 32.5], [1012089600000.0, 33.4], [1014768000000.0, 34.6], [1017187200000.0, 34.6], [1019865600000.0, 33.9], [1022457600000.0, 34.4], [1025136000000.0, 33.4], [1027728000000.0, 33.5], [1030406400000.0, 33.2], [1033084800000.0, 32.8], [1035676800000.0, 33.2], [1038355200000.0, 32.8], [1040947200000.0, 33.3], [1043625600000.0, 32.7], [1046304000000.0, 33.3], [1048723200000.0, 34.3], [1051401600000.0, 33.6], [1053993600000.0, 34.3], [1056672000000.0, 33.9], [1059264000000.0, 32.9], [1061942400000.0, 33.6], [1064620800000.0, 32.8], [1067212800000.0, 32.7], [1069891200000.0, 32.9], [1072483200000.0, 32.4], [1075161600000.0, 33.6], [1077840000000.0, 33.7], [1080345600000.0, 33.9], [1083024000000.0, 34.0], [1085616000000.0, 34.0], [1088294400000.0, 33.6], [1090886400000.0, 31.9], [1093564800000.0, 32.9], [1096243200000.0, 33.0], [1098835200000.0, 32.5], [1101513600000.0, 32.6], [1104105600000.0, 32.2], [1106784000000.0, 33.4], [1109462400000.0, 34.7], [1111881600000.0, 34.8], [1114560000000.0, 34.0], [1117152000000.0, 33.1], [1119830400000.0, 33.7], [1122422400000.0, 32.3], [1125100800000.0, 32.9], [1127779200000.0, 33.8], [1130371200000.0, 32.0], [1133049600000.0, 32.3], [1135641600000.0, 31.4], [1138320000000.0, 31.7], [1140998400000.0, 33.0], [1143417600000.0, 33.6], [1146096000000.0, 33.1], [1148688000000.0, 32.7], [1151366400000.0, 32.3], [1153958400000.0, 32.4], [1156636800000.0, 32.1], [1159315200000.0, 31.9], [1161907200000.0, 32.4], [1164585600000.0, 32.2], [1167177600000.0, 32.1], [1169856000000.0, 31.8], [1172534400000.0, 32.7], [1174953600000.0, 32.8], [1177632000000.0, 33.2], [1180224000000.0, 33.3], [1182902400000.0, 32.9], [1185494400000.0, 32.3], [1188172800000.0, 32.1], [1190851200000.0, 32.4], [1193443200000.0, 31.6], [1196121600000.0, 31.5], [1198713600000.0, 31.4], [1201392000000.0, 32.4], [1204070400000.0, 32.7], [1206576000000.0, 32.0], [1209254400000.0, 32.5], [1211846400000.0, 32.9], [1214524800000.0, 32.1], [1217116800000.0, 31.7], [1219795200000.0, 32.1], [1222473600000.0, 32.1], [1225065600000.0, 32.2], [1227744000000.0, 31.8], [1230336000000.0, 31.4], [1233014400000.0, 31.9], [1235692800000.0, 32.4], [1238112000000.0, 32.4], [1240790400000.0, 33.5], [1243382400000.0, 34.2], [1246060800000.0, 33.9], [1248652800000.0, 33.0], [1251331200000.0, 32.8], [1254009600000.0, 32.5], [1256601600000.0, 32.9], [1259280000000.0, 31.8], [1261872000000.0, 32.2], [1264550400000.0, 32.9], [1267228800000.0, 34.0], [1269648000000.0, 34.2], [1272326400000.0, 34.9], [1274918400000.0, 34.9], [1277596800000.0, 34.0], [1280188800000.0, 33.6], [1282867200000.0, 33.9], [1285545600000.0, 33.4], [1288137600000.0, 34.3], [1290816000000.0, 33.4], [1293408000000.0, 32.1], [1296086400000.0, 31.8], [1298764800000.0, 34.1], [1301184000000.0, 33.5], [1303862400000.0, 33.9], [1306454400000.0, 34.4], [1309132800000.0, 33.7], [1311724800000.0, 33.4], [1314403200000.0, 33.4], [1317081600000.0, 33.4], [1319673600000.0, 33.4], [1322352000000.0, 32.9], [1324944000000.0, 32.4], [1327622400000.0, 33.6], [1330300800000.0, 34.0], [1332806400000.0, 33.4], [1335484800000.0, 34.1], [1338076800000.0, 34.1], [1340755200000.0, 34.4], [1343347200000.0, 33.0], [1346025600000.0, 33.3], [1348704000000.0, 33.0], [1351296000000.0, 33.0]], 'name': 'KualaLumpurMax'}, {'data': [[948931200000.0, 19.5], [951609600000.0, 17.8], [954115200000.0, 22.9], [956793600000.0, 27.3], [959385600000.0, 30.5], [962064000000.0, 32.4], [964656000000.0, 33.2], [967334400000.0, 32.8], [970012800000.0, 32.1], [972604800000.0, 29.9], [975283200000.0, 24.3], [977875200000.0, 22.3], [980553600000.0, 21.2], [983232000000.0, 21.0], [985651200000.0, 24.8], [988329600000.0, 26.3], [990921600000.0, 31.1], [993600000000.0, 31.7], [996192000000.0, 32.0], [998870400000.0, 33.5], [1001548800000.0, 32.1], [1004140800000.0, 30.4], [1006819200000.0, 25.6], [1009411200000.0, 21.1], [1012089600000.0, 20.4], [1014768000000.0, 22.4], [1017187200000.0, 25.5], [1019865600000.0, 29.4], [1022457600000.0, 31.6], [1025136000000.0, 33.0], [1027728000000.0, 32.9], [1030406400000.0, 32.8], [1033084800000.0, 31.0], [1035676800000.0, 28.4], [1038355200000.0, 24.9], [1040947200000.0, 21.2], [1043625600000.0, 19.9], [1046304000000.0, 22.9], [1048723200000.0, 23.2], [1051401600000.0, 28.4], [1053993600000.0, 31.4], [1056672000000.0, 31.6], [1059264000000.0, 34.3], [1061942400000.0, 33.0], [1064620800000.0, 32.0], [1067212800000.0, 29.6], [1069891200000.0, 25.8], [1072483200000.0, 21.4], [1075161600000.0, 19.0], [1077840000000.0, 20.7], [1080345600000.0, 22.9], [1083024000000.0, 27.6], [1085616000000.0, 30.6], [1088294400000.0, 33.3], [1090886400000.0, 32.7], [1093564800000.0, 32.8], [1096243200000.0, 31.9], [1098835200000.0, 29.1], [1101513600000.0, 26.6], [1104105600000.0, 22.5], [1106784000000.0, 18.9], [1109462400000.0, 19.7], [1111881600000.0, 21.3], [1114560000000.0, 26.8], [1117152000000.0, 30.8], [1119830400000.0, 31.4], [1122422400000.0, 33.2], [1125100800000.0, 32.5], [1127779200000.0, 32.9], [1130371200000.0, 30.7], [1133049600000.0, 30.5], [1135641600000.0, 20.9], [1138320000000.0, 20.1], [1140998400000.0, 21.8], [1143417600000.0, 22.6], [1146096000000.0, 28.1], [1148688000000.0, 29.7], [1151366400000.0, 31.4], [1153958400000.0, 33.1], [1156636800000.0, 32.6], [1159315200000.0, 30.9], [1161907200000.0, 30.8], [1164585600000.0, 27.1], [1167177600000.0, 22.0], [1169856000000.0, 19.3], [1172534400000.0, 23.3], [1174953600000.0, 23.7], [1177632000000.0, 25.5], [1180224000000.0, 31.0], [1182902400000.0, 32.4], [1185494400000.0, 34.0], [1188172800000.0, 32.0], [1190851200000.0, 31.9], [1193443200000.0, 29.9], [1196121600000.0, 25.0], [1198713600000.0, 22.9], [1201392000000.0, 18.4], [1204070400000.0, 15.8], [1206576000000.0, 24.4], [1209254400000.0, 26.9], [1211846400000.0, 29.3], [1214524800000.0, 30.5], [1217116800000.0, 32.5], [1219795200000.0, 32.3], [1222473600000.0, 32.8], [1225065600000.0, 30.5], [1227744000000.0, 25.9], [1230336000000.0, 22.0], [1233014400000.0, 18.9], [1235692800000.0, 25.2], [1238112000000.0, 23.1], [1240790400000.0, 26.2], [1243382400000.0, 29.8], [1246060800000.0, 32.2], [1248652800000.0, 33.1], [1251331200000.0, 33.6], [1254009600000.0, 33.3], [1256601600000.0, 30.5], [1259280000000.0, 24.1], [1261872000000.0, 20.4], [1264550400000.0, 20.0], [1267228800000.0, 20.8], [1269648000000.0, 24.0], [1272326400000.0, 25.0], [1274918400000.0, 30.1], [1277596800000.0, 30.9], [1280188800000.0, 33.7], [1282867200000.0, 33.1], [1285545600000.0, 32.0], [1288137600000.0, 28.7], [1290816000000.0, 25.4], [1293408000000.0, 21.9], [1296086400000.0, 15.8], [1298764800000.0, 19.5], [1301184000000.0, 21.2], [1303862400000.0, 27.4], [1306454400000.0, 29.9], [1309132800000.0, 32.5], [1311724800000.0, 33.0], [1314403200000.0, 34.0], [1317081600000.0, 32.4], [1319673600000.0, 28.6], [1322352000000.0, 26.7], [1324944000000.0, 20.2], [1327622400000.0, 16.9], [1330300800000.0, 19.3], [1332806400000.0, 23.6], [1335484800000.0, 27.8], [1338076800000.0, 31.4], [1340755200000.0, 32.3], [1343347200000.0, 32.5], [1346025600000.0, 33.5], [1348704000000.0, 32.2], [1351296000000.0, 29.9]], 'name': 'HongKongMax'}, {'data': [[948931200000.0, 24.0], [951609600000.0, 23.6], [954115200000.0, 26.1], [956793600000.0, 26.3], [959385600000.0, 26.3], [962064000000.0, 26.0], [964656000000.0, 25.9], [967334400000.0, 25.6], [970012800000.0, 25.5], [972604800000.0, 25.2], [975283200000.0, 23.8], [977875200000.0, 24.1], [980553600000.0, 25.1], [983232000000.0, 25.5], [985651200000.0, 25.6], [988329600000.0, 28.3], [990921600000.0, 26.1], [993600000000.0, 26.3], [996192000000.0, 26.7], [998870400000.0, 26.3], [1001548800000.0, 25.5], [1004140800000.0, 25.2], [1006819200000.0, 22.8], [1009411200000.0, 23.1], [1012089600000.0, 23.2], [1014768000000.0, 25.7], [1017187200000.0, 26.4], [1019865600000.0, 27.3], [1022457600000.0, 25.8], [1025136000000.0, 25.5], [1027728000000.0, 25.8], [1030406400000.0, 24.5], [1033084800000.0, 24.2], [1035676800000.0, 23.2], [1038355200000.0, 24.1], [1040947200000.0, 25.1], [1043625600000.0, 23.0], [1046304000000.0, 25.4], [1048723200000.0, 25.7], [1051401600000.0, 27.6], [1053993600000.0, 26.8], [1056672000000.0, 26.4], [1059264000000.0, 25.8], [1061942400000.0, 26.1], [1064620800000.0, 25.4], [1067212800000.0, 25.4], [1069891200000.0, 25.4], [1072483200000.0, 22.4], [1075161600000.0, 23.5], [1077840000000.0, 23.9], [1080345600000.0, 26.6], [1083024000000.0, 27.4], [1085616000000.0, 26.4], [1088294400000.0, 25.7], [1090886400000.0, 26.0], [1093564800000.0, 26.0], [1096243200000.0, 25.7], [1098835200000.0, 25.8], [1101513600000.0, 25.8], [1104105600000.0, 22.2], [1106784000000.0, 23.1], [1109462400000.0, 25.6], [1111881600000.0, 25.4], [1114560000000.0, 26.8], [1117152000000.0, 27.3], [1119830400000.0, 27.1], [1122422400000.0, 26.2], [1125100800000.0, 26.3], [1127779200000.0, 25.7], [1130371200000.0, 25.4], [1133049600000.0, 25.3], [1135641600000.0, 22.8], [1138320000000.0, 23.5], [1140998400000.0, 25.5], [1143417600000.0, 26.5], [1146096000000.0, 27.1], [1148688000000.0, 26.8], [1151366400000.0, 26.2], [1153958400000.0, 26.7], [1156636800000.0, 26.3], [1159315200000.0, 25.5], [1161907200000.0, 25.7], [1164585600000.0, 26.0], [1167177600000.0, 23.1], [1169856000000.0, 23.4], [1172534400000.0, 24.3], [1174953600000.0, 27.3], [1177632000000.0, 26.9], [1180224000000.0, 26.1], [1182902400000.0, 26.2], [1185494400000.0, 25.7], [1188172800000.0, 26.0], [1190851200000.0, 25.7], [1193443200000.0, 25.6], [1196121600000.0, 23.5], [1198713600000.0, 24.4], [1201392000000.0, 23.5], [1204070400000.0, 24.5], [1206576000000.0, 26.1], [1209254400000.0, 26.8], [1211846400000.0, 25.9], [1214524800000.0, 25.6], [1217116800000.0, 25.5], [1219795200000.0, 25.5], [1222473600000.0, 25.2], [1225065600000.0, 25.1], [1227744000000.0, 23.8], [1230336000000.0, 21.7], [1233014400000.0, 20.7], [1235692800000.0, 25.1], [1238112000000.0, 26.2], [1240790400000.0, 26.0], [1243382400000.0, 25.7], [1246060800000.0, 26.1], [1248652800000.0, 25.7], [1251331200000.0, 25.6], [1254009600000.0, 25.2], [1256601600000.0, 24.9], [1259280000000.0, 23.6], [1261872000000.0, 23.7], [1264550400000.0, 24.3], [1267228800000.0, 26.7], [1269648000000.0, 26.6], [1272326400000.0, 28.3], [1274918400000.0, 27.9], [1277596800000.0, 26.7], [1280188800000.0, 26.1], [1282867200000.0, 25.4], [1285545600000.0, 25.4], [1288137600000.0, 24.9], [1290816000000.0, 24.5], [1293408000000.0, 23.7], [1296086400000.0, 22.5], [1298764800000.0, 25.0], [1301184000000.0, 23.8], [1303862400000.0, 25.9], [1306454400000.0, 26.0], [1309132800000.0, 26.4], [1311724800000.0, 25.5], [1314403200000.0, 25.5], [1317081600000.0, 25.6], [1319673600000.0, 25.0], [1322352000000.0, 25.6], [1324944000000.0, 22.5], [1327622400000.0, 24.9], [1330300800000.0, 25.6], [1332806400000.0, 27.1], [1335484800000.0, 27.6], [1338076800000.0, 27.2], [1340755200000.0, 26.5], [1343347200000.0, 25.8], [1346025600000.0, 25.6], [1348704000000.0, 25.1], [1351296000000.0, 25.5]], 'name': 'BangkokMin'}, {'data': [[948931200000.0, 32.8], [951609600000.0, 33.5], [954115200000.0, 34.2], [956793600000.0, 33.5], [959385600000.0, 34.0], [962064000000.0, 32.6], [964656000000.0, 32.5], [967334400000.0, 32.6], [970012800000.0, 32.8], [972604800000.0, 32.6], [975283200000.0, 32.6], [977875200000.0, 33.4], [980553600000.0, 33.3], [983232000000.0, 33.7], [985651200000.0, 33.1], [988329600000.0, 35.7], [990921600000.0, 33.5], [993600000000.0, 33.1], [996192000000.0, 33.1], [998870400000.0, 32.7], [1001548800000.0, 33.6], [1004140800000.0, 32.7], [1006819200000.0, 31.7], [1009411200000.0, 32.2], [1012089600000.0, 32.4], [1014768000000.0, 33.6], [1017187200000.0, 33.5], [1019865600000.0, 35.7], [1022457600000.0, 33.6], [1025136000000.0, 33.7], [1027728000000.0, 33.3], [1030406400000.0, 32.5], [1033084800000.0, 32.5], [1035676800000.0, 32.9], [1038355200000.0, 32.7], [1040947200000.0, 33.2], [1043625600000.0, 32.4], [1046304000000.0, 33.9], [1048723200000.0, 33.8], [1051401600000.0, 35.9], [1053993600000.0, 35.0], [1056672000000.0, 34.0], [1059264000000.0, 32.7], [1061942400000.0, 33.1], [1064620800000.0, 32.1], [1067212800000.0, 33.3], [1069891200000.0, 34.7], [1072483200000.0, 32.4], [1075161600000.0, 32.9], [1077840000000.0, 32.6], [1080345600000.0, 34.9], [1083024000000.0, 36.9], [1085616000000.0, 33.9], [1088294400000.0, 33.1], [1090886400000.0, 33.6], [1093564800000.0, 33.0], [1096243200000.0, 32.7], [1098835200000.0, 34.4], [1101513600000.0, 34.7], [1104105600000.0, 33.1], [1106784000000.0, 32.4], [1109462400000.0, 33.9], [1111881600000.0, 34.4], [1114560000000.0, 35.3], [1117152000000.0, 35.1], [1119830400000.0, 33.8], [1122422400000.0, 33.3], [1125100800000.0, 33.4], [1127779200000.0, 32.8], [1130371200000.0, 33.5], [1133049600000.0, 33.3], [1135641600000.0, 30.6], [1138320000000.0, 33.0], [1140998400000.0, 34.1], [1143417600000.0, 35.1], [1146096000000.0, 35.3], [1148688000000.0, 34.3], [1151366400000.0, 33.7], [1153958400000.0, 33.5], [1156636800000.0, 33.3], [1159315200000.0, 33.6], [1161907200000.0, 34.2], [1164585600000.0, 35.1], [1167177600000.0, 33.2], [1169856000000.0, 33.4], [1172534400000.0, 34.0], [1174953600000.0, 35.7], [1177632000000.0, 36.7], [1180224000000.0, 34.3], [1182902400000.0, 35.2], [1185494400000.0, 33.8], [1188172800000.0, 33.7], [1190851200000.0, 33.9], [1193443200000.0, 33.1], [1196121600000.0, 32.6], [1198713600000.0, 34.4], [1201392000000.0, 33.5], [1204070400000.0, 32.9], [1206576000000.0, 34.7], [1209254400000.0, 35.8], [1211846400000.0, 34.1], [1214524800000.0, 33.9], [1217116800000.0, 33.0], [1219795200000.0, 33.5], [1222473600000.0, 33.3], [1225065600000.0, 33.4], [1227744000000.0, 32.2], [1230336000000.0, 31.6], [1233014400000.0, 31.4], [1235692800000.0, 34.9], [1238112000000.0, 35.2], [1240790400000.0, 35.8], [1243382400000.0, 34.0], [1246060800000.0, 33.5], [1248652800000.0, 33.2], [1251331200000.0, 34.1], [1254009600000.0, 33.9], [1256601600000.0, 33.6], [1259280000000.0, 33.2], [1261872000000.0, 33.1], [1264550400000.0, 32.9], [1267228800000.0, 33.9], [1269648000000.0, 35.6], [1272326400000.0, 36.9], [1274918400000.0, 36.7], [1277596800000.0, 35.8], [1280188800000.0, 34.5], [1282867200000.0, 33.7], [1285545600000.0, 33.9], [1288137600000.0, 32.5], [1290816000000.0, 32.7], [1293408000000.0, 32.5], [1296086400000.0, 32.4], [1298764800000.0, 34.1], [1301184000000.0, 31.5], [1303862400000.0, 34.2], [1306454400000.0, 34.9], [1309132800000.0, 33.4], [1311724800000.0, 33.3], [1314403200000.0, 33.2], [1317081600000.0, 33.1], [1319673600000.0, 33.0], [1322352000000.0, 34.2], [1324944000000.0, 32.0], [1327622400000.0, 33.0], [1330300800000.0, 33.6], [1332806400000.0, 36.0], [1335484800000.0, 36.9], [1338076800000.0, 35.6], [1340755200000.0, 34.2], [1343347200000.0, 33.5], [1346025600000.0, 33.5], [1348704000000.0, 32.9], [1351296000000.0, 33.6]], 'name': 'BangkokMax'}, {'data': [[948931200000.0, 4.2], [951609600000.0, 2.4], [954115200000.0, 5.2], [956793600000.0, 10.7], [959385600000.0, 16.5], [962064000000.0, 19.5], [964656000000.0, 24.5], [967334400000.0, 25.4], [970012800000.0, 22.7], [972604800000.0, 16.2], [975283200000.0, 10.5], [977875200000.0, 5.2], [980553600000.0, 1.7], [983232000000.0, 2.8], [985651200000.0, 5.7], [988329600000.0, 11.3], [990921600000.0, 16.4], [993600000000.0, 20.3], [996192000000.0, 25.2], [998870400000.0, 23.6], [1001548800000.0, 20.4], [1004140800000.0, 15.5], [1006819200000.0, 9.5], [1009411200000.0, 4.9], [1012089600000.0, 3.4], [1014768000000.0, 4.4], [1017187200000.0, 8.1], [1019865600000.0, 12.4], [1022457600000.0, 15.3], [1025136000000.0, 18.6], [1027728000000.0, 25.1], [1030406400000.0, 24.8], [1033084800000.0, 20.4], [1035676800000.0, 15.5], [1038355200000.0, 8.2], [1040947200000.0, 4.1], [1043625600000.0, 2.0], [1046304000000.0, 3.2], [1048723200000.0, 5.1], [1051401600000.0, 11.5], [1053993600000.0, 15.5], [1056672000000.0, 20.2], [1059264000000.0, 20.1], [1061942400000.0, 23.1], [1064620800000.0, 21.0], [1067212800000.0, 14.6], [1069891200000.0, 11.5], [1072483200000.0, 5.7], [1075161600000.0, 3.1], [1077840000000.0, 4.3], [1080345600000.0, 5.7], [1083024000000.0, 11.7], [1085616000000.0, 16.1], [1088294400000.0, 20.3], [1090886400000.0, 25.0], [1093564800000.0, 24.1], [1096243200000.0, 22.2], [1098835200000.0, 14.8], [1101513600000.0, 12.7], [1104105600000.0, 6.6], [1106784000000.0, 2.6], [1109462400000.0, 2.5], [1111881600000.0, 5.0], [1114560000000.0, 10.7], [1117152000000.0, 14.1], [1119830400000.0, 20.2], [1122422400000.0, 22.6], [1125100800000.0, 25.1], [1127779200000.0, 21.8], [1130371200000.0, 16.6], [1133049600000.0, 9.6], [1135641600000.0, 2.9], [1138320000000.0, 2.0], [1140998400000.0, 3.3], [1143417600000.0, 5.9], [1146096000000.0, 10.1], [1148688000000.0, 15.7], [1151366400000.0, 20.1], [1153958400000.0, 23.3], [1156636800000.0, 24.8], [1159315200000.0, 20.7], [1161907200000.0, 16.7], [1164585600000.0, 11.0], [1167177600000.0, 6.7], [1169856000000.0, 4.6], [1172534400000.0, 5.0], [1174953600000.0, 6.8], [1177632000000.0, 9.9], [1180224000000.0, 16.0], [1182902400000.0, 20.0], [1185494400000.0, 21.8], [1188172800000.0, 25.9], [1190851200000.0, 22.4], [1193443200000.0, 16.1], [1196121600000.0, 10.2], [1198713600000.0, 5.6], [1201392000000.0, 2.7], [1204070400000.0, 1.9], [1206576000000.0, 7.2], [1209254400000.0, 11.4], [1211846400000.0, 15.4], [1214524800000.0, 18.4], [1217116800000.0, 24.2], [1219795200000.0, 24.1], [1222473600000.0, 21.7], [1225065600000.0, 16.4], [1227744000000.0, 10.0], [1230336000000.0, 6.0], [1233014400000.0, 3.5], [1235692800000.0, 4.4], [1238112000000.0, 6.3], [1240790400000.0, 11.9], [1243382400000.0, 16.9], [1246060800000.0, 19.8], [1248652800000.0, 23.5], [1251331200000.0, 23.8], [1254009600000.0, 20.2], [1256601600000.0, 16.0], [1259280000000.0, 10.1], [1261872000000.0, 6.2], [1264550400000.0, 3.0], [1267228800000.0, 3.0], [1269648000000.0, 5.1], [1272326400000.0, 8.6], [1274918400000.0, 15.4], [1277596800000.0, 20.5], [1280188800000.0, 25.0], [1282867200000.0, 27.0], [1285545600000.0, 22.3], [1288137600000.0, 16.5], [1290816000000.0, 10.0], [1293408000000.0, 6.2], [1296086400000.0, 1.5], [1298764800000.0, 3.2], [1301184000000.0, 4.0], [1303862400000.0, 10.3], [1306454400000.0, 15.0], [1309132800000.0, 19.9], [1311724800000.0, 24.5], [1314403200000.0, 24.6], [1317081600000.0, 22.0], [1319673600000.0, 16.5], [1322352000000.0, 11.7], [1324944000000.0, 4.2], [1327622400000.0, 1.8], [1330300800000.0, 2.2], [1332806400000.0, 3.5], [1335484800000.0, 11.0], [1338076800000.0, 16.1], [1340755200000.0, 18.6], [1343347200000.0, 23.5], [1346025600000.0, 26.3], [1348704000000.0, 23.3], [1351296000000.0, 16.2]], 'name': 'TokyoMin'}];\n",
       "\n",
       "            /**\n",
       "             * Create the chart when all data is loaded\n",
       "             * @returns {undefined}\n",
       "             */\n",
       "            Highcharts.stockChart('container4393', {\n",
       "              chart: {\n",
       "                zoomType: 'x'\n",
       "              },\n",
       "              title: {\n",
       "                  text: 'Temperatures in Asia'\n",
       "              },\n",
       "              plotOptions: {\n",
       "                series: {\n",
       "                  showInNavigator: true,\n",
       "                }\n",
       "              },\n",
       "                yAxis: {\n",
       "                    title: {\n",
       "                        text: 'ºC'\n",
       "                    }\n",
       "                },\n",
       "              tooltip: {\n",
       "                pointFormat: '<span style=\"color:{series.color}\">{series.name}</span>:<b>{point.y}</b>',\n",
       "                valueDecimals: 2,\n",
       "                split: true\n",
       "              },\n",
       "              series: seriesOptions\n",
       "            });\n",
       "        </script>\n",
       "\n",
       "        </body>\n",
       "        </html>\n",
       "    "
      ],
      "text/plain": [
       "<IPython.core.display.HTML object>"
      ]
     },
     "metadata": {},
     "output_type": "display_data"
    }
   ],
   "source": [
    "one_country_name = countries_list[0]\n",
    "\n",
    "# The following code is only for the visualization\n",
    "this_cities_names = [key for key, value in temp_streams[one_country_name].window().items()[0].value.iteritems()]\n",
    "\n",
    "data = {city:[] for city in this_cities_names}\n",
    "time = []\n",
    "for key, values in temp_streams[one_country_name].window().items():\n",
    "    time.append(str(key))\n",
    "    for city, temperature in values.iteritems():\n",
    "        data[city].append(temperature)\n",
    "        \n",
    "data = [value for key, value in data.iteritems()]\n",
    "        \n",
    "plot_multiple_stock(data, time=time, names=this_cities_names,\n",
    "                    title='Temperatures in ' + one_country_name, ylabel='ºC')"
   ]
  },
  {
   "cell_type": "markdown",
   "metadata": {
    "deletable": true,
    "editable": true
   },
   "source": [
    "# Create a Stream with all the city names\n",
    "\n",
    "In order to split the raw streams that contain as a value a dictionary with every city and its corresponding temperature, we need to use a splitting tool. The splitting_from_stream tool is a MultiOutputTool that expects a stream with the keys that are used to split the original stream, and a list of streams that will act as sink.\n",
    "\n",
    "## Create the mapping names\n",
    "\n",
    "Here, we will generate first a stream with all the keys that we want to use for the split"
   ]
  },
  {
   "cell_type": "code",
   "execution_count": 13,
   "metadata": {
    "collapsed": false,
    "deletable": true,
    "editable": true
   },
   "outputs": [
    {
     "name": "stdout",
     "output_type": "stream",
     "text": [
      "{'NewDelhiMax': 'NewDelhiMax', 'NewDelhiMin': 'NewDelhiMin', 'HongKongMin': 'HongKongMin', 'KualaLumpurMin': 'KualaLumpurMin', 'TokyoMax': 'TokyoMax', 'KualaLumpurMax': 'KualaLumpurMax', 'HongKongMax': 'HongKongMax', 'BangkokMin': 'BangkokMin', 'BangkokMax': 'BangkokMax', 'TokyoMin': 'TokyoMin'}\n"
     ]
    }
   ],
   "source": [
    "one_country_stream = temp_streams[one_country_name]\n",
    "\n",
    "# It is similar to a database channel\n",
    "A = hs.channel_manager.assets\n",
    "this_cities_stream = A.get_or_create_stream('cities_{}'.format(one_country_name))\n",
    "\n",
    "mapping = {}\n",
    "for city in this_cities_names:\n",
    "    mapping[city] = city\n",
    "\n",
    "print mapping"
   ]
  },
  {
   "cell_type": "markdown",
   "metadata": {
    "deletable": true,
    "editable": true
   },
   "source": [
    "## Create the Stream with the names\n",
    "\n",
    "Now we can write the mapping into the stream that will be used with the splitting tool"
   ]
  },
  {
   "cell_type": "code",
   "execution_count": 14,
   "metadata": {
    "collapsed": false,
    "deletable": true,
    "editable": true
   },
   "outputs": [
    {
     "name": "stderr",
     "output_type": "stream",
     "text": [
      "2017-07-27 20:25:37,338 [WARNI]  Found duplicate document: Tried to save duplicate unique keys (E11000 duplicate key error index: hyperstream.streams.$stream_id_1_datetime_1 dup key: { : { name: \"cities_Asia\", meta_data: [] }, : new Date(915148800000) })\n",
      "2017-07-27 20:25:37,342 [WARNI]  Stream cities_Asia not available for time interval (0001-01-01 00:00:00+00:00, 2017-07-27 19:25:37.342000+00:00]. Perhaps upstream calculations haven't been performed\n"
     ]
    },
    {
     "name": "stdout",
     "output_type": "stream",
     "text": [
      "[StreamInstance(timestamp=datetime.datetime(1999, 1, 1, 0, 0, tzinfo=<bson.tz_util.FixedOffset object at 0x1063e7250>), value={u'NewDelhiMax': u'NewDelhiMax', u'NewDelhiMin': u'NewDelhiMin', u'HongKongMin': u'HongKongMin', u'KualaLumpurMin': u'KualaLumpurMin', u'TokyoMax': u'TokyoMax', u'KualaLumpurMax': u'KualaLumpurMax', u'HongKongMax': u'HongKongMax', u'BangkokMin': u'BangkokMin', u'BangkokMax': u'BangkokMax', u'TokyoMin': u'TokyoMin'})]\n"
     ]
    }
   ],
   "source": [
    "from hyperstream import StreamInstance\n",
    "from hyperstream import StreamId\n",
    "\n",
    "A.write_to_stream(stream_id=this_cities_stream.stream_id, data=StreamInstance(ti_all.start, mapping))\n",
    "\n",
    "print this_cities_stream.window(TimeInterval.up_to_now()).items()"
   ]
  },
  {
   "cell_type": "markdown",
   "metadata": {
    "deletable": true,
    "editable": true
   },
   "source": [
    "## Creating a city plate\n",
    "\n",
    "We are creating here one node per city"
   ]
  },
  {
   "cell_type": "code",
   "execution_count": 15,
   "metadata": {
    "collapsed": false,
    "deletable": true,
    "editable": true
   },
   "outputs": [],
   "source": [
    "for city in this_cities_names:\n",
    "    if not hs.plate_manager.meta_data_manager.contains(identifier='city_'+city):\n",
    "        print(\"Adding \" + city)\n",
    "        hs.plate_manager.meta_data_manager.insert(parent='root', data=city,\n",
    "                                                  tag='city', identifier='city_'+city)"
   ]
  },
  {
   "cell_type": "markdown",
   "metadata": {
    "deletable": true,
    "editable": true
   },
   "source": [
    "## Creating the sink Streams\n",
    "\n",
    "Now, we will create one Stream per each city. Then, we will use all these Streams as a sink when ussing the splitting tool."
   ]
  },
  {
   "cell_type": "code",
   "execution_count": 16,
   "metadata": {
    "collapsed": false,
    "deletable": true,
    "editable": true
   },
   "outputs": [
    {
     "name": "stdout",
     "output_type": "stream",
     "text": [
      "Adding NewDelhiMax\n",
      "Adding NewDelhiMin\n",
      "Adding HongKongMin\n",
      "Adding KualaLumpurMin\n",
      "Adding TokyoMax\n",
      "Adding KualaLumpurMax\n",
      "Adding HongKongMax\n",
      "Adding BangkokMin\n",
      "Adding BangkokMax\n",
      "Adding TokyoMin\n"
     ]
    }
   ],
   "source": [
    "cities_plate = hs.plate_manager.create_plate(plate_id='C', meta_data_id='city', parent_plate=None, \n",
    "                                             values=[], complement=True, description='Cities')\n",
    "this_country_temps = []\n",
    "for city in this_cities_names:\n",
    "    print(\"Adding \" + city)\n",
    "    this_country_temps.append(M.get_or_create_stream(stream_id=StreamId(name='temperature',\n",
    "                                                                         meta_data=(('city', city),))))"
   ]
  },
  {
   "cell_type": "markdown",
   "metadata": {
    "deletable": true,
    "editable": true
   },
   "source": [
    "It is possible to create all the Streams passing a list to the splitter tool **splitter_from_list**. However, this could not be automated in a workflow\n",
    "\n",
    "```Python\n",
    "# TODO Ussing this new tool, it is not necessary to create a new stream. However, if it is a Stream it could be\n",
    "# automated for any other countries\n",
    "splitter_tool = hs.plugins.example.tools.splitter_from_list(element=None)\n",
    "\n",
    "# TODO try to change the parameter name of MultiOutputTool splitting_stream to splitting_parameter\n",
    "# or something that does not force you to think that it is a stream\n",
    "splitter_tool.execute(source=one_country_stream, splitting_stream=this_cities_list, output_plate=cities_plate, \n",
    "                      interval=ti_all, input_plate_value=None, sinks=this_country_temps)\n",
    "```\n",
    "\n",
    "**TODO: Ask Tom: Question:** With the splitter_from_stream version we still need to create a list with the mapping... Then, I can not see the difference between using one or the other method.\n",
    "**Answer:** The list in the Stream is allowed to change over time, this makes the future Streams to be more robust to change (e.g. the number of houses in the SPHERE project). Also, there is a tool that uses a dictionary for the splitting criteria, that is **splitter_of_dict** that expects the splitter_stream to be None, and a mapping parameter containing the static mapping."
   ]
  },
  {
   "cell_type": "code",
   "execution_count": 17,
   "metadata": {
    "collapsed": false,
    "deletable": true,
    "editable": true
   },
   "outputs": [
    {
     "name": "stderr",
     "output_type": "stream",
     "text": [
      "2017-07-27 20:25:37,378 [WARNI]  Stream cities_Asia not available for time interval (0001-01-01 00:00:00+00:00, 2013-01-01 00:00:00+00:00]. Perhaps upstream calculations haven't been performed\n"
     ]
    }
   ],
   "source": [
    "splitter_tool = hs.tools.splitter_from_stream(element=None, use_mapping_keys_only=False)\n",
    "\n",
    "splitter_tool.execute(source=one_country_stream, splitting_stream=this_cities_stream, output_plate_values=cities_plate, \n",
    "                      interval=ti_all, sinks=this_country_temps, meta_data_id=\"city\")"
   ]
  },
  {
   "cell_type": "code",
   "execution_count": 18,
   "metadata": {
    "collapsed": false,
    "deletable": true,
    "editable": true
   },
   "outputs": [
    {
     "name": "stderr",
     "output_type": "stream",
     "text": [
      "2017-07-27 20:25:37,471 [WARNI]  Stream temperature: [city=NewDelhiMax] not available for time interval (1999-01-01 00:00:00+00:00, 2013-01-01 00:00:00+00:00]. Perhaps upstream calculations haven't been performed\n"
     ]
    },
    {
     "name": "stdout",
     "output_type": "stream",
     "text": [
      "Stream(stream_id=temperature: [city=NewDelhiMax], channel_id=memory)\n",
      "StreamView(force_calculation=False, stream=Stream(stream_id=temperature: [city=NewDelhiMax], channel_id=memory), time_interval=TimeInterval(start=datetime.datetime(1999, 1, 1, 0, 0, tzinfo=<UTC>), end=datetime.datetime(2013, 1, 1, 0, 0, tzinfo=<UTC>)))\n"
     ]
    },
    {
     "data": {
      "text/html": [
       "\n",
       "        <html>\n",
       "        <head>\n",
       "        <title>Temperature in NewDelhiMax</title>\n",
       "           <!--<script src=\"https://ajax.googleapis.com/ajax/libs/jquery/2.1.3/jquery.min.js\"></script>-->\n",
       "           <!--<script src=\"https://code.highcharts.com/stock/highstock.js\"></script>-->\n",
       "           <!--<script src=\"https://code.highcharts.com/stock/modules/exporting.js\"></script>-->\n",
       "           <script src=\"./scripts/jquery.min.js\"></script>\n",
       "           <script src=\"./scripts/highstock.js\"></script>\n",
       "           <script src=\"./scripts/exporting.js\"></script>\n",
       "        </head>\n",
       "        <body>\n",
       "\n",
       "        <div id=\"container6952\" style=\"width: 800px; height: 600px; margin: 125 auto\"></div>\n",
       "\n",
       "        <script language=\"JavaScript\">\n",
       "               var data = [[948931200000.0, 20.1], [951609600000.0, 21.9], [954115200000.0, 29.7], [956793600000.0, 38.4], [959385600000.0, 40.0], [962064000000.0, 36.6], [964656000000.0, 33.7], [967334400000.0, 34.2], [970012800000.0, 34.7], [972604800000.0, 34.4], [975283200000.0, 28.8], [977875200000.0, 24.4], [980553600000.0, 19.7], [983232000000.0, 25.4], [985651200000.0, 30.4], [988329600000.0, 35.9], [990921600000.0, 38.6], [993600000000.0, 35.6], [996192000000.0, 34.7], [998870400000.0, 35.1], [1001548800000.0, 36.1], [1004140800000.0, 34.3], [1006819200000.0, 29.1], [1009411200000.0, 23.3], [1012089600000.0, 20.8], [1014768000000.0, 24.2], [1017187200000.0, 31.1], [1019865600000.0, 38.3], [1022457600000.0, 42.4], [1025136000000.0, 39.1], [1027728000000.0, 39.3], [1030406400000.0, 34.6], [1033084800000.0, 32.5], [1035676800000.0, 33.2], [1038355200000.0, 28.0], [1040947200000.0, 23.6], [1043625600000.0, 17.7], [1046304000000.0, 23.5], [1048723200000.0, 29.6], [1051401600000.0, 37.8], [1053993600000.0, 39.8], [1056672000000.0, 39.9], [1059264000000.0, 34.0], [1061942400000.0, 33.8], [1064620800000.0, 32.7], [1067212800000.0, 33.0], [1069891200000.0, 28.0], [1072483200000.0, 20.9], [1075161600000.0, 18.7], [1077840000000.0, 25.7], [1080345600000.0, 33.6], [1083024000000.0, 37.8], [1085616000000.0, 39.4], [1088294400000.0, 37.6], [1090886400000.0, 37.7], [1093564800000.0, 33.7], [1096243200000.0, 35.4], [1098835200000.0, 31.1], [1101513600000.0, 28.6], [1104105600000.0, 23.0], [1106784000000.0, 20.1], [1109462400000.0, 23.5], [1111881600000.0, 30.5], [1114560000000.0, 36.4], [1117152000000.0, 39.6], [1119830400000.0, 40.3], [1122422400000.0, 34.2], [1125100800000.0, 35.8], [1127779200000.0, 33.8], [1130371200000.0, 33.1], [1133049600000.0, 29.5], [1135641600000.0, 22.6], [1138320000000.0, 22.5], [1140998400000.0, 29.6], [1143417600000.0, 29.8], [1146096000000.0, 37.6], [1148688000000.0, 39.9], [1151366400000.0, 38.0], [1153958400000.0, 35.0], [1156636800000.0, 35.3], [1159315200000.0, 34.5], [1161907200000.0, 33.5], [1164585600000.0, 28.7], [1167177600000.0, 23.1], [1169856000000.0, 21.7], [1172534400000.0, 24.1], [1174953600000.0, 29.0], [1177632000000.0, 38.3], [1180224000000.0, 38.8], [1182902400000.0, 38.0], [1185494400000.0, 35.9], [1188172800000.0, 34.9], [1190851200000.0, 34.6], [1193443200000.0, 33.3], [1196121600000.0, 28.8], [1198713600000.0, 22.7], [1201392000000.0, 20.8], [1204070400000.0, 23.9], [1206576000000.0, 33.5], [1209254400000.0, 36.4], [1211846400000.0, 36.9], [1214524800000.0, 35.3], [1217116800000.0, 35.4], [1219795200000.0, 33.9], [1222473600000.0, 34.1], [1225065600000.0, 34.2], [1227744000000.0, 28.8], [1230336000000.0, 24.2], [1233014400000.0, 22.1], [1235692800000.0, 26.3], [1238112000000.0, 31.9], [1240790400000.0, 37.4], [1243382400000.0, 40.0], [1246060800000.0, 41.1], [1248652800000.0, 37.2], [1251331200000.0, 35.5], [1254009600000.0, 33.9], [1256601600000.0, 33.0], [1259280000000.0, 27.2], [1261872000000.0, 23.6], [1264550400000.0, 19.2], [1267228800000.0, 25.7], [1269648000000.0, 34.1], [1272326400000.0, 40.2], [1274918400000.0, 41.8], [1277596800000.0, 40.4], [1280188800000.0, 35.6], [1282867200000.0, 33.9], [1285545600000.0, 32.7], [1288137600000.0, 33.0], [1290816000000.0, 27.6], [1293408000000.0, 22.3], [1296086400000.0, 20.0], [1298764800000.0, 24.8], [1301184000000.0, 30.4], [1303862400000.0, 36.0], [1306454400000.0, 40.1], [1309132800000.0, 38.0], [1311724800000.0, 35.7], [1314403200000.0, 34.6], [1317081600000.0, 34.3], [1319673600000.0, 33.4], [1322352000000.0, 29.3], [1324944000000.0, 24.0], [1327622400000.0, 20.3], [1330300800000.0, 24.3], [1332806400000.0, 31.6], [1335484800000.0, 35.8], [1338076800000.0, 41.2], [1340755200000.0, 42.1], [1343347200000.0, 36.9], [1346025600000.0, 33.6], [1348704000000.0, 34.3], [1351296000000.0, 32.6]];\n",
       "\n",
       "            Highcharts.stockChart('container6952', {\n",
       "                chart: {\n",
       "                    zoomType: 'x'\n",
       "                },\n",
       "                title: {\n",
       "                    text: 'Temperature in NewDelhiMax'\n",
       "                },\n",
       "                xAxis: {\n",
       "                    type: 'datetime', ordinal: false\n",
       "                },\n",
       "                yAxis: {\n",
       "                    title: {\n",
       "                        text: 'ºC'\n",
       "                    }\n",
       "                },\n",
       "                legend: {\n",
       "                    enabled: false\n",
       "                },\n",
       "\n",
       "                series: [{\n",
       "                    type: 'spline',\n",
       "                    name: 'ºC',\n",
       "                    data: data\n",
       "                }]\n",
       "            });\n",
       "        </script>\n",
       "\n",
       "        </body>\n",
       "        </html>\n",
       "    "
      ],
      "text/plain": [
       "<IPython.core.display.HTML object>"
      ]
     },
     "metadata": {},
     "output_type": "display_data"
    }
   ],
   "source": [
    "one_city = this_country_temps[0]\n",
    "city_name = one_city.stream_id.meta_data[0][1]\n",
    "\n",
    "print one_city\n",
    "print one_city.window(ti_all)\n",
    "\n",
    "my_time, my_data = zip(*[(key.__str__(), value) for key, value in one_city.window(ti_all).items()])\n",
    "\n",
    "plot_high_chart(my_time, my_data, type=\"high_stock\", title='Temperature in {}'.format(city_name), yax='ºC')"
   ]
  }
 ],
 "metadata": {
  "kernelspec": {
   "display_name": "Python 2",
   "language": "python",
   "name": "python2"
  },
  "language_info": {
   "codemirror_mode": {
    "name": "ipython",
    "version": 2
   },
   "file_extension": ".py",
   "mimetype": "text/x-python",
   "name": "python",
   "nbconvert_exporter": "python",
   "pygments_lexer": "ipython2",
   "version": "2.7.13"
  }
 },
 "nbformat": 4,
 "nbformat_minor": 1
}
