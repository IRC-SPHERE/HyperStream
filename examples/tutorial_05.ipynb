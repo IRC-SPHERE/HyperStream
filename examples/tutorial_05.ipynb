{
 "cells": [
  {
   "cell_type": "markdown",
   "metadata": {
    "deletable": true,
    "editable": true
   },
   "source": [
    "<img style=\"float: right;\" src=\"images/hyperstream.svg\">\n",
    "\n",
    "# HyperStream Tutorial 5: Workflows\n",
    "\n",
    "Workflows define a graph of streams. Usually, the first stream will be a special \"raw\" stream that pulls in data from a custom data source. Workflows can have multiple time ranges, which will cause the streams to be computed on all of the ranges given.\n",
    "\n",
    "## Introduction\n",
    "\n",
    "In this tutorial, we will be ussing a time-series dataset about the temperature in different countries and cities. The dataset is availabel at [The Census at School New Zeland][1]. The necessary files for this tutorial are already included in the folder **data/TimeSeriesDatasets_130207**.\n",
    "\n",
    "In particular, there are four files with the minimum and maximum temperatures in different cities of Asia, Australia, NZ and USA from 2000 to 2012. And the rainfall levels of New Zeland. \n",
    "\n",
    "![workflows](images/workflow_world_temp.svg)\n",
    "\n",
    "[1]: http://new.censusatschool.org.nz/resource/time-series-data-sets-2013/"
   ]
  },
  {
   "cell_type": "code",
   "execution_count": 1,
   "metadata": {
    "collapsed": false,
    "deletable": true,
    "editable": true
   },
   "outputs": [
    {
     "name": "stdout",
     "output_type": "stream",
     "text": [
      "CPython 2.7.6\n",
      "IPython 5.3.0\n",
      "\n",
      "hyperstream 0.3.6\n",
      "\n",
      "compiler   : GCC 4.8.4\n",
      "system     : Linux\n",
      "release    : 3.19.0-80-generic\n",
      "machine    : x86_64\n",
      "processor  : x86_64\n",
      "CPU cores  : 4\n",
      "interpreter: 64bit\n",
      "Git hash   : f08960c9be4d0e40646dfe20d85d7105619ab4d6\n",
      "HyperStream version 0.3.6, connected to mongodb://localhost:27017/hyperstream, session id <no session>\n",
      "[u'example', u'data_importers', u'data_generators']\n"
     ]
    }
   ],
   "source": [
    "try:\n",
    "    %load_ext watermark\n",
    "    watermark = True\n",
    "except ImportError:\n",
    "    watermark = False\n",
    "    pass\n",
    "\n",
    "import sys\n",
    "sys.path.append(\"../\") # Add parent dir in the Path\n",
    "\n",
    "from hyperstream import HyperStream\n",
    "from hyperstream import TimeInterval\n",
    "from hyperstream.utils import UTC\n",
    "import hyperstream\n",
    "\n",
    "from datetime import datetime\n",
    "from utils import plot_high_chart\n",
    "from utils import plot_multiple_stock\n",
    "from dateutil.parser import parse\n",
    "\n",
    "if watermark:\n",
    "    %watermark -v -m -p hyperstream -g\n",
    "\n",
    "hs = HyperStream(loglevel=30)\n",
    "print(hs)\n",
    "print([p.channel_id_prefix for p in hs.config.plugins])"
   ]
  },
  {
   "cell_type": "markdown",
   "metadata": {
    "deletable": true,
    "editable": true
   },
   "source": [
    "## Reading the data\n",
    "\n",
    "In the data folder there are four csv files with the names **TempAsia.csv, TempAustralia.csv, TempNZ.csv and TempUSA.csv**. The first column of each csv file contains a header with the names of the columns. The first one being the date and the following are the minimum and maximum temperature in different cities with the format **cityMin** and **cityMax**.\n",
    "\n",
    "Here is an example of the first 5 rows of the **TempAsia.csv** file:\n",
    "\n",
    "```\n",
    "Date,TokyoMax,TokyoMin,BangkokMax,BangkokMin\n",
    "2000M01,11.2,4.2,32.8,24\n",
    "```\n",
    "\n",
    "The format of the date has the form **YYYYMmm** where **YYYY** is the year and **mm** is the month. Because this format is not recognized by the default parser of the **csv_reader** tool, we will need to specify our own parser that first replaces the **M** by an hyphen **-** and then applies the **dateutils.parser**.\n",
    "\n",
    "Then, we will use a tool to read each csv, and a Stream to store all the results of applying the tool. When we specify to the tool that there is a header row in the csv file, the value of each Stream instance will be a dictionary with the name of the column and its corresponding value. For example, a Stream instance with the 4 cities shown above will look like:\n",
    "\n",
    "```\n",
    "[2000-01-19 00:00:00+00:00]: {'BangkokMin': 24.0, 'BangkokMax': 32.8, 'TokyoMin': 4.2}\n",
    "```"
   ]
  },
  {
   "cell_type": "code",
   "execution_count": 2,
   "metadata": {
    "collapsed": false,
    "deletable": true,
    "editable": true
   },
   "outputs": [],
   "source": [
    "def dateparser(dt):\n",
    "    return parse(dt.replace('M', '-')).replace(tzinfo=UTC)\n",
    "\n",
    "ti_all = TimeInterval(datetime(1999, 1, 1).replace(tzinfo=UTC),\n",
    "                      datetime(2013, 1, 1).replace(tzinfo=UTC))\n",
    "ti_sample = TimeInterval(datetime(2007, 1, 1).replace(tzinfo=UTC),\n",
    "                         datetime(2007, 3, 1).replace(tzinfo=UTC))\n",
    "\n",
    "# M will be the Memory Channel\n",
    "M = hs.channel_manager.memory\n",
    "\n",
    "countries_list = ['Asia', 'Australia', 'NZ', 'USA']"
   ]
  },
  {
   "cell_type": "markdown",
   "metadata": {
    "deletable": true,
    "editable": true
   },
   "source": [
    "## Create the plates and meta_data instances"
   ]
  },
  {
   "cell_type": "code",
   "execution_count": 3,
   "metadata": {
    "collapsed": false,
    "deletable": true,
    "editable": true
   },
   "outputs": [],
   "source": [
    "countries_dict = {\n",
    "    'Asia': ['BangkokMin', 'BangkokMax', 'HongKongMax', 'HongKongMin', 'KualaLumpurMax', 'KualaLumpurMin',\n",
    "             'NewDelhiMax', 'NewDelhiMin', 'TokyoMax', 'TokyoMin'],\n",
    "    'Australia': ['BrisbaneMax', 'BrisbaneMin', 'Canberramax', 'CanberraMin', 'GoldCoastMax', 'GoldCoastMin',\n",
    "                  'MelbourneMin', 'Melbournemax',  'SydneyMax', 'SydneyMin'],\n",
    "    'NZ': ['AucklandMax', 'AucklandMin', 'ChristchurchMax', 'ChristchurchMin', 'DunedinMax', 'DunedinMin',\n",
    "           'HamiltonMax', 'HamiltonMin','WellingtonMax', 'WellingtonMin'],\n",
    "    'USA': ['ChicagoMin', 'ChicagoMax', 'HoustonMax', 'HoustonMin', 'LosAngelesMax', 'LosAngelesMin',\n",
    "            'NYMax', 'NYMin', 'SeattleMax', 'SeattleMin']\n",
    "}\n",
    "\n",
    "# delete_plate requires the deletion to be first childs and then parents\n",
    "for plate_id in ['C.C', 'C']:\n",
    "    if plate_id in [plate[0] for plate in hs.plate_manager.plates.items()]:\n",
    "        hs.plate_manager.delete_plate(plate_id=plate_id, delete_meta_data=True)\n",
    "\n",
    "for country in countries_dict:\n",
    "    id_country = 'country_' + country\n",
    "    if not hs.plate_manager.meta_data_manager.contains(identifier=id_country):\n",
    "        hs.plate_manager.meta_data_manager.insert(\n",
    "            parent='root', data=country, tag='country', identifier=id_country)\n",
    "    for city in countries_dict[country]:\n",
    "        id_city = id_country + '.' + 'city_' + city\n",
    "        if not hs.plate_manager.meta_data_manager.contains(identifier=id_city):\n",
    "            hs.plate_manager.meta_data_manager.insert(\n",
    "                parent=id_country, data=city, tag='city', identifier=id_city)\n",
    "            \n",
    "C = hs.plate_manager.create_plate(plate_id=\"C\", description=\"Countries\", values=[], complement=True,\n",
    "                                  parent_plate=None, meta_data_id=\"country\")\n",
    "CC = hs.plate_manager.create_plate(plate_id=\"C.C\", description=\"Cities\", values=[], complement=True,\n",
    "                                   parent_plate=\"C\", meta_data_id=\"city\")"
   ]
  },
  {
   "cell_type": "code",
   "execution_count": 4,
   "metadata": {
    "collapsed": false,
    "deletable": true,
    "editable": true
   },
   "outputs": [
    {
     "name": "stdout",
     "output_type": "stream",
     "text": [
      "\n",
      "root[root:None]\n",
      "╟── country[country_NZ:NZ]\n",
      "║   ╟── city[country_NZ.city_AucklandMax:AucklandMax]\n",
      "║   ╟── city[country_NZ.city_AucklandMin:AucklandMin]\n",
      "║   ╟── city[country_NZ.city_ChristchurchMax:ChristchurchMax]\n",
      "║   ╟── city[country_NZ.city_ChristchurchMin:ChristchurchMin]\n",
      "║   ╟── city[country_NZ.city_DunedinMax:DunedinMax]\n",
      "║   ╟── city[country_NZ.city_DunedinMin:DunedinMin]\n",
      "║   ╟── city[country_NZ.city_HamiltonMax:HamiltonMax]\n",
      "║   ╟── city[country_NZ.city_HamiltonMin:HamiltonMin]\n",
      "║   ╟── city[country_NZ.city_WellingtonMax:WellingtonMax]\n",
      "║   ╙── city[country_NZ.city_WellingtonMin:WellingtonMin]\n",
      "╟── country[country_Australia:Australia]\n",
      "║   ╟── city[country_Australia.city_BrisbaneMax:BrisbaneMax]\n",
      "║   ╟── city[country_Australia.city_BrisbaneMin:BrisbaneMin]\n",
      "║   ╟── city[country_Australia.city_Canberramax:Canberramax]\n",
      "║   ╟── city[country_Australia.city_CanberraMin:CanberraMin]\n",
      "║   ╟── city[country_Australia.city_GoldCoastMax:GoldCoastMax]\n",
      "║   ╟── city[country_Australia.city_GoldCoastMin:GoldCoastMin]\n",
      "║   ╟── city[country_Australia.city_MelbourneMin:MelbourneMin]\n",
      "║   ╟── city[country_Australia.city_Melbournemax:Melbournemax]\n",
      "║   ╟── city[country_Australia.city_SydneyMax:SydneyMax]\n",
      "║   ╙── city[country_Australia.city_SydneyMin:SydneyMin]\n",
      "╟── country[country_USA:USA]\n",
      "║   ╟── city[country_USA.city_ChicagoMin:ChicagoMin]\n",
      "║   ╟── city[country_USA.city_ChicagoMax:ChicagoMax]\n",
      "║   ╟── city[country_USA.city_HoustonMax:HoustonMax]\n",
      "║   ╟── city[country_USA.city_HoustonMin:HoustonMin]\n",
      "║   ╟── city[country_USA.city_LosAngelesMax:LosAngelesMax]\n",
      "║   ╟── city[country_USA.city_LosAngelesMin:LosAngelesMin]\n",
      "║   ╟── city[country_USA.city_NYMax:NYMax]\n",
      "║   ╟── city[country_USA.city_NYMin:NYMin]\n",
      "║   ╟── city[country_USA.city_SeattleMax:SeattleMax]\n",
      "║   ╙── city[country_USA.city_SeattleMin:SeattleMin]\n",
      "╙── country[country_Asia:Asia]\n",
      "    ╟── city[country_Asia.city_BangkokMin:BangkokMin]\n",
      "    ╟── city[country_Asia.city_BangkokMax:BangkokMax]\n",
      "    ╟── city[country_Asia.city_HongKongMax:HongKongMax]\n",
      "    ╟── city[country_Asia.city_HongKongMin:HongKongMin]\n",
      "    ╟── city[country_Asia.city_KualaLumpurMax:KualaLumpurMax]\n",
      "    ╟── city[country_Asia.city_KualaLumpurMin:KualaLumpurMin]\n",
      "    ╟── city[country_Asia.city_NewDelhiMax:NewDelhiMax]\n",
      "    ╟── city[country_Asia.city_NewDelhiMin:NewDelhiMin]\n",
      "    ╟── city[country_Asia.city_TokyoMax:TokyoMax]\n",
      "    ╙── city[country_Asia.city_TokyoMin:TokyoMin]\n",
      "\n"
     ]
    }
   ],
   "source": [
    "print hs.plate_manager.meta_data_manager.global_plate_definitions"
   ]
  },
  {
   "cell_type": "markdown",
   "metadata": {
    "deletable": true,
    "editable": true
   },
   "source": [
    "## Create the workflow and execute it"
   ]
  },
  {
   "cell_type": "code",
   "execution_count": 5,
   "metadata": {
    "collapsed": false,
    "deletable": true,
    "editable": true
   },
   "outputs": [],
   "source": [
    "from hyperstream import Workflow\n",
    "\n",
    "# parameters for the csv_mutli_reader tool\n",
    "csv_params = dict(\n",
    "    filename_template='data/TimeSeriesDatasets_130207/Temp{}.csv',\n",
    "    datetime_parser=dateparser, skip_rows=0, header=True)\n",
    "\n",
    "def mean(x):\n",
    "    return float(sum(x)) / max(len(x), 1)\n",
    "\n",
    "with Workflow(workflow_id='tutorial_05', name='tutorial_05', owner='tutorials',\n",
    "              description='Tutorial 5 workflow', online=False) as w:\n",
    "\n",
    "    country_node = w.create_node(stream_name='raw_data', channel=M, plates=[C])\n",
    "    city_node = w.create_node(stream_name='city_temperature', channel=M, plates=[CC])\n",
    "    # FIXME Are these correct?\n",
    "    country_node_avg_temp = w.create_node(stream_name='country_avg_temp', channel=M, plates=[C])\n",
    "    # FIXME Should I create a node outside the plates?\n",
    "    world_node_avg_temp = w.create_node(stream_name='world_avg_temp', channel=M, plates=[])\n",
    "\n",
    "    for c in C:\n",
    "        country_node[c] = hs.plugins.data_importers.factors.csv_multi_reader(source=None, **csv_params)\n",
    "        for cc in CC[c]:\n",
    "            city_node[cc] = hs.factors.splitter_from_stream(source=country_node[c],\n",
    "                                                            splitting_node=country_node[c],\n",
    "                                                            use_mapping_keys_only=True)\n",
    "        country_node_avg_temp[c] = hs.factors.aggregate(sources=[city_node],\n",
    "                                                        alignment_node=None,\n",
    "                                                        aggregation_meta_data='city',\n",
    "                                                        func=mean)\n",
    "    # FIXME Should I create a node for a stream outside the plates?\n",
    "    world_node_avg_temp = hs.factors.aggregate(sources=[country_node_avg_temp],\n",
    "                                               alignment_node=None,\n",
    "                                               aggregation_meta_data='country',\n",
    "                                               func=mean)\n",
    "    w.execute(ti_all)"
   ]
  },
  {
   "cell_type": "code",
   "execution_count": null,
   "metadata": {
    "collapsed": true
   },
   "outputs": [],
   "source": []
  },
  {
   "cell_type": "markdown",
   "metadata": {
    "deletable": true,
    "editable": true
   },
   "source": [
    "## See the country raw data streams"
   ]
  },
  {
   "cell_type": "code",
   "execution_count": 6,
   "metadata": {
    "collapsed": false,
    "deletable": true,
    "editable": true
   },
   "outputs": [
    {
     "name": "stdout",
     "output_type": "stream",
     "text": [
      "(('country', 'NZ'),)\n",
      "StreamInstance(timestamp=datetime.datetime(2000, 1, 29, 0, 0, tzinfo=<UTC>), value={'WellingtonMin': 14.2, 'ChristchurchMin': 10.8, 'HamiltonMin': 12.4, 'DunedinMax': 18.2, 'WellingtonMax': 20.0, 'ChristchurchMax': 20.2, 'AucklandMax': 23.4, 'HamiltonMax': 23.8, 'DunedinMin': 8.8, 'AucklandMin': 15.5})\n",
      "(('country', 'USA'),)\n",
      "StreamInstance(timestamp=datetime.datetime(2000, 1, 29, 0, 0, tzinfo=<UTC>), value={'ChicagoMax': 1.8, 'LosAngelesMin': 10.0, 'HoustonMax': 21.6, 'NYMax': 4.6, 'SeattleMax': 7.9, 'SeattleMin': 1.4, 'ChicagoMin': -8.1, 'NYMin': -5.6, 'HoustonMin': 7.4, 'LosAngelesMax': 19.6})\n",
      "(('country', 'Australia'),)\n",
      "StreamInstance(timestamp=datetime.datetime(2000, 1, 29, 0, 0, tzinfo=<UTC>), value={'BrisbaneMax': 28.2, 'MelbourneMin': 15.9, 'Melbournemax': 24.3, 'BrisbaneMin': 19.1, 'CanberraMin': 10.1, 'GoldCoastMax': 27.5, 'SydneyMax': 24.9, 'Canberramax': 24.5, 'GoldCoastMin': 20.2, 'SydneyMin': 17.7})\n",
      "(('country', 'Asia'),)\n",
      "StreamInstance(timestamp=datetime.datetime(2000, 1, 29, 0, 0, tzinfo=<UTC>), value={'NewDelhiMax': 20.1, 'NewDelhiMin': 8.1, 'HongKongMin': 14.3, 'KualaLumpurMin': 23.5, 'TokyoMax': 11.2, 'KualaLumpurMax': 32.2, 'HongKongMax': 19.5, 'BangkokMin': 24.0, 'BangkokMax': 32.8, 'TokyoMin': 4.2})\n"
     ]
    }
   ],
   "source": [
    "# Print the results\n",
    "for stream_id, stream in country_node.streams.iteritems():\n",
    "    print(stream_id)\n",
    "    print(stream.window().first())"
   ]
  },
  {
   "cell_type": "code",
   "execution_count": 7,
   "metadata": {
    "collapsed": false,
    "deletable": true,
    "editable": true
   },
   "outputs": [
    {
     "name": "stdout",
     "output_type": "stream",
     "text": [
      "(('country', 'Australia'), ('city', 'GoldCoastMax'))\n",
      "StreamInstance(timestamp=datetime.datetime(2000, 1, 29, 0, 0, tzinfo=<UTC>), value=27.5)\n",
      "(('country', 'Asia'), ('city', 'TokyoMax'))\n",
      "StreamInstance(timestamp=datetime.datetime(2000, 1, 29, 0, 0, tzinfo=<UTC>), value=11.2)\n",
      "(('country', 'Asia'), ('city', 'BangkokMin'))\n",
      "StreamInstance(timestamp=datetime.datetime(2000, 1, 29, 0, 0, tzinfo=<UTC>), value=24.0)\n",
      "(('country', 'Asia'), ('city', 'HongKongMin'))\n",
      "StreamInstance(timestamp=datetime.datetime(2000, 1, 29, 0, 0, tzinfo=<UTC>), value=14.3)\n",
      "(('country', 'Asia'), ('city', 'BangkokMax'))\n",
      "StreamInstance(timestamp=datetime.datetime(2000, 1, 29, 0, 0, tzinfo=<UTC>), value=32.8)\n",
      "(('country', 'Asia'), ('city', 'KualaLumpurMin'))\n",
      "StreamInstance(timestamp=datetime.datetime(2000, 1, 29, 0, 0, tzinfo=<UTC>), value=23.5)\n",
      "(('country', 'USA'), ('city', 'LosAngelesMax'))\n",
      "StreamInstance(timestamp=datetime.datetime(2000, 1, 29, 0, 0, tzinfo=<UTC>), value=19.6)\n",
      "(('country', 'Australia'), ('city', 'Canberramax'))\n",
      "StreamInstance(timestamp=datetime.datetime(2000, 1, 29, 0, 0, tzinfo=<UTC>), value=24.5)\n",
      "(('country', 'Australia'), ('city', 'BrisbaneMax'))\n",
      "StreamInstance(timestamp=datetime.datetime(2000, 1, 29, 0, 0, tzinfo=<UTC>), value=28.2)\n",
      "(('country', 'NZ'), ('city', 'AucklandMax'))\n",
      "StreamInstance(timestamp=datetime.datetime(2000, 1, 29, 0, 0, tzinfo=<UTC>), value=23.4)\n",
      "(('country', 'Australia'), ('city', 'CanberraMin'))\n",
      "StreamInstance(timestamp=datetime.datetime(2000, 1, 29, 0, 0, tzinfo=<UTC>), value=10.1)\n",
      "(('country', 'NZ'), ('city', 'DunedinMin'))\n",
      "StreamInstance(timestamp=datetime.datetime(2000, 1, 29, 0, 0, tzinfo=<UTC>), value=8.8)\n",
      "(('country', 'NZ'), ('city', 'ChristchurchMin'))\n",
      "StreamInstance(timestamp=datetime.datetime(2000, 1, 29, 0, 0, tzinfo=<UTC>), value=10.8)\n",
      "(('country', 'USA'), ('city', 'NYMin'))\n",
      "StreamInstance(timestamp=datetime.datetime(2000, 1, 29, 0, 0, tzinfo=<UTC>), value=-5.6)\n",
      "(('country', 'Australia'), ('city', 'Melbournemax'))\n",
      "StreamInstance(timestamp=datetime.datetime(2000, 1, 29, 0, 0, tzinfo=<UTC>), value=24.3)\n",
      "(('country', 'NZ'), ('city', 'ChristchurchMax'))\n",
      "StreamInstance(timestamp=datetime.datetime(2000, 1, 29, 0, 0, tzinfo=<UTC>), value=20.2)\n",
      "(('country', 'Asia'), ('city', 'KualaLumpurMax'))\n",
      "StreamInstance(timestamp=datetime.datetime(2000, 1, 29, 0, 0, tzinfo=<UTC>), value=32.2)\n",
      "(('country', 'USA'), ('city', 'HoustonMin'))\n",
      "StreamInstance(timestamp=datetime.datetime(2000, 1, 29, 0, 0, tzinfo=<UTC>), value=7.4)\n",
      "(('country', 'USA'), ('city', 'LosAngelesMin'))\n",
      "StreamInstance(timestamp=datetime.datetime(2000, 1, 29, 0, 0, tzinfo=<UTC>), value=10.0)\n",
      "(('country', 'USA'), ('city', 'ChicagoMax'))\n",
      "StreamInstance(timestamp=datetime.datetime(2000, 1, 29, 0, 0, tzinfo=<UTC>), value=1.8)\n",
      "(('country', 'Australia'), ('city', 'MelbourneMin'))\n",
      "StreamInstance(timestamp=datetime.datetime(2000, 1, 29, 0, 0, tzinfo=<UTC>), value=15.9)\n",
      "(('country', 'NZ'), ('city', 'HamiltonMax'))\n",
      "StreamInstance(timestamp=datetime.datetime(2000, 1, 29, 0, 0, tzinfo=<UTC>), value=23.8)\n",
      "(('country', 'Asia'), ('city', 'TokyoMin'))\n",
      "StreamInstance(timestamp=datetime.datetime(2000, 1, 29, 0, 0, tzinfo=<UTC>), value=4.2)\n",
      "(('country', 'USA'), ('city', 'SeattleMin'))\n",
      "StreamInstance(timestamp=datetime.datetime(2000, 1, 29, 0, 0, tzinfo=<UTC>), value=1.4)\n",
      "(('country', 'Asia'), ('city', 'NewDelhiMin'))\n",
      "StreamInstance(timestamp=datetime.datetime(2000, 1, 29, 0, 0, tzinfo=<UTC>), value=8.1)\n",
      "(('country', 'Asia'), ('city', 'HongKongMax'))\n",
      "StreamInstance(timestamp=datetime.datetime(2000, 1, 29, 0, 0, tzinfo=<UTC>), value=19.5)\n",
      "(('country', 'Australia'), ('city', 'BrisbaneMin'))\n",
      "StreamInstance(timestamp=datetime.datetime(2000, 1, 29, 0, 0, tzinfo=<UTC>), value=19.1)\n",
      "(('country', 'Australia'), ('city', 'SydneyMax'))\n",
      "StreamInstance(timestamp=datetime.datetime(2000, 1, 29, 0, 0, tzinfo=<UTC>), value=24.9)\n",
      "(('country', 'USA'), ('city', 'NYMax'))\n",
      "StreamInstance(timestamp=datetime.datetime(2000, 1, 29, 0, 0, tzinfo=<UTC>), value=4.6)\n",
      "(('country', 'NZ'), ('city', 'DunedinMax'))\n",
      "StreamInstance(timestamp=datetime.datetime(2000, 1, 29, 0, 0, tzinfo=<UTC>), value=18.2)\n",
      "(('country', 'USA'), ('city', 'ChicagoMin'))\n",
      "StreamInstance(timestamp=datetime.datetime(2000, 1, 29, 0, 0, tzinfo=<UTC>), value=-8.1)\n",
      "(('country', 'NZ'), ('city', 'AucklandMin'))\n",
      "StreamInstance(timestamp=datetime.datetime(2000, 1, 29, 0, 0, tzinfo=<UTC>), value=15.5)\n",
      "(('country', 'Asia'), ('city', 'NewDelhiMax'))\n",
      "StreamInstance(timestamp=datetime.datetime(2000, 1, 29, 0, 0, tzinfo=<UTC>), value=20.1)\n",
      "(('country', 'NZ'), ('city', 'WellingtonMin'))\n",
      "StreamInstance(timestamp=datetime.datetime(2000, 1, 29, 0, 0, tzinfo=<UTC>), value=14.2)\n",
      "(('country', 'Australia'), ('city', 'GoldCoastMin'))\n",
      "StreamInstance(timestamp=datetime.datetime(2000, 1, 29, 0, 0, tzinfo=<UTC>), value=20.2)\n",
      "(('country', 'USA'), ('city', 'SeattleMax'))\n",
      "StreamInstance(timestamp=datetime.datetime(2000, 1, 29, 0, 0, tzinfo=<UTC>), value=7.9)\n",
      "(('country', 'NZ'), ('city', 'HamiltonMin'))\n",
      "StreamInstance(timestamp=datetime.datetime(2000, 1, 29, 0, 0, tzinfo=<UTC>), value=12.4)\n",
      "(('country', 'USA'), ('city', 'HoustonMax'))\n",
      "StreamInstance(timestamp=datetime.datetime(2000, 1, 29, 0, 0, tzinfo=<UTC>), value=21.6)\n",
      "(('country', 'NZ'), ('city', 'WellingtonMax'))\n",
      "StreamInstance(timestamp=datetime.datetime(2000, 1, 29, 0, 0, tzinfo=<UTC>), value=20.0)\n",
      "(('country', 'Australia'), ('city', 'SydneyMin'))\n",
      "StreamInstance(timestamp=datetime.datetime(2000, 1, 29, 0, 0, tzinfo=<UTC>), value=17.7)\n"
     ]
    }
   ],
   "source": [
    "for stream_id, stream in city_node.streams.iteritems():\n",
    "    print(stream_id)\n",
    "    print(stream.window().first())"
   ]
  },
  {
   "cell_type": "code",
   "execution_count": 8,
   "metadata": {
    "collapsed": false,
    "deletable": true,
    "editable": true
   },
   "outputs": [
    {
     "data": {
      "text/html": [
       "\n",
       "     <html>\n",
       "        <head>\n",
       "        <title>Temperatures in Australia</title>\n",
       "           <script src=\"./scripts/jquery.min.js\"></script>\n",
       "           <script src=\"./scripts/highstock.js\"></script>\n",
       "           <script src=\"./scripts/exporting.js\"></script>\n",
       "        </head>\n",
       "        <body>\n",
       "\n",
       "        <div id=\"container6497\" style=\"width: 800px; height: 600px; margin: 125 auto\"></div>\n",
       "\n",
       "        <script language=\"JavaScript\">\n",
       "            var seriesOptions = [{'data': [[949104000000.0, 10.1], [951782400000.0, 13.2], [954288000000.0, 12.3], [956966400000.0, 5.0], [959558400000.0, 2.3], [962236800000.0, -1.9], [964828800000.0, -1.0], [967507200000.0, -0.1], [970185600000.0, 4.1], [972777600000.0, 4.6], [975456000000.0, 11.3], [978048000000.0, 10.3], [980726400000.0, 13.8], [983318400000.0, 13.8], [985824000000.0, 9.2], [988502400000.0, 4.8], [991094400000.0, -0.5], [993772800000.0, -1.1], [996364800000.0, 0.0], [999043200000.0, 0.1], [1001721600000.0, 3.4], [1004313600000.0, 4.1], [1006992000000.0, 6.0], [1009584000000.0, 10.1], [1012262400000.0, 11.7], [1014854400000.0, 13.0], [1017360000000.0, 9.2], [1020038400000.0, 7.1], [1022630400000.0, 2.2], [1025308800000.0, 1.1], [1027900800000.0, -2.0], [1030579200000.0, -1.6], [1033257600000.0, 1.7], [1035849600000.0, 4.4], [1038528000000.0, 10.7], [1041120000000.0, 11.0], [1043798400000.0, 12.5], [1046390400000.0, 14.3], [1048896000000.0, 9.0], [1051574400000.0, 6.4], [1054166400000.0, 3.6], [1056844800000.0, 2.7], [1059436800000.0, 0.0], [1062115200000.0, 0.1], [1064793600000.0, 2.7], [1067385600000.0, 4.3], [1070064000000.0, 7.6], [1072656000000.0, 12.4], [1075334400000.0, 12.2], [1078012800000.0, 13.3], [1080518400000.0, 9.5], [1083196800000.0, 6.7], [1085788800000.0, 0.1], [1088467200000.0, 1.0], [1091059200000.0, -1.5], [1093737600000.0, 0.7], [1096416000000.0, 3.1], [1099008000000.0, 5.7], [1101686400000.0, 7.8], [1104278400000.0, 10.5], [1106956800000.0, 12.6], [1109548800000.0, 12.3], [1112054400000.0, 8.7], [1114732800000.0, 6.5], [1117324800000.0, 1.1], [1120003200000.0, 1.4], [1122595200000.0, 0.3], [1125273600000.0, -0.7], [1127952000000.0, 3.7], [1130544000000.0, 7.2], [1133222400000.0, 12.9], [1135814400000.0, 10.6], [1138492800000.0, 15.6], [1141084800000.0, 13.4], [1143590400000.0, 11.3], [1146268800000.0, 3.1], [1148860800000.0, 1.0], [1151539200000.0, -1.2], [1154131200000.0, 0.6], [1156809600000.0, -1.2], [1159488000000.0, 2.3], [1162080000000.0, 4.6], [1164758400000.0, 8.7], [1167350400000.0, 11.1], [1170028800000.0, 13.8], [1172620800000.0, 14.5], [1175126400000.0, 11.5], [1177804800000.0, 6.8], [1180396800000.0, 4.8], [1183075200000.0, 1.0], [1185667200000.0, -0.4], [1188345600000.0, 2.5], [1191024000000.0, 2.1], [1193616000000.0, 6.5], [1196294400000.0, 11.2], [1198886400000.0, 12.1], [1201564800000.0, 14.5], [1204243200000.0, 11.9], [1206748800000.0, 10.2], [1209427200000.0, 4.1], [1212019200000.0, 1.5], [1214697600000.0, 3.1], [1217289600000.0, -1.2], [1219968000000.0, -0.7], [1222646400000.0, 2.4], [1225238400000.0, 5.9], [1227916800000.0, 9.3], [1230508800000.0, 10.8], [1233187200000.0, 13.2], [1235779200000.0, 13.7], [1238284800000.0, 10.9], [1240963200000.0, 7.3], [1243555200000.0, 3.3], [1246233600000.0, 2.3], [1248825600000.0, 0.4], [1251504000000.0, 1.1], [1254182400000.0, 2.4], [1256774400000.0, 5.5], [1259452800000.0, 11.7], [1262044800000.0, 11.9], [1264723200000.0, 14.4], [1267315200000.0, 14.7], [1269820800000.0, 10.4], [1272499200000.0, 6.0], [1275091200000.0, 2.2], [1277769600000.0, -0.6], [1280361600000.0, -1.3], [1283040000000.0, 0.3], [1285718400000.0, 2.7], [1288310400000.0, 5.8], [1290988800000.0, 9.0], [1293580800000.0, 10.4], [1296259200000.0, 14.4], [1298851200000.0, 13.5], [1301356800000.0, 11.0], [1304035200000.0, 4.0], [1306627200000.0, -1.5], [1309305600000.0, -0.7], [1311897600000.0, -2.1], [1314576000000.0, 0.1], [1317254400000.0, 0.2], [1319846400000.0, 4.5], [1322524800000.0, 8.8], [1325116800000.0, 9.4], [1327795200000.0, 11.2], [1330473600000.0, 11.9], [1332979200000.0, 8.9], [1335657600000.0, 5.3], [1338249600000.0, -1.7], [1340928000000.0, -0.6], [1343520000000.0, -2.1], [1346198400000.0, -2.2], [1348876800000.0, 1.0], [1351468800000.0, 2.4]], 'name': 'CanberraMin'}, {'data': [[949104000000.0, 17.7], [951782400000.0, 19.7], [954288000000.0, 18.9], [956966400000.0, 14.8], [959558400000.0, 11.3], [962236800000.0, 7.6], [964828800000.0, 7.8], [967507200000.0, 9.0], [970185600000.0, 12.4], [972777600000.0, 14.0], [975456000000.0, 17.3], [978048000000.0, 19.3], [980726400000.0, 20.4], [983318400000.0, 20.7], [985824000000.0, 18.6], [988502400000.0, 15.0], [991094400000.0, 10.8], [993772800000.0, 8.9], [996364800000.0, 8.9], [999043200000.0, 8.2], [1001721600000.0, 12.0], [1004313600000.0, 13.0], [1006992000000.0, 15.0], [1009584000000.0, 18.0], [1012262400000.0, 19.2], [1014854400000.0, 18.6], [1017360000000.0, 17.6], [1020038400000.0, 15.8], [1022630400000.0, 11.9], [1025308800000.0, 8.6], [1027900800000.0, 6.5], [1030579200000.0, 8.8], [1033257600000.0, 10.6], [1035849600000.0, 13.6], [1038528000000.0, 16.4], [1041120000000.0, 17.5], [1043798400000.0, 19.3], [1046390400000.0, 20.0], [1048896000000.0, 17.3], [1051574400000.0, 14.2], [1054166400000.0, 12.5], [1056844800000.0, 9.6], [1059436800000.0, 7.6], [1062115200000.0, 8.0], [1064793600000.0, 10.4], [1067385600000.0, 11.9], [1070064000000.0, 14.9], [1072656000000.0, 18.5], [1075334400000.0, 19.3], [1078012800000.0, 19.6], [1080518400000.0, 18.3], [1083196800000.0, 15.3], [1085788800000.0, 10.3], [1088467200000.0, 8.2], [1091059200000.0, 7.9], [1093737600000.0, 9.3], [1096416000000.0, 11.0], [1099008000000.0, 13.9], [1101686400000.0, 15.5], [1104278400000.0, 17.5], [1106956800000.0, 19.1], [1109548800000.0, 18.8], [1112054400000.0, 16.3], [1114732800000.0, 16.0], [1117324800000.0, 11.4], [1120003200000.0, 9.8], [1122595200000.0, 8.6], [1125273600000.0, 7.9], [1127952000000.0, 11.2], [1130544000000.0, 15.0], [1133222400000.0, 19.3], [1135814400000.0, 18.2], [1138492800000.0, 20.1], [1141084800000.0, 20.0], [1143590400000.0, 19.2], [1146268800000.0, 13.1], [1148860800000.0, 10.4], [1151539200000.0, 7.9], [1154131200000.0, 8.3], [1156809600000.0, 9.0], [1159488000000.0, 12.2], [1162080000000.0, 13.8], [1164758400000.0, 15.1], [1167350400000.0, 16.9], [1170028800000.0, 19.1], [1172620800000.0, 20.1], [1175126400000.0, 18.2], [1177804800000.0, 14.8], [1180396800000.0, 12.2], [1183075200000.0, 8.4], [1185667200000.0, 7.2], [1188345600000.0, 10.4], [1191024000000.0, 11.3], [1193616000000.0, 14.7], [1196294400000.0, 17.1], [1198886400000.0, 17.9], [1201564800000.0, 19.8], [1204243200000.0, 18.0], [1206748800000.0, 17.2], [1209427200000.0, 13.3], [1212019200000.0, 10.5], [1214697600000.0, 11.0], [1217289600000.0, 7.5], [1219968000000.0, 7.4], [1222646400000.0, 11.0], [1225238400000.0, 13.7], [1227916800000.0, 15.8], [1230508800000.0, 17.4], [1233187200000.0, 19.1], [1235779200000.0, 19.3], [1238284800000.0, 18.0], [1240963200000.0, 14.8], [1243555200000.0, 11.9], [1246233600000.0, 9.5], [1248825600000.0, 7.9], [1251504000000.0, 9.1], [1254182400000.0, 12.1], [1256774400000.0, 13.5], [1259452800000.0, 17.7], [1262044800000.0, 18.6], [1264723200000.0, 19.8], [1267315200000.0, 20.6], [1269820800000.0, 18.7], [1272499200000.0, 15.0], [1275091200000.0, 11.3], [1277769600000.0, 8.4], [1280361600000.0, 8.4], [1283040000000.0, 8.6], [1285718400000.0, 11.1], [1288310400000.0, 14.1], [1290988800000.0, 16.2], [1293580800000.0, 18.0], [1296259200000.0, 20.4], [1298851200000.0, 20.2], [1301356800000.0, 18.5], [1304035200000.0, 14.1], [1306627200000.0, 9.8], [1309305600000.0, 9.5], [1311897600000.0, 7.7], [1314576000000.0, 9.6], [1317254400000.0, 11.1], [1319846400000.0, 13.8], [1322524800000.0, 16.9], [1325116800000.0, 16.4], [1327795200000.0, 19.0], [1330473600000.0, 19.0], [1332979200000.0, 17.3], [1335657600000.0, 14.7], [1338249600000.0, 10.6], [1340928000000.0, 9.0], [1343520000000.0, 8.4], [1346198400000.0, 8.0], [1348876800000.0, 10.9], [1351468800000.0, 12.7]], 'name': 'SydneyMin'}, {'data': [[949104000000.0, 19.1], [951782400000.0, 19.4], [954288000000.0, 19.3], [956966400000.0, 16.2], [959558400000.0, 12.9], [962236800000.0, 8.3], [964828800000.0, 6.8], [967507200000.0, 7.7], [970185600000.0, 11.3], [972777600000.0, 15.1], [975456000000.0, 16.7], [978048000000.0, 19.1], [980726400000.0, 20.5], [983318400000.0, 19.4], [985824000000.0, 19.5], [988502400000.0, 15.9], [991094400000.0, 11.0], [993772800000.0, 9.9], [996364800000.0, 8.2], [999043200000.0, 7.8], [1001721600000.0, 11.0], [1004313600000.0, 13.8], [1006992000000.0, 16.5], [1009584000000.0, 20.3], [1012262400000.0, 20.6], [1014854400000.0, 20.5], [1017360000000.0, 18.0], [1020038400000.0, 15.8], [1022630400000.0, 12.8], [1025308800000.0, 9.0], [1027900800000.0, 5.3], [1030579200000.0, 9.0], [1033257600000.0, 12.0], [1035849600000.0, 14.6], [1038528000000.0, 17.4], [1041120000000.0, 18.9], [1043798400000.0, 19.1], [1046390400000.0, 20.8], [1048896000000.0, 17.8], [1051574400000.0, 15.6], [1054166400000.0, 11.8], [1056844800000.0, 9.9], [1059436800000.0, 8.1], [1062115200000.0, 9.0], [1064793600000.0, 11.3], [1067385600000.0, 13.7], [1070064000000.0, 15.5], [1072656000000.0, 19.7], [1075334400000.0, 21.5], [1078012800000.0, 21.7], [1080518400000.0, 19.4], [1083196800000.0, 16.3], [1085788800000.0, 10.0], [1088467200000.0, 8.1], [1091059200000.0, 8.0], [1093737600000.0, 7.4], [1096416000000.0, 10.8], [1099008000000.0, 15.4], [1101686400000.0, 16.9], [1104278400000.0, 19.2], [1106956800000.0, 20.6], [1109548800000.0, 20.4], [1112054400000.0, 17.3], [1114732800000.0, 16.5], [1117324800000.0, 11.8], [1120003200000.0, 11.0], [1122595200000.0, 9.2], [1125273600000.0, 8.6], [1127952000000.0, 11.4], [1130544000000.0, 16.6], [1133222400000.0, 20.3], [1135814400000.0, 20.8], [1138492800000.0, 21.8], [1141084800000.0, 21.4], [1143590400000.0, 18.8], [1146268800000.0, 15.0], [1148860800000.0, 10.2], [1151539200000.0, 9.5], [1154131200000.0, 8.4], [1156809600000.0, 8.8], [1159488000000.0, 12.9], [1162080000000.0, 14.7], [1164758400000.0, 16.5], [1167350400000.0, 17.6], [1170028800000.0, 20.8], [1172620800000.0, 19.7], [1175126400000.0, 19.4], [1177804800000.0, 15.6], [1180396800000.0, 14.1], [1183075200000.0, 9.6], [1185667200000.0, 5.7], [1188345600000.0, 9.7], [1191024000000.0, 12.2], [1193616000000.0, 16.0], [1196294400000.0, 17.7], [1198886400000.0, 19.9], [1201564800000.0, 21.0], [1204243200000.0, 19.8], [1206748800000.0, 16.6], [1209427200000.0, 13.4], [1212019200000.0, 10.9], [1214697600000.0, 10.8], [1217289600000.0, 8.6], [1219968000000.0, 6.9], [1222646400000.0, 13.4], [1225238400000.0, 14.7], [1227916800000.0, 17.8], [1230508800000.0, 19.9], [1233187200000.0, 20.7], [1235779200000.0, 20.7], [1238284800000.0, 19.1], [1240963200000.0, 16.4], [1243555200000.0, 12.4], [1246233600000.0, 9.6], [1248825600000.0, 7.8], [1251504000000.0, 10.2], [1254182400000.0, 11.8], [1256774400000.0, 13.8], [1259452800000.0, 18.9], [1262044800000.0, 21.2], [1264723200000.0, 21.0], [1267315200000.0, 21.3], [1269820800000.0, 19.6], [1272499200000.0, 16.6], [1275091200000.0, 12.0], [1277769600000.0, 9.3], [1280361600000.0, 10.5], [1283040000000.0, 9.0], [1285718400000.0, 13.5], [1288310400000.0, 15.0], [1290988800000.0, 18.1], [1293580800000.0, 19.8], [1296259200000.0, 20.9], [1298851200000.0, 21.0], [1301356800000.0, 19.6], [1304035200000.0, 16.4], [1306627200000.0, 11.2], [1309305600000.0, 8.7], [1311897600000.0, 7.4], [1314576000000.0, 9.4], [1317254400000.0, 10.7], [1319846400000.0, 14.4], [1322524800000.0, 19.2], [1325116800000.0, 17.4], [1327795200000.0, 20.2], [1330473600000.0, 20.4], [1332979200000.0, 18.6], [1335657600000.0, 15.8], [1338249600000.0, 11.1], [1340928000000.0, 10.6], [1343520000000.0, 9.3], [1346198400000.0, 7.7], [1348876800000.0, 11.8], [1351468800000.0, 13.9]], 'name': 'BrisbaneMin'}, {'data': [[949104000000.0, 20.2], [951782400000.0, 20.7], [954288000000.0, 20.9], [956966400000.0, 18.7], [959558400000.0, 15.9], [962236800000.0, 12.3], [964828800000.0, 10.2], [967507200000.0, 11.0], [970185600000.0, 13.9], [972777600000.0, 16.3], [975456000000.0, 18.1], [978048000000.0, 20.1], [980726400000.0, 21.6], [983318400000.0, 20.5], [985824000000.0, 20.9], [988502400000.0, 18.0], [991094400000.0, 13.4], [993772800000.0, 12.6], [996364800000.0, 10.7], [999043200000.0, 10.6], [1001721600000.0, 13.6], [1004313600000.0, 15.8], [1006992000000.0, 17.2], [1009584000000.0, 20.5], [1012262400000.0, 21.4], [1014854400000.0, 22.0], [1017360000000.0, 20.1], [1020038400000.0, 18.3], [1022630400000.0, 15.6], [1025308800000.0, 12.4], [1027900800000.0, 9.2], [1030579200000.0, 11.8], [1033257600000.0, 14.7], [1035849600000.0, 16.0], [1038528000000.0, 18.6], [1041120000000.0, 19.4], [1043798400000.0, 20.8], [1046390400000.0, 21.2], [1048896000000.0, 19.0], [1051574400000.0, 17.4], [1054166400000.0, 14.4], [1056844800000.0, 12.6], [1059436800000.0, 10.7], [1062115200000.0, 11.7], [1064793600000.0, 13.2], [1067385600000.0, 14.9], [1070064000000.0, 17.2], [1072656000000.0, 20.2], [1075334400000.0, 21.9], [1078012800000.0, 21.9], [1080518400000.0, 20.5], [1083196800000.0, 18.0], [1085788800000.0, 13.0], [1088467200000.0, 11.2], [1091059200000.0, 11.0], [1093737600000.0, 10.7], [1096416000000.0, 13.0], [1099008000000.0, 16.7], [1101686400000.0, 18.2], [1104278400000.0, 19.9], [1106956800000.0, 21.8], [1109548800000.0, 21.7], [1112054400000.0, 18.8], [1114732800000.0, 18.5], [1117324800000.0, 14.1], [1120003200000.0, 13.2], [1122595200000.0, 11.7], [1125273600000.0, 11.5], [1127952000000.0, 13.4], [1130544000000.0, 17.4], [1133222400000.0, 20.0], [1135814400000.0, 20.8], [1138492800000.0, 22.2], [1141084800000.0, 21.9], [1143590400000.0, 20.0], [1146268800000.0, 16.5], [1148860800000.0, 12.9], [1151539200000.0, 11.6], [1154131200000.0, 11.1], [1156809600000.0, 11.9], [1159488000000.0, 14.7], [1162080000000.0, 16.0], [1164758400000.0, 17.1], [1167350400000.0, 18.8], [1170028800000.0, 21.0], [1172620800000.0, 21.4], [1175126400000.0, 20.7], [1177804800000.0, 17.2], [1180396800000.0, 16.3], [1183075200000.0, 11.6], [1185667200000.0, 8.5], [1188345600000.0, 12.1], [1191024000000.0, 13.7], [1193616000000.0, 17.3], [1196294400000.0, 18.2], [1198886400000.0, 20.5], [1201564800000.0, 21.8], [1204243200000.0, 20.7], [1206748800000.0, 18.8], [1209427200000.0, 15.5], [1212019200000.0, 13.3], [1214697600000.0, 12.8], [1217289600000.0, 10.5], [1219968000000.0, 9.5], [1222646400000.0, 15.1], [1225238400000.0, 15.7], [1227916800000.0, 18.5], [1230508800000.0, 20.1], [1233187200000.0, 21.6], [1235779200000.0, 21.3], [1238284800000.0, 20.4], [1240963200000.0, 17.7], [1243555200000.0, 14.5], [1246233600000.0, 11.8], [1248825600000.0, 10.7], [1251504000000.0, 12.7], [1254182400000.0, 13.7], [1256774400000.0, 16.1], [1259452800000.0, 19.6], [1262044800000.0, 21.3], [1264723200000.0, 21.8], [1267315200000.0, 21.8], [1269820800000.0, 21.1], [1272499200000.0, 18.7], [1275091200000.0, 14.6], [1277769600000.0, 12.2], [1280361600000.0, 12.4], [1283040000000.0, 11.0], [1285718400000.0, 15.4], [1288310400000.0, 16.0], [1290988800000.0, 18.7], [1293580800000.0, 20.6], [1296259200000.0, 21.6], [1298851200000.0, 21.6], [1301356800000.0, 20.5], [1304035200000.0, 17.9], [1306627200000.0, 13.0], [1309305600000.0, 11.4], [1311897600000.0, 10.2], [1314576000000.0, 11.9], [1317254400000.0, 13.5], [1319846400000.0, 16.0], [1322524800000.0, 19.9], [1325116800000.0, 19.0], [1327795200000.0, 21.1], [1330473600000.0, 21.1], [1332979200000.0, 20.2], [1335657600000.0, 17.5], [1338249600000.0, 14.0], [1340928000000.0, 13.0], [1343520000000.0, 12.1], [1346198400000.0, 10.9], [1348876800000.0, 14.0], [1351468800000.0, 15.7]], 'name': 'GoldCoastMin'}, {'data': [[949104000000.0, 24.5], [951782400000.0, 28.9], [954288000000.0, 25.5], [956966400000.0, 20.3], [959558400000.0, 15.2], [962236800000.0, 12.4], [964828800000.0, 11.8], [967507200000.0, 13.1], [970185600000.0, 17.5], [972777600000.0, 18.8], [975456000000.0, 22.4], [978048000000.0, 27.8], [980726400000.0, 31.0], [983318400000.0, 28.4], [985824000000.0, 23.5], [988502400000.0, 21.5], [991094400000.0, 16.9], [993772800000.0, 14.2], [996364800000.0, 12.9], [999043200000.0, 13.7], [1001721600000.0, 18.6], [1004313600000.0, 18.9], [1006992000000.0, 22.6], [1009584000000.0, 26.7], [1012262400000.0, 28.8], [1014854400000.0, 24.6], [1017360000000.0, 25.1], [1020038400000.0, 22.4], [1022630400000.0, 18.2], [1025308800000.0, 13.4], [1027900800000.0, 12.5], [1030579200000.0, 14.9], [1033257600000.0, 17.7], [1035849600000.0, 21.3], [1038528000000.0, 27.5], [1041120000000.0, 28.2], [1043798400000.0, 30.5], [1046390400000.0, 29.3], [1048896000000.0, 24.0], [1051574400000.0, 20.2], [1054166400000.0, 17.2], [1056844800000.0, 13.0], [1059436800000.0, 12.4], [1062115200000.0, 13.1], [1064793600000.0, 16.0], [1067385600000.0, 17.5], [1070064000000.0, 23.6], [1072656000000.0, 27.1], [1075334400000.0, 29.2], [1078012800000.0, 30.6], [1080518400000.0, 26.7], [1083196800000.0, 22.3], [1085788800000.0, 16.7], [1088467200000.0, 13.0], [1091059200000.0, 12.1], [1093737600000.0, 14.6], [1096416000000.0, 17.1], [1099008000000.0, 20.1], [1101686400000.0, 23.6], [1104278400000.0, 26.7], [1106956800000.0, 29.0], [1109548800000.0, 27.0], [1112054400000.0, 24.4], [1114732800000.0, 24.6], [1117324800000.0, 18.4], [1120003200000.0, 14.1], [1122595200000.0, 12.7], [1125273600000.0, 14.4], [1127952000000.0, 16.4], [1130544000000.0, 20.3], [1133222400000.0, 25.2], [1135814400000.0, 29.0], [1138492800000.0, 30.5], [1141084800000.0, 30.5], [1143590400000.0, 26.9], [1146268800000.0, 19.8], [1148860800000.0, 16.2], [1151539200000.0, 12.3], [1154131200000.0, 12.8], [1156809600000.0, 15.4], [1159488000000.0, 19.6], [1162080000000.0, 24.3], [1164758400000.0, 26.7], [1167350400000.0, 28.0], [1170028800000.0, 31.5], [1172620800000.0, 29.0], [1175126400000.0, 25.8], [1177804800000.0, 22.1], [1180396800000.0, 18.1], [1183075200000.0, 11.8], [1185667200000.0, 11.4], [1188345600000.0, 14.9], [1191024000000.0, 17.1], [1193616000000.0, 23.2], [1196294400000.0, 25.1], [1198886400000.0, 25.2], [1201564800000.0, 29.2], [1204243200000.0, 24.6], [1206748800000.0, 26.1], [1209427200000.0, 19.6], [1212019200000.0, 17.2], [1214697600000.0, 14.5], [1217289600000.0, 11.7], [1219968000000.0, 12.8], [1222646400000.0, 18.0], [1225238400000.0, 23.0], [1227916800000.0, 23.7], [1230508800000.0, 25.2], [1233187200000.0, 31.0], [1235779200000.0, 28.7], [1238284800000.0, 26.7], [1240963200000.0, 19.7], [1243555200000.0, 16.5], [1246233600000.0, 12.8], [1248825600000.0, 12.3], [1251504000000.0, 14.8], [1254182400000.0, 17.8], [1256774400000.0, 19.1], [1259452800000.0, 29.1], [1262044800000.0, 29.1], [1264723200000.0, 31.7], [1267315200000.0, 27.2], [1269820800000.0, 24.6], [1272499200000.0, 21.1], [1275091200000.0, 16.6], [1277769600000.0, 13.2], [1280361600000.0, 12.9], [1283040000000.0, 12.4], [1285718400000.0, 16.4], [1288310400000.0, 19.6], [1290988800000.0, 22.4], [1293580800000.0, 25.1], [1296259200000.0, 28.8], [1298851200000.0, 26.7], [1301356800000.0, 23.3], [1304035200000.0, 19.6], [1306627200000.0, 15.8], [1309305600000.0, 13.8], [1311897600000.0, 12.3], [1314576000000.0, 16.1], [1317254400000.0, 18.6], [1319846400000.0, 20.8], [1322524800000.0, 25.5], [1325116800000.0, 23.6], [1327795200000.0, 27.5], [1330473600000.0, 25.1], [1332979200000.0, 22.2], [1335657600000.0, 20.2], [1338249600000.0, 15.7], [1340928000000.0, 13.1], [1343520000000.0, 13.2], [1346198400000.0, 13.6], [1348876800000.0, 18.0], [1351468800000.0, 21.1]], 'name': 'Canberramax'}, {'data': [[949104000000.0, 24.3], [951782400000.0, 28.7], [954288000000.0, 25.1], [956966400000.0, 20.8], [959558400000.0, 16.0], [962236800000.0, 14.6], [964828800000.0, 14.4], [967507200000.0, 15.7], [970185600000.0, 18.3], [972777600000.0, 19.2], [975456000000.0, 23.7], [978048000000.0, 26.2], [980726400000.0, 29.4], [983318400000.0, 29.4], [985824000000.0, 24.4], [988502400000.0, 20.7], [991094400000.0, 17.0], [993772800000.0, 15.9], [996364800000.0, 14.7], [999043200000.0, 15.6], [1001721600000.0, 19.5], [1004313600000.0, 19.3], [1006992000000.0, 21.1], [1009584000000.0, 21.5], [1012262400000.0, 25.1], [1014854400000.0, 25.5], [1017360000000.0, 24.3], [1020038400000.0, 22.2], [1022630400000.0, 21.1], [1025308800000.0, 15.9], [1027900800000.0, 15.4], [1030579200000.0, 16.4], [1033257600000.0, 19.4], [1035849600000.0, 21.2], [1038528000000.0, 23.6], [1041120000000.0, 24.7], [1043798400000.0, 27.8], [1046390400000.0, 26.1], [1048896000000.0, 24.6], [1051574400000.0, 21.3], [1054166400000.0, 18.8], [1056844800000.0, 15.4], [1059436800000.0, 14.8], [1062115200000.0, 15.1], [1064793600000.0, 17.2], [1067385600000.0, 18.0], [1070064000000.0, 23.7], [1072656000000.0, 27.2], [1075334400000.0, 24.6], [1078012800000.0, 26.1], [1080518400000.0, 23.9], [1083196800000.0, 22.0], [1085788800000.0, 17.4], [1088467200000.0, 14.8], [1091059200000.0, 14.1], [1093737600000.0, 16.4], [1096416000000.0, 17.5], [1099008000000.0, 21.4], [1101686400000.0, 22.5], [1104278400000.0, 25.4], [1106956800000.0, 26.8], [1109548800000.0, 24.7], [1112054400000.0, 23.9], [1114732800000.0, 24.5], [1117324800000.0, 18.5], [1120003200000.0, 16.3], [1122595200000.0, 15.2], [1125273600000.0, 16.3], [1127952000000.0, 18.1], [1130544000000.0, 21.4], [1133222400000.0, 28.1], [1135814400000.0, 28.2], [1138492800000.0, 27.7], [1141084800000.0, 25.5], [1143590400000.0, 26.1], [1146268800000.0, 19.4], [1148860800000.0, 16.5], [1151539200000.0, 14.3], [1154131200000.0, 14.5], [1156809600000.0, 17.0], [1159488000000.0, 19.9], [1162080000000.0, 22.5], [1164758400000.0, 22.7], [1167350400000.0, 25.4], [1170028800000.0, 28.0], [1172620800000.0, 29.0], [1175126400000.0, 25.7], [1177804800000.0, 22.7], [1180396800000.0, 19.6], [1183075200000.0, 14.1], [1185667200000.0, 13.8], [1188345600000.0, 17.3], [1191024000000.0, 18.9], [1193616000000.0, 22.1], [1196294400000.0, 24.6], [1198886400000.0, 27.2], [1201564800000.0, 28.1], [1204243200000.0, 25.3], [1206748800000.0, 27.1], [1209427200000.0, 21.0], [1212019200000.0, 17.5], [1214697600000.0, 15.8], [1217289600000.0, 14.2], [1219968000000.0, 14.7], [1222646400000.0, 19.3], [1225238400000.0, 22.5], [1227916800000.0, 23.0], [1230508800000.0, 23.3], [1233187200000.0, 28.6], [1235779200000.0, 27.4], [1238284800000.0, 24.4], [1240963200000.0, 21.2], [1243555200000.0, 17.9], [1246233600000.0, 15.5], [1248825600000.0, 15.1], [1251504000000.0, 17.1], [1254182400000.0, 18.9], [1256774400000.0, 20.1], [1259452800000.0, 27.3], [1262044800000.0, 26.3], [1264723200000.0, 27.9], [1267315200000.0, 28.3], [1269820800000.0, 26.1], [1272499200000.0, 22.8], [1275091200000.0, 18.3], [1277769600000.0, 14.6], [1280361600000.0, 14.7], [1283040000000.0, 14.7], [1285718400000.0, 16.6], [1288310400000.0, 21.1], [1290988800000.0, 23.4], [1293580800000.0, 24.8], [1296259200000.0, 26.7], [1298851200000.0, 25.3], [1301356800000.0, 23.5], [1304035200000.0, 21.2], [1306627200000.0, 16.3], [1309305600000.0, 15.9], [1311897600000.0, 14.7], [1314576000000.0, 17.4], [1317254400000.0, 19.5], [1319846400000.0, 20.9], [1322524800000.0, 24.9], [1325116800000.0, 25.1], [1327795200000.0, 27.8], [1330473600000.0, 26.9], [1332979200000.0, 23.8], [1335657600000.0, 21.9], [1338249600000.0, 17.2], [1340928000000.0, 14.5], [1343520000000.0, 14.9], [1346198400000.0, 15.3], [1348876800000.0, 18.7], [1351468800000.0, 20.8]], 'name': 'Melbournemax'}, {'data': [[949104000000.0, 28.2], [951782400000.0, 27.7], [954288000000.0, 27.9], [956966400000.0, 25.7], [959558400000.0, 23.1], [962236800000.0, 20.6], [964828800000.0, 21.2], [967507200000.0, 22.4], [970185600000.0, 25.1], [972777600000.0, 25.5], [975456000000.0, 25.6], [978048000000.0, 28.3], [980726400000.0, 29.0], [983318400000.0, 28.1], [985824000000.0, 29.0], [988502400000.0, 26.0], [991094400000.0, 23.6], [993772800000.0, 22.5], [996364800000.0, 21.5], [999043200000.0, 22.0], [1001721600000.0, 24.1], [1004313600000.0, 26.6], [1006992000000.0, 26.5], [1009584000000.0, 29.2], [1012262400000.0, 30.2], [1014854400000.0, 30.1], [1017360000000.0, 28.5], [1020038400000.0, 26.8], [1022630400000.0, 24.5], [1025308800000.0, 22.1], [1027900800000.0, 21.7], [1030579200000.0, 21.4], [1033257600000.0, 24.7], [1035849600000.0, 26.0], [1038528000000.0, 27.0], [1041120000000.0, 28.6], [1043798400000.0, 28.7], [1046390400000.0, 28.0], [1048896000000.0, 26.7], [1051574400000.0, 25.6], [1054166400000.0, 23.6], [1056844800000.0, 21.8], [1059436800000.0, 20.6], [1062115200000.0, 21.6], [1064793600000.0, 26.2], [1067385600000.0, 25.4], [1070064000000.0, 26.5], [1072656000000.0, 28.0], [1075334400000.0, 30.1], [1078012800000.0, 30.5], [1080518400000.0, 27.9], [1083196800000.0, 26.1], [1085788800000.0, 23.9], [1088467200000.0, 22.4], [1091059200000.0, 21.7], [1093737600000.0, 22.6], [1096416000000.0, 23.8], [1099008000000.0, 26.7], [1101686400000.0, 27.4], [1104278400000.0, 28.0], [1106956800000.0, 29.0], [1109548800000.0, 29.6], [1112054400000.0, 28.1], [1114732800000.0, 26.5], [1117324800000.0, 23.6], [1120003200000.0, 21.3], [1122595200000.0, 21.6], [1125273600000.0, 21.9], [1127952000000.0, 24.1], [1130544000000.0, 26.4], [1133222400000.0, 26.5], [1135814400000.0, 30.5], [1138492800000.0, 29.6], [1141084800000.0, 30.0], [1143590400000.0, 27.5], [1146268800000.0, 26.9], [1148860800000.0, 24.5], [1151539200000.0, 21.1], [1154131200000.0, 22.0], [1156809600000.0, 22.8], [1159488000000.0, 23.5], [1162080000000.0, 25.2], [1164758400000.0, 26.7], [1167350400000.0, 26.8], [1170028800000.0, 29.0], [1172620800000.0, 28.2], [1175126400000.0, 29.1], [1177804800000.0, 26.7], [1180396800000.0, 25.4], [1183075200000.0, 20.2], [1185667200000.0, 20.8], [1188345600000.0, 22.3], [1191024000000.0, 24.0], [1193616000000.0, 26.4], [1196294400000.0, 25.9], [1198886400000.0, 27.9], [1201564800000.0, 28.2], [1204243200000.0, 28.4], [1206748800000.0, 26.5], [1209427200000.0, 25.3], [1212019200000.0, 23.5], [1214697600000.0, 22.4], [1217289600000.0, 20.2], [1219968000000.0, 20.9], [1222646400000.0, 23.6], [1225238400000.0, 25.1], [1227916800000.0, 27.6], [1230508800000.0, 28.8], [1233187200000.0, 29.2], [1235779200000.0, 28.8], [1238284800000.0, 28.2], [1240963200000.0, 26.5], [1243555200000.0, 23.3], [1246233600000.0, 21.1], [1248825600000.0, 20.8], [1251504000000.0, 24.0], [1254182400000.0, 25.7], [1256774400000.0, 26.8], [1259452800000.0, 28.0], [1262044800000.0, 28.9], [1264723200000.0, 29.7], [1267315200000.0, 29.2], [1269820800000.0, 27.4], [1272499200000.0, 26.1], [1275091200000.0, 23.5], [1277769600000.0, 21.2], [1280361600000.0, 20.7], [1283040000000.0, 21.0], [1285718400000.0, 23.5], [1288310400000.0, 23.7], [1290988800000.0, 26.0], [1293580800000.0, 26.9], [1296259200000.0, 28.3], [1298851200000.0, 29.2], [1301356800000.0, 27.8], [1304035200000.0, 25.3], [1306627200000.0, 22.4], [1309305600000.0, 20.5], [1311897600000.0, 20.9], [1314576000000.0, 21.7], [1317254400000.0, 23.7], [1319846400000.0, 24.7], [1322524800000.0, 27.6], [1325116800000.0, 26.5], [1327795200000.0, 27.9], [1330473600000.0, 28.4], [1332979200000.0, 27.3], [1335657600000.0, 25.4], [1338249600000.0, 23.1], [1340928000000.0, 20.6], [1343520000000.0, 20.5], [1346198400000.0, 22.3], [1348876800000.0, 24.2], [1351468800000.0, 25.5]], 'name': 'BrisbaneMax'}, {'data': [[949104000000.0, 27.5], [951782400000.0, 26.6], [954288000000.0, 27.0], [956966400000.0, 25.2], [959558400000.0, 22.9], [962236800000.0, 20.5], [964828800000.0, 21.8], [967507200000.0, 22.1], [970185600000.0, 25.7], [972777600000.0, 25.5], [975456000000.0, 26.4], [978048000000.0, 28.0], [980726400000.0, 29.2], [983318400000.0, 28.2], [985824000000.0, 28.8], [988502400000.0, 26.2], [991094400000.0, 23.6], [993772800000.0, 23.0], [996364800000.0, 21.8], [999043200000.0, 22.5], [1001721600000.0, 24.0], [1004313600000.0, 26.3], [1006992000000.0, 26.8], [1009584000000.0, 29.3], [1012262400000.0, 29.8], [1014854400000.0, 30.4], [1017360000000.0, 28.7], [1020038400000.0, 26.3], [1022630400000.0, 24.3], [1025308800000.0, 22.3], [1027900800000.0, 21.9], [1030579200000.0, 21.5], [1033257600000.0, 25.1], [1035849600000.0, 26.4], [1038528000000.0, 27.8], [1041120000000.0, 28.6], [1043798400000.0, 29.1], [1046390400000.0, 28.1], [1048896000000.0, 26.9], [1051574400000.0, 25.4], [1054166400000.0, 23.7], [1056844800000.0, 22.3], [1059436800000.0, 21.1], [1062115200000.0, 22.0], [1064793600000.0, 26.0], [1067385600000.0, 25.2], [1070064000000.0, 26.2], [1072656000000.0, 28.6], [1075334400000.0, 30.8], [1078012800000.0, 31.1], [1080518400000.0, 28.1], [1083196800000.0, 26.6], [1085788800000.0, 23.7], [1088467200000.0, 22.6], [1091059200000.0, 22.1], [1093737600000.0, 23.3], [1096416000000.0, 24.9], [1099008000000.0, 27.0], [1101686400000.0, 28.2], [1104278400000.0, 28.9], [1106956800000.0, 29.5], [1109548800000.0, 30.9], [1112054400000.0, 28.7], [1114732800000.0, 27.0], [1117324800000.0, 23.8], [1120003200000.0, 21.7], [1122595200000.0, 21.9], [1125273600000.0, 22.4], [1127952000000.0, 25.2], [1130544000000.0, 27.7], [1133222400000.0, 28.9], [1135814400000.0, 31.4], [1138492800000.0, 30.5], [1141084800000.0, 30.5], [1143590400000.0, 28.6], [1146268800000.0, 27.8], [1148860800000.0, 24.7], [1151539200000.0, 21.3], [1154131200000.0, 22.0], [1156809600000.0, 23.3], [1159488000000.0, 24.1], [1162080000000.0, 26.3], [1164758400000.0, 27.6], [1167350400000.0, 27.8], [1170028800000.0, 30.8], [1172620800000.0, 29.4], [1175126400000.0, 29.8], [1177804800000.0, 27.1], [1180396800000.0, 26.0], [1183075200000.0, 21.1], [1185667200000.0, 21.7], [1188345600000.0, 23.0], [1191024000000.0, 25.3], [1193616000000.0, 27.7], [1196294400000.0, 26.8], [1198886400000.0, 28.5], [1201564800000.0, 28.6], [1204243200000.0, 29.1], [1206748800000.0, 27.4], [1209427200000.0, 25.3], [1212019200000.0, 24.5], [1214697600000.0, 23.0], [1217289600000.0, 21.0], [1219968000000.0, 22.4], [1222646400000.0, 24.5], [1225238400000.0, 26.2], [1227916800000.0, 27.2], [1230508800000.0, 29.7], [1233187200000.0, 29.6], [1235779200000.0, 29.8], [1238284800000.0, 28.6], [1240963200000.0, 26.7], [1243555200000.0, 23.9], [1246233600000.0, 21.4], [1248825600000.0, 21.4], [1251504000000.0, 24.6], [1254182400000.0, 25.3], [1256774400000.0, 26.6], [1259452800000.0, 28.6], [1262044800000.0, 28.8], [1264723200000.0, 30.3], [1267315200000.0, 29.3], [1269820800000.0, 28.1], [1272499200000.0, 27.2], [1275091200000.0, 23.9], [1277769600000.0, 21.6], [1280361600000.0, 21.5], [1283040000000.0, 21.8], [1285718400000.0, 24.3], [1288310400000.0, 23.9], [1290988800000.0, 26.2], [1293580800000.0, 27.0], [1296259200000.0, 28.6], [1298851200000.0, 29.7], [1301356800000.0, 28.5], [1304035200000.0, 25.8], [1306627200000.0, 22.8], [1309305600000.0, 21.1], [1311897600000.0, 21.2], [1314576000000.0, 21.8], [1317254400000.0, 24.0], [1319846400000.0, 24.8], [1322524800000.0, 27.7], [1325116800000.0, 26.9], [1327795200000.0, 28.0], [1330473600000.0, 29.1], [1332979200000.0, 27.7], [1335657600000.0, 25.9], [1338249600000.0, 23.8], [1340928000000.0, 21.1], [1343520000000.0, 21.0], [1346198400000.0, 22.7], [1348876800000.0, 24.3], [1351468800000.0, 25.6]], 'name': 'GoldCoastMax'}, {'data': [[949104000000.0, 24.9], [951782400000.0, 27.9], [954288000000.0, 25.2], [956966400000.0, 22.8], [959558400000.0, 19.8], [962236800000.0, 17.1], [964828800000.0, 17.5], [967507200000.0, 18.2], [970185600000.0, 22.8], [972777600000.0, 22.8], [975456000000.0, 23.1], [978048000000.0, 28.2], [980726400000.0, 28.0], [983318400000.0, 26.9], [985824000000.0, 25.1], [988502400000.0, 23.5], [991094400000.0, 18.8], [993772800000.0, 19.2], [996364800000.0, 16.9], [999043200000.0, 19.1], [1001721600000.0, 21.9], [1004313600000.0, 23.8], [1006992000000.0, 23.5], [1009584000000.0, 27.0], [1012262400000.0, 26.8], [1014854400000.0, 25.1], [1017360000000.0, 25.3], [1020038400000.0, 23.7], [1022630400000.0, 21.2], [1025308800000.0, 18.9], [1027900800000.0, 17.9], [1030579200000.0, 19.1], [1033257600000.0, 22.8], [1035849600000.0, 24.7], [1038528000000.0, 26.3], [1041120000000.0, 26.2], [1043798400000.0, 27.7], [1046390400000.0, 27.4], [1048896000000.0, 24.5], [1051574400000.0, 22.0], [1054166400000.0, 20.4], [1056844800000.0, 19.5], [1059436800000.0, 17.5], [1062115200000.0, 18.9], [1064793600000.0, 22.1], [1067385600000.0, 21.2], [1070064000000.0, 23.5], [1072656000000.0, 26.9], [1075334400000.0, 27.9], [1078012800000.0, 28.0], [1080518400000.0, 25.9], [1083196800000.0, 23.9], [1085788800000.0, 20.6], [1088467200000.0, 19.8], [1091059200000.0, 17.4], [1093737600000.0, 19.5], [1096416000000.0, 21.6], [1099008000000.0, 23.3], [1101686400000.0, 26.0], [1104278400000.0, 25.9], [1106956800000.0, 27.1], [1109548800000.0, 27.6], [1112054400000.0, 23.9], [1114732800000.0, 25.5], [1117324800000.0, 20.5], [1120003200000.0, 19.3], [1122595200000.0, 18.7], [1125273600000.0, 19.6], [1127952000000.0, 20.7], [1130544000000.0, 24.5], [1133222400000.0, 25.8], [1135814400000.0, 30.3], [1138492800000.0, 28.4], [1141084800000.0, 28.2], [1143590400000.0, 26.9], [1146268800000.0, 23.9], [1148860800000.0, 19.9], [1151539200000.0, 16.5], [1154131200000.0, 17.4], [1156809600000.0, 18.9], [1159488000000.0, 22.9], [1162080000000.0, 24.9], [1164758400000.0, 25.9], [1167350400000.0, 25.6], [1170028800000.0, 28.1], [1172620800000.0, 26.8], [1175126400000.0, 26.6], [1177804800000.0, 22.9], [1180396800000.0, 22.8], [1183075200000.0, 16.7], [1185667200000.0, 16.8], [1188345600000.0, 20.0], [1191024000000.0, 21.1], [1193616000000.0, 26.1], [1196294400000.0, 24.0], [1198886400000.0, 25.8], [1201564800000.0, 27.2], [1204243200000.0, 24.7], [1206748800000.0, 25.8], [1209427200000.0, 21.2], [1212019200000.0, 20.3], [1214697600000.0, 18.7], [1217289600000.0, 17.1], [1219968000000.0, 17.2], [1222646400000.0, 22.1], [1225238400000.0, 24.9], [1227916800000.0, 24.6], [1230508800000.0, 27.6], [1233187200000.0, 29.1], [1235779200000.0, 26.3], [1238284800000.0, 26.3], [1240963200000.0, 22.7], [1243555200000.0, 20.5], [1246233600000.0, 18.3], [1248825600000.0, 18.1], [1251504000000.0, 21.6], [1254182400000.0, 24.0], [1256774400000.0, 22.3], [1259452800000.0, 28.3], [1262044800000.0, 27.0], [1264723200000.0, 27.8], [1267315200000.0, 28.4], [1269820800000.0, 27.0], [1272499200000.0, 24.3], [1275091200000.0, 20.5], [1277769600000.0, 17.6], [1280361600000.0, 16.8], [1283040000000.0, 18.3], [1285718400000.0, 21.2], [1288310400000.0, 23.0], [1290988800000.0, 24.8], [1293580800000.0, 27.0], [1296259200000.0, 28.2], [1298851200000.0, 29.7], [1301356800000.0, 26.4], [1304035200000.0, 22.5], [1306627200000.0, 19.1], [1309305600000.0, 18.0], [1311897600000.0, 17.2], [1314576000000.0, 19.4], [1317254400000.0, 22.1], [1319846400000.0, 22.4], [1322524800000.0, 26.4], [1325116800000.0, 22.8], [1327795200000.0, 27.1], [1330473600000.0, 26.3], [1332979200000.0, 25.1], [1335657600000.0, 23.6], [1338249600000.0, 20.5], [1340928000000.0, 17.7], [1343520000000.0, 17.3], [1346198400000.0, 19.9], [1348876800000.0, 22.6], [1351468800000.0, 24.2]], 'name': 'SydneyMax'}, {'data': [[949104000000.0, 15.9], [951782400000.0, 18.9], [954288000000.0, 16.4], [956966400000.0, 12.7], [959558400000.0, 9.9], [962236800000.0, 7.7], [964828800000.0, 6.3], [967507200000.0, 7.1], [970185600000.0, 9.3], [972777600000.0, 10.1], [975456000000.0, 14.9], [978048000000.0, 13.8], [980726400000.0, 16.7], [983318400000.0, 17.3], [985824000000.0, 13.5], [988502400000.0, 11.1], [991094400000.0, 9.4], [993772800000.0, 9.0], [996364800000.0, 7.8], [999043200000.0, 7.9], [1001721600000.0, 9.6], [1004313600000.0, 9.6], [1006992000000.0, 10.9], [1009584000000.0, 12.2], [1012262400000.0, 14.4], [1014854400000.0, 14.2], [1017360000000.0, 14.0], [1020038400000.0, 12.2], [1022630400000.0, 10.9], [1025308800000.0, 8.5], [1027900800000.0, 7.1], [1030579200000.0, 7.0], [1033257600000.0, 8.6], [1035849600000.0, 9.9], [1038528000000.0, 12.1], [1041120000000.0, 14.2], [1043798400000.0, 15.1], [1046390400000.0, 16.2], [1048896000000.0, 14.9], [1051574400000.0, 10.8], [1054166400000.0, 9.4], [1056844800000.0, 8.4], [1059436800000.0, 6.8], [1062115200000.0, 6.7], [1064793600000.0, 7.0], [1067385600000.0, 8.5], [1070064000000.0, 11.9], [1072656000000.0, 14.7], [1075334400000.0, 13.8], [1078012800000.0, 15.1], [1080518400000.0, 13.7], [1083196800000.0, 11.1], [1085788800000.0, 8.5], [1088467200000.0, 8.1], [1091059200000.0, 7.4], [1093737600000.0, 7.4], [1096416000000.0, 9.3], [1099008000000.0, 10.5], [1101686400000.0, 11.5], [1104278400000.0, 13.9], [1106956800000.0, 15.2], [1109548800000.0, 13.8], [1112054400000.0, 12.9], [1114732800000.0, 12.5], [1117324800000.0, 8.8], [1120003200000.0, 8.1], [1122595200000.0, 8.0], [1125273600000.0, 7.4], [1127952000000.0, 8.9], [1130544000000.0, 11.2], [1133222400000.0, 13.8], [1135814400000.0, 13.6], [1138492800000.0, 16.1], [1141084800000.0, 15.1], [1143590400000.0, 14.8], [1146268800000.0, 9.9], [1148860800000.0, 8.2], [1151539200000.0, 5.9], [1154131200000.0, 7.2], [1156809600000.0, 7.2], [1159488000000.0, 8.2], [1162080000000.0, 9.0], [1164758400000.0, 11.3], [1167350400000.0, 12.5], [1170028800000.0, 16.8], [1172620800000.0, 17.9], [1175126400000.0, 14.3], [1177804800000.0, 11.7], [1180396800000.0, 11.8], [1183075200000.0, 6.7], [1185667200000.0, 6.5], [1188345600000.0, 7.9], [1191024000000.0, 8.7], [1193616000000.0, 10.2], [1196294400000.0, 13.7], [1198886400000.0, 15.3], [1201564800000.0, 16.6], [1204243200000.0, 15.6], [1206748800000.0, 14.0], [1209427200000.0, 10.5], [1212019200000.0, 8.4], [1214697600000.0, 9.6], [1217289600000.0, 6.4], [1219968000000.0, 6.7], [1222646400000.0, 8.5], [1225238400000.0, 10.4], [1227916800000.0, 11.7], [1230508800000.0, 12.7], [1233187200000.0, 15.5], [1235779200000.0, 16.1], [1238284800000.0, 13.9], [1240963200000.0, 10.4], [1243555200000.0, 9.1], [1246233600000.0, 7.1], [1248825600000.0, 7.8], [1251504000000.0, 8.3], [1254182400000.0, 9.0], [1256774400000.0, 9.8], [1259452800000.0, 15.0], [1262044800000.0, 13.7], [1264723200000.0, 15.3], [1267315200000.0, 17.1], [1269820800000.0, 15.4], [1272499200000.0, 13.8], [1275091200000.0, 8.9], [1277769600000.0, 6.9], [1280361600000.0, 6.7], [1283040000000.0, 7.2], [1285718400000.0, 8.4], [1288310400000.0, 9.9], [1290988800000.0, 12.6], [1293580800000.0, 13.7], [1296259200000.0, 16.6], [1298851200000.0, 15.4], [1301356800000.0, 14.1], [1304035200000.0, 11.1], [1306627200000.0, 8.9], [1309305600000.0, 7.4], [1311897600000.0, 7.4], [1314576000000.0, 8.0], [1317254400000.0, 8.8], [1319846400000.0, 10.6], [1322524800000.0, 13.1], [1325116800000.0, 14.3], [1327795200000.0, 16.2], [1330473600000.0, 16.1], [1332979200000.0, 13.9], [1335657600000.0, 11.0], [1338249600000.0, 9.3], [1340928000000.0, 7.4], [1343520000000.0, 7.0], [1346198400000.0, 7.5], [1348876800000.0, 8.8], [1351468800000.0, 9.7]], 'name': 'MelbourneMin'}];\n",
       "\n",
       "            /**\n",
       "             * Create the chart when all data is loaded\n",
       "             * @returns {undefined}\n",
       "             */\n",
       "            Highcharts.stockChart('container6497', {\n",
       "              chart: {\n",
       "                zoomType: 'x'\n",
       "              },\n",
       "              title: {\n",
       "                  text: 'Temperatures in Australia'\n",
       "              },\n",
       "              plotOptions: {\n",
       "                series: {\n",
       "                  showInNavigator: true,\n",
       "                }\n",
       "              },\n",
       "                yAxis: {\n",
       "                    title: {\n",
       "                        text: 'ºC'\n",
       "                    }\n",
       "                },\n",
       "              tooltip: {\n",
       "                pointFormat: '<span style=\"color:{series.color}\">{series.name}</span>:<b>{point.y}</b>',\n",
       "                valueDecimals: 2,\n",
       "                split: true\n",
       "              },\n",
       "              series: seriesOptions\n",
       "            });\n",
       "        </script>\n",
       "\n",
       "        </body>\n",
       "        </html>\n",
       "    "
      ],
      "text/plain": [
       "<IPython.core.display.HTML object>"
      ]
     },
     "metadata": {},
     "output_type": "display_data"
    }
   ],
   "source": [
    "def get_x_y_names_from_streams(streams, tag):\n",
    "    names = []\n",
    "    y = []\n",
    "    x = []\n",
    "    for stream_id, stream in streams.iteritems():\n",
    "        meta_data = dict(stream_id.meta_data)\n",
    "        names.append(meta_data[tag])\n",
    "        y.append([instance.value for instance in stream.window().items()])\n",
    "        x.append([str(instance.timestamp) for instance in stream.window().items()])\n",
    "    return y, x, names\n",
    "\n",
    "data, time, names = get_x_y_names_from_streams(M.find_streams(country='Australia', name='city_temperature'), 'city')\n",
    "\n",
    "plot_multiple_stock(data, time=time, names=names,\n",
    "                    title='Temperatures in Australia', ylabel='ºC')"
   ]
  },
  {
   "cell_type": "code",
   "execution_count": 9,
   "metadata": {
    "collapsed": false
   },
   "outputs": [
    {
     "name": "stdout",
     "output_type": "stream",
     "text": [
      "(('country', 'NZ'),)\n",
      "StreamInstance(timestamp=datetime.datetime(2000, 1, 29, 0, 0, tzinfo=<UTC>), value=16.73)\n",
      "(('country', 'USA'),)\n",
      "StreamInstance(timestamp=datetime.datetime(2000, 1, 29, 0, 0, tzinfo=<UTC>), value=6.0600000000000005)\n",
      "(('country', 'Australia'),)\n",
      "StreamInstance(timestamp=datetime.datetime(2000, 1, 29, 0, 0, tzinfo=<UTC>), value=21.24)\n",
      "(('country', 'Asia'),)\n",
      "StreamInstance(timestamp=datetime.datetime(2000, 1, 29, 0, 0, tzinfo=<UTC>), value=18.990000000000002)\n"
     ]
    }
   ],
   "source": [
    "for stream_id, stream in country_node_avg_temp.streams.iteritems():\n",
    "    print(stream_id)\n",
    "    print(stream.window().first())"
   ]
  },
  {
   "cell_type": "code",
   "execution_count": 10,
   "metadata": {
    "collapsed": false
   },
   "outputs": [
    {
     "data": {
      "text/html": [
       "\n",
       "     <html>\n",
       "        <head>\n",
       "        <title>Temperatures in world</title>\n",
       "           <script src=\"./scripts/jquery.min.js\"></script>\n",
       "           <script src=\"./scripts/highstock.js\"></script>\n",
       "           <script src=\"./scripts/exporting.js\"></script>\n",
       "        </head>\n",
       "        <body>\n",
       "\n",
       "        <div id=\"container9095\" style=\"width: 800px; height: 600px; margin: 125 auto\"></div>\n",
       "\n",
       "        <script language=\"JavaScript\">\n",
       "            var seriesOptions = [{'data': [[949104000000.0, 21.24], [951782400000.0, 23.169999999999995], [954288000000.0, 21.85], [956966400000.0, 18.220000000000002], [959558400000.0, 14.930000000000001], [962236800000.0, 11.919999999999998], [964828800000.0, 11.68], [967507200000.0, 12.620000000000001], [970185600000.0, 16.04], [972777600000.0, 17.189999999999998], [975456000000.0, 19.95], [978048000000.0, 22.110000000000003], [980726400000.0, 23.96], [983318400000.0, 23.27], [985824000000.0, 21.25], [988502400000.0, 18.27], [991094400000.0, 14.4], [993772800000.0, 13.41], [996364800000.0, 12.34], [999043200000.0, 12.749999999999998], [1001721600000.0, 15.77], [1004313600000.0, 17.12], [1006992000000.0, 18.61], [1009584000000.0, 21.48], [1012262400000.0, 22.799999999999997], [1014854400000.0, 22.4], [1017360000000.0, 21.08], [1020038400000.0, 19.06], [1022630400000.0, 16.270000000000003], [1025308800000.0, 13.220000000000002], [1027900800000.0, 11.55], [1030579200000.0, 12.830000000000002], [1033257600000.0, 15.73], [1035849600000.0, 17.81], [1038528000000.0, 20.740000000000002], [1041120000000.0, 21.729999999999997], [1043798400000.0, 23.060000000000002], [1046390400000.0, 23.139999999999997], [1048896000000.0, 20.470000000000002], [1051574400000.0, 17.89], [1054166400000.0, 15.540000000000001], [1056844800000.0, 13.52], [1059436800000.0, 11.959999999999997], [1062115200000.0, 12.62], [1064793600000.0, 15.210000000000003], [1067385600000.0, 16.06], [1070064000000.0, 19.06], [1072656000000.0, 22.33], [1075334400000.0, 23.130000000000003], [1078012800000.0, 23.79], [1080518400000.0, 21.39], [1083196800000.0, 18.830000000000002], [1085788800000.0, 14.420000000000002], [1088467200000.0, 12.919999999999998], [1091059200000.0, 12.02], [1093737600000.0, 13.190000000000001], [1096416000000.0, 15.209999999999999], [1099008000000.0, 18.07], [1101686400000.0, 19.759999999999998], [1104278400000.0, 21.59], [1106956800000.0, 23.07], [1109548800000.0, 22.68], [1112054400000.0, 20.3], [1114732800000.0, 19.81], [1117324800000.0, 15.200000000000003], [1120003200000.0, 13.620000000000001], [1122595200000.0, 12.79], [1125273600000.0, 12.929999999999998], [1127952000000.0, 15.309999999999999], [1130544000000.0, 18.77], [1133222400000.0, 22.080000000000002], [1135814400000.0, 23.339999999999996], [1138492800000.0, 24.249999999999996], [1141084800000.0, 23.65], [1143590400000.0, 22.009999999999998], [1146268800000.0, 17.54], [1148860800000.0, 14.450000000000003], [1151539200000.0, 11.919999999999998], [1154131200000.0, 12.43], [1156809600000.0, 13.309999999999999], [1159488000000.0, 16.029999999999998], [1162080000000.0, 18.130000000000003], [1164758400000.0, 19.829999999999995], [1167350400000.0, 21.050000000000004], [1170028800000.0, 23.89], [1172620800000.0, 23.6], [1175126400000.0, 22.11], [1177804800000.0, 18.76], [1180396800000.0, 17.109999999999996], [1183075200000.0, 12.120000000000001], [1185667200000.0, 11.2], [1188345600000.0, 14.01], [1191024000000.0, 15.440000000000001], [1193616000000.0, 19.02], [1196294400000.0, 20.43], [1198886400000.0, 22.029999999999998], [1201564800000.0, 23.5], [1204243200000.0, 21.81], [1206748800000.0, 20.97], [1209427200000.0, 16.92], [1212019200000.0, 14.76], [1214697600000.0, 14.170000000000002], [1217289600000.0, 11.6], [1219968000000.0, 11.780000000000003], [1222646400000.0, 15.790000000000001], [1225238400000.0, 18.209999999999997], [1227916800000.0, 19.919999999999998], [1230508800000.0, 21.550000000000004], [1233187200000.0, 23.759999999999998], [1235779200000.0, 23.21], [1238284800000.0, 21.65], [1240963200000.0, 18.34], [1243555200000.0, 15.330000000000002], [1246233600000.0, 12.940000000000001], [1248825600000.0, 12.23], [1251504000000.0, 14.349999999999998], [1254182400000.0, 16.07], [1256774400000.0, 17.36], [1259452800000.0, 22.419999999999995], [1262044800000.0, 22.68], [1264723200000.0, 23.970000000000002], [1267315200000.0, 23.79], [1269820800000.0, 21.839999999999996], [1272499200000.0, 19.160000000000004], [1275091200000.0, 15.180000000000003], [1277769600000.0, 12.440000000000001], [1280361600000.0, 12.330000000000002], [1283040000000.0, 12.43], [1285718400000.0, 15.309999999999999], [1288310400000.0, 17.21], [1290988800000.0, 19.740000000000002], [1293580800000.0, 21.330000000000002], [1296259200000.0, 23.45], [1298851200000.0, 23.229999999999997], [1301356800000.0, 21.32], [1304035200000.0, 17.79], [1306627200000.0, 13.780000000000001], [1309305600000.0, 12.559999999999999], [1311897600000.0, 11.690000000000001], [1314576000000.0, 13.540000000000001], [1317254400000.0, 15.220000000000002], [1319846400000.0, 17.29], [1322524800000.0, 21.0], [1325116800000.0, 20.14], [1327795200000.0, 22.6], [1330473600000.0, 22.43], [1332979200000.0, 20.500000000000004], [1335657600000.0, 18.130000000000003], [1338249600000.0, 14.36], [1340928000000.0, 12.64], [1343520000000.0, 12.16], [1346198400000.0, 12.57], [1348876800000.0, 15.430000000000001], [1351468800000.0, 17.16]], 'name': 'Australia'}, {'data': [[949104000000.0, 6.0600000000000005], [951782400000.0, 8.43], [954288000000.0, 11.12], [956966400000.0, 13.25], [959558400000.0, 17.84], [962236800000.0, 20.979999999999997], [964828800000.0, 22.57], [967507200000.0, 22.82], [970185600000.0, 20.279999999999998], [972777600000.0, 15.790000000000001], [975456000000.0, 9.290000000000001], [978048000000.0, 4.17], [980726400000.0, 5.0], [983318400000.0, 6.3100000000000005], [985824000000.0, 8.25], [988502400000.0, 13.789999999999997], [991094400000.0, 17.580000000000005], [993772800000.0, 20.720000000000002], [996364800000.0, 22.46], [999043200000.0, 23.15], [1001721600000.0, 19.6], [1004313600000.0, 15.039999999999997], [1006992000000.0, 12.41], [1009584000000.0, 8.0], [1012262400000.0, 7.0200000000000005], [1014854400000.0, 7.2700000000000005], [1017360000000.0, 8.959999999999999], [1020038400000.0, 13.969999999999999], [1022630400000.0, 15.65], [1025308800000.0, 21.23], [1027900800000.0, 23.88], [1030579200000.0, 23.13], [1033257600000.0, 20.709999999999997], [1035849600000.0, 14.9], [1038528000000.0, 10.47], [1041120000000.0, 6.7], [1043798400000.0, 5.640000000000001], [1046390400000.0, 5.5], [1048896000000.0, 9.7], [1051574400000.0, 12.940000000000001], [1054166400000.0, 16.81], [1056844800000.0, 20.669999999999998], [1059436800000.0, 23.5], [1062115200000.0, 23.81], [1064793600000.0, 20.23], [1067385600000.0, 15.940000000000001], [1070064000000.0, 11.15], [1072656000000.0, 7.08], [1075334400000.0, 4.430000000000001], [1078012800000.0, 6.39], [1080518400000.0, 11.450000000000001], [1083196800000.0, 14.429999999999998], [1085788800000.0, 18.39], [1088467200000.0, 21.080000000000002], [1091059200000.0, 23.199999999999996], [1093737600000.0, 22.520000000000003], [1096416000000.0, 21.12], [1099008000000.0, 16.259999999999998], [1101686400000.0, 11.15], [1104278400000.0, 6.9799999999999995], [1106956800000.0, 6.050000000000001], [1109548800000.0, 7.6], [1112054400000.0, 9.25], [1114732800000.0, 13.88], [1117324800000.0, 17.130000000000003], [1120003200000.0, 21.559999999999995], [1122595200000.0, 23.470000000000002], [1125273600000.0, 23.880000000000003], [1127952000000.0, 21.479999999999997], [1130544000000.0, 16.2], [1133222400000.0, 14.580000000000002], [1135814400000.0, 6.35], [1138492800000.0, 9.25], [1141084800000.0, 7.13], [1143590400000.0, 9.91], [1146268800000.0, 14.799999999999997], [1148860800000.0, 17.67], [1151539200000.0, 21.46], [1154131200000.0, 24.46], [1156809600000.0, 23.75], [1159488000000.0, 20.17], [1162080000000.0, 15.49], [1164758400000.0, 11.8], [1167350400000.0, 8.16], [1170028800000.0, 5.859999999999999], [1172620800000.0, 5.1899999999999995], [1175126400000.0, 11.040000000000001], [1177804800000.0, 12.830000000000002], [1180396800000.0, 18.15], [1183075200000.0, 21.19], [1185667200000.0, 23.21], [1188345600000.0, 23.73], [1191024000000.0, 21.04], [1193616000000.0, 17.229999999999997], [1196294400000.0, 10.77], [1198886400000.0, 6.7299999999999995], [1201564800000.0, 5.48], [1204243200000.0, 6.88], [1206748800000.0, 9.45], [1209427200000.0, 13.780000000000001], [1212019200000.0, 17.270000000000003], [1214697600000.0, 21.89], [1217289600000.0, 23.579999999999995], [1219968000000.0, 23.05], [1222646400000.0, 20.58], [1225238400000.0, 15.750000000000004], [1227916800000.0, 11.569999999999999], [1230508800000.0, 5.930000000000001], [1233187200000.0, 4.5], [1235779200000.0, 7.5200000000000005], [1238284800000.0, 9.440000000000001], [1240963200000.0, 13.41], [1243555200000.0, 17.78], [1246233600000.0, 21.29], [1248825600000.0, 23.29], [1251504000000.0, 23.27], [1254182400000.0, 20.759999999999998], [1256774400000.0, 15.059999999999999], [1259452800000.0, 12.16], [1262044800000.0, 5.66], [1264723200000.0, 5.62], [1267315200000.0, 6.1], [1269820800000.0, 10.729999999999999], [1272499200000.0, 14.48], [1275091200000.0, 17.869999999999997], [1277769600000.0, 21.750000000000004], [1280361600000.0, 23.75], [1283040000000.0, 23.690000000000005], [1285718400000.0, 20.79], [1288310400000.0, 16.65], [1290988800000.0, 11.09], [1293580800000.0, 6.12], [1296259200000.0, 4.92], [1298851200000.0, 6.029999999999999], [1301356800000.0, 9.89], [1304035200000.0, 13.939999999999998], [1306627200000.0, 17.31], [1309305600000.0, 21.4], [1311897600000.0, 24.529999999999998], [1314576000000.0, 23.740000000000002], [1317254400000.0, 20.860000000000003], [1319846400000.0, 15.940000000000001], [1322524800000.0, 11.540000000000003], [1325116800000.0, 7.530000000000001], [1327795200000.0, 7.65], [1330473600000.0, 8.45], [1332979200000.0, 12.740000000000002], [1335657600000.0, 14.64], [1338249600000.0, 18.78], [1340928000000.0, 21.47], [1343520000000.0, 23.89], [1346198400000.0, 24.18], [1348876800000.0, 21.23], [1351468800000.0, 16.29]], 'name': 'USA'}, {'data': [[949104000000.0, 16.73], [951782400000.0, 17.55], [954288000000.0, 15.820000000000002], [956966400000.0, 14.01], [959558400000.0, 11.83], [962236800000.0, 9.74], [964828800000.0, 9.669999999999998], [967507200000.0, 8.979999999999999], [970185600000.0, 11.08], [972777600000.0, 12.9], [975456000000.0, 12.429999999999998], [978048000000.0, 17.580000000000002], [980726400000.0, 16.66], [983318400000.0, 18.509999999999998], [985824000000.0, 16.38], [988502400000.0, 13.830000000000002], [991094400000.0, 11.91], [993772800000.0, 8.790000000000001], [996364800000.0, 6.959999999999999], [999043200000.0, 9.679999999999998], [1001721600000.0, 11.52], [1004313600000.0, 13.819999999999999], [1006992000000.0, 14.59], [1009584000000.0, 17.259999999999998], [1012262400000.0, 17.509999999999998], [1014854400000.0, 16.66], [1017360000000.0, 16.529999999999998], [1020038400000.0, 13.460000000000003], [1022630400000.0, 11.57], [1025308800000.0, 10.309999999999999], [1027900800000.0, 8.28], [1030579200000.0, 9.440000000000001], [1033257600000.0, 11.620000000000001], [1035849600000.0, 11.26], [1038528000000.0, 13.14], [1041120000000.0, 16.09], [1043798400000.0, 17.05], [1046390400000.0, 17.07], [1048896000000.0, 16.85], [1051574400000.0, 12.85], [1054166400000.0, 11.6], [1056844800000.0, 10.270000000000001], [1059436800000.0, 7.140000000000001], [1062115200000.0, 8.86], [1064793600000.0, 11.0], [1067385600000.0, 11.860000000000001], [1070064000000.0, 13.64], [1072656000000.0, 16.890000000000004], [1075334400000.0, 18.64], [1078012800000.0, 16.74], [1080518400000.0, 14.910000000000002], [1083196800000.0, 12.25], [1085788800000.0, 11.419999999999998], [1088467200000.0, 9.87], [1091059200000.0, 7.089999999999999], [1093737600000.0, 7.94], [1096416000000.0, 10.190000000000001], [1099008000000.0, 12.190000000000001], [1101686400000.0, 14.709999999999997], [1104278400000.0, 14.059999999999999], [1106956800000.0, 17.470000000000002], [1109548800000.0, 19.169999999999998], [1112054400000.0, 16.57], [1114732800000.0, 12.989999999999998], [1117324800000.0, 11.629999999999999], [1120003200000.0, 8.399999999999999], [1122595200000.0, 9.139999999999999], [1125273600000.0, 9.620000000000001], [1127952000000.0, 11.3], [1130544000000.0, 12.6], [1133222400000.0, 14.26], [1135814400000.0, 17.919999999999998], [1138492800000.0, 17.86], [1141084800000.0, 17.880000000000003], [1143590400000.0, 14.75], [1146268800000.0, 14.989999999999998], [1148860800000.0, 11.05], [1151539200000.0, 7.029999999999999], [1154131200000.0, 8.040000000000003], [1156809600000.0, 8.68], [1159488000000.0, 11.790000000000001], [1162080000000.0, 12.209999999999999], [1164758400000.0, 14.040000000000001], [1167350400000.0, 14.02], [1170028800000.0, 17.020000000000003], [1172620800000.0, 17.35], [1175126400000.0, 17.32], [1177804800000.0, 12.959999999999999], [1180396800000.0, 12.620000000000001], [1183075200000.0, 8.16], [1185667200000.0, 8.3], [1188345600000.0, 9.309999999999999], [1191024000000.0, 10.84], [1193616000000.0, 12.1], [1196294400000.0, 13.870000000000001], [1198886400000.0, 16.810000000000002], [1201564800000.0, 18.96], [1204243200000.0, 18.08], [1206748800000.0, 16.759999999999998], [1209427200000.0, 13.930000000000001], [1212019200000.0, 9.49], [1214697600000.0, 9.24], [1217289600000.0, 8.45], [1219968000000.0, 8.63], [1222646400000.0, 11.27], [1225238400000.0, 12.37], [1227916800000.0, 14.760000000000002], [1230508800000.0, 16.51], [1233187200000.0, 18.29], [1235779200000.0, 17.5], [1238284800000.0, 15.62], [1240963200000.0, 13.660000000000002], [1243555200000.0, 9.169999999999998], [1246233600000.0, 7.339999999999999], [1248825600000.0, 7.43], [1251504000000.0, 10.48], [1254182400000.0, 10.900000000000002], [1256774400000.0, 11.09], [1259452800000.0, 13.99], [1262044800000.0, 15.85], [1264723200000.0, 17.16], [1267315200000.0, 18.360000000000003], [1269820800000.0, 16.46], [1272499200000.0, 14.52], [1275091200000.0, 11.17], [1277769600000.0, 8.63], [1280361600000.0, 7.37], [1283040000000.0, 9.540000000000001], [1285718400000.0, 11.3], [1288310400000.0, 12.139999999999997], [1290988800000.0, 15.2], [1293580800000.0, 18.029999999999998], [1296259200000.0, 18.01], [1298851200000.0, 18.33], [1301356800000.0, 16.089999999999996], [1304035200000.0, 13.229999999999999], [1306627200000.0, 12.680000000000001], [1309305600000.0, 9.85], [1311897600000.0, 8.13], [1314576000000.0, 8.19], [1317254400000.0, 10.040000000000001], [1319846400000.0, 12.729999999999999], [1322524800000.0, 13.989999999999998], [1325116800000.0, 16.380000000000003], [1327795200000.0, 16.82], [1330473600000.0, 17.05], [1332979200000.0, 14.85], [1335657600000.0, 13.639999999999997], [1338249600000.0, 10.3], [1340928000000.0, 8.049999999999999], [1343520000000.0, 8.15], [1346198400000.0, 9.93], [1348876800000.0, 11.18], [1351468800000.0, 12.09]], 'name': 'NZ'}, {'data': [[949104000000.0, 18.990000000000002], [951782400000.0, 18.8], [954288000000.0, 22.089999999999996], [956966400000.0, 25.620000000000005], [959558400000.0, 28.2], [962236800000.0, 28.32], [964828800000.0, 29.170000000000005], [967507200000.0, 29.240000000000002], [970185600000.0, 28.379999999999995], [972777600000.0, 26.079999999999995], [975456000000.0, 22.48], [978048000000.0, 20.139999999999993], [980726400000.0, 18.669999999999998], [983318400000.0, 19.910000000000004], [985824000000.0, 22.509999999999998], [988502400000.0, 25.660000000000004], [991094400000.0, 27.790000000000003], [993772800000.0, 28.32], [996364800000.0, 29.5], [999043200000.0, 29.229999999999997], [1001721600000.0, 28.169999999999998], [1004313600000.0, 26.15], [1006992000000.0, 22.270000000000003], [1009584000000.0, 19.65], [1012262400000.0, 18.96], [1014854400000.0, 20.68], [1017360000000.0, 23.56], [1020038400000.0, 26.65], [1022630400000.0, 28.290000000000003], [1025308800000.0, 28.840000000000003], [1027900800000.0, 30.329999999999995], [1030579200000.0, 29.209999999999997], [1033257600000.0, 27.159999999999997], [1035849600000.0, 25.57], [1038528000000.0, 22.129999999999995], [1041120000000.0, 19.869999999999997], [1043798400000.0, 17.99], [1046390400000.0, 20.359999999999996], [1048896000000.0, 22.119999999999997], [1051574400000.0, 26.26], [1054166400000.0, 28.05], [1056844800000.0, 29.149999999999995], [1059436800000.0, 28.35], [1062115200000.0, 28.990000000000002], [1064793600000.0, 27.909999999999997], [1067385600000.0, 25.47], [1070064000000.0, 23.060000000000002], [1072656000000.0, 19.55], [1075334400000.0, 18.569999999999997], [1078012800000.0, 20.270000000000003], [1080518400000.0, 23.04], [1083196800000.0, 26.5], [1085788800000.0, 27.860000000000003], [1088467200000.0, 28.860000000000003], [1091059200000.0, 29.779999999999994], [1093737600000.0, 28.99], [1096416000000.0, 28.329999999999995], [1099008000000.0, 25.29], [1101686400000.0, 23.619999999999997], [1104278400000.0, 20.18], [1106956800000.0, 18.42], [1109548800000.0, 19.869999999999997], [1112054400000.0, 22.080000000000002], [1114732800000.0, 25.549999999999997], [1117324800000.0, 27.619999999999997], [1120003200000.0, 29.159999999999997], [1122595200000.0, 28.809999999999995], [1125273600000.0, 29.5], [1127952000000.0, 28.429999999999996], [1130544000000.0, 25.99], [1133222400000.0, 23.839999999999996], [1135814400000.0, 18.490000000000002], [1138492800000.0, 18.57], [1141084800000.0, 21.04], [1143590400000.0, 22.33], [1146268800000.0, 25.469999999999995], [1148860800000.0, 27.439999999999998], [1151539200000.0, 28.169999999999998], [1154131200000.0, 29.089999999999996], [1156809600000.0, 29.21], [1159488000000.0, 27.679999999999996], [1162080000000.0, 26.499999999999993], [1164758400000.0, 23.580000000000002], [1167350400000.0, 20.089999999999996], [1170028800000.0, 18.910000000000004], [1172620800000.0, 20.890000000000004], [1175126400000.0, 22.820000000000004], [1177804800000.0, 25.47], [1180396800000.0, 27.749999999999993], [1183075200000.0, 29.089999999999996], [1185667200000.0, 28.96], [1188345600000.0, 29.470000000000006], [1191024000000.0, 28.410000000000004], [1193616000000.0, 25.679999999999996], [1196294400000.0, 22.249999999999996], [1198886400000.0, 20.24], [1201564800000.0, 18.330000000000002], [1204243200000.0, 18.369999999999997], [1206748800000.0, 23.089999999999996], [1209427200000.0, 25.470000000000002], [1212019200000.0, 26.910000000000004], [1214697600000.0, 27.560000000000002], [1217289600000.0, 29.03], [1219968000000.0, 28.839999999999996], [1222646400000.0, 28.099999999999994], [1225238400000.0, 26.390000000000004], [1227916800000.0, 22.48], [1230508800000.0, 19.9], [1233187200000.0, 18.29], [1235779200000.0, 21.310000000000002], [1238284800000.0, 22.6], [1240963200000.0, 25.75], [1243555200000.0, 27.85], [1246233600000.0, 29.2], [1248825600000.0, 29.4], [1251504000000.0, 29.420000000000005], [1254182400000.0, 28.189999999999998], [1256774400000.0, 26.080000000000002], [1259452800000.0, 22.14], [1262044800000.0, 19.919999999999998], [1264723200000.0, 18.970000000000006], [1267315200000.0, 20.58], [1269820800000.0, 23.360000000000003], [1272499200000.0, 25.909999999999997], [1275091200000.0, 28.71], [1277769600000.0, 29.55], [1280361600000.0, 29.93], [1283040000000.0, 29.929999999999996], [1285718400000.0, 28.360000000000003], [1288310400000.0, 26.080000000000002], [1290988800000.0, 22.990000000000002], [1293580800000.0, 19.919999999999998], [1296259200000.0, 17.39], [1298851200000.0, 20.1], [1301356800000.0, 21.229999999999997], [1304035200000.0, 25.28], [1306627200000.0, 27.830000000000002], [1309305600000.0, 28.860000000000003], [1311897600000.0, 29.559999999999995], [1314576000000.0, 29.529999999999994], [1317254400000.0, 28.6], [1319846400000.0, 26.089999999999996], [1322524800000.0, 23.96], [1325116800000.0, 19.279999999999998], [1327795200000.0, 18.31], [1330473600000.0, 19.599999999999998], [1332979200000.0, 22.46], [1335657600000.0, 26.080000000000002], [1338249600000.0, 28.68], [1340928000000.0, 29.509999999999998], [1343520000000.0, 29.5], [1346198400000.0, 29.690000000000005], [1348876800000.0, 28.610000000000003], [1351468800000.0, 26.05]], 'name': 'Asia'}];\n",
       "\n",
       "            /**\n",
       "             * Create the chart when all data is loaded\n",
       "             * @returns {undefined}\n",
       "             */\n",
       "            Highcharts.stockChart('container9095', {\n",
       "              chart: {\n",
       "                zoomType: 'x'\n",
       "              },\n",
       "              title: {\n",
       "                  text: 'Temperatures in world'\n",
       "              },\n",
       "              plotOptions: {\n",
       "                series: {\n",
       "                  showInNavigator: true,\n",
       "                }\n",
       "              },\n",
       "                yAxis: {\n",
       "                    title: {\n",
       "                        text: 'ºC'\n",
       "                    }\n",
       "                },\n",
       "              tooltip: {\n",
       "                pointFormat: '<span style=\"color:{series.color}\">{series.name}</span>:<b>{point.y}</b>',\n",
       "                valueDecimals: 2,\n",
       "                split: true\n",
       "              },\n",
       "              series: seriesOptions\n",
       "            });\n",
       "        </script>\n",
       "\n",
       "        </body>\n",
       "        </html>\n",
       "    "
      ],
      "text/plain": [
       "<IPython.core.display.HTML object>"
      ]
     },
     "metadata": {},
     "output_type": "display_data"
    }
   ],
   "source": [
    "data, time, names = get_x_y_names_from_streams(M.find_streams(name='country_avg_temp'), 'country')\n",
    "\n",
    "plot_multiple_stock(data, time=time, names=names,\n",
    "                    title='Temperatures in world', ylabel='ºC')"
   ]
  },
  {
   "cell_type": "code",
   "execution_count": 11,
   "metadata": {
    "collapsed": false,
    "deletable": true,
    "editable": true
   },
   "outputs": [
    {
     "name": "stdout",
     "output_type": "stream",
     "text": [
      "{'factors': [{'id': 'csv_multi_reader', 'sink': 'raw_data', 'sources': []},\n",
      "             {'id': 'splitter_from_stream',\n",
      "              'sink': 'city_temperature',\n",
      "              'sources': ['raw_data']},\n",
      "             {'id': 'aggregate',\n",
      "              'sink': 'country_avg_temp',\n",
      "              'sources': ['city_temperature']}],\n",
      " 'nodes': [{'id': 'country_avg_temp'},\n",
      "           {'id': 'raw_data'},\n",
      "           {'id': 'world_avg_temp'},\n",
      "           {'id': 'city_temperature'}],\n",
      " 'plates': {u'C': [{'id': 'country_avg_temp', 'type': 'node'},\n",
      "                   {'id': 'raw_data', 'type': 'node'},\n",
      "                   {'id': 'aggregate', 'type': 'factor'}],\n",
      "            u'C.C': [{'id': 'city_temperature', 'type': 'node'}]}}\n"
     ]
    }
   ],
   "source": [
    "from pprint import pprint\n",
    "pprint(w.to_dict(tool_long_names=False))"
   ]
  },
  {
   "cell_type": "code",
   "execution_count": 12,
   "metadata": {
    "collapsed": false,
    "deletable": true,
    "editable": true
   },
   "outputs": [
    {
     "name": "stdout",
     "output_type": "stream",
     "text": [
      "{\n",
      "    \"nodes\": [\n",
      "        {\n",
      "            \"type\": \"rv\",\n",
      "            \"id\": \"country_avg_temp\"\n",
      "        },\n",
      "        {\n",
      "            \"type\": \"rv\",\n",
      "            \"id\": \"raw_data\"\n",
      "        },\n",
      "        {\n",
      "            \"type\": \"rv\",\n",
      "            \"id\": \"world_avg_temp\"\n",
      "        },\n",
      "        {\n",
      "            \"type\": \"rv\",\n",
      "            \"id\": \"city_temperature\"\n",
      "        },\n",
      "        {\n",
      "            \"type\": \"fac\",\n",
      "            \"id\": \"csv_multi_reader\"\n",
      "        },\n",
      "        {\n",
      "            \"type\": \"fac\",\n",
      "            \"id\": \"splitter_from_stream\"\n",
      "        },\n",
      "        {\n",
      "            \"type\": \"fac\",\n",
      "            \"id\": \"aggregate\"\n",
      "        }\n",
      "    ],\n",
      "    \"links\": [\n",
      "        {\n",
      "            \"source\": \"csv_multi_reader\",\n",
      "            \"target\": \"raw_data\"\n",
      "        },\n",
      "        {\n",
      "            \"source\": \"raw_data\",\n",
      "            \"target\": \"splitter_from_stream\"\n",
      "        },\n",
      "        {\n",
      "            \"source\": \"splitter_from_stream\",\n",
      "            \"target\": \"city_temperature\"\n",
      "        },\n",
      "        {\n",
      "            \"source\": \"city_temperature\",\n",
      "            \"target\": \"aggregate\"\n",
      "        },\n",
      "        {\n",
      "            \"source\": \"aggregate\",\n",
      "            \"target\": \"country_avg_temp\"\n",
      "        }\n",
      "    ]\n",
      "}\n"
     ]
    }
   ],
   "source": [
    "print(w.to_json(w.factorgraph_viz, tool_long_names=False, indent=4))"
   ]
  }
 ],
 "metadata": {
  "kernelspec": {
   "display_name": "Python 2",
   "language": "python",
   "name": "python2"
  },
  "language_info": {
   "codemirror_mode": {
    "name": "ipython",
    "version": 2
   },
   "file_extension": ".py",
   "mimetype": "text/x-python",
   "name": "python",
   "nbconvert_exporter": "python",
   "pygments_lexer": "ipython2",
   "version": "2.7.6"
  }
 },
 "nbformat": 4,
 "nbformat_minor": 1
}
