{
 "cells": [
  {
   "cell_type": "markdown",
   "metadata": {
    "deletable": true,
    "editable": true
   },
   "source": [
    "<img style=\"float: right;\" src=\"images/hyperstream.svg\">\n",
    "\n",
    "# HyperStream Tutorial 5: Workflows\n",
    "\n",
    "Workflows define a graph of streams. Usually, the first stream will be a special \"raw\" stream that pulls in data from a custom data source. Workflows can have multiple time ranges, which will cause the streams to be computed on all of the ranges given.\n",
    "\n",
    "## Introduction\n",
    "\n",
    "In this tutorial, we will be ussing a time-series dataset about the temperature in different countries and cities. The dataset is availabel at [The Census at School New Zeland][1]. The necessary files for this tutorial are already included in the folder **data/TimeSeriesDatasets_130207**.\n",
    "\n",
    "In particular, there are four files with the minimum and maximum temperatures in different cities of Asia, Australia, NZ and USA from 2000 to 2012. And the rainfall levels of New Zeland. \n",
    "\n",
    "![workflows](images/workflow_world_temp.svg)\n",
    "\n",
    "[1]: http://new.censusatschool.org.nz/resource/time-series-data-sets-2013/"
   ]
  },
  {
   "cell_type": "code",
   "execution_count": 1,
   "metadata": {
    "collapsed": false,
    "deletable": true,
    "editable": true
   },
   "outputs": [
    {
     "name": "stderr",
     "output_type": "stream",
     "text": [
      "2017-07-28 14:36:05,636 [WARNI]  Plate C is empty during the creation\n",
      "2017-07-28 14:36:05,637 [WARNI]  Plate C.C is empty during the creation\n"
     ]
    },
    {
     "name": "stdout",
     "output_type": "stream",
     "text": [
      "CPython 2.7.6\n",
      "IPython 5.3.0\n",
      "\n",
      "hyperstream 0.3.6\n",
      "\n",
      "compiler   : GCC 4.8.4\n",
      "system     : Linux\n",
      "release    : 3.19.0-80-generic\n",
      "machine    : x86_64\n",
      "processor  : x86_64\n",
      "CPU cores  : 4\n",
      "interpreter: 64bit\n",
      "Git hash   : 36d4562f14e67feeb92988c1803154979715e928\n",
      "HyperStream version 0.3.6, connected to mongodb://localhost:27017/hyperstream, session id <no session>\n",
      "[u'example', u'data_importers', u'data_generators']\n"
     ]
    }
   ],
   "source": [
    "try:\n",
    "    %load_ext watermark\n",
    "    watermark = True\n",
    "except ImportError:\n",
    "    watermark = False\n",
    "    pass\n",
    "\n",
    "import sys\n",
    "sys.path.append(\"../\") # Add parent dir in the Path\n",
    "\n",
    "from hyperstream import HyperStream\n",
    "from hyperstream import TimeInterval\n",
    "from hyperstream.utils import UTC\n",
    "import hyperstream\n",
    "\n",
    "from datetime import datetime\n",
    "from utils import plot_high_chart\n",
    "from utils import plot_multiple_stock\n",
    "from dateutil.parser import parse\n",
    "\n",
    "if watermark:\n",
    "    %watermark -v -m -p hyperstream -g\n",
    "\n",
    "hs = HyperStream(loglevel=30)\n",
    "print(hs)\n",
    "print([p.channel_id_prefix for p in hs.config.plugins])"
   ]
  },
  {
   "cell_type": "markdown",
   "metadata": {
    "deletable": true,
    "editable": true
   },
   "source": [
    "## Reading the data\n",
    "\n",
    "In the data folder there are four csv files with the names **TempAsia.csv, TempAustralia.csv, TempNZ.csv and TempUSA.csv**. The first column of each csv file contains a header with the names of the columns. The first one being the date and the following are the minimum and maximum temperature in different cities with the format **cityMin** and **cityMax**.\n",
    "\n",
    "Here is an example of the first 5 rows of the **TempAsia.csv** file:\n",
    "\n",
    "```\n",
    "Date,TokyoMax,TokyoMin,BangkokMax,BangkokMin\n",
    "2000M01,11.2,4.2,32.8,24\n",
    "```\n",
    "\n",
    "The format of the date has the form **YYYYMmm** where **YYYY** is the year and **mm** is the month. Because this format is not recognized by the default parser of the **csv_reader** tool, we will need to specify our own parser that first replaces the **M** by an hyphen **-** and then applies the **dateutils.parser**.\n",
    "\n",
    "Then, we will use a tool to read each csv, and a Stream to store all the results of applying the tool. When we specify to the tool that there is a header row in the csv file, the value of each Stream instance will be a dictionary with the name of the column and its corresponding value. For example, a Stream instance with the 4 cities shown above will look like:\n",
    "\n",
    "```\n",
    "[2000-01-19 00:00:00+00:00]: {'BangkokMin': 24.0, 'BangkokMax': 32.8, 'TokyoMin': 4.2}\n",
    "```"
   ]
  },
  {
   "cell_type": "code",
   "execution_count": 2,
   "metadata": {
    "collapsed": false,
    "deletable": true,
    "editable": true
   },
   "outputs": [],
   "source": [
    "def dateparser(dt):\n",
    "    return parse(dt.replace('M', '-')).replace(tzinfo=UTC)\n",
    "\n",
    "ti_all = TimeInterval(datetime(1999, 1, 1).replace(tzinfo=UTC),\n",
    "                      datetime(2013, 1, 1).replace(tzinfo=UTC))\n",
    "ti_sample = TimeInterval(datetime(2007, 1, 1).replace(tzinfo=UTC),\n",
    "                         datetime(2007, 3, 1).replace(tzinfo=UTC))\n",
    "\n",
    "# M will be the Memory Channel\n",
    "M = hs.channel_manager.memory\n",
    "\n",
    "countries_list = ['Asia', 'Australia', 'NZ', 'USA']"
   ]
  },
  {
   "cell_type": "markdown",
   "metadata": {
    "deletable": true,
    "editable": true
   },
   "source": [
    "## Create the plates and meta_data instances"
   ]
  },
  {
   "cell_type": "code",
   "execution_count": 3,
   "metadata": {
    "collapsed": false,
    "deletable": true,
    "editable": true
   },
   "outputs": [],
   "source": [
    "countries_dict = {\n",
    "    'Asia': ['BangkokMin', 'BangkokMax', 'HongKongMax', 'HongKongMin', 'KualaLumpurMax', 'KualaLumpurMin',\n",
    "             'NewDelhiMax', 'NewDelhiMin', 'TokyoMax', 'TokyoMin'],\n",
    "    'Australia': ['BrisbaneMax', 'BrisbaneMin', 'Canberramax', 'CanberraMin', 'GoldCoastMax', 'GoldCoastMin',\n",
    "                  'MelbourneMin', 'Melbournemax',  'SydneyMax', 'SydneyMin'],\n",
    "    'NZ': ['AucklandMax', 'AucklandMin', 'ChristchurchMax', 'ChristchurchMin', 'DunedinMax', 'DunedinMin',\n",
    "           'HamiltonMax', 'HamiltonMin','WellingtonMax', 'WellingtonMin'],\n",
    "    'USA': ['ChicagoMin', 'ChicagoMax', 'HoustonMax', 'HoustonMin', 'LosAngelesMax', 'LosAngelesMin',\n",
    "            'NYMax', 'NYMin', 'SeattleMax', 'SeattleMin']\n",
    "}\n",
    "\n",
    "# delete_plate requires the deletion to be first childs and then parents\n",
    "for plate_id in ['C.C', 'C']:\n",
    "    if plate_id in [plate[0] for plate in hs.plate_manager.plates.items()]:\n",
    "        hs.plate_manager.delete_plate(plate_id=plate_id, delete_meta_data=True)\n",
    "\n",
    "for country in countries_dict:\n",
    "    id_country = 'country_' + country\n",
    "    if not hs.plate_manager.meta_data_manager.contains(identifier=id_country):\n",
    "        hs.plate_manager.meta_data_manager.insert(\n",
    "            parent='root', data=country, tag='country', identifier=id_country)\n",
    "    for city in countries_dict[country]:\n",
    "        id_city = id_country + '.' + 'city_' + city\n",
    "        if not hs.plate_manager.meta_data_manager.contains(identifier=id_city):\n",
    "            hs.plate_manager.meta_data_manager.insert(\n",
    "                parent=id_country, data=city, tag='city', identifier=id_city)\n",
    "            \n",
    "C = hs.plate_manager.create_plate(plate_id=\"C\", description=\"Countries\", values=[], complement=True,\n",
    "                                  parent_plate=None, meta_data_id=\"country\")\n",
    "CC = hs.plate_manager.create_plate(plate_id=\"C.C\", description=\"Cities\", values=[], complement=True,\n",
    "                                   parent_plate=\"C\", meta_data_id=\"city\")"
   ]
  },
  {
   "cell_type": "code",
   "execution_count": 4,
   "metadata": {
    "collapsed": false,
    "deletable": true,
    "editable": true
   },
   "outputs": [
    {
     "name": "stdout",
     "output_type": "stream",
     "text": [
      "\n",
      "root[root:None]\n",
      "╟── country[country_NZ:NZ]\n",
      "║   ╟── city[country_NZ.city_AucklandMax:AucklandMax]\n",
      "║   ╟── city[country_NZ.city_AucklandMin:AucklandMin]\n",
      "║   ╟── city[country_NZ.city_ChristchurchMax:ChristchurchMax]\n",
      "║   ╟── city[country_NZ.city_ChristchurchMin:ChristchurchMin]\n",
      "║   ╟── city[country_NZ.city_DunedinMax:DunedinMax]\n",
      "║   ╟── city[country_NZ.city_DunedinMin:DunedinMin]\n",
      "║   ╟── city[country_NZ.city_HamiltonMax:HamiltonMax]\n",
      "║   ╟── city[country_NZ.city_HamiltonMin:HamiltonMin]\n",
      "║   ╟── city[country_NZ.city_WellingtonMax:WellingtonMax]\n",
      "║   ╙── city[country_NZ.city_WellingtonMin:WellingtonMin]\n",
      "╟── country[country_Australia:Australia]\n",
      "║   ╟── city[country_Australia.city_BrisbaneMax:BrisbaneMax]\n",
      "║   ╟── city[country_Australia.city_BrisbaneMin:BrisbaneMin]\n",
      "║   ╟── city[country_Australia.city_Canberramax:Canberramax]\n",
      "║   ╟── city[country_Australia.city_CanberraMin:CanberraMin]\n",
      "║   ╟── city[country_Australia.city_GoldCoastMax:GoldCoastMax]\n",
      "║   ╟── city[country_Australia.city_GoldCoastMin:GoldCoastMin]\n",
      "║   ╟── city[country_Australia.city_MelbourneMin:MelbourneMin]\n",
      "║   ╟── city[country_Australia.city_Melbournemax:Melbournemax]\n",
      "║   ╟── city[country_Australia.city_SydneyMax:SydneyMax]\n",
      "║   ╙── city[country_Australia.city_SydneyMin:SydneyMin]\n",
      "╟── country[country_USA:USA]\n",
      "║   ╟── city[country_USA.city_ChicagoMin:ChicagoMin]\n",
      "║   ╟── city[country_USA.city_ChicagoMax:ChicagoMax]\n",
      "║   ╟── city[country_USA.city_HoustonMax:HoustonMax]\n",
      "║   ╟── city[country_USA.city_HoustonMin:HoustonMin]\n",
      "║   ╟── city[country_USA.city_LosAngelesMax:LosAngelesMax]\n",
      "║   ╟── city[country_USA.city_LosAngelesMin:LosAngelesMin]\n",
      "║   ╟── city[country_USA.city_NYMax:NYMax]\n",
      "║   ╟── city[country_USA.city_NYMin:NYMin]\n",
      "║   ╟── city[country_USA.city_SeattleMax:SeattleMax]\n",
      "║   ╙── city[country_USA.city_SeattleMin:SeattleMin]\n",
      "╙── country[country_Asia:Asia]\n",
      "    ╟── city[country_Asia.city_BangkokMin:BangkokMin]\n",
      "    ╟── city[country_Asia.city_BangkokMax:BangkokMax]\n",
      "    ╟── city[country_Asia.city_HongKongMax:HongKongMax]\n",
      "    ╟── city[country_Asia.city_HongKongMin:HongKongMin]\n",
      "    ╟── city[country_Asia.city_KualaLumpurMax:KualaLumpurMax]\n",
      "    ╟── city[country_Asia.city_KualaLumpurMin:KualaLumpurMin]\n",
      "    ╟── city[country_Asia.city_NewDelhiMax:NewDelhiMax]\n",
      "    ╟── city[country_Asia.city_NewDelhiMin:NewDelhiMin]\n",
      "    ╟── city[country_Asia.city_TokyoMax:TokyoMax]\n",
      "    ╙── city[country_Asia.city_TokyoMin:TokyoMin]\n",
      "\n"
     ]
    }
   ],
   "source": [
    "print hs.plate_manager.meta_data_manager.global_plate_definitions"
   ]
  },
  {
   "cell_type": "markdown",
   "metadata": {
    "deletable": true,
    "editable": true
   },
   "source": [
    "## Create the workflow and execute it"
   ]
  },
  {
   "cell_type": "code",
   "execution_count": 5,
   "metadata": {
    "collapsed": false,
    "deletable": true,
    "editable": true
   },
   "outputs": [],
   "source": [
    "from hyperstream import Workflow\n",
    "\n",
    "# parameters for the csv_mutli_reader tool\n",
    "csv_params = dict(\n",
    "    filename_template='data/TimeSeriesDatasets_130207/Temp{}.csv',\n",
    "    datetime_parser=dateparser, skip_rows=0, header=True)\n",
    "\n",
    "sum_values = lambda x: sum(x.values())\n",
    "\n",
    "with Workflow(workflow_id='tutorial_05', name='tutorial_05', owner='tutorials',\n",
    "              description='Tutorial 5 workflow', online=False) as w:\n",
    "\n",
    "    country_node = w.create_node(stream_name='raw_data', channel=M, plates=[C])\n",
    "    city_node = w.create_node(stream_name='temperature', channel=M, plates=[CC])\n",
    "    # FIXME Are these correct?\n",
    "    country_node_avg_temp = w.create_node(stream_name='avg_temp', channel=M, plates=[C])\n",
    "    world_node_avg_temp = w.create_node(stream_name='avg_temp', channel=M, plates=[])\n",
    "\n",
    "    for c in C:\n",
    "        country_node[c] = hs.plugins.data_importers.factors.csv_multi_reader(source=None, **csv_params)\n",
    "        for cc in CC[c]:\n",
    "            city_node[cc] = hs.factors.splitter_from_stream(source=country_node[c],\n",
    "                                                            splitting_node=country_node[c],\n",
    "                                                            use_mapping_keys_only=True)\n",
    "        ## FIXME tool_factory_function() takes 3 arguments... 0 given?\n",
    "        ##      87         if alignment_node and alignment_node.plates:\n",
    "        ##     88             # TODO: Need to implement alignment nodes that live inside plates\n",
    "        ##---> 89             raise NotImplementedError(\"Currently only alignment nodes outside of plates are supported\")\n",
    "        ##     90 \n",
    "        ##     91         self.alignment_node = alignment_node\n",
    "        ## \n",
    "        ##NotImplementedError: Currently only alignment nodes outside of plates are supported\n",
    "        #country_node_avg_temp[c] = hs.factors.aggregate(sources=[city_node], \n",
    "        #                                               alignment_node=country_node_avg_temp,\n",
    "        #                                               aggregation_meta_data='city',\n",
    "        #                                               func=sum)\n",
    "        ## FIXME this option does not work either\n",
    "        #country_node_avg_temp[c] = hs.factors.aggregate_into_dict_and_apply(sources=[city_node], \n",
    "        #                                               alignment_node=country_node_avg_temp,\n",
    "        #                                                aggregation_meta_data='city',\n",
    "        #                                                func=sum_values)\n",
    "    world_node_avg_temp = hs.factors.aggregate_into_dict_and_apply(sources=[city_node], \n",
    "                                                        alignment_node=country_node_avg_temp,\n",
    "                                                        aggregation_meta_data='city',\n",
    "                                                        func=sum_values)\n",
    "    w.execute(ti_all)"
   ]
  },
  {
   "cell_type": "code",
   "execution_count": 6,
   "metadata": {
    "collapsed": false
   },
   "outputs": [
    {
     "name": "stdout",
     "output_type": "stream",
     "text": [
      "[alignment_node]: Node(node_id='avg_temp', plates=[Plate(meta_data_id=u'country', plate_id=u'C')])\n",
      "[sources]: [Node(node_id='temperature', plates=[Plate(meta_data_id=u'city', plate_id=u'C.C')])]\n",
      "[tool]: AggregateIntoDictAndApply(aggregation_meta_data='city', func=<function <lambda> at 0x7f845c51e9b0>)\n",
      "[workflow]: Workflow(description='Tutorial 5 workflow', factors=[MultiOutputFactor(input_plate=None, output_plates=(Plate(meta_data_id=u'country', plate_id=u'C'),), sink=Node(node_id='raw_data', plates=[Plate(meta_data_id=u'country', plate_id=u'C')]), source=None, splitting_node=None, tool=CsvMultiReader(datetime_column=0, datetime_parser=<function dateparser at 0x7f845c51ed70>, filename_template='data/TimeSeriesDatasets_130207/Temp{}.csv', header=True, skip_rows=0)), MultiOutputFactor(input_plate=Plate(meta_data_id=u'country', plate_id=u'C'), output_plates=(Plate(meta_data_id=u'city', plate_id=u'C.C'),), sink=Node(node_id='temperature', plates=[Plate(meta_data_id=u'city', plate_id=u'C.C')]), source=Node(node_id='raw_data', plates=[Plate(meta_data_id=u'country', plate_id=u'C')]), splitting_node=Node(node_id='raw_data', plates=[Plate(meta_data_id=u'country', plate_id=u'C')]), tool=SplitterFromStream(element=None, use_mapping_keys_only=True))], monitor=False, name='tutorial_05', nodes={'raw_data': Node(node_id='raw_data', plates=[Plate(meta_data_id=u'country', plate_id=u'C')]), 'temperature': Node(node_id='temperature', plates=[Plate(meta_data_id=u'city', plate_id=u'C.C')]), 'avg_temp': Node(node_id='avg_temp', plates=[])}, online=False, owner='tutorials', workflow_id='tutorial_05')\n"
     ]
    }
   ],
   "source": [
    "for key, value in world_node_avg_temp.iteritems():\n",
    "    print(\"[{}]: {}\".format(key, value))"
   ]
  },
  {
   "cell_type": "markdown",
   "metadata": {
    "deletable": true,
    "editable": true
   },
   "source": [
    "## See the country raw data streams"
   ]
  },
  {
   "cell_type": "code",
   "execution_count": 7,
   "metadata": {
    "collapsed": false,
    "deletable": true,
    "editable": true
   },
   "outputs": [
    {
     "name": "stdout",
     "output_type": "stream",
     "text": [
      "(('country', 'NZ'),)\n",
      "StreamInstance(timestamp=datetime.datetime(2000, 1, 28, 0, 0, tzinfo=<UTC>), value={'WellingtonMin': 14.2, 'ChristchurchMin': 10.8, 'HamiltonMin': 12.4, 'DunedinMax': 18.2, 'WellingtonMax': 20.0, 'ChristchurchMax': 20.2, 'AucklandMax': 23.4, 'HamiltonMax': 23.8, 'DunedinMin': 8.8, 'AucklandMin': 15.5})\n",
      "(('country', 'USA'),)\n",
      "StreamInstance(timestamp=datetime.datetime(2000, 1, 28, 0, 0, tzinfo=<UTC>), value={'ChicagoMax': 1.8, 'LosAngelesMin': 10.0, 'HoustonMax': 21.6, 'NYMax': 4.6, 'SeattleMax': 7.9, 'SeattleMin': 1.4, 'ChicagoMin': -8.1, 'NYMin': -5.6, 'HoustonMin': 7.4, 'LosAngelesMax': 19.6})\n",
      "(('country', 'Australia'),)\n",
      "StreamInstance(timestamp=datetime.datetime(2000, 1, 28, 0, 0, tzinfo=<UTC>), value={'BrisbaneMax': 28.2, 'MelbourneMin': 15.9, 'Melbournemax': 24.3, 'BrisbaneMin': 19.1, 'CanberraMin': 10.1, 'GoldCoastMax': 27.5, 'SydneyMax': 24.9, 'Canberramax': 24.5, 'GoldCoastMin': 20.2, 'SydneyMin': 17.7})\n",
      "(('country', 'Asia'),)\n",
      "StreamInstance(timestamp=datetime.datetime(2000, 1, 28, 0, 0, tzinfo=<UTC>), value={'NewDelhiMax': 20.1, 'NewDelhiMin': 8.1, 'HongKongMin': 14.3, 'KualaLumpurMin': 23.5, 'TokyoMax': 11.2, 'KualaLumpurMax': 32.2, 'HongKongMax': 19.5, 'BangkokMin': 24.0, 'BangkokMax': 32.8, 'TokyoMin': 4.2})\n"
     ]
    }
   ],
   "source": [
    "# Print the results\n",
    "for stream_id, stream in country_node.streams.iteritems():\n",
    "    print(stream_id)\n",
    "    print(stream.window().first())"
   ]
  },
  {
   "cell_type": "code",
   "execution_count": 8,
   "metadata": {
    "collapsed": false,
    "deletable": true,
    "editable": true
   },
   "outputs": [
    {
     "name": "stdout",
     "output_type": "stream",
     "text": [
      "(('country', 'Australia'), ('city', 'GoldCoastMax'))\n",
      "StreamInstance(timestamp=datetime.datetime(2000, 1, 28, 0, 0, tzinfo=<UTC>), value=27.5)\n",
      "(('country', 'Asia'), ('city', 'TokyoMax'))\n",
      "StreamInstance(timestamp=datetime.datetime(2000, 1, 28, 0, 0, tzinfo=<UTC>), value=11.2)\n",
      "(('country', 'Asia'), ('city', 'BangkokMin'))\n",
      "StreamInstance(timestamp=datetime.datetime(2000, 1, 28, 0, 0, tzinfo=<UTC>), value=24.0)\n",
      "(('country', 'Asia'), ('city', 'HongKongMin'))\n",
      "StreamInstance(timestamp=datetime.datetime(2000, 1, 28, 0, 0, tzinfo=<UTC>), value=14.3)\n",
      "(('country', 'Asia'), ('city', 'BangkokMax'))\n",
      "StreamInstance(timestamp=datetime.datetime(2000, 1, 28, 0, 0, tzinfo=<UTC>), value=32.8)\n",
      "(('country', 'Asia'), ('city', 'KualaLumpurMin'))\n",
      "StreamInstance(timestamp=datetime.datetime(2000, 1, 28, 0, 0, tzinfo=<UTC>), value=23.5)\n",
      "(('country', 'NZ'), ('city', 'WellingtonMin'))\n",
      "StreamInstance(timestamp=datetime.datetime(2000, 1, 28, 0, 0, tzinfo=<UTC>), value=14.2)\n",
      "(('country', 'Australia'), ('city', 'Canberramax'))\n",
      "StreamInstance(timestamp=datetime.datetime(2000, 1, 28, 0, 0, tzinfo=<UTC>), value=24.5)\n",
      "(('country', 'NZ'), ('city', 'AucklandMax'))\n",
      "StreamInstance(timestamp=datetime.datetime(2000, 1, 28, 0, 0, tzinfo=<UTC>), value=23.4)\n",
      "(('country', 'Australia'), ('city', 'CanberraMin'))\n",
      "StreamInstance(timestamp=datetime.datetime(2000, 1, 28, 0, 0, tzinfo=<UTC>), value=10.1)\n",
      "(('country', 'NZ'), ('city', 'DunedinMin'))\n",
      "StreamInstance(timestamp=datetime.datetime(2000, 1, 28, 0, 0, tzinfo=<UTC>), value=8.8)\n",
      "(('country', 'NZ'), ('city', 'ChristchurchMin'))\n",
      "StreamInstance(timestamp=datetime.datetime(2000, 1, 28, 0, 0, tzinfo=<UTC>), value=10.8)\n",
      "(('country', 'USA'), ('city', 'NYMin'))\n",
      "StreamInstance(timestamp=datetime.datetime(2000, 1, 28, 0, 0, tzinfo=<UTC>), value=-5.6)\n",
      "(('country', 'USA'), ('city', 'HoustonMin'))\n",
      "StreamInstance(timestamp=datetime.datetime(2000, 1, 28, 0, 0, tzinfo=<UTC>), value=7.4)\n",
      "(('country', 'Australia'), ('city', 'Melbournemax'))\n",
      "StreamInstance(timestamp=datetime.datetime(2000, 1, 28, 0, 0, tzinfo=<UTC>), value=24.3)\n",
      "(('country', 'NZ'), ('city', 'ChristchurchMax'))\n",
      "StreamInstance(timestamp=datetime.datetime(2000, 1, 28, 0, 0, tzinfo=<UTC>), value=20.2)\n",
      "(('country', 'Asia'), ('city', 'KualaLumpurMax'))\n",
      "StreamInstance(timestamp=datetime.datetime(2000, 1, 28, 0, 0, tzinfo=<UTC>), value=32.2)\n",
      "(('country', 'Australia'), ('city', 'MelbourneMin'))\n",
      "StreamInstance(timestamp=datetime.datetime(2000, 1, 28, 0, 0, tzinfo=<UTC>), value=15.9)\n",
      "(('country', 'USA'), ('city', 'LosAngelesMin'))\n",
      "StreamInstance(timestamp=datetime.datetime(2000, 1, 28, 0, 0, tzinfo=<UTC>), value=10.0)\n",
      "(('country', 'Australia'), ('city', 'BrisbaneMin'))\n",
      "StreamInstance(timestamp=datetime.datetime(2000, 1, 28, 0, 0, tzinfo=<UTC>), value=19.1)\n",
      "(('country', 'USA'), ('city', 'SeattleMax'))\n",
      "StreamInstance(timestamp=datetime.datetime(2000, 1, 28, 0, 0, tzinfo=<UTC>), value=7.9)\n",
      "(('country', 'NZ'), ('city', 'HamiltonMax'))\n",
      "StreamInstance(timestamp=datetime.datetime(2000, 1, 28, 0, 0, tzinfo=<UTC>), value=23.8)\n",
      "(('country', 'Asia'), ('city', 'TokyoMin'))\n",
      "StreamInstance(timestamp=datetime.datetime(2000, 1, 28, 0, 0, tzinfo=<UTC>), value=4.2)\n",
      "(('country', 'USA'), ('city', 'SeattleMin'))\n",
      "StreamInstance(timestamp=datetime.datetime(2000, 1, 28, 0, 0, tzinfo=<UTC>), value=1.4)\n",
      "(('country', 'Asia'), ('city', 'NewDelhiMin'))\n",
      "StreamInstance(timestamp=datetime.datetime(2000, 1, 28, 0, 0, tzinfo=<UTC>), value=8.1)\n",
      "(('country', 'Asia'), ('city', 'HongKongMax'))\n",
      "StreamInstance(timestamp=datetime.datetime(2000, 1, 28, 0, 0, tzinfo=<UTC>), value=19.5)\n",
      "(('country', 'USA'), ('city', 'ChicagoMax'))\n",
      "StreamInstance(timestamp=datetime.datetime(2000, 1, 28, 0, 0, tzinfo=<UTC>), value=1.8)\n",
      "(('country', 'Australia'), ('city', 'SydneyMax'))\n",
      "StreamInstance(timestamp=datetime.datetime(2000, 1, 28, 0, 0, tzinfo=<UTC>), value=24.9)\n",
      "(('country', 'USA'), ('city', 'NYMax'))\n",
      "StreamInstance(timestamp=datetime.datetime(2000, 1, 28, 0, 0, tzinfo=<UTC>), value=4.6)\n",
      "(('country', 'NZ'), ('city', 'DunedinMax'))\n",
      "StreamInstance(timestamp=datetime.datetime(2000, 1, 28, 0, 0, tzinfo=<UTC>), value=18.2)\n",
      "(('country', 'USA'), ('city', 'ChicagoMin'))\n",
      "StreamInstance(timestamp=datetime.datetime(2000, 1, 28, 0, 0, tzinfo=<UTC>), value=-8.1)\n",
      "(('country', 'NZ'), ('city', 'AucklandMin'))\n",
      "StreamInstance(timestamp=datetime.datetime(2000, 1, 28, 0, 0, tzinfo=<UTC>), value=15.5)\n",
      "(('country', 'Asia'), ('city', 'NewDelhiMax'))\n",
      "StreamInstance(timestamp=datetime.datetime(2000, 1, 28, 0, 0, tzinfo=<UTC>), value=20.1)\n",
      "(('country', 'USA'), ('city', 'LosAngelesMax'))\n",
      "StreamInstance(timestamp=datetime.datetime(2000, 1, 28, 0, 0, tzinfo=<UTC>), value=19.6)\n",
      "(('country', 'Australia'), ('city', 'GoldCoastMin'))\n",
      "StreamInstance(timestamp=datetime.datetime(2000, 1, 28, 0, 0, tzinfo=<UTC>), value=20.2)\n",
      "(('country', 'Australia'), ('city', 'BrisbaneMax'))\n",
      "StreamInstance(timestamp=datetime.datetime(2000, 1, 28, 0, 0, tzinfo=<UTC>), value=28.2)\n",
      "(('country', 'NZ'), ('city', 'HamiltonMin'))\n",
      "StreamInstance(timestamp=datetime.datetime(2000, 1, 28, 0, 0, tzinfo=<UTC>), value=12.4)\n",
      "(('country', 'USA'), ('city', 'HoustonMax'))\n",
      "StreamInstance(timestamp=datetime.datetime(2000, 1, 28, 0, 0, tzinfo=<UTC>), value=21.6)\n",
      "(('country', 'NZ'), ('city', 'WellingtonMax'))\n",
      "StreamInstance(timestamp=datetime.datetime(2000, 1, 28, 0, 0, tzinfo=<UTC>), value=20.0)\n",
      "(('country', 'Australia'), ('city', 'SydneyMin'))\n",
      "StreamInstance(timestamp=datetime.datetime(2000, 1, 28, 0, 0, tzinfo=<UTC>), value=17.7)\n"
     ]
    }
   ],
   "source": [
    "for stream_id, stream in city_node.streams.iteritems():\n",
    "    print(stream_id)\n",
    "    print(stream.window().first())"
   ]
  },
  {
   "cell_type": "code",
   "execution_count": 9,
   "metadata": {
    "collapsed": false,
    "deletable": true,
    "editable": true
   },
   "outputs": [
    {
     "data": {
      "text/html": [
       "\n",
       "     <html>\n",
       "        <head>\n",
       "        <title>Temperatures in Australia</title>\n",
       "           <script src=\"./scripts/jquery.min.js\"></script>\n",
       "           <script src=\"./scripts/highstock.js\"></script>\n",
       "           <script src=\"./scripts/exporting.js\"></script>\n",
       "        </head>\n",
       "        <body>\n",
       "\n",
       "        <div id=\"container1528\" style=\"width: 800px; height: 600px; margin: 125 auto\"></div>\n",
       "\n",
       "        <script language=\"JavaScript\">\n",
       "            var seriesOptions = [{'data': [[949017600000.0, 24.5], [951696000000.0, 28.9], [954201600000.0, 25.5], [956880000000.0, 20.3], [959472000000.0, 15.2], [962150400000.0, 12.4], [964742400000.0, 11.8], [967420800000.0, 13.1], [970099200000.0, 17.5], [972691200000.0, 18.8], [975369600000.0, 22.4], [977961600000.0, 27.8], [980640000000.0, 31.0], [983318400000.0, 28.4], [985737600000.0, 23.5], [988416000000.0, 21.5], [991008000000.0, 16.9], [993686400000.0, 14.2], [996278400000.0, 12.9], [998956800000.0, 13.7], [1001635200000.0, 18.6], [1004227200000.0, 18.9], [1006905600000.0, 22.6], [1009497600000.0, 26.7], [1012176000000.0, 28.8], [1014854400000.0, 24.6], [1017273600000.0, 25.1], [1019952000000.0, 22.4], [1022544000000.0, 18.2], [1025222400000.0, 13.4], [1027814400000.0, 12.5], [1030492800000.0, 14.9], [1033171200000.0, 17.7], [1035763200000.0, 21.3], [1038441600000.0, 27.5], [1041033600000.0, 28.2], [1043712000000.0, 30.5], [1046390400000.0, 29.3], [1048809600000.0, 24.0], [1051488000000.0, 20.2], [1054080000000.0, 17.2], [1056758400000.0, 13.0], [1059350400000.0, 12.4], [1062028800000.0, 13.1], [1064707200000.0, 16.0], [1067299200000.0, 17.5], [1069977600000.0, 23.6], [1072569600000.0, 27.1], [1075248000000.0, 29.2], [1077926400000.0, 30.6], [1080432000000.0, 26.7], [1083110400000.0, 22.3], [1085702400000.0, 16.7], [1088380800000.0, 13.0], [1090972800000.0, 12.1], [1093651200000.0, 14.6], [1096329600000.0, 17.1], [1098921600000.0, 20.1], [1101600000000.0, 23.6], [1104192000000.0, 26.7], [1106870400000.0, 29.0], [1109548800000.0, 27.0], [1111968000000.0, 24.4], [1114646400000.0, 24.6], [1117238400000.0, 18.4], [1119916800000.0, 14.1], [1122508800000.0, 12.7], [1125187200000.0, 14.4], [1127865600000.0, 16.4], [1130457600000.0, 20.3], [1133136000000.0, 25.2], [1135728000000.0, 29.0], [1138406400000.0, 30.5], [1141084800000.0, 30.5], [1143504000000.0, 26.9], [1146182400000.0, 19.8], [1148774400000.0, 16.2], [1151452800000.0, 12.3], [1154044800000.0, 12.8], [1156723200000.0, 15.4], [1159401600000.0, 19.6], [1161993600000.0, 24.3], [1164672000000.0, 26.7], [1167264000000.0, 28.0], [1169942400000.0, 31.5], [1172620800000.0, 29.0], [1175040000000.0, 25.8], [1177718400000.0, 22.1], [1180310400000.0, 18.1], [1182988800000.0, 11.8], [1185580800000.0, 11.4], [1188259200000.0, 14.9], [1190937600000.0, 17.1], [1193529600000.0, 23.2], [1196208000000.0, 25.1], [1198800000000.0, 25.2], [1201478400000.0, 29.2], [1204156800000.0, 24.6], [1206662400000.0, 26.1], [1209340800000.0, 19.6], [1211932800000.0, 17.2], [1214611200000.0, 14.5], [1217203200000.0, 11.7], [1219881600000.0, 12.8], [1222560000000.0, 18.0], [1225152000000.0, 23.0], [1227830400000.0, 23.7], [1230422400000.0, 25.2], [1233100800000.0, 31.0], [1235779200000.0, 28.7], [1238198400000.0, 26.7], [1240876800000.0, 19.7], [1243468800000.0, 16.5], [1246147200000.0, 12.8], [1248739200000.0, 12.3], [1251417600000.0, 14.8], [1254096000000.0, 17.8], [1256688000000.0, 19.1], [1259366400000.0, 29.1], [1261958400000.0, 29.1], [1264636800000.0, 31.7], [1267315200000.0, 27.2], [1269734400000.0, 24.6], [1272412800000.0, 21.1], [1275004800000.0, 16.6], [1277683200000.0, 13.2], [1280275200000.0, 12.9], [1282953600000.0, 12.4], [1285632000000.0, 16.4], [1288224000000.0, 19.6], [1290902400000.0, 22.4], [1293494400000.0, 25.1], [1296172800000.0, 28.8], [1298851200000.0, 26.7], [1301270400000.0, 23.3], [1303948800000.0, 19.6], [1306540800000.0, 15.8], [1309219200000.0, 13.8], [1311811200000.0, 12.3], [1314489600000.0, 16.1], [1317168000000.0, 18.6], [1319760000000.0, 20.8], [1322438400000.0, 25.5], [1325030400000.0, 23.6], [1327708800000.0, 27.5], [1330387200000.0, 25.1], [1332892800000.0, 22.2], [1335571200000.0, 20.2], [1338163200000.0, 15.7], [1340841600000.0, 13.1], [1343433600000.0, 13.2], [1346112000000.0, 13.6], [1348790400000.0, 18.0], [1351382400000.0, 21.1]], 'name': 'Canberramax'}, {'data': [[949017600000.0, 10.1], [951696000000.0, 13.2], [954201600000.0, 12.3], [956880000000.0, 5.0], [959472000000.0, 2.3], [962150400000.0, -1.9], [964742400000.0, -1.0], [967420800000.0, -0.1], [970099200000.0, 4.1], [972691200000.0, 4.6], [975369600000.0, 11.3], [977961600000.0, 10.3], [980640000000.0, 13.8], [983318400000.0, 13.8], [985737600000.0, 9.2], [988416000000.0, 4.8], [991008000000.0, -0.5], [993686400000.0, -1.1], [996278400000.0, 0.0], [998956800000.0, 0.1], [1001635200000.0, 3.4], [1004227200000.0, 4.1], [1006905600000.0, 6.0], [1009497600000.0, 10.1], [1012176000000.0, 11.7], [1014854400000.0, 13.0], [1017273600000.0, 9.2], [1019952000000.0, 7.1], [1022544000000.0, 2.2], [1025222400000.0, 1.1], [1027814400000.0, -2.0], [1030492800000.0, -1.6], [1033171200000.0, 1.7], [1035763200000.0, 4.4], [1038441600000.0, 10.7], [1041033600000.0, 11.0], [1043712000000.0, 12.5], [1046390400000.0, 14.3], [1048809600000.0, 9.0], [1051488000000.0, 6.4], [1054080000000.0, 3.6], [1056758400000.0, 2.7], [1059350400000.0, 0.0], [1062028800000.0, 0.1], [1064707200000.0, 2.7], [1067299200000.0, 4.3], [1069977600000.0, 7.6], [1072569600000.0, 12.4], [1075248000000.0, 12.2], [1077926400000.0, 13.3], [1080432000000.0, 9.5], [1083110400000.0, 6.7], [1085702400000.0, 0.1], [1088380800000.0, 1.0], [1090972800000.0, -1.5], [1093651200000.0, 0.7], [1096329600000.0, 3.1], [1098921600000.0, 5.7], [1101600000000.0, 7.8], [1104192000000.0, 10.5], [1106870400000.0, 12.6], [1109548800000.0, 12.3], [1111968000000.0, 8.7], [1114646400000.0, 6.5], [1117238400000.0, 1.1], [1119916800000.0, 1.4], [1122508800000.0, 0.3], [1125187200000.0, -0.7], [1127865600000.0, 3.7], [1130457600000.0, 7.2], [1133136000000.0, 12.9], [1135728000000.0, 10.6], [1138406400000.0, 15.6], [1141084800000.0, 13.4], [1143504000000.0, 11.3], [1146182400000.0, 3.1], [1148774400000.0, 1.0], [1151452800000.0, -1.2], [1154044800000.0, 0.6], [1156723200000.0, -1.2], [1159401600000.0, 2.3], [1161993600000.0, 4.6], [1164672000000.0, 8.7], [1167264000000.0, 11.1], [1169942400000.0, 13.8], [1172620800000.0, 14.5], [1175040000000.0, 11.5], [1177718400000.0, 6.8], [1180310400000.0, 4.8], [1182988800000.0, 1.0], [1185580800000.0, -0.4], [1188259200000.0, 2.5], [1190937600000.0, 2.1], [1193529600000.0, 6.5], [1196208000000.0, 11.2], [1198800000000.0, 12.1], [1201478400000.0, 14.5], [1204156800000.0, 11.9], [1206662400000.0, 10.2], [1209340800000.0, 4.1], [1211932800000.0, 1.5], [1214611200000.0, 3.1], [1217203200000.0, -1.2], [1219881600000.0, -0.7], [1222560000000.0, 2.4], [1225152000000.0, 5.9], [1227830400000.0, 9.3], [1230422400000.0, 10.8], [1233100800000.0, 13.2], [1235779200000.0, 13.7], [1238198400000.0, 10.9], [1240876800000.0, 7.3], [1243468800000.0, 3.3], [1246147200000.0, 2.3], [1248739200000.0, 0.4], [1251417600000.0, 1.1], [1254096000000.0, 2.4], [1256688000000.0, 5.5], [1259366400000.0, 11.7], [1261958400000.0, 11.9], [1264636800000.0, 14.4], [1267315200000.0, 14.7], [1269734400000.0, 10.4], [1272412800000.0, 6.0], [1275004800000.0, 2.2], [1277683200000.0, -0.6], [1280275200000.0, -1.3], [1282953600000.0, 0.3], [1285632000000.0, 2.7], [1288224000000.0, 5.8], [1290902400000.0, 9.0], [1293494400000.0, 10.4], [1296172800000.0, 14.4], [1298851200000.0, 13.5], [1301270400000.0, 11.0], [1303948800000.0, 4.0], [1306540800000.0, -1.5], [1309219200000.0, -0.7], [1311811200000.0, -2.1], [1314489600000.0, 0.1], [1317168000000.0, 0.2], [1319760000000.0, 4.5], [1322438400000.0, 8.8], [1325030400000.0, 9.4], [1327708800000.0, 11.2], [1330387200000.0, 11.9], [1332892800000.0, 8.9], [1335571200000.0, 5.3], [1338163200000.0, -1.7], [1340841600000.0, -0.6], [1343433600000.0, -2.1], [1346112000000.0, -2.2], [1348790400000.0, 1.0], [1351382400000.0, 2.4]], 'name': 'CanberraMin'}, {'data': [[949017600000.0, 27.5], [951696000000.0, 26.6], [954201600000.0, 27.0], [956880000000.0, 25.2], [959472000000.0, 22.9], [962150400000.0, 20.5], [964742400000.0, 21.8], [967420800000.0, 22.1], [970099200000.0, 25.7], [972691200000.0, 25.5], [975369600000.0, 26.4], [977961600000.0, 28.0], [980640000000.0, 29.2], [983318400000.0, 28.2], [985737600000.0, 28.8], [988416000000.0, 26.2], [991008000000.0, 23.6], [993686400000.0, 23.0], [996278400000.0, 21.8], [998956800000.0, 22.5], [1001635200000.0, 24.0], [1004227200000.0, 26.3], [1006905600000.0, 26.8], [1009497600000.0, 29.3], [1012176000000.0, 29.8], [1014854400000.0, 30.4], [1017273600000.0, 28.7], [1019952000000.0, 26.3], [1022544000000.0, 24.3], [1025222400000.0, 22.3], [1027814400000.0, 21.9], [1030492800000.0, 21.5], [1033171200000.0, 25.1], [1035763200000.0, 26.4], [1038441600000.0, 27.8], [1041033600000.0, 28.6], [1043712000000.0, 29.1], [1046390400000.0, 28.1], [1048809600000.0, 26.9], [1051488000000.0, 25.4], [1054080000000.0, 23.7], [1056758400000.0, 22.3], [1059350400000.0, 21.1], [1062028800000.0, 22.0], [1064707200000.0, 26.0], [1067299200000.0, 25.2], [1069977600000.0, 26.2], [1072569600000.0, 28.6], [1075248000000.0, 30.8], [1077926400000.0, 31.1], [1080432000000.0, 28.1], [1083110400000.0, 26.6], [1085702400000.0, 23.7], [1088380800000.0, 22.6], [1090972800000.0, 22.1], [1093651200000.0, 23.3], [1096329600000.0, 24.9], [1098921600000.0, 27.0], [1101600000000.0, 28.2], [1104192000000.0, 28.9], [1106870400000.0, 29.5], [1109548800000.0, 30.9], [1111968000000.0, 28.7], [1114646400000.0, 27.0], [1117238400000.0, 23.8], [1119916800000.0, 21.7], [1122508800000.0, 21.9], [1125187200000.0, 22.4], [1127865600000.0, 25.2], [1130457600000.0, 27.7], [1133136000000.0, 28.9], [1135728000000.0, 31.4], [1138406400000.0, 30.5], [1141084800000.0, 30.5], [1143504000000.0, 28.6], [1146182400000.0, 27.8], [1148774400000.0, 24.7], [1151452800000.0, 21.3], [1154044800000.0, 22.0], [1156723200000.0, 23.3], [1159401600000.0, 24.1], [1161993600000.0, 26.3], [1164672000000.0, 27.6], [1167264000000.0, 27.8], [1169942400000.0, 30.8], [1172620800000.0, 29.4], [1175040000000.0, 29.8], [1177718400000.0, 27.1], [1180310400000.0, 26.0], [1182988800000.0, 21.1], [1185580800000.0, 21.7], [1188259200000.0, 23.0], [1190937600000.0, 25.3], [1193529600000.0, 27.7], [1196208000000.0, 26.8], [1198800000000.0, 28.5], [1201478400000.0, 28.6], [1204156800000.0, 29.1], [1206662400000.0, 27.4], [1209340800000.0, 25.3], [1211932800000.0, 24.5], [1214611200000.0, 23.0], [1217203200000.0, 21.0], [1219881600000.0, 22.4], [1222560000000.0, 24.5], [1225152000000.0, 26.2], [1227830400000.0, 27.2], [1230422400000.0, 29.7], [1233100800000.0, 29.6], [1235779200000.0, 29.8], [1238198400000.0, 28.6], [1240876800000.0, 26.7], [1243468800000.0, 23.9], [1246147200000.0, 21.4], [1248739200000.0, 21.4], [1251417600000.0, 24.6], [1254096000000.0, 25.3], [1256688000000.0, 26.6], [1259366400000.0, 28.6], [1261958400000.0, 28.8], [1264636800000.0, 30.3], [1267315200000.0, 29.3], [1269734400000.0, 28.1], [1272412800000.0, 27.2], [1275004800000.0, 23.9], [1277683200000.0, 21.6], [1280275200000.0, 21.5], [1282953600000.0, 21.8], [1285632000000.0, 24.3], [1288224000000.0, 23.9], [1290902400000.0, 26.2], [1293494400000.0, 27.0], [1296172800000.0, 28.6], [1298851200000.0, 29.7], [1301270400000.0, 28.5], [1303948800000.0, 25.8], [1306540800000.0, 22.8], [1309219200000.0, 21.1], [1311811200000.0, 21.2], [1314489600000.0, 21.8], [1317168000000.0, 24.0], [1319760000000.0, 24.8], [1322438400000.0, 27.7], [1325030400000.0, 26.9], [1327708800000.0, 28.0], [1330387200000.0, 29.1], [1332892800000.0, 27.7], [1335571200000.0, 25.9], [1338163200000.0, 23.8], [1340841600000.0, 21.1], [1343433600000.0, 21.0], [1346112000000.0, 22.7], [1348790400000.0, 24.3], [1351382400000.0, 25.6]], 'name': 'GoldCoastMax'}, {'data': [[949017600000.0, 28.2], [951696000000.0, 27.7], [954201600000.0, 27.9], [956880000000.0, 25.7], [959472000000.0, 23.1], [962150400000.0, 20.6], [964742400000.0, 21.2], [967420800000.0, 22.4], [970099200000.0, 25.1], [972691200000.0, 25.5], [975369600000.0, 25.6], [977961600000.0, 28.3], [980640000000.0, 29.0], [983318400000.0, 28.1], [985737600000.0, 29.0], [988416000000.0, 26.0], [991008000000.0, 23.6], [993686400000.0, 22.5], [996278400000.0, 21.5], [998956800000.0, 22.0], [1001635200000.0, 24.1], [1004227200000.0, 26.6], [1006905600000.0, 26.5], [1009497600000.0, 29.2], [1012176000000.0, 30.2], [1014854400000.0, 30.1], [1017273600000.0, 28.5], [1019952000000.0, 26.8], [1022544000000.0, 24.5], [1025222400000.0, 22.1], [1027814400000.0, 21.7], [1030492800000.0, 21.4], [1033171200000.0, 24.7], [1035763200000.0, 26.0], [1038441600000.0, 27.0], [1041033600000.0, 28.6], [1043712000000.0, 28.7], [1046390400000.0, 28.0], [1048809600000.0, 26.7], [1051488000000.0, 25.6], [1054080000000.0, 23.6], [1056758400000.0, 21.8], [1059350400000.0, 20.6], [1062028800000.0, 21.6], [1064707200000.0, 26.2], [1067299200000.0, 25.4], [1069977600000.0, 26.5], [1072569600000.0, 28.0], [1075248000000.0, 30.1], [1077926400000.0, 30.5], [1080432000000.0, 27.9], [1083110400000.0, 26.1], [1085702400000.0, 23.9], [1088380800000.0, 22.4], [1090972800000.0, 21.7], [1093651200000.0, 22.6], [1096329600000.0, 23.8], [1098921600000.0, 26.7], [1101600000000.0, 27.4], [1104192000000.0, 28.0], [1106870400000.0, 29.0], [1109548800000.0, 29.6], [1111968000000.0, 28.1], [1114646400000.0, 26.5], [1117238400000.0, 23.6], [1119916800000.0, 21.3], [1122508800000.0, 21.6], [1125187200000.0, 21.9], [1127865600000.0, 24.1], [1130457600000.0, 26.4], [1133136000000.0, 26.5], [1135728000000.0, 30.5], [1138406400000.0, 29.6], [1141084800000.0, 30.0], [1143504000000.0, 27.5], [1146182400000.0, 26.9], [1148774400000.0, 24.5], [1151452800000.0, 21.1], [1154044800000.0, 22.0], [1156723200000.0, 22.8], [1159401600000.0, 23.5], [1161993600000.0, 25.2], [1164672000000.0, 26.7], [1167264000000.0, 26.8], [1169942400000.0, 29.0], [1172620800000.0, 28.2], [1175040000000.0, 29.1], [1177718400000.0, 26.7], [1180310400000.0, 25.4], [1182988800000.0, 20.2], [1185580800000.0, 20.8], [1188259200000.0, 22.3], [1190937600000.0, 24.0], [1193529600000.0, 26.4], [1196208000000.0, 25.9], [1198800000000.0, 27.9], [1201478400000.0, 28.2], [1204156800000.0, 28.4], [1206662400000.0, 26.5], [1209340800000.0, 25.3], [1211932800000.0, 23.5], [1214611200000.0, 22.4], [1217203200000.0, 20.2], [1219881600000.0, 20.9], [1222560000000.0, 23.6], [1225152000000.0, 25.1], [1227830400000.0, 27.6], [1230422400000.0, 28.8], [1233100800000.0, 29.2], [1235779200000.0, 28.8], [1238198400000.0, 28.2], [1240876800000.0, 26.5], [1243468800000.0, 23.3], [1246147200000.0, 21.1], [1248739200000.0, 20.8], [1251417600000.0, 24.0], [1254096000000.0, 25.7], [1256688000000.0, 26.8], [1259366400000.0, 28.0], [1261958400000.0, 28.9], [1264636800000.0, 29.7], [1267315200000.0, 29.2], [1269734400000.0, 27.4], [1272412800000.0, 26.1], [1275004800000.0, 23.5], [1277683200000.0, 21.2], [1280275200000.0, 20.7], [1282953600000.0, 21.0], [1285632000000.0, 23.5], [1288224000000.0, 23.7], [1290902400000.0, 26.0], [1293494400000.0, 26.9], [1296172800000.0, 28.3], [1298851200000.0, 29.2], [1301270400000.0, 27.8], [1303948800000.0, 25.3], [1306540800000.0, 22.4], [1309219200000.0, 20.5], [1311811200000.0, 20.9], [1314489600000.0, 21.7], [1317168000000.0, 23.7], [1319760000000.0, 24.7], [1322438400000.0, 27.6], [1325030400000.0, 26.5], [1327708800000.0, 27.9], [1330387200000.0, 28.4], [1332892800000.0, 27.3], [1335571200000.0, 25.4], [1338163200000.0, 23.1], [1340841600000.0, 20.6], [1343433600000.0, 20.5], [1346112000000.0, 22.3], [1348790400000.0, 24.2], [1351382400000.0, 25.5]], 'name': 'BrisbaneMax'}, {'data': [[949017600000.0, 19.1], [951696000000.0, 19.4], [954201600000.0, 19.3], [956880000000.0, 16.2], [959472000000.0, 12.9], [962150400000.0, 8.3], [964742400000.0, 6.8], [967420800000.0, 7.7], [970099200000.0, 11.3], [972691200000.0, 15.1], [975369600000.0, 16.7], [977961600000.0, 19.1], [980640000000.0, 20.5], [983318400000.0, 19.4], [985737600000.0, 19.5], [988416000000.0, 15.9], [991008000000.0, 11.0], [993686400000.0, 9.9], [996278400000.0, 8.2], [998956800000.0, 7.8], [1001635200000.0, 11.0], [1004227200000.0, 13.8], [1006905600000.0, 16.5], [1009497600000.0, 20.3], [1012176000000.0, 20.6], [1014854400000.0, 20.5], [1017273600000.0, 18.0], [1019952000000.0, 15.8], [1022544000000.0, 12.8], [1025222400000.0, 9.0], [1027814400000.0, 5.3], [1030492800000.0, 9.0], [1033171200000.0, 12.0], [1035763200000.0, 14.6], [1038441600000.0, 17.4], [1041033600000.0, 18.9], [1043712000000.0, 19.1], [1046390400000.0, 20.8], [1048809600000.0, 17.8], [1051488000000.0, 15.6], [1054080000000.0, 11.8], [1056758400000.0, 9.9], [1059350400000.0, 8.1], [1062028800000.0, 9.0], [1064707200000.0, 11.3], [1067299200000.0, 13.7], [1069977600000.0, 15.5], [1072569600000.0, 19.7], [1075248000000.0, 21.5], [1077926400000.0, 21.7], [1080432000000.0, 19.4], [1083110400000.0, 16.3], [1085702400000.0, 10.0], [1088380800000.0, 8.1], [1090972800000.0, 8.0], [1093651200000.0, 7.4], [1096329600000.0, 10.8], [1098921600000.0, 15.4], [1101600000000.0, 16.9], [1104192000000.0, 19.2], [1106870400000.0, 20.6], [1109548800000.0, 20.4], [1111968000000.0, 17.3], [1114646400000.0, 16.5], [1117238400000.0, 11.8], [1119916800000.0, 11.0], [1122508800000.0, 9.2], [1125187200000.0, 8.6], [1127865600000.0, 11.4], [1130457600000.0, 16.6], [1133136000000.0, 20.3], [1135728000000.0, 20.8], [1138406400000.0, 21.8], [1141084800000.0, 21.4], [1143504000000.0, 18.8], [1146182400000.0, 15.0], [1148774400000.0, 10.2], [1151452800000.0, 9.5], [1154044800000.0, 8.4], [1156723200000.0, 8.8], [1159401600000.0, 12.9], [1161993600000.0, 14.7], [1164672000000.0, 16.5], [1167264000000.0, 17.6], [1169942400000.0, 20.8], [1172620800000.0, 19.7], [1175040000000.0, 19.4], [1177718400000.0, 15.6], [1180310400000.0, 14.1], [1182988800000.0, 9.6], [1185580800000.0, 5.7], [1188259200000.0, 9.7], [1190937600000.0, 12.2], [1193529600000.0, 16.0], [1196208000000.0, 17.7], [1198800000000.0, 19.9], [1201478400000.0, 21.0], [1204156800000.0, 19.8], [1206662400000.0, 16.6], [1209340800000.0, 13.4], [1211932800000.0, 10.9], [1214611200000.0, 10.8], [1217203200000.0, 8.6], [1219881600000.0, 6.9], [1222560000000.0, 13.4], [1225152000000.0, 14.7], [1227830400000.0, 17.8], [1230422400000.0, 19.9], [1233100800000.0, 20.7], [1235779200000.0, 20.7], [1238198400000.0, 19.1], [1240876800000.0, 16.4], [1243468800000.0, 12.4], [1246147200000.0, 9.6], [1248739200000.0, 7.8], [1251417600000.0, 10.2], [1254096000000.0, 11.8], [1256688000000.0, 13.8], [1259366400000.0, 18.9], [1261958400000.0, 21.2], [1264636800000.0, 21.0], [1267315200000.0, 21.3], [1269734400000.0, 19.6], [1272412800000.0, 16.6], [1275004800000.0, 12.0], [1277683200000.0, 9.3], [1280275200000.0, 10.5], [1282953600000.0, 9.0], [1285632000000.0, 13.5], [1288224000000.0, 15.0], [1290902400000.0, 18.1], [1293494400000.0, 19.8], [1296172800000.0, 20.9], [1298851200000.0, 21.0], [1301270400000.0, 19.6], [1303948800000.0, 16.4], [1306540800000.0, 11.2], [1309219200000.0, 8.7], [1311811200000.0, 7.4], [1314489600000.0, 9.4], [1317168000000.0, 10.7], [1319760000000.0, 14.4], [1322438400000.0, 19.2], [1325030400000.0, 17.4], [1327708800000.0, 20.2], [1330387200000.0, 20.4], [1332892800000.0, 18.6], [1335571200000.0, 15.8], [1338163200000.0, 11.1], [1340841600000.0, 10.6], [1343433600000.0, 9.3], [1346112000000.0, 7.7], [1348790400000.0, 11.8], [1351382400000.0, 13.9]], 'name': 'BrisbaneMin'}, {'data': [[949017600000.0, 20.2], [951696000000.0, 20.7], [954201600000.0, 20.9], [956880000000.0, 18.7], [959472000000.0, 15.9], [962150400000.0, 12.3], [964742400000.0, 10.2], [967420800000.0, 11.0], [970099200000.0, 13.9], [972691200000.0, 16.3], [975369600000.0, 18.1], [977961600000.0, 20.1], [980640000000.0, 21.6], [983318400000.0, 20.5], [985737600000.0, 20.9], [988416000000.0, 18.0], [991008000000.0, 13.4], [993686400000.0, 12.6], [996278400000.0, 10.7], [998956800000.0, 10.6], [1001635200000.0, 13.6], [1004227200000.0, 15.8], [1006905600000.0, 17.2], [1009497600000.0, 20.5], [1012176000000.0, 21.4], [1014854400000.0, 22.0], [1017273600000.0, 20.1], [1019952000000.0, 18.3], [1022544000000.0, 15.6], [1025222400000.0, 12.4], [1027814400000.0, 9.2], [1030492800000.0, 11.8], [1033171200000.0, 14.7], [1035763200000.0, 16.0], [1038441600000.0, 18.6], [1041033600000.0, 19.4], [1043712000000.0, 20.8], [1046390400000.0, 21.2], [1048809600000.0, 19.0], [1051488000000.0, 17.4], [1054080000000.0, 14.4], [1056758400000.0, 12.6], [1059350400000.0, 10.7], [1062028800000.0, 11.7], [1064707200000.0, 13.2], [1067299200000.0, 14.9], [1069977600000.0, 17.2], [1072569600000.0, 20.2], [1075248000000.0, 21.9], [1077926400000.0, 21.9], [1080432000000.0, 20.5], [1083110400000.0, 18.0], [1085702400000.0, 13.0], [1088380800000.0, 11.2], [1090972800000.0, 11.0], [1093651200000.0, 10.7], [1096329600000.0, 13.0], [1098921600000.0, 16.7], [1101600000000.0, 18.2], [1104192000000.0, 19.9], [1106870400000.0, 21.8], [1109548800000.0, 21.7], [1111968000000.0, 18.8], [1114646400000.0, 18.5], [1117238400000.0, 14.1], [1119916800000.0, 13.2], [1122508800000.0, 11.7], [1125187200000.0, 11.5], [1127865600000.0, 13.4], [1130457600000.0, 17.4], [1133136000000.0, 20.0], [1135728000000.0, 20.8], [1138406400000.0, 22.2], [1141084800000.0, 21.9], [1143504000000.0, 20.0], [1146182400000.0, 16.5], [1148774400000.0, 12.9], [1151452800000.0, 11.6], [1154044800000.0, 11.1], [1156723200000.0, 11.9], [1159401600000.0, 14.7], [1161993600000.0, 16.0], [1164672000000.0, 17.1], [1167264000000.0, 18.8], [1169942400000.0, 21.0], [1172620800000.0, 21.4], [1175040000000.0, 20.7], [1177718400000.0, 17.2], [1180310400000.0, 16.3], [1182988800000.0, 11.6], [1185580800000.0, 8.5], [1188259200000.0, 12.1], [1190937600000.0, 13.7], [1193529600000.0, 17.3], [1196208000000.0, 18.2], [1198800000000.0, 20.5], [1201478400000.0, 21.8], [1204156800000.0, 20.7], [1206662400000.0, 18.8], [1209340800000.0, 15.5], [1211932800000.0, 13.3], [1214611200000.0, 12.8], [1217203200000.0, 10.5], [1219881600000.0, 9.5], [1222560000000.0, 15.1], [1225152000000.0, 15.7], [1227830400000.0, 18.5], [1230422400000.0, 20.1], [1233100800000.0, 21.6], [1235779200000.0, 21.3], [1238198400000.0, 20.4], [1240876800000.0, 17.7], [1243468800000.0, 14.5], [1246147200000.0, 11.8], [1248739200000.0, 10.7], [1251417600000.0, 12.7], [1254096000000.0, 13.7], [1256688000000.0, 16.1], [1259366400000.0, 19.6], [1261958400000.0, 21.3], [1264636800000.0, 21.8], [1267315200000.0, 21.8], [1269734400000.0, 21.1], [1272412800000.0, 18.7], [1275004800000.0, 14.6], [1277683200000.0, 12.2], [1280275200000.0, 12.4], [1282953600000.0, 11.0], [1285632000000.0, 15.4], [1288224000000.0, 16.0], [1290902400000.0, 18.7], [1293494400000.0, 20.6], [1296172800000.0, 21.6], [1298851200000.0, 21.6], [1301270400000.0, 20.5], [1303948800000.0, 17.9], [1306540800000.0, 13.0], [1309219200000.0, 11.4], [1311811200000.0, 10.2], [1314489600000.0, 11.9], [1317168000000.0, 13.5], [1319760000000.0, 16.0], [1322438400000.0, 19.9], [1325030400000.0, 19.0], [1327708800000.0, 21.1], [1330387200000.0, 21.1], [1332892800000.0, 20.2], [1335571200000.0, 17.5], [1338163200000.0, 14.0], [1340841600000.0, 13.0], [1343433600000.0, 12.1], [1346112000000.0, 10.9], [1348790400000.0, 14.0], [1351382400000.0, 15.7]], 'name': 'GoldCoastMin'}, {'data': [[949017600000.0, 24.3], [951696000000.0, 28.7], [954201600000.0, 25.1], [956880000000.0, 20.8], [959472000000.0, 16.0], [962150400000.0, 14.6], [964742400000.0, 14.4], [967420800000.0, 15.7], [970099200000.0, 18.3], [972691200000.0, 19.2], [975369600000.0, 23.7], [977961600000.0, 26.2], [980640000000.0, 29.4], [983318400000.0, 29.4], [985737600000.0, 24.4], [988416000000.0, 20.7], [991008000000.0, 17.0], [993686400000.0, 15.9], [996278400000.0, 14.7], [998956800000.0, 15.6], [1001635200000.0, 19.5], [1004227200000.0, 19.3], [1006905600000.0, 21.1], [1009497600000.0, 21.5], [1012176000000.0, 25.1], [1014854400000.0, 25.5], [1017273600000.0, 24.3], [1019952000000.0, 22.2], [1022544000000.0, 21.1], [1025222400000.0, 15.9], [1027814400000.0, 15.4], [1030492800000.0, 16.4], [1033171200000.0, 19.4], [1035763200000.0, 21.2], [1038441600000.0, 23.6], [1041033600000.0, 24.7], [1043712000000.0, 27.8], [1046390400000.0, 26.1], [1048809600000.0, 24.6], [1051488000000.0, 21.3], [1054080000000.0, 18.8], [1056758400000.0, 15.4], [1059350400000.0, 14.8], [1062028800000.0, 15.1], [1064707200000.0, 17.2], [1067299200000.0, 18.0], [1069977600000.0, 23.7], [1072569600000.0, 27.2], [1075248000000.0, 24.6], [1077926400000.0, 26.1], [1080432000000.0, 23.9], [1083110400000.0, 22.0], [1085702400000.0, 17.4], [1088380800000.0, 14.8], [1090972800000.0, 14.1], [1093651200000.0, 16.4], [1096329600000.0, 17.5], [1098921600000.0, 21.4], [1101600000000.0, 22.5], [1104192000000.0, 25.4], [1106870400000.0, 26.8], [1109548800000.0, 24.7], [1111968000000.0, 23.9], [1114646400000.0, 24.5], [1117238400000.0, 18.5], [1119916800000.0, 16.3], [1122508800000.0, 15.2], [1125187200000.0, 16.3], [1127865600000.0, 18.1], [1130457600000.0, 21.4], [1133136000000.0, 28.1], [1135728000000.0, 28.2], [1138406400000.0, 27.7], [1141084800000.0, 25.5], [1143504000000.0, 26.1], [1146182400000.0, 19.4], [1148774400000.0, 16.5], [1151452800000.0, 14.3], [1154044800000.0, 14.5], [1156723200000.0, 17.0], [1159401600000.0, 19.9], [1161993600000.0, 22.5], [1164672000000.0, 22.7], [1167264000000.0, 25.4], [1169942400000.0, 28.0], [1172620800000.0, 29.0], [1175040000000.0, 25.7], [1177718400000.0, 22.7], [1180310400000.0, 19.6], [1182988800000.0, 14.1], [1185580800000.0, 13.8], [1188259200000.0, 17.3], [1190937600000.0, 18.9], [1193529600000.0, 22.1], [1196208000000.0, 24.6], [1198800000000.0, 27.2], [1201478400000.0, 28.1], [1204156800000.0, 25.3], [1206662400000.0, 27.1], [1209340800000.0, 21.0], [1211932800000.0, 17.5], [1214611200000.0, 15.8], [1217203200000.0, 14.2], [1219881600000.0, 14.7], [1222560000000.0, 19.3], [1225152000000.0, 22.5], [1227830400000.0, 23.0], [1230422400000.0, 23.3], [1233100800000.0, 28.6], [1235779200000.0, 27.4], [1238198400000.0, 24.4], [1240876800000.0, 21.2], [1243468800000.0, 17.9], [1246147200000.0, 15.5], [1248739200000.0, 15.1], [1251417600000.0, 17.1], [1254096000000.0, 18.9], [1256688000000.0, 20.1], [1259366400000.0, 27.3], [1261958400000.0, 26.3], [1264636800000.0, 27.9], [1267315200000.0, 28.3], [1269734400000.0, 26.1], [1272412800000.0, 22.8], [1275004800000.0, 18.3], [1277683200000.0, 14.6], [1280275200000.0, 14.7], [1282953600000.0, 14.7], [1285632000000.0, 16.6], [1288224000000.0, 21.1], [1290902400000.0, 23.4], [1293494400000.0, 24.8], [1296172800000.0, 26.7], [1298851200000.0, 25.3], [1301270400000.0, 23.5], [1303948800000.0, 21.2], [1306540800000.0, 16.3], [1309219200000.0, 15.9], [1311811200000.0, 14.7], [1314489600000.0, 17.4], [1317168000000.0, 19.5], [1319760000000.0, 20.9], [1322438400000.0, 24.9], [1325030400000.0, 25.1], [1327708800000.0, 27.8], [1330387200000.0, 26.9], [1332892800000.0, 23.8], [1335571200000.0, 21.9], [1338163200000.0, 17.2], [1340841600000.0, 14.5], [1343433600000.0, 14.9], [1346112000000.0, 15.3], [1348790400000.0, 18.7], [1351382400000.0, 20.8]], 'name': 'Melbournemax'}, {'data': [[949017600000.0, 24.9], [951696000000.0, 27.9], [954201600000.0, 25.2], [956880000000.0, 22.8], [959472000000.0, 19.8], [962150400000.0, 17.1], [964742400000.0, 17.5], [967420800000.0, 18.2], [970099200000.0, 22.8], [972691200000.0, 22.8], [975369600000.0, 23.1], [977961600000.0, 28.2], [980640000000.0, 28.0], [983318400000.0, 26.9], [985737600000.0, 25.1], [988416000000.0, 23.5], [991008000000.0, 18.8], [993686400000.0, 19.2], [996278400000.0, 16.9], [998956800000.0, 19.1], [1001635200000.0, 21.9], [1004227200000.0, 23.8], [1006905600000.0, 23.5], [1009497600000.0, 27.0], [1012176000000.0, 26.8], [1014854400000.0, 25.1], [1017273600000.0, 25.3], [1019952000000.0, 23.7], [1022544000000.0, 21.2], [1025222400000.0, 18.9], [1027814400000.0, 17.9], [1030492800000.0, 19.1], [1033171200000.0, 22.8], [1035763200000.0, 24.7], [1038441600000.0, 26.3], [1041033600000.0, 26.2], [1043712000000.0, 27.7], [1046390400000.0, 27.4], [1048809600000.0, 24.5], [1051488000000.0, 22.0], [1054080000000.0, 20.4], [1056758400000.0, 19.5], [1059350400000.0, 17.5], [1062028800000.0, 18.9], [1064707200000.0, 22.1], [1067299200000.0, 21.2], [1069977600000.0, 23.5], [1072569600000.0, 26.9], [1075248000000.0, 27.9], [1077926400000.0, 28.0], [1080432000000.0, 25.9], [1083110400000.0, 23.9], [1085702400000.0, 20.6], [1088380800000.0, 19.8], [1090972800000.0, 17.4], [1093651200000.0, 19.5], [1096329600000.0, 21.6], [1098921600000.0, 23.3], [1101600000000.0, 26.0], [1104192000000.0, 25.9], [1106870400000.0, 27.1], [1109548800000.0, 27.6], [1111968000000.0, 23.9], [1114646400000.0, 25.5], [1117238400000.0, 20.5], [1119916800000.0, 19.3], [1122508800000.0, 18.7], [1125187200000.0, 19.6], [1127865600000.0, 20.7], [1130457600000.0, 24.5], [1133136000000.0, 25.8], [1135728000000.0, 30.3], [1138406400000.0, 28.4], [1141084800000.0, 28.2], [1143504000000.0, 26.9], [1146182400000.0, 23.9], [1148774400000.0, 19.9], [1151452800000.0, 16.5], [1154044800000.0, 17.4], [1156723200000.0, 18.9], [1159401600000.0, 22.9], [1161993600000.0, 24.9], [1164672000000.0, 25.9], [1167264000000.0, 25.6], [1169942400000.0, 28.1], [1172620800000.0, 26.8], [1175040000000.0, 26.6], [1177718400000.0, 22.9], [1180310400000.0, 22.8], [1182988800000.0, 16.7], [1185580800000.0, 16.8], [1188259200000.0, 20.0], [1190937600000.0, 21.1], [1193529600000.0, 26.1], [1196208000000.0, 24.0], [1198800000000.0, 25.8], [1201478400000.0, 27.2], [1204156800000.0, 24.7], [1206662400000.0, 25.8], [1209340800000.0, 21.2], [1211932800000.0, 20.3], [1214611200000.0, 18.7], [1217203200000.0, 17.1], [1219881600000.0, 17.2], [1222560000000.0, 22.1], [1225152000000.0, 24.9], [1227830400000.0, 24.6], [1230422400000.0, 27.6], [1233100800000.0, 29.1], [1235779200000.0, 26.3], [1238198400000.0, 26.3], [1240876800000.0, 22.7], [1243468800000.0, 20.5], [1246147200000.0, 18.3], [1248739200000.0, 18.1], [1251417600000.0, 21.6], [1254096000000.0, 24.0], [1256688000000.0, 22.3], [1259366400000.0, 28.3], [1261958400000.0, 27.0], [1264636800000.0, 27.8], [1267315200000.0, 28.4], [1269734400000.0, 27.0], [1272412800000.0, 24.3], [1275004800000.0, 20.5], [1277683200000.0, 17.6], [1280275200000.0, 16.8], [1282953600000.0, 18.3], [1285632000000.0, 21.2], [1288224000000.0, 23.0], [1290902400000.0, 24.8], [1293494400000.0, 27.0], [1296172800000.0, 28.2], [1298851200000.0, 29.7], [1301270400000.0, 26.4], [1303948800000.0, 22.5], [1306540800000.0, 19.1], [1309219200000.0, 18.0], [1311811200000.0, 17.2], [1314489600000.0, 19.4], [1317168000000.0, 22.1], [1319760000000.0, 22.4], [1322438400000.0, 26.4], [1325030400000.0, 22.8], [1327708800000.0, 27.1], [1330387200000.0, 26.3], [1332892800000.0, 25.1], [1335571200000.0, 23.6], [1338163200000.0, 20.5], [1340841600000.0, 17.7], [1343433600000.0, 17.3], [1346112000000.0, 19.9], [1348790400000.0, 22.6], [1351382400000.0, 24.2]], 'name': 'SydneyMax'}, {'data': [[949017600000.0, 17.7], [951696000000.0, 19.7], [954201600000.0, 18.9], [956880000000.0, 14.8], [959472000000.0, 11.3], [962150400000.0, 7.6], [964742400000.0, 7.8], [967420800000.0, 9.0], [970099200000.0, 12.4], [972691200000.0, 14.0], [975369600000.0, 17.3], [977961600000.0, 19.3], [980640000000.0, 20.4], [983318400000.0, 20.7], [985737600000.0, 18.6], [988416000000.0, 15.0], [991008000000.0, 10.8], [993686400000.0, 8.9], [996278400000.0, 8.9], [998956800000.0, 8.2], [1001635200000.0, 12.0], [1004227200000.0, 13.0], [1006905600000.0, 15.0], [1009497600000.0, 18.0], [1012176000000.0, 19.2], [1014854400000.0, 18.6], [1017273600000.0, 17.6], [1019952000000.0, 15.8], [1022544000000.0, 11.9], [1025222400000.0, 8.6], [1027814400000.0, 6.5], [1030492800000.0, 8.8], [1033171200000.0, 10.6], [1035763200000.0, 13.6], [1038441600000.0, 16.4], [1041033600000.0, 17.5], [1043712000000.0, 19.3], [1046390400000.0, 20.0], [1048809600000.0, 17.3], [1051488000000.0, 14.2], [1054080000000.0, 12.5], [1056758400000.0, 9.6], [1059350400000.0, 7.6], [1062028800000.0, 8.0], [1064707200000.0, 10.4], [1067299200000.0, 11.9], [1069977600000.0, 14.9], [1072569600000.0, 18.5], [1075248000000.0, 19.3], [1077926400000.0, 19.6], [1080432000000.0, 18.3], [1083110400000.0, 15.3], [1085702400000.0, 10.3], [1088380800000.0, 8.2], [1090972800000.0, 7.9], [1093651200000.0, 9.3], [1096329600000.0, 11.0], [1098921600000.0, 13.9], [1101600000000.0, 15.5], [1104192000000.0, 17.5], [1106870400000.0, 19.1], [1109548800000.0, 18.8], [1111968000000.0, 16.3], [1114646400000.0, 16.0], [1117238400000.0, 11.4], [1119916800000.0, 9.8], [1122508800000.0, 8.6], [1125187200000.0, 7.9], [1127865600000.0, 11.2], [1130457600000.0, 15.0], [1133136000000.0, 19.3], [1135728000000.0, 18.2], [1138406400000.0, 20.1], [1141084800000.0, 20.0], [1143504000000.0, 19.2], [1146182400000.0, 13.1], [1148774400000.0, 10.4], [1151452800000.0, 7.9], [1154044800000.0, 8.3], [1156723200000.0, 9.0], [1159401600000.0, 12.2], [1161993600000.0, 13.8], [1164672000000.0, 15.1], [1167264000000.0, 16.9], [1169942400000.0, 19.1], [1172620800000.0, 20.1], [1175040000000.0, 18.2], [1177718400000.0, 14.8], [1180310400000.0, 12.2], [1182988800000.0, 8.4], [1185580800000.0, 7.2], [1188259200000.0, 10.4], [1190937600000.0, 11.3], [1193529600000.0, 14.7], [1196208000000.0, 17.1], [1198800000000.0, 17.9], [1201478400000.0, 19.8], [1204156800000.0, 18.0], [1206662400000.0, 17.2], [1209340800000.0, 13.3], [1211932800000.0, 10.5], [1214611200000.0, 11.0], [1217203200000.0, 7.5], [1219881600000.0, 7.4], [1222560000000.0, 11.0], [1225152000000.0, 13.7], [1227830400000.0, 15.8], [1230422400000.0, 17.4], [1233100800000.0, 19.1], [1235779200000.0, 19.3], [1238198400000.0, 18.0], [1240876800000.0, 14.8], [1243468800000.0, 11.9], [1246147200000.0, 9.5], [1248739200000.0, 7.9], [1251417600000.0, 9.1], [1254096000000.0, 12.1], [1256688000000.0, 13.5], [1259366400000.0, 17.7], [1261958400000.0, 18.6], [1264636800000.0, 19.8], [1267315200000.0, 20.6], [1269734400000.0, 18.7], [1272412800000.0, 15.0], [1275004800000.0, 11.3], [1277683200000.0, 8.4], [1280275200000.0, 8.4], [1282953600000.0, 8.6], [1285632000000.0, 11.1], [1288224000000.0, 14.1], [1290902400000.0, 16.2], [1293494400000.0, 18.0], [1296172800000.0, 20.4], [1298851200000.0, 20.2], [1301270400000.0, 18.5], [1303948800000.0, 14.1], [1306540800000.0, 9.8], [1309219200000.0, 9.5], [1311811200000.0, 7.7], [1314489600000.0, 9.6], [1317168000000.0, 11.1], [1319760000000.0, 13.8], [1322438400000.0, 16.9], [1325030400000.0, 16.4], [1327708800000.0, 19.0], [1330387200000.0, 19.0], [1332892800000.0, 17.3], [1335571200000.0, 14.7], [1338163200000.0, 10.6], [1340841600000.0, 9.0], [1343433600000.0, 8.4], [1346112000000.0, 8.0], [1348790400000.0, 10.9], [1351382400000.0, 12.7]], 'name': 'SydneyMin'}, {'data': [[949017600000.0, 15.9], [951696000000.0, 18.9], [954201600000.0, 16.4], [956880000000.0, 12.7], [959472000000.0, 9.9], [962150400000.0, 7.7], [964742400000.0, 6.3], [967420800000.0, 7.1], [970099200000.0, 9.3], [972691200000.0, 10.1], [975369600000.0, 14.9], [977961600000.0, 13.8], [980640000000.0, 16.7], [983318400000.0, 17.3], [985737600000.0, 13.5], [988416000000.0, 11.1], [991008000000.0, 9.4], [993686400000.0, 9.0], [996278400000.0, 7.8], [998956800000.0, 7.9], [1001635200000.0, 9.6], [1004227200000.0, 9.6], [1006905600000.0, 10.9], [1009497600000.0, 12.2], [1012176000000.0, 14.4], [1014854400000.0, 14.2], [1017273600000.0, 14.0], [1019952000000.0, 12.2], [1022544000000.0, 10.9], [1025222400000.0, 8.5], [1027814400000.0, 7.1], [1030492800000.0, 7.0], [1033171200000.0, 8.6], [1035763200000.0, 9.9], [1038441600000.0, 12.1], [1041033600000.0, 14.2], [1043712000000.0, 15.1], [1046390400000.0, 16.2], [1048809600000.0, 14.9], [1051488000000.0, 10.8], [1054080000000.0, 9.4], [1056758400000.0, 8.4], [1059350400000.0, 6.8], [1062028800000.0, 6.7], [1064707200000.0, 7.0], [1067299200000.0, 8.5], [1069977600000.0, 11.9], [1072569600000.0, 14.7], [1075248000000.0, 13.8], [1077926400000.0, 15.1], [1080432000000.0, 13.7], [1083110400000.0, 11.1], [1085702400000.0, 8.5], [1088380800000.0, 8.1], [1090972800000.0, 7.4], [1093651200000.0, 7.4], [1096329600000.0, 9.3], [1098921600000.0, 10.5], [1101600000000.0, 11.5], [1104192000000.0, 13.9], [1106870400000.0, 15.2], [1109548800000.0, 13.8], [1111968000000.0, 12.9], [1114646400000.0, 12.5], [1117238400000.0, 8.8], [1119916800000.0, 8.1], [1122508800000.0, 8.0], [1125187200000.0, 7.4], [1127865600000.0, 8.9], [1130457600000.0, 11.2], [1133136000000.0, 13.8], [1135728000000.0, 13.6], [1138406400000.0, 16.1], [1141084800000.0, 15.1], [1143504000000.0, 14.8], [1146182400000.0, 9.9], [1148774400000.0, 8.2], [1151452800000.0, 5.9], [1154044800000.0, 7.2], [1156723200000.0, 7.2], [1159401600000.0, 8.2], [1161993600000.0, 9.0], [1164672000000.0, 11.3], [1167264000000.0, 12.5], [1169942400000.0, 16.8], [1172620800000.0, 17.9], [1175040000000.0, 14.3], [1177718400000.0, 11.7], [1180310400000.0, 11.8], [1182988800000.0, 6.7], [1185580800000.0, 6.5], [1188259200000.0, 7.9], [1190937600000.0, 8.7], [1193529600000.0, 10.2], [1196208000000.0, 13.7], [1198800000000.0, 15.3], [1201478400000.0, 16.6], [1204156800000.0, 15.6], [1206662400000.0, 14.0], [1209340800000.0, 10.5], [1211932800000.0, 8.4], [1214611200000.0, 9.6], [1217203200000.0, 6.4], [1219881600000.0, 6.7], [1222560000000.0, 8.5], [1225152000000.0, 10.4], [1227830400000.0, 11.7], [1230422400000.0, 12.7], [1233100800000.0, 15.5], [1235779200000.0, 16.1], [1238198400000.0, 13.9], [1240876800000.0, 10.4], [1243468800000.0, 9.1], [1246147200000.0, 7.1], [1248739200000.0, 7.8], [1251417600000.0, 8.3], [1254096000000.0, 9.0], [1256688000000.0, 9.8], [1259366400000.0, 15.0], [1261958400000.0, 13.7], [1264636800000.0, 15.3], [1267315200000.0, 17.1], [1269734400000.0, 15.4], [1272412800000.0, 13.8], [1275004800000.0, 8.9], [1277683200000.0, 6.9], [1280275200000.0, 6.7], [1282953600000.0, 7.2], [1285632000000.0, 8.4], [1288224000000.0, 9.9], [1290902400000.0, 12.6], [1293494400000.0, 13.7], [1296172800000.0, 16.6], [1298851200000.0, 15.4], [1301270400000.0, 14.1], [1303948800000.0, 11.1], [1306540800000.0, 8.9], [1309219200000.0, 7.4], [1311811200000.0, 7.4], [1314489600000.0, 8.0], [1317168000000.0, 8.8], [1319760000000.0, 10.6], [1322438400000.0, 13.1], [1325030400000.0, 14.3], [1327708800000.0, 16.2], [1330387200000.0, 16.1], [1332892800000.0, 13.9], [1335571200000.0, 11.0], [1338163200000.0, 9.3], [1340841600000.0, 7.4], [1343433600000.0, 7.0], [1346112000000.0, 7.5], [1348790400000.0, 8.8], [1351382400000.0, 9.7]], 'name': 'MelbourneMin'}];\n",
       "\n",
       "            /**\n",
       "             * Create the chart when all data is loaded\n",
       "             * @returns {undefined}\n",
       "             */\n",
       "            Highcharts.stockChart('container1528', {\n",
       "              chart: {\n",
       "                zoomType: 'x'\n",
       "              },\n",
       "              title: {\n",
       "                  text: 'Temperatures in Australia'\n",
       "              },\n",
       "              plotOptions: {\n",
       "                series: {\n",
       "                  showInNavigator: true,\n",
       "                }\n",
       "              },\n",
       "                yAxis: {\n",
       "                    title: {\n",
       "                        text: 'ºC'\n",
       "                    }\n",
       "                },\n",
       "              tooltip: {\n",
       "                pointFormat: '<span style=\"color:{series.color}\">{series.name}</span>:<b>{point.y}</b>',\n",
       "                valueDecimals: 2,\n",
       "                split: true\n",
       "              },\n",
       "              series: seriesOptions\n",
       "            });\n",
       "        </script>\n",
       "\n",
       "        </body>\n",
       "        </html>\n",
       "    "
      ],
      "text/plain": [
       "<IPython.core.display.HTML object>"
      ]
     },
     "metadata": {},
     "output_type": "display_data"
    }
   ],
   "source": [
    "this_country = 'Australia'\n",
    "this_country_cities_temp = M.find_streams(country=this_country, name='temperature')\n",
    "this_country_cities_names = []\n",
    "data = []\n",
    "time = []\n",
    "for city_id, city_stream in this_country_cities_temp.iteritems():\n",
    "    meta_data = dict(city_id.meta_data)\n",
    "    this_country_cities_names.append(meta_data['city'])\n",
    "    data.append([instance.value for instance in city_stream.window().items()])\n",
    "    time.append([str(instance.timestamp) for instance in city_stream.window().items()])\n",
    "\n",
    "plot_multiple_stock(data, time=time, names=this_country_cities_names,\n",
    "                    title='Temperatures in ' + this_country, ylabel='ºC')"
   ]
  },
  {
   "cell_type": "code",
   "execution_count": 10,
   "metadata": {
    "collapsed": false,
    "deletable": true,
    "editable": true
   },
   "outputs": [
    {
     "name": "stdout",
     "output_type": "stream",
     "text": [
      "{'factors': [{'id': 'csv_multi_reader', 'sink': 'raw_data', 'sources': []},\n",
      "             {'id': 'splitter_from_stream',\n",
      "              'sink': 'temperature',\n",
      "              'sources': ['raw_data']}],\n",
      " 'nodes': [{'id': 'raw_data'}, {'id': 'temperature'}, {'id': 'avg_temp'}],\n",
      " 'plates': {u'C': [{'id': 'raw_data', 'type': 'node'}],\n",
      "            u'C.C': [{'id': 'temperature', 'type': 'node'}]}}\n"
     ]
    }
   ],
   "source": [
    "from pprint import pprint\n",
    "pprint(w.to_dict(tool_long_names=False))"
   ]
  },
  {
   "cell_type": "code",
   "execution_count": 11,
   "metadata": {
    "collapsed": false,
    "deletable": true,
    "editable": true
   },
   "outputs": [
    {
     "name": "stdout",
     "output_type": "stream",
     "text": [
      "{\n",
      "    \"nodes\": [\n",
      "        {\n",
      "            \"type\": \"rv\",\n",
      "            \"id\": \"raw_data\"\n",
      "        },\n",
      "        {\n",
      "            \"type\": \"rv\",\n",
      "            \"id\": \"temperature\"\n",
      "        },\n",
      "        {\n",
      "            \"type\": \"rv\",\n",
      "            \"id\": \"avg_temp\"\n",
      "        },\n",
      "        {\n",
      "            \"type\": \"fac\",\n",
      "            \"id\": \"csv_multi_reader\"\n",
      "        },\n",
      "        {\n",
      "            \"type\": \"fac\",\n",
      "            \"id\": \"splitter_from_stream\"\n",
      "        }\n",
      "    ],\n",
      "    \"links\": [\n",
      "        {\n",
      "            \"source\": \"csv_multi_reader\",\n",
      "            \"target\": \"raw_data\"\n",
      "        },\n",
      "        {\n",
      "            \"source\": \"raw_data\",\n",
      "            \"target\": \"splitter_from_stream\"\n",
      "        },\n",
      "        {\n",
      "            \"source\": \"splitter_from_stream\",\n",
      "            \"target\": \"temperature\"\n",
      "        }\n",
      "    ]\n",
      "}\n"
     ]
    }
   ],
   "source": [
    "print(w.to_json(w.factorgraph_viz, tool_long_names=False, indent=4))"
   ]
  },
  {
   "cell_type": "code",
   "execution_count": 12,
   "metadata": {
    "collapsed": false,
    "deletable": true,
    "editable": true
   },
   "outputs": [],
   "source": [
    "temp_tools_csv = {}\n",
    "temp_streams = {}\n",
    "for country in countries_list:\n",
    "    temp_tools_csv[country] = hs.plugins.example.tools.csv_reader(\n",
    "            'data/TimeSeriesDatasets_130207/Temp{}.csv'.format(country),\n",
    "            header=True, dateparser=dateparser)\n",
    "    temp_streams[country] = M.get_or_create_stream(country)\n",
    "    temp_tools_csv[country].execute(sources=[], sink=temp_streams[country],\n",
    "                                    interval=ti_all)"
   ]
  },
  {
   "cell_type": "markdown",
   "metadata": {
    "deletable": true,
    "editable": true
   },
   "source": [
    "## Print one Stream Instance per Stream\n",
    "\n",
    "Now that we have generated one Stream per each country, we can inspect the first Stream Instance of each Stream."
   ]
  },
  {
   "cell_type": "code",
   "execution_count": 13,
   "metadata": {
    "collapsed": false,
    "deletable": true,
    "editable": true
   },
   "outputs": [
    {
     "name": "stdout",
     "output_type": "stream",
     "text": [
      "Stream(stream_id=Asia, channel_id=memory)\n",
      "StreamInstance(timestamp=datetime.datetime(2000, 1, 28, 0, 0, tzinfo=<UTC>), value={'NewDelhiMax': 20.1, 'NewDelhiMin': 8.1, 'HongKongMin': 14.3, 'KualaLumpurMin': 23.5, 'TokyoMax': 11.2, 'KualaLumpurMax': 32.2, 'HongKongMax': 19.5, 'BangkokMin': 24.0, 'BangkokMax': 32.8, 'TokyoMin': 4.2})\n",
      "Stream(stream_id=Australia, channel_id=memory)\n",
      "StreamInstance(timestamp=datetime.datetime(2000, 1, 28, 0, 0, tzinfo=<UTC>), value={'BrisbaneMax': 28.2, 'MelbourneMin': 15.9, 'Melbournemax': 24.3, 'BrisbaneMin': 19.1, 'CanberraMin': 10.1, 'GoldCoastMax': 27.5, 'SydneyMax': 24.9, 'Canberramax': 24.5, 'GoldCoastMin': 20.2, 'SydneyMin': 17.7})\n",
      "Stream(stream_id=NZ, channel_id=memory)\n",
      "StreamInstance(timestamp=datetime.datetime(2000, 1, 28, 0, 0, tzinfo=<UTC>), value={'WellingtonMin': 14.2, 'ChristchurchMin': 10.8, 'HamiltonMin': 12.4, 'DunedinMax': 18.2, 'WellingtonMax': 20.0, 'ChristchurchMax': 20.2, 'AucklandMax': 23.4, 'HamiltonMax': 23.8, 'DunedinMin': 8.8, 'AucklandMin': 15.5})\n",
      "Stream(stream_id=USA, channel_id=memory)\n",
      "StreamInstance(timestamp=datetime.datetime(2000, 1, 28, 0, 0, tzinfo=<UTC>), value={'ChicagoMax': 1.8, 'LosAngelesMin': 10.0, 'HoustonMax': 21.6, 'NYMax': 4.6, 'SeattleMax': 7.9, 'SeattleMin': 1.4, 'ChicagoMin': -8.1, 'NYMin': -5.6, 'HoustonMin': 7.4, 'LosAngelesMax': 19.6})\n"
     ]
    }
   ],
   "source": [
    "for country in countries_list:\n",
    "    print(temp_streams[country])\n",
    "    print(temp_streams[country].window().first())"
   ]
  },
  {
   "cell_type": "markdown",
   "metadata": {
    "deletable": true,
    "editable": true
   },
   "source": [
    "## Visualize the temperatures in one Country\n",
    "\n",
    "Now, we can visualize the temperatures of all the cities in one country. First, we will create a list of all the cities in one of the Streams by looking at the first Stream Instance. Then, we will create a list of lists containing the temperature value of each city, together with their corresponding time. Then, we can use the function **plot_multiple_stock** created for this tutorial."
   ]
  },
  {
   "cell_type": "code",
   "execution_count": 14,
   "metadata": {
    "collapsed": false,
    "deletable": true,
    "editable": true,
    "scrolled": false
   },
   "outputs": [
    {
     "data": {
      "text/html": [
       "\n",
       "     <html>\n",
       "        <head>\n",
       "        <title>Temperatures in Asia</title>\n",
       "           <script src=\"./scripts/jquery.min.js\"></script>\n",
       "           <script src=\"./scripts/highstock.js\"></script>\n",
       "           <script src=\"./scripts/exporting.js\"></script>\n",
       "        </head>\n",
       "        <body>\n",
       "\n",
       "        <div id=\"container1944\" style=\"width: 800px; height: 600px; margin: 125 auto\"></div>\n",
       "\n",
       "        <script language=\"JavaScript\">\n",
       "            var seriesOptions = [{'data': [[949017600000.0, 20.1], [951696000000.0, 21.9], [954201600000.0, 29.7], [956880000000.0, 38.4], [959472000000.0, 40.0], [962150400000.0, 36.6], [964742400000.0, 33.7], [967420800000.0, 34.2], [970099200000.0, 34.7], [972691200000.0, 34.4], [975369600000.0, 28.8], [977961600000.0, 24.4], [980640000000.0, 19.7], [983318400000.0, 25.4], [985737600000.0, 30.4], [988416000000.0, 35.9], [991008000000.0, 38.6], [993686400000.0, 35.6], [996278400000.0, 34.7], [998956800000.0, 35.1], [1001635200000.0, 36.1], [1004227200000.0, 34.3], [1006905600000.0, 29.1], [1009497600000.0, 23.3], [1012176000000.0, 20.8], [1014854400000.0, 24.2], [1017273600000.0, 31.1], [1019952000000.0, 38.3], [1022544000000.0, 42.4], [1025222400000.0, 39.1], [1027814400000.0, 39.3], [1030492800000.0, 34.6], [1033171200000.0, 32.5], [1035763200000.0, 33.2], [1038441600000.0, 28.0], [1041033600000.0, 23.6], [1043712000000.0, 17.7], [1046390400000.0, 23.5], [1048809600000.0, 29.6], [1051488000000.0, 37.8], [1054080000000.0, 39.8], [1056758400000.0, 39.9], [1059350400000.0, 34.0], [1062028800000.0, 33.8], [1064707200000.0, 32.7], [1067299200000.0, 33.0], [1069977600000.0, 28.0], [1072569600000.0, 20.9], [1075248000000.0, 18.7], [1077926400000.0, 25.7], [1080432000000.0, 33.6], [1083110400000.0, 37.8], [1085702400000.0, 39.4], [1088380800000.0, 37.6], [1090972800000.0, 37.7], [1093651200000.0, 33.7], [1096329600000.0, 35.4], [1098921600000.0, 31.1], [1101600000000.0, 28.6], [1104192000000.0, 23.0], [1106870400000.0, 20.1], [1109548800000.0, 23.5], [1111968000000.0, 30.5], [1114646400000.0, 36.4], [1117238400000.0, 39.6], [1119916800000.0, 40.3], [1122508800000.0, 34.2], [1125187200000.0, 35.8], [1127865600000.0, 33.8], [1130457600000.0, 33.1], [1133136000000.0, 29.5], [1135728000000.0, 22.6], [1138406400000.0, 22.5], [1141084800000.0, 29.6], [1143504000000.0, 29.8], [1146182400000.0, 37.6], [1148774400000.0, 39.9], [1151452800000.0, 38.0], [1154044800000.0, 35.0], [1156723200000.0, 35.3], [1159401600000.0, 34.5], [1161993600000.0, 33.5], [1164672000000.0, 28.7], [1167264000000.0, 23.1], [1169942400000.0, 21.7], [1172620800000.0, 24.1], [1175040000000.0, 29.0], [1177718400000.0, 38.3], [1180310400000.0, 38.8], [1182988800000.0, 38.0], [1185580800000.0, 35.9], [1188259200000.0, 34.9], [1190937600000.0, 34.6], [1193529600000.0, 33.3], [1196208000000.0, 28.8], [1198800000000.0, 22.7], [1201478400000.0, 20.8], [1204156800000.0, 23.9], [1206662400000.0, 33.5], [1209340800000.0, 36.4], [1211932800000.0, 36.9], [1214611200000.0, 35.3], [1217203200000.0, 35.4], [1219881600000.0, 33.9], [1222560000000.0, 34.1], [1225152000000.0, 34.2], [1227830400000.0, 28.8], [1230422400000.0, 24.2], [1233100800000.0, 22.1], [1235779200000.0, 26.3], [1238198400000.0, 31.9], [1240876800000.0, 37.4], [1243468800000.0, 40.0], [1246147200000.0, 41.1], [1248739200000.0, 37.2], [1251417600000.0, 35.5], [1254096000000.0, 33.9], [1256688000000.0, 33.0], [1259366400000.0, 27.2], [1261958400000.0, 23.6], [1264636800000.0, 19.2], [1267315200000.0, 25.7], [1269734400000.0, 34.1], [1272412800000.0, 40.2], [1275004800000.0, 41.8], [1277683200000.0, 40.4], [1280275200000.0, 35.6], [1282953600000.0, 33.9], [1285632000000.0, 32.7], [1288224000000.0, 33.0], [1290902400000.0, 27.6], [1293494400000.0, 22.3], [1296172800000.0, 20.0], [1298851200000.0, 24.8], [1301270400000.0, 30.4], [1303948800000.0, 36.0], [1306540800000.0, 40.1], [1309219200000.0, 38.0], [1311811200000.0, 35.7], [1314489600000.0, 34.6], [1317168000000.0, 34.3], [1319760000000.0, 33.4], [1322438400000.0, 29.3], [1325030400000.0, 24.0], [1327708800000.0, 20.3], [1330387200000.0, 24.3], [1332892800000.0, 31.6], [1335571200000.0, 35.8], [1338163200000.0, 41.2], [1340841600000.0, 42.1], [1343433600000.0, 36.9], [1346112000000.0, 33.6], [1348790400000.0, 34.3], [1351382400000.0, 32.6]], 'name': 'NewDelhiMax'}, {'data': [[949017600000.0, 8.1], [951696000000.0, 9.1], [954201600000.0, 14.4], [956880000000.0, 22.4], [959472000000.0, 27.7], [962150400000.0, 27.0], [964742400000.0, 26.6], [967420800000.0, 26.7], [970099200000.0, 25.2], [972691200000.0, 20.1], [975369600000.0, 13.6], [977961600000.0, 7.2], [980640000000.0, 6.7], [983318400000.0, 9.9], [985737600000.0, 14.9], [988416000000.0, 20.7], [991008000000.0, 25.9], [993686400000.0, 26.4], [996278400000.0, 27.4], [998956800000.0, 27.0], [1001635200000.0, 24.6], [1004227200000.0, 19.9], [1006905600000.0, 12.7], [1009497600000.0, 8.9], [1012176000000.0, 7.6], [1014854400000.0, 10.1], [1017273600000.0, 15.9], [1019952000000.0, 22.4], [1022544000000.0, 27.4], [1025222400000.0, 28.3], [1027814400000.0, 30.5], [1030492800000.0, 27.1], [1033171200000.0, 23.4], [1035763200000.0, 19.9], [1038441600000.0, 13.2], [1041033600000.0, 8.7], [1043712000000.0, 6.5], [1046390400000.0, 11.1], [1048809600000.0, 15.3], [1051488000000.0, 22.0], [1054080000000.0, 25.1], [1056758400000.0, 28.7], [1059350400000.0, 26.3], [1062028800000.0, 26.7], [1064707200000.0, 25.2], [1067299200000.0, 18.1], [1069977600000.0, 11.7], [1072569600000.0, 9.7], [1075248000000.0, 8.2], [1077926400000.0, 10.6], [1080432000000.0, 17.2], [1083110400000.0, 22.6], [1085702400000.0, 25.8], [1088380800000.0, 26.4], [1090972800000.0, 28.4], [1093651200000.0, 26.2], [1096329600000.0, 24.9], [1098921600000.0, 19.0], [1101600000000.0, 12.7], [1104192000000.0, 9.6], [1106870400000.0, 7.8], [1109548800000.0, 10.9], [1111968000000.0, 17.0], [1114646400000.0, 20.4], [1117238400000.0, 24.7], [1119916800000.0, 28.0], [1122508800000.0, 26.8], [1125187200000.0, 27.1], [1127865600000.0, 24.9], [1130457600000.0, 18.7], [1133136000000.0, 13.5], [1135728000000.0, 5.9], [1138406400000.0, 7.2], [1141084800000.0, 13.7], [1143504000000.0, 15.2], [1146182400000.0, 20.0], [1148774400000.0, 24.5], [1151452800000.0, 24.4], [1154044800000.0, 26.9], [1156723200000.0, 26.5], [1159401600000.0, 24.6], [1161993600000.0, 20.5], [1164672000000.0, 13.8], [1167264000000.0, 9.1], [1169942400000.0, 7.0], [1172620800000.0, 11.9], [1175040000000.0, 15.5], [1177718400000.0, 23.0], [1180310400000.0, 25.2], [1182988800000.0, 28.3], [1185580800000.0, 27.1], [1188259200000.0, 27.1], [1190937600000.0, 24.9], [1193529600000.0, 17.6], [1196208000000.0, 12.6], [1198800000000.0, 8.1], [1201478400000.0, 6.5], [1204156800000.0, 8.8], [1206662400000.0, 17.2], [1209340800000.0, 21.2], [1211932800000.0, 24.3], [1214611200000.0, 26.4], [1217203200000.0, 26.9], [1219881600000.0, 26.3], [1222560000000.0, 24.1], [1225152000000.0, 20.8], [1227830400000.0, 13.0], [1230422400000.0, 10.2], [1233100800000.0, 9.3], [1235779200000.0, 11.3], [1238198400000.0, 16.2], [1240876800000.0, 22.0], [1243468800000.0, 25.9], [1246147200000.0, 28.3], [1248739200000.0, 27.7], [1251417600000.0, 27.0], [1254096000000.0, 25.0], [1256688000000.0, 18.9], [1259366400000.0, 13.4], [1261958400000.0, 8.8], [1264636800000.0, 8.3], [1267315200000.0, 11.7], [1269734400000.0, 18.6], [1272412800000.0, 24.2], [1275004800000.0, 27.6], [1277683200000.0, 28.4], [1280275200000.0, 27.4], [1282953600000.0, 26.7], [1285632000000.0, 24.5], [1288224000000.0, 21.0], [1290902400000.0, 15.4], [1293494400000.0, 7.9], [1296172800000.0, 6.5], [1298851200000.0, 11.0], [1301270400000.0, 16.2], [1303948800000.0, 20.7], [1306540800000.0, 26.6], [1309219200000.0, 26.9], [1311811200000.0, 27.2], [1314489600000.0, 26.6], [1317168000000.0, 25.3], [1319760000000.0, 20.1], [1322438400000.0, 14.9], [1325030400000.0, 8.0], [1327708800000.0, 7.5], [1330387200000.0, 9.9], [1332892800000.0, 15.2], [1335571200000.0, 21.6], [1338163200000.0, 26.4], [1340841600000.0, 30.4], [1343433600000.0, 28.3], [1346112000000.0, 26.3], [1348790400000.0, 25.0], [1351382400000.0, 18.5]], 'name': 'NewDelhiMin'}, {'data': [[949017600000.0, 14.3], [951696000000.0, 13.3], [954201600000.0, 17.7], [956880000000.0, 21.7], [959472000000.0, 24.6], [962150400000.0, 26.4], [964742400000.0, 26.9], [967420800000.0, 26.9], [970099200000.0, 25.6], [972691200000.0, 23.9], [975369600000.0, 18.2], [977961600000.0, 15.6], [980640000000.0, 14.6], [983318400000.0, 14.1], [985737600000.0, 18.4], [988416000000.0, 20.7], [991008000000.0, 25.0], [993686400000.0, 25.8], [996278400000.0, 26.1], [998956800000.0, 27.1], [1001635200000.0, 26.1], [1004227200000.0, 24.4], [1006905600000.0, 18.2], [1009497600000.0, 14.8], [1012176000000.0, 13.6], [1014854400000.0, 15.9], [1017273600000.0, 19.6], [1019952000000.0, 22.6], [1022544000000.0, 24.9], [1025222400000.0, 27.0], [1027814400000.0, 26.8], [1030492800000.0, 26.3], [1033171200000.0, 25.0], [1035763200000.0, 22.8], [1038441600000.0, 18.3], [1041033600000.0, 15.1], [1043712000000.0, 12.3], [1046390400000.0, 16.4], [1048809600000.0, 17.1], [1051488000000.0, 22.1], [1054080000000.0, 25.4], [1056758400000.0, 25.9], [1059350400000.0, 27.5], [1062028800000.0, 26.6], [1064707200000.0, 25.9], [1067299200000.0, 22.9], [1069977600000.0, 19.2], [1072569600000.0, 13.8], [1075248000000.0, 12.8], [1077926400000.0, 14.5], [1080432000000.0, 17.2], [1083110400000.0, 21.3], [1085702400000.0, 24.1], [1088380800000.0, 27.0], [1090972800000.0, 26.5], [1093651200000.0, 26.4], [1096329600000.0, 25.4], [1098921600000.0, 21.9], [1101600000000.0, 20.0], [1104192000000.0, 15.4], [1106870400000.0, 12.5], [1109548800000.0, 13.8], [1111968000000.0, 14.8], [1114646400000.0, 20.9], [1117238400000.0, 25.2], [1119916800000.0, 25.8], [1122508800000.0, 26.8], [1125187200000.0, 26.2], [1127865600000.0, 26.4], [1130457600000.0, 24.0], [1133136000000.0, 24.0], [1135728000000.0, 14.0], [1138406400000.0, 14.0], [1141084800000.0, 15.6], [1143504000000.0, 16.5], [1146182400000.0, 21.9], [1148774400000.0, 24.2], [1151452800000.0, 26.5], [1154044800000.0, 27.3], [1156723200000.0, 26.4], [1159401600000.0, 24.6], [1161993600000.0, 24.5], [1164672000000.0, 20.8], [1167264000000.0, 15.0], [1169942400000.0, 13.3], [1172620800000.0, 17.5], [1175040000000.0, 18.5], [1177718400000.0, 19.5], [1180310400000.0, 24.4], [1182988800000.0, 26.6], [1185580800000.0, 27.8], [1188259200000.0, 26.4], [1190937600000.0, 26.1], [1193529600000.0, 23.8], [1196208000000.0, 18.2], [1198800000000.0, 17.0], [1201478400000.0, 12.8], [1204156800000.0, 10.6], [1206662400000.0, 17.7], [1209340800000.0, 21.6], [1211932800000.0, 23.9], [1214611200000.0, 25.0], [1217203200000.0, 26.6], [1219881600000.0, 26.1], [1222560000000.0, 26.6], [1225152000000.0, 24.8], [1227830400000.0, 19.0], [1230422400000.0, 14.9], [1233100800000.0, 11.8], [1235779200000.0, 18.6], [1238198400000.0, 17.6], [1240876800000.0, 20.2], [1243468800000.0, 23.7], [1246147200000.0, 26.4], [1248739200000.0, 27.1], [1251417600000.0, 27.5], [1254096000000.0, 27.2], [1256688000000.0, 24.5], [1259366400000.0, 17.2], [1261958400000.0, 15.0], [1264636800000.0, 14.5], [1267315200000.0, 15.7], [1269734400000.0, 17.7], [1272412800000.0, 19.4], [1275004800000.0, 24.0], [1277683200000.0, 25.9], [1280275200000.0, 27.2], [1282953600000.0, 26.8], [1285632000000.0, 25.8], [1288224000000.0, 23.0], [1290902400000.0, 18.8], [1293494400000.0, 14.7], [1296172800000.0, 10.1], [1298851200000.0, 13.6], [1301270400000.0, 15.1], [1303948800000.0, 20.5], [1306540800000.0, 23.9], [1309219200000.0, 26.6], [1311811200000.0, 27.1], [1314489600000.0, 27.6], [1317168000000.0, 26.4], [1319760000000.0, 23.0], [1322438400000.0, 21.2], [1325030400000.0, 13.8], [1327708800000.0, 12.3], [1330387200000.0, 13.5], [1332892800000.0, 17.0], [1335571200000.0, 22.4], [1338163200000.0, 26.3], [1340841600000.0, 26.9], [1343433600000.0, 26.8], [1346112000000.0, 27.2], [1348790400000.0, 25.9], [1351382400000.0, 23.7]], 'name': 'HongKongMin'}, {'data': [[949017600000.0, 23.5], [951696000000.0, 23.6], [954201600000.0, 23.9], [956880000000.0, 24.2], [959472000000.0, 24.5], [962150400000.0, 24.0], [964742400000.0, 23.7], [967420800000.0, 23.5], [970099200000.0, 23.8], [972691200000.0, 23.7], [975369600000.0, 24.0], [977961600000.0, 24.0], [980640000000.0, 23.6], [983318400000.0, 23.7], [985737600000.0, 24.3], [988416000000.0, 24.2], [991008000000.0, 24.7], [993686400000.0, 24.0], [996278400000.0, 23.8], [998956800000.0, 24.1], [1001635200000.0, 23.8], [1004227200000.0, 23.9], [1006905600000.0, 23.9], [1009497600000.0, 23.7], [1012176000000.0, 23.3], [1014854400000.0, 24.0], [1017273600000.0, 24.4], [1019952000000.0, 24.2], [1022544000000.0, 25.2], [1025222400000.0, 24.5], [1027814400000.0, 24.4], [1030492800000.0, 24.2], [1033171200000.0, 23.6], [1035763200000.0, 24.0], [1038441600000.0, 23.9], [1041033600000.0, 24.0], [1043712000000.0, 24.1], [1046390400000.0, 24.0], [1048809600000.0, 24.4], [1051488000000.0, 24.5], [1054080000000.0, 24.8], [1056758400000.0, 24.3], [1059350400000.0, 23.9], [1062028800000.0, 24.4], [1064707200000.0, 23.9], [1067299200000.0, 23.7], [1069977600000.0, 24.0], [1072569600000.0, 23.6], [1075248000000.0, 23.8], [1077926400000.0, 23.8], [1080432000000.0, 24.4], [1083110400000.0, 24.4], [1085702400000.0, 24.6], [1088380800000.0, 24.1], [1090972800000.0, 22.9], [1093651200000.0, 23.8], [1096329600000.0, 23.4], [1098921600000.0, 23.6], [1101600000000.0, 23.5], [1104192000000.0, 23.8], [1106870400000.0, 23.4], [1109548800000.0, 24.2], [1111968000000.0, 24.5], [1114646400000.0, 24.6], [1117238400000.0, 24.4], [1119916800000.0, 24.6], [1122508800000.0, 23.6], [1125187200000.0, 23.9], [1127865600000.0, 24.0], [1130457600000.0, 23.6], [1133136000000.0, 23.4], [1135728000000.0, 23.6], [1138406400000.0, 23.2], [1141084800000.0, 23.3], [1143504000000.0, 24.1], [1146182400000.0, 24.0], [1148774400000.0, 23.9], [1151452800000.0, 23.7], [1154044800000.0, 24.1], [1156723200000.0, 23.7], [1159401600000.0, 23.4], [1161993600000.0, 23.8], [1164672000000.0, 23.2], [1167264000000.0, 24.1], [1169942400000.0, 23.7], [1172620800000.0, 23.3], [1175040000000.0, 23.9], [1177718400000.0, 23.8], [1180310400000.0, 24.4], [1182988800000.0, 24.2], [1185580800000.0, 23.8], [1188259200000.0, 23.6], [1190937600000.0, 23.7], [1193529600000.0, 23.6], [1196208000000.0, 23.5], [1198800000000.0, 23.3], [1201478400000.0, 23.3], [1204156800000.0, 23.0], [1206662400000.0, 23.2], [1209340800000.0, 23.7], [1211932800000.0, 24.4], [1214611200000.0, 23.8], [1217203200000.0, 23.6], [1219881600000.0, 23.9], [1222560000000.0, 23.4], [1225152000000.0, 23.9], [1227830400000.0, 23.9], [1230422400000.0, 23.3], [1233100800000.0, 23.1], [1235779200000.0, 23.4], [1238198400000.0, 23.4], [1240876800000.0, 24.3], [1243468800000.0, 24.7], [1246147200000.0, 24.9], [1248739200000.0, 24.2], [1251417600000.0, 24.2], [1254096000000.0, 24.2], [1256688000000.0, 24.2], [1259366400000.0, 23.8], [1261958400000.0, 23.8], [1264636800000.0, 23.6], [1267315200000.0, 24.4], [1269734400000.0, 24.5], [1272412800000.0, 25.0], [1275004800000.0, 25.7], [1277683200000.0, 25.4], [1280275200000.0, 24.6], [1282953600000.0, 25.3], [1285632000000.0, 24.6], [1288224000000.0, 25.1], [1290902400000.0, 24.9], [1293494400000.0, 24.2], [1296172800000.0, 24.2], [1298851200000.0, 24.5], [1301270400000.0, 24.3], [1303948800000.0, 25.0], [1306540800000.0, 25.3], [1309219200000.0, 25.2], [1311811200000.0, 25.0], [1314489600000.0, 24.6], [1317168000000.0, 24.7], [1319760000000.0, 24.9], [1322438400000.0, 24.8], [1325030400000.0, 24.6], [1327708800000.0, 24.5], [1330387200000.0, 24.5], [1332892800000.0, 24.7], [1335571200000.0, 25.1], [1338163200000.0, 24.9], [1340841600000.0, 24.9], [1343433600000.0, 24.6], [1346112000000.0, 24.5], [1348790400000.0, 24.6], [1351382400000.0, 24.5]], 'name': 'KualaLumpurMin'}, {'data': [[949017600000.0, 11.2], [951696000000.0, 9.9], [954201600000.0, 13.5], [956880000000.0, 18.7], [959472000000.0, 24.0], [962150400000.0, 26.1], [964742400000.0, 31.6], [967420800000.0, 32.4], [970099200000.0, 28.9], [972691200000.0, 21.9], [975369600000.0, 16.7], [977961600000.0, 12.6], [980640000000.0, 8.6], [983318400000.0, 10.7], [985737600000.0, 14.4], [988416000000.0, 20.4], [991008000000.0, 23.0], [993686400000.0, 26.6], [996278400000.0, 33.0], [998956800000.0, 30.0], [1001635200000.0, 26.4], [1004227200000.0, 22.5], [1006905600000.0, 16.7], [1009497600000.0, 12.0], [1012176000000.0, 11.5], [1014854400000.0, 11.9], [1017273600000.0, 16.5], [1019952000000.0, 20.3], [1022544000000.0, 22.3], [1025222400000.0, 25.3], [1027814400000.0, 31.7], [1030492800000.0, 32.1], [1033171200000.0, 26.2], [1035763200000.0, 22.6], [1038441600000.0, 15.2], [1041033600000.0, 10.4], [1043712000000.0, 9.3], [1046390400000.0, 9.9], [1048809600000.0, 12.7], [1051488000000.0, 19.2], [1054080000000.0, 22.4], [1056758400000.0, 26.6], [1059350400000.0, 26.0], [1062028800000.0, 29.5], [1064707200000.0, 28.1], [1067299200000.0, 21.4], [1069977600000.0, 17.4], [1072569600000.0, 13.2], [1075248000000.0, 10.1], [1077926400000.0, 12.9], [1080432000000.0, 14.0], [1083110400000.0, 21.3], [1085702400000.0, 23.7], [1088380800000.0, 27.5], [1090972800000.0, 33.1], [1093651200000.0, 31.0], [1096329600000.0, 28.7], [1098921600000.0, 20.7], [1101600000000.0, 19.0], [1104192000000.0, 13.4], [1106870400000.0, 10.0], [1109548800000.0, 9.9], [1111968000000.0, 13.1], [1114646400000.0, 19.6], [1117238400000.0, 21.9], [1119916800000.0, 26.7], [1122508800000.0, 29.1], [1125187200000.0, 31.8], [1127865600000.0, 28.2], [1130457600000.0, 22.3], [1133136000000.0, 17.0], [1135728000000.0, 10.2], [1138406400000.0, 8.5], [1141084800000.0, 10.5], [1143504000000.0, 14.0], [1146182400000.0, 17.5], [1148774400000.0, 22.7], [1151452800000.0, 25.4], [1154044800000.0, 28.6], [1156723200000.0, 31.1], [1159401600000.0, 27.1], [1161993600000.0, 22.9], [1164672000000.0, 17.9], [1167264000000.0, 12.5], [1169942400000.0, 10.9], [1172620800000.0, 12.8], [1175040000000.0, 15.0], [1177718400000.0, 17.9], [1180310400000.0, 24.0], [1182988800000.0, 27.1], [1185580800000.0, 27.4], [1188259200000.0, 33.0], [1190937600000.0, 28.5], [1193529600000.0, 22.2], [1196208000000.0, 16.6], [1198800000000.0, 12.6], [1201478400000.0, 9.4], [1204156800000.0, 9.6], [1206662400000.0, 14.9], [1209340800000.0, 18.4], [1211932800000.0, 22.0], [1214611200000.0, 24.6], [1217203200000.0, 30.9], [1219881600000.0, 30.7], [1222560000000.0, 27.7], [1225152000000.0, 22.6], [1227830400000.0, 16.4], [1230422400000.0, 13.7], [1233100800000.0, 10.2], [1235779200000.0, 11.5], [1238198400000.0, 13.7], [1240876800000.0, 20.2], [1243468800000.0, 23.6], [1246147200000.0, 25.8], [1248739200000.0, 29.3], [1251417600000.0, 30.1], [1254096000000.0, 26.5], [1256688000000.0, 22.3], [1259366400000.0, 17.0], [1261958400000.0, 12.4], [1264636800000.0, 11.0], [1267315200000.0, 9.9], [1269734400000.0, 13.2], [1272412800000.0, 16.6], [1275004800000.0, 23.0], [1277683200000.0, 27.5], [1280275200000.0, 31.6], [1282953600000.0, 33.5], [1285632000000.0, 29.0], [1288224000000.0, 21.8], [1290902400000.0, 17.2], [1293494400000.0, 13.7], [1296172800000.0, 9.1], [1298851200000.0, 11.2], [1301270400000.0, 12.3], [1303948800000.0, 18.9], [1306540800000.0, 22.2], [1309219200000.0, 26.0], [1311811200000.0, 30.9], [1314489600000.0, 31.2], [1317168000000.0, 28.8], [1319760000000.0, 23.0], [1322438400000.0, 18.3], [1325030400000.0, 11.1], [1327708800000.0, 8.3], [1330387200000.0, 9.1], [1332892800000.0, 12.5], [1335571200000.0, 18.5], [1338163200000.0, 23.6], [1340841600000.0, 24.8], [1343433600000.0, 30.1], [1346112000000.0, 33.1], [1348790400000.0, 29.8], [1351382400000.0, 23.0]], 'name': 'TokyoMax'}, {'data': [[949017600000.0, 32.2], [951696000000.0, 32.9], [954201600000.0, 33.3], [956880000000.0, 33.0], [959472000000.0, 33.9], [962150400000.0, 32.6], [964742400000.0, 33.1], [967420800000.0, 32.3], [970099200000.0, 32.5], [972691200000.0, 32.9], [975369600000.0, 32.3], [977961600000.0, 32.6], [980640000000.0, 32.2], [983318400000.0, 32.3], [985737600000.0, 33.5], [988416000000.0, 33.1], [991008000000.0, 33.6], [993686400000.0, 33.4], [996278400000.0, 33.0], [998956800000.0, 32.9], [1001635200000.0, 33.1], [1004227200000.0, 32.7], [1006905600000.0, 32.5], [1009497600000.0, 32.5], [1012176000000.0, 33.4], [1014854400000.0, 34.6], [1017273600000.0, 34.6], [1019952000000.0, 33.9], [1022544000000.0, 34.4], [1025222400000.0, 33.4], [1027814400000.0, 33.5], [1030492800000.0, 33.2], [1033171200000.0, 32.8], [1035763200000.0, 33.2], [1038441600000.0, 32.8], [1041033600000.0, 33.3], [1043712000000.0, 32.7], [1046390400000.0, 33.3], [1048809600000.0, 34.3], [1051488000000.0, 33.6], [1054080000000.0, 34.3], [1056758400000.0, 33.9], [1059350400000.0, 32.9], [1062028800000.0, 33.6], [1064707200000.0, 32.8], [1067299200000.0, 32.7], [1069977600000.0, 32.9], [1072569600000.0, 32.4], [1075248000000.0, 33.6], [1077926400000.0, 33.7], [1080432000000.0, 33.9], [1083110400000.0, 34.0], [1085702400000.0, 34.0], [1088380800000.0, 33.6], [1090972800000.0, 31.9], [1093651200000.0, 32.9], [1096329600000.0, 33.0], [1098921600000.0, 32.5], [1101600000000.0, 32.6], [1104192000000.0, 32.2], [1106870400000.0, 33.4], [1109548800000.0, 34.7], [1111968000000.0, 34.8], [1114646400000.0, 34.0], [1117238400000.0, 33.1], [1119916800000.0, 33.7], [1122508800000.0, 32.3], [1125187200000.0, 32.9], [1127865600000.0, 33.8], [1130457600000.0, 32.0], [1133136000000.0, 32.3], [1135728000000.0, 31.4], [1138406400000.0, 31.7], [1141084800000.0, 33.0], [1143504000000.0, 33.6], [1146182400000.0, 33.1], [1148774400000.0, 32.7], [1151452800000.0, 32.3], [1154044800000.0, 32.4], [1156723200000.0, 32.1], [1159401600000.0, 31.9], [1161993600000.0, 32.4], [1164672000000.0, 32.2], [1167264000000.0, 32.1], [1169942400000.0, 31.8], [1172620800000.0, 32.7], [1175040000000.0, 32.8], [1177718400000.0, 33.2], [1180310400000.0, 33.3], [1182988800000.0, 32.9], [1185580800000.0, 32.3], [1188259200000.0, 32.1], [1190937600000.0, 32.4], [1193529600000.0, 31.6], [1196208000000.0, 31.5], [1198800000000.0, 31.4], [1201478400000.0, 32.4], [1204156800000.0, 32.7], [1206662400000.0, 32.0], [1209340800000.0, 32.5], [1211932800000.0, 32.9], [1214611200000.0, 32.1], [1217203200000.0, 31.7], [1219881600000.0, 32.1], [1222560000000.0, 32.1], [1225152000000.0, 32.2], [1227830400000.0, 31.8], [1230422400000.0, 31.4], [1233100800000.0, 31.9], [1235779200000.0, 32.4], [1238198400000.0, 32.4], [1240876800000.0, 33.5], [1243468800000.0, 34.2], [1246147200000.0, 33.9], [1248739200000.0, 33.0], [1251417600000.0, 32.8], [1254096000000.0, 32.5], [1256688000000.0, 32.9], [1259366400000.0, 31.8], [1261958400000.0, 32.2], [1264636800000.0, 32.9], [1267315200000.0, 34.0], [1269734400000.0, 34.2], [1272412800000.0, 34.9], [1275004800000.0, 34.9], [1277683200000.0, 34.0], [1280275200000.0, 33.6], [1282953600000.0, 33.9], [1285632000000.0, 33.4], [1288224000000.0, 34.3], [1290902400000.0, 33.4], [1293494400000.0, 32.1], [1296172800000.0, 31.8], [1298851200000.0, 34.1], [1301270400000.0, 33.5], [1303948800000.0, 33.9], [1306540800000.0, 34.4], [1309219200000.0, 33.7], [1311811200000.0, 33.4], [1314489600000.0, 33.4], [1317168000000.0, 33.4], [1319760000000.0, 33.4], [1322438400000.0, 32.9], [1325030400000.0, 32.4], [1327708800000.0, 33.6], [1330387200000.0, 34.0], [1332892800000.0, 33.4], [1335571200000.0, 34.1], [1338163200000.0, 34.1], [1340841600000.0, 34.4], [1343433600000.0, 33.0], [1346112000000.0, 33.3], [1348790400000.0, 33.0], [1351382400000.0, 33.0]], 'name': 'KualaLumpurMax'}, {'data': [[949017600000.0, 19.5], [951696000000.0, 17.8], [954201600000.0, 22.9], [956880000000.0, 27.3], [959472000000.0, 30.5], [962150400000.0, 32.4], [964742400000.0, 33.2], [967420800000.0, 32.8], [970099200000.0, 32.1], [972691200000.0, 29.9], [975369600000.0, 24.3], [977961600000.0, 22.3], [980640000000.0, 21.2], [983318400000.0, 21.0], [985737600000.0, 24.8], [988416000000.0, 26.3], [991008000000.0, 31.1], [993686400000.0, 31.7], [996278400000.0, 32.0], [998956800000.0, 33.5], [1001635200000.0, 32.1], [1004227200000.0, 30.4], [1006905600000.0, 25.6], [1009497600000.0, 21.1], [1012176000000.0, 20.4], [1014854400000.0, 22.4], [1017273600000.0, 25.5], [1019952000000.0, 29.4], [1022544000000.0, 31.6], [1025222400000.0, 33.0], [1027814400000.0, 32.9], [1030492800000.0, 32.8], [1033171200000.0, 31.0], [1035763200000.0, 28.4], [1038441600000.0, 24.9], [1041033600000.0, 21.2], [1043712000000.0, 19.9], [1046390400000.0, 22.9], [1048809600000.0, 23.2], [1051488000000.0, 28.4], [1054080000000.0, 31.4], [1056758400000.0, 31.6], [1059350400000.0, 34.3], [1062028800000.0, 33.0], [1064707200000.0, 32.0], [1067299200000.0, 29.6], [1069977600000.0, 25.8], [1072569600000.0, 21.4], [1075248000000.0, 19.0], [1077926400000.0, 20.7], [1080432000000.0, 22.9], [1083110400000.0, 27.6], [1085702400000.0, 30.6], [1088380800000.0, 33.3], [1090972800000.0, 32.7], [1093651200000.0, 32.8], [1096329600000.0, 31.9], [1098921600000.0, 29.1], [1101600000000.0, 26.6], [1104192000000.0, 22.5], [1106870400000.0, 18.9], [1109548800000.0, 19.7], [1111968000000.0, 21.3], [1114646400000.0, 26.8], [1117238400000.0, 30.8], [1119916800000.0, 31.4], [1122508800000.0, 33.2], [1125187200000.0, 32.5], [1127865600000.0, 32.9], [1130457600000.0, 30.7], [1133136000000.0, 30.5], [1135728000000.0, 20.9], [1138406400000.0, 20.1], [1141084800000.0, 21.8], [1143504000000.0, 22.6], [1146182400000.0, 28.1], [1148774400000.0, 29.7], [1151452800000.0, 31.4], [1154044800000.0, 33.1], [1156723200000.0, 32.6], [1159401600000.0, 30.9], [1161993600000.0, 30.8], [1164672000000.0, 27.1], [1167264000000.0, 22.0], [1169942400000.0, 19.3], [1172620800000.0, 23.3], [1175040000000.0, 23.7], [1177718400000.0, 25.5], [1180310400000.0, 31.0], [1182988800000.0, 32.4], [1185580800000.0, 34.0], [1188259200000.0, 32.0], [1190937600000.0, 31.9], [1193529600000.0, 29.9], [1196208000000.0, 25.0], [1198800000000.0, 22.9], [1201478400000.0, 18.4], [1204156800000.0, 15.8], [1206662400000.0, 24.4], [1209340800000.0, 26.9], [1211932800000.0, 29.3], [1214611200000.0, 30.5], [1217203200000.0, 32.5], [1219881600000.0, 32.3], [1222560000000.0, 32.8], [1225152000000.0, 30.5], [1227830400000.0, 25.9], [1230422400000.0, 22.0], [1233100800000.0, 18.9], [1235779200000.0, 25.2], [1238198400000.0, 23.1], [1240876800000.0, 26.2], [1243468800000.0, 29.8], [1246147200000.0, 32.2], [1248739200000.0, 33.1], [1251417600000.0, 33.6], [1254096000000.0, 33.3], [1256688000000.0, 30.5], [1259366400000.0, 24.1], [1261958400000.0, 20.4], [1264636800000.0, 20.0], [1267315200000.0, 20.8], [1269734400000.0, 24.0], [1272412800000.0, 25.0], [1275004800000.0, 30.1], [1277683200000.0, 30.9], [1280275200000.0, 33.7], [1282953600000.0, 33.1], [1285632000000.0, 32.0], [1288224000000.0, 28.7], [1290902400000.0, 25.4], [1293494400000.0, 21.9], [1296172800000.0, 15.8], [1298851200000.0, 19.5], [1301270400000.0, 21.2], [1303948800000.0, 27.4], [1306540800000.0, 29.9], [1309219200000.0, 32.5], [1311811200000.0, 33.0], [1314489600000.0, 34.0], [1317168000000.0, 32.4], [1319760000000.0, 28.6], [1322438400000.0, 26.7], [1325030400000.0, 20.2], [1327708800000.0, 16.9], [1330387200000.0, 19.3], [1332892800000.0, 23.6], [1335571200000.0, 27.8], [1338163200000.0, 31.4], [1340841600000.0, 32.3], [1343433600000.0, 32.5], [1346112000000.0, 33.5], [1348790400000.0, 32.2], [1351382400000.0, 29.9]], 'name': 'HongKongMax'}, {'data': [[949017600000.0, 24.0], [951696000000.0, 23.6], [954201600000.0, 26.1], [956880000000.0, 26.3], [959472000000.0, 26.3], [962150400000.0, 26.0], [964742400000.0, 25.9], [967420800000.0, 25.6], [970099200000.0, 25.5], [972691200000.0, 25.2], [975369600000.0, 23.8], [977961600000.0, 24.1], [980640000000.0, 25.1], [983318400000.0, 25.5], [985737600000.0, 25.6], [988416000000.0, 28.3], [991008000000.0, 26.1], [993686400000.0, 26.3], [996278400000.0, 26.7], [998956800000.0, 26.3], [1001635200000.0, 25.5], [1004227200000.0, 25.2], [1006905600000.0, 22.8], [1009497600000.0, 23.1], [1012176000000.0, 23.2], [1014854400000.0, 25.7], [1017273600000.0, 26.4], [1019952000000.0, 27.3], [1022544000000.0, 25.8], [1025222400000.0, 25.5], [1027814400000.0, 25.8], [1030492800000.0, 24.5], [1033171200000.0, 24.2], [1035763200000.0, 23.2], [1038441600000.0, 24.1], [1041033600000.0, 25.1], [1043712000000.0, 23.0], [1046390400000.0, 25.4], [1048809600000.0, 25.7], [1051488000000.0, 27.6], [1054080000000.0, 26.8], [1056758400000.0, 26.4], [1059350400000.0, 25.8], [1062028800000.0, 26.1], [1064707200000.0, 25.4], [1067299200000.0, 25.4], [1069977600000.0, 25.4], [1072569600000.0, 22.4], [1075248000000.0, 23.5], [1077926400000.0, 23.9], [1080432000000.0, 26.6], [1083110400000.0, 27.4], [1085702400000.0, 26.4], [1088380800000.0, 25.7], [1090972800000.0, 26.0], [1093651200000.0, 26.0], [1096329600000.0, 25.7], [1098921600000.0, 25.8], [1101600000000.0, 25.8], [1104192000000.0, 22.2], [1106870400000.0, 23.1], [1109548800000.0, 25.6], [1111968000000.0, 25.4], [1114646400000.0, 26.8], [1117238400000.0, 27.3], [1119916800000.0, 27.1], [1122508800000.0, 26.2], [1125187200000.0, 26.3], [1127865600000.0, 25.7], [1130457600000.0, 25.4], [1133136000000.0, 25.3], [1135728000000.0, 22.8], [1138406400000.0, 23.5], [1141084800000.0, 25.5], [1143504000000.0, 26.5], [1146182400000.0, 27.1], [1148774400000.0, 26.8], [1151452800000.0, 26.2], [1154044800000.0, 26.7], [1156723200000.0, 26.3], [1159401600000.0, 25.5], [1161993600000.0, 25.7], [1164672000000.0, 26.0], [1167264000000.0, 23.1], [1169942400000.0, 23.4], [1172620800000.0, 24.3], [1175040000000.0, 27.3], [1177718400000.0, 26.9], [1180310400000.0, 26.1], [1182988800000.0, 26.2], [1185580800000.0, 25.7], [1188259200000.0, 26.0], [1190937600000.0, 25.7], [1193529600000.0, 25.6], [1196208000000.0, 23.5], [1198800000000.0, 24.4], [1201478400000.0, 23.5], [1204156800000.0, 24.5], [1206662400000.0, 26.1], [1209340800000.0, 26.8], [1211932800000.0, 25.9], [1214611200000.0, 25.6], [1217203200000.0, 25.5], [1219881600000.0, 25.5], [1222560000000.0, 25.2], [1225152000000.0, 25.1], [1227830400000.0, 23.8], [1230422400000.0, 21.7], [1233100800000.0, 20.7], [1235779200000.0, 25.1], [1238198400000.0, 26.2], [1240876800000.0, 26.0], [1243468800000.0, 25.7], [1246147200000.0, 26.1], [1248739200000.0, 25.7], [1251417600000.0, 25.6], [1254096000000.0, 25.2], [1256688000000.0, 24.9], [1259366400000.0, 23.6], [1261958400000.0, 23.7], [1264636800000.0, 24.3], [1267315200000.0, 26.7], [1269734400000.0, 26.6], [1272412800000.0, 28.3], [1275004800000.0, 27.9], [1277683200000.0, 26.7], [1280275200000.0, 26.1], [1282953600000.0, 25.4], [1285632000000.0, 25.4], [1288224000000.0, 24.9], [1290902400000.0, 24.5], [1293494400000.0, 23.7], [1296172800000.0, 22.5], [1298851200000.0, 25.0], [1301270400000.0, 23.8], [1303948800000.0, 25.9], [1306540800000.0, 26.0], [1309219200000.0, 26.4], [1311811200000.0, 25.5], [1314489600000.0, 25.5], [1317168000000.0, 25.6], [1319760000000.0, 25.0], [1322438400000.0, 25.6], [1325030400000.0, 22.5], [1327708800000.0, 24.9], [1330387200000.0, 25.6], [1332892800000.0, 27.1], [1335571200000.0, 27.6], [1338163200000.0, 27.2], [1340841600000.0, 26.5], [1343433600000.0, 25.8], [1346112000000.0, 25.6], [1348790400000.0, 25.1], [1351382400000.0, 25.5]], 'name': 'BangkokMin'}, {'data': [[949017600000.0, 32.8], [951696000000.0, 33.5], [954201600000.0, 34.2], [956880000000.0, 33.5], [959472000000.0, 34.0], [962150400000.0, 32.6], [964742400000.0, 32.5], [967420800000.0, 32.6], [970099200000.0, 32.8], [972691200000.0, 32.6], [975369600000.0, 32.6], [977961600000.0, 33.4], [980640000000.0, 33.3], [983318400000.0, 33.7], [985737600000.0, 33.1], [988416000000.0, 35.7], [991008000000.0, 33.5], [993686400000.0, 33.1], [996278400000.0, 33.1], [998956800000.0, 32.7], [1001635200000.0, 33.6], [1004227200000.0, 32.7], [1006905600000.0, 31.7], [1009497600000.0, 32.2], [1012176000000.0, 32.4], [1014854400000.0, 33.6], [1017273600000.0, 33.5], [1019952000000.0, 35.7], [1022544000000.0, 33.6], [1025222400000.0, 33.7], [1027814400000.0, 33.3], [1030492800000.0, 32.5], [1033171200000.0, 32.5], [1035763200000.0, 32.9], [1038441600000.0, 32.7], [1041033600000.0, 33.2], [1043712000000.0, 32.4], [1046390400000.0, 33.9], [1048809600000.0, 33.8], [1051488000000.0, 35.9], [1054080000000.0, 35.0], [1056758400000.0, 34.0], [1059350400000.0, 32.7], [1062028800000.0, 33.1], [1064707200000.0, 32.1], [1067299200000.0, 33.3], [1069977600000.0, 34.7], [1072569600000.0, 32.4], [1075248000000.0, 32.9], [1077926400000.0, 32.6], [1080432000000.0, 34.9], [1083110400000.0, 36.9], [1085702400000.0, 33.9], [1088380800000.0, 33.1], [1090972800000.0, 33.6], [1093651200000.0, 33.0], [1096329600000.0, 32.7], [1098921600000.0, 34.4], [1101600000000.0, 34.7], [1104192000000.0, 33.1], [1106870400000.0, 32.4], [1109548800000.0, 33.9], [1111968000000.0, 34.4], [1114646400000.0, 35.3], [1117238400000.0, 35.1], [1119916800000.0, 33.8], [1122508800000.0, 33.3], [1125187200000.0, 33.4], [1127865600000.0, 32.8], [1130457600000.0, 33.5], [1133136000000.0, 33.3], [1135728000000.0, 30.6], [1138406400000.0, 33.0], [1141084800000.0, 34.1], [1143504000000.0, 35.1], [1146182400000.0, 35.3], [1148774400000.0, 34.3], [1151452800000.0, 33.7], [1154044800000.0, 33.5], [1156723200000.0, 33.3], [1159401600000.0, 33.6], [1161993600000.0, 34.2], [1164672000000.0, 35.1], [1167264000000.0, 33.2], [1169942400000.0, 33.4], [1172620800000.0, 34.0], [1175040000000.0, 35.7], [1177718400000.0, 36.7], [1180310400000.0, 34.3], [1182988800000.0, 35.2], [1185580800000.0, 33.8], [1188259200000.0, 33.7], [1190937600000.0, 33.9], [1193529600000.0, 33.1], [1196208000000.0, 32.6], [1198800000000.0, 34.4], [1201478400000.0, 33.5], [1204156800000.0, 32.9], [1206662400000.0, 34.7], [1209340800000.0, 35.8], [1211932800000.0, 34.1], [1214611200000.0, 33.9], [1217203200000.0, 33.0], [1219881600000.0, 33.5], [1222560000000.0, 33.3], [1225152000000.0, 33.4], [1227830400000.0, 32.2], [1230422400000.0, 31.6], [1233100800000.0, 31.4], [1235779200000.0, 34.9], [1238198400000.0, 35.2], [1240876800000.0, 35.8], [1243468800000.0, 34.0], [1246147200000.0, 33.5], [1248739200000.0, 33.2], [1251417600000.0, 34.1], [1254096000000.0, 33.9], [1256688000000.0, 33.6], [1259366400000.0, 33.2], [1261958400000.0, 33.1], [1264636800000.0, 32.9], [1267315200000.0, 33.9], [1269734400000.0, 35.6], [1272412800000.0, 36.9], [1275004800000.0, 36.7], [1277683200000.0, 35.8], [1280275200000.0, 34.5], [1282953600000.0, 33.7], [1285632000000.0, 33.9], [1288224000000.0, 32.5], [1290902400000.0, 32.7], [1293494400000.0, 32.5], [1296172800000.0, 32.4], [1298851200000.0, 34.1], [1301270400000.0, 31.5], [1303948800000.0, 34.2], [1306540800000.0, 34.9], [1309219200000.0, 33.4], [1311811200000.0, 33.3], [1314489600000.0, 33.2], [1317168000000.0, 33.1], [1319760000000.0, 33.0], [1322438400000.0, 34.2], [1325030400000.0, 32.0], [1327708800000.0, 33.0], [1330387200000.0, 33.6], [1332892800000.0, 36.0], [1335571200000.0, 36.9], [1338163200000.0, 35.6], [1340841600000.0, 34.2], [1343433600000.0, 33.5], [1346112000000.0, 33.5], [1348790400000.0, 32.9], [1351382400000.0, 33.6]], 'name': 'BangkokMax'}, {'data': [[949017600000.0, 4.2], [951696000000.0, 2.4], [954201600000.0, 5.2], [956880000000.0, 10.7], [959472000000.0, 16.5], [962150400000.0, 19.5], [964742400000.0, 24.5], [967420800000.0, 25.4], [970099200000.0, 22.7], [972691200000.0, 16.2], [975369600000.0, 10.5], [977961600000.0, 5.2], [980640000000.0, 1.7], [983318400000.0, 2.8], [985737600000.0, 5.7], [988416000000.0, 11.3], [991008000000.0, 16.4], [993686400000.0, 20.3], [996278400000.0, 25.2], [998956800000.0, 23.6], [1001635200000.0, 20.4], [1004227200000.0, 15.5], [1006905600000.0, 9.5], [1009497600000.0, 4.9], [1012176000000.0, 3.4], [1014854400000.0, 4.4], [1017273600000.0, 8.1], [1019952000000.0, 12.4], [1022544000000.0, 15.3], [1025222400000.0, 18.6], [1027814400000.0, 25.1], [1030492800000.0, 24.8], [1033171200000.0, 20.4], [1035763200000.0, 15.5], [1038441600000.0, 8.2], [1041033600000.0, 4.1], [1043712000000.0, 2.0], [1046390400000.0, 3.2], [1048809600000.0, 5.1], [1051488000000.0, 11.5], [1054080000000.0, 15.5], [1056758400000.0, 20.2], [1059350400000.0, 20.1], [1062028800000.0, 23.1], [1064707200000.0, 21.0], [1067299200000.0, 14.6], [1069977600000.0, 11.5], [1072569600000.0, 5.7], [1075248000000.0, 3.1], [1077926400000.0, 4.3], [1080432000000.0, 5.7], [1083110400000.0, 11.7], [1085702400000.0, 16.1], [1088380800000.0, 20.3], [1090972800000.0, 25.0], [1093651200000.0, 24.1], [1096329600000.0, 22.2], [1098921600000.0, 14.8], [1101600000000.0, 12.7], [1104192000000.0, 6.6], [1106870400000.0, 2.6], [1109548800000.0, 2.5], [1111968000000.0, 5.0], [1114646400000.0, 10.7], [1117238400000.0, 14.1], [1119916800000.0, 20.2], [1122508800000.0, 22.6], [1125187200000.0, 25.1], [1127865600000.0, 21.8], [1130457600000.0, 16.6], [1133136000000.0, 9.6], [1135728000000.0, 2.9], [1138406400000.0, 2.0], [1141084800000.0, 3.3], [1143504000000.0, 5.9], [1146182400000.0, 10.1], [1148774400000.0, 15.7], [1151452800000.0, 20.1], [1154044800000.0, 23.3], [1156723200000.0, 24.8], [1159401600000.0, 20.7], [1161993600000.0, 16.7], [1164672000000.0, 11.0], [1167264000000.0, 6.7], [1169942400000.0, 4.6], [1172620800000.0, 5.0], [1175040000000.0, 6.8], [1177718400000.0, 9.9], [1180310400000.0, 16.0], [1182988800000.0, 20.0], [1185580800000.0, 21.8], [1188259200000.0, 25.9], [1190937600000.0, 22.4], [1193529600000.0, 16.1], [1196208000000.0, 10.2], [1198800000000.0, 5.6], [1201478400000.0, 2.7], [1204156800000.0, 1.9], [1206662400000.0, 7.2], [1209340800000.0, 11.4], [1211932800000.0, 15.4], [1214611200000.0, 18.4], [1217203200000.0, 24.2], [1219881600000.0, 24.1], [1222560000000.0, 21.7], [1225152000000.0, 16.4], [1227830400000.0, 10.0], [1230422400000.0, 6.0], [1233100800000.0, 3.5], [1235779200000.0, 4.4], [1238198400000.0, 6.3], [1240876800000.0, 11.9], [1243468800000.0, 16.9], [1246147200000.0, 19.8], [1248739200000.0, 23.5], [1251417600000.0, 23.8], [1254096000000.0, 20.2], [1256688000000.0, 16.0], [1259366400000.0, 10.1], [1261958400000.0, 6.2], [1264636800000.0, 3.0], [1267315200000.0, 3.0], [1269734400000.0, 5.1], [1272412800000.0, 8.6], [1275004800000.0, 15.4], [1277683200000.0, 20.5], [1280275200000.0, 25.0], [1282953600000.0, 27.0], [1285632000000.0, 22.3], [1288224000000.0, 16.5], [1290902400000.0, 10.0], [1293494400000.0, 6.2], [1296172800000.0, 1.5], [1298851200000.0, 3.2], [1301270400000.0, 4.0], [1303948800000.0, 10.3], [1306540800000.0, 15.0], [1309219200000.0, 19.9], [1311811200000.0, 24.5], [1314489600000.0, 24.6], [1317168000000.0, 22.0], [1319760000000.0, 16.5], [1322438400000.0, 11.7], [1325030400000.0, 4.2], [1327708800000.0, 1.8], [1330387200000.0, 2.2], [1332892800000.0, 3.5], [1335571200000.0, 11.0], [1338163200000.0, 16.1], [1340841600000.0, 18.6], [1343433600000.0, 23.5], [1346112000000.0, 26.3], [1348790400000.0, 23.3], [1351382400000.0, 16.2]], 'name': 'TokyoMin'}];\n",
       "\n",
       "            /**\n",
       "             * Create the chart when all data is loaded\n",
       "             * @returns {undefined}\n",
       "             */\n",
       "            Highcharts.stockChart('container1944', {\n",
       "              chart: {\n",
       "                zoomType: 'x'\n",
       "              },\n",
       "              title: {\n",
       "                  text: 'Temperatures in Asia'\n",
       "              },\n",
       "              plotOptions: {\n",
       "                series: {\n",
       "                  showInNavigator: true,\n",
       "                }\n",
       "              },\n",
       "                yAxis: {\n",
       "                    title: {\n",
       "                        text: 'ºC'\n",
       "                    }\n",
       "                },\n",
       "              tooltip: {\n",
       "                pointFormat: '<span style=\"color:{series.color}\">{series.name}</span>:<b>{point.y}</b>',\n",
       "                valueDecimals: 2,\n",
       "                split: true\n",
       "              },\n",
       "              series: seriesOptions\n",
       "            });\n",
       "        </script>\n",
       "\n",
       "        </body>\n",
       "        </html>\n",
       "    "
      ],
      "text/plain": [
       "<IPython.core.display.HTML object>"
      ]
     },
     "metadata": {},
     "output_type": "display_data"
    }
   ],
   "source": [
    "one_country_name = countries_list[0]\n",
    "\n",
    "# The following code is only for the visualization\n",
    "this_cities_names = [key for key, value in temp_streams[one_country_name].window().items()[0].value.iteritems()]\n",
    "\n",
    "data = {city:[] for city in this_cities_names}\n",
    "time = []\n",
    "for key, values in temp_streams[one_country_name].window().items():\n",
    "    time.append(str(key))\n",
    "    for city, temperature in values.iteritems():\n",
    "        data[city].append(temperature)\n",
    "        \n",
    "data = [value for key, value in data.iteritems()]\n",
    "        \n",
    "plot_multiple_stock(data, time=time, names=this_cities_names,\n",
    "                    title='Temperatures in ' + one_country_name, ylabel='ºC')"
   ]
  },
  {
   "cell_type": "markdown",
   "metadata": {
    "deletable": true,
    "editable": true
   },
   "source": [
    "# Create a Stream with all the city names\n",
    "\n",
    "In order to split the raw streams that contain as a value a dictionary with every city and its corresponding temperature, we need to use a splitting tool. The splitting_from_stream tool is a MultiOutputTool that expects a stream with the keys that are used to split the original stream, and a list of streams that will act as sink.\n",
    "\n",
    "## Create the mapping names\n",
    "\n",
    "Here, we will generate first a stream with all the keys that we want to use for the split"
   ]
  },
  {
   "cell_type": "code",
   "execution_count": 15,
   "metadata": {
    "collapsed": false,
    "deletable": true,
    "editable": true
   },
   "outputs": [
    {
     "name": "stdout",
     "output_type": "stream",
     "text": [
      "{'NewDelhiMax': 'NewDelhiMax', 'NewDelhiMin': 'NewDelhiMin', 'HongKongMin': 'HongKongMin', 'KualaLumpurMin': 'KualaLumpurMin', 'TokyoMax': 'TokyoMax', 'KualaLumpurMax': 'KualaLumpurMax', 'HongKongMax': 'HongKongMax', 'BangkokMin': 'BangkokMin', 'BangkokMax': 'BangkokMax', 'TokyoMin': 'TokyoMin'}\n"
     ]
    }
   ],
   "source": [
    "one_country_stream = temp_streams[one_country_name]\n",
    "\n",
    "# It is similar to a database channel\n",
    "A = hs.channel_manager.assets\n",
    "this_cities_stream = A.get_or_create_stream('cities_{}'.format(one_country_name))\n",
    "\n",
    "mapping = {}\n",
    "for city in this_cities_names:\n",
    "    mapping[city] = city\n",
    "\n",
    "print mapping"
   ]
  },
  {
   "cell_type": "markdown",
   "metadata": {
    "deletable": true,
    "editable": true
   },
   "source": [
    "## Create the Stream with the names\n",
    "\n",
    "Now we can write the mapping into the stream that will be used with the splitting tool"
   ]
  },
  {
   "cell_type": "code",
   "execution_count": 16,
   "metadata": {
    "collapsed": false,
    "deletable": true,
    "editable": true
   },
   "outputs": [
    {
     "name": "stderr",
     "output_type": "stream",
     "text": [
      "2017-07-28 14:36:07,394 [WARNI]  Found duplicate document: Tried to save duplicate unique keys (E11000 duplicate key error collection: hyperstream.streams index: stream_id_1_datetime_1 dup key: { : { name: \"cities_Asia\", meta_data: [] }, : new Date(915148800000) })\n",
      "2017-07-28 14:36:07,398 [WARNI]  Stream cities_Asia not available for time interval (0001-01-01 00:00:00+00:00, 2017-07-28 13:36:07.398000+00:00]. Perhaps upstream calculations haven't been performed\n"
     ]
    },
    {
     "name": "stdout",
     "output_type": "stream",
     "text": [
      "[StreamInstance(timestamp=datetime.datetime(1999, 1, 1, 0, 0, tzinfo=<bson.tz_util.FixedOffset object at 0x7f846c5eda90>), value={u'NewDelhiMax': u'NewDelhiMax', u'NewDelhiMin': u'NewDelhiMin', u'HongKongMin': u'HongKongMin', u'KualaLumpurMin': u'KualaLumpurMin', u'TokyoMax': u'TokyoMax', u'KualaLumpurMax': u'KualaLumpurMax', u'HongKongMax': u'HongKongMax', u'BangkokMin': u'BangkokMin', u'BangkokMax': u'BangkokMax', u'TokyoMin': u'TokyoMin'})]\n"
     ]
    }
   ],
   "source": [
    "from hyperstream import StreamInstance\n",
    "from hyperstream import StreamId\n",
    "\n",
    "A.write_to_stream(stream_id=this_cities_stream.stream_id, data=StreamInstance(ti_all.start, mapping))\n",
    "\n",
    "print this_cities_stream.window(TimeInterval.up_to_now()).items()"
   ]
  },
  {
   "cell_type": "markdown",
   "metadata": {
    "deletable": true,
    "editable": true
   },
   "source": [
    "## Creating a city plate\n",
    "\n",
    "We are creating here one node per city"
   ]
  },
  {
   "cell_type": "code",
   "execution_count": 17,
   "metadata": {
    "collapsed": false,
    "deletable": true,
    "editable": true
   },
   "outputs": [
    {
     "name": "stdout",
     "output_type": "stream",
     "text": [
      "Adding NewDelhiMax\n",
      "Adding NewDelhiMin\n",
      "Adding HongKongMin\n",
      "Adding KualaLumpurMin\n",
      "Adding TokyoMax\n",
      "Adding KualaLumpurMax\n",
      "Adding HongKongMax\n",
      "Adding BangkokMin\n",
      "Adding BangkokMax\n",
      "Adding TokyoMin\n"
     ]
    }
   ],
   "source": [
    "for city in this_cities_names:\n",
    "    if not hs.plate_manager.meta_data_manager.contains(identifier='city_'+city):\n",
    "        print(\"Adding \" + city)\n",
    "        hs.plate_manager.meta_data_manager.insert(parent='root', data=city,\n",
    "                                                  tag='city', identifier='city_'+city)"
   ]
  },
  {
   "cell_type": "markdown",
   "metadata": {
    "deletable": true,
    "editable": true
   },
   "source": [
    "## Creating the sink Streams\n",
    "\n",
    "Now, we will create one Stream per each city. Then, we will use all these Streams as a sink when ussing the splitting tool."
   ]
  },
  {
   "cell_type": "code",
   "execution_count": 18,
   "metadata": {
    "collapsed": false,
    "deletable": true,
    "editable": true
   },
   "outputs": [
    {
     "name": "stdout",
     "output_type": "stream",
     "text": [
      "Adding NewDelhiMax\n",
      "Adding NewDelhiMin\n",
      "Adding HongKongMin\n",
      "Adding KualaLumpurMin\n",
      "Adding TokyoMax\n",
      "Adding KualaLumpurMax\n",
      "Adding HongKongMax\n",
      "Adding BangkokMin\n",
      "Adding BangkokMax\n",
      "Adding TokyoMin\n"
     ]
    }
   ],
   "source": [
    "cities_plate = hs.plate_manager.create_plate(plate_id='C', meta_data_id='city', parent_plate=None, \n",
    "                                             values=[], complement=True, description='Cities')\n",
    "this_country_temps = []\n",
    "for city in this_cities_names:\n",
    "    print(\"Adding \" + city)\n",
    "    this_country_temps.append(M.get_or_create_stream(stream_id=StreamId(name='temperature',\n",
    "                                                                         meta_data=(('city', city),))))"
   ]
  },
  {
   "cell_type": "markdown",
   "metadata": {
    "deletable": true,
    "editable": true
   },
   "source": [
    "It is possible to create all the Streams passing a list to the splitter tool **splitter_from_list**. However, this could not be automated in a workflow\n",
    "\n",
    "```Python\n",
    "# TODO Ussing this new tool, it is not necessary to create a new stream. However, if it is a Stream it could be\n",
    "# automated for any other countries\n",
    "splitter_tool = hs.plugins.example.tools.splitter_from_list(element=None)\n",
    "\n",
    "# TODO try to change the parameter name of MultiOutputTool splitting_stream to splitting_parameter\n",
    "# or something that does not force you to think that it is a stream\n",
    "splitter_tool.execute(source=one_country_stream, splitting_stream=this_cities_list, output_plate=cities_plate, \n",
    "                      interval=ti_all, input_plate_value=None, sinks=this_country_temps)\n",
    "```\n",
    "\n",
    "**TODO: Ask Tom: Question:** With the splitter_from_stream version we still need to create a list with the mapping... Then, I can not see the difference between using one or the other method.\n",
    "**Answer:** The list in the Stream is allowed to change over time, this makes the future Streams to be more robust to change (e.g. the number of houses in the SPHERE project). Also, there is a tool that uses a dictionary for the splitting criteria, that is **splitter_of_dict** that expects the splitter_stream to be None, and a mapping parameter containing the static mapping."
   ]
  },
  {
   "cell_type": "code",
   "execution_count": 19,
   "metadata": {
    "collapsed": false,
    "deletable": true,
    "editable": true
   },
   "outputs": [
    {
     "name": "stderr",
     "output_type": "stream",
     "text": [
      "2017-07-28 14:36:07,453 [WARNI]  Stream cities_Asia not available for time interval (0001-01-01 00:00:00+00:00, 2013-01-01 00:00:00+00:00]. Perhaps upstream calculations haven't been performed\n"
     ]
    }
   ],
   "source": [
    "splitter_tool = hs.tools.splitter_from_stream(element=None, use_mapping_keys_only=False)\n",
    "\n",
    "splitter_tool.execute(source=one_country_stream, splitting_stream=this_cities_stream, output_plate_values=cities_plate, \n",
    "                      interval=ti_all, sinks=this_country_temps, meta_data_id=\"city\")"
   ]
  },
  {
   "cell_type": "code",
   "execution_count": 20,
   "metadata": {
    "collapsed": false,
    "deletable": true,
    "editable": true
   },
   "outputs": [
    {
     "name": "stderr",
     "output_type": "stream",
     "text": [
      "2017-07-28 14:36:07,561 [WARNI]  Stream temperature: [city=NewDelhiMax] not available for time interval (1999-01-01 00:00:00+00:00, 2013-01-01 00:00:00+00:00]. Perhaps upstream calculations haven't been performed\n"
     ]
    },
    {
     "name": "stdout",
     "output_type": "stream",
     "text": [
      "Stream(stream_id=temperature: [city=NewDelhiMax], channel_id=memory)\n",
      "StreamView(force_calculation=False, stream=Stream(stream_id=temperature: [city=NewDelhiMax], channel_id=memory), time_interval=TimeInterval(start=datetime.datetime(1999, 1, 1, 0, 0, tzinfo=<UTC>), end=datetime.datetime(2013, 1, 1, 0, 0, tzinfo=<UTC>)))\n"
     ]
    },
    {
     "data": {
      "text/html": [
       "\n",
       "        <html>\n",
       "        <head>\n",
       "        <title>Temperature in NewDelhiMax</title>\n",
       "           <!--<script src=\"https://ajax.googleapis.com/ajax/libs/jquery/2.1.3/jquery.min.js\"></script>-->\n",
       "           <!--<script src=\"https://code.highcharts.com/stock/highstock.js\"></script>-->\n",
       "           <!--<script src=\"https://code.highcharts.com/stock/modules/exporting.js\"></script>-->\n",
       "           <script src=\"./scripts/jquery.min.js\"></script>\n",
       "           <script src=\"./scripts/highstock.js\"></script>\n",
       "           <script src=\"./scripts/exporting.js\"></script>\n",
       "        </head>\n",
       "        <body>\n",
       "\n",
       "        <div id=\"container4922\" style=\"width: 800px; height: 600px; margin: 125 auto\"></div>\n",
       "\n",
       "        <script language=\"JavaScript\">\n",
       "               var data = [[949017600000.0, 20.1], [951696000000.0, 21.9], [954201600000.0, 29.7], [956880000000.0, 38.4], [959472000000.0, 40.0], [962150400000.0, 36.6], [964742400000.0, 33.7], [967420800000.0, 34.2], [970099200000.0, 34.7], [972691200000.0, 34.4], [975369600000.0, 28.8], [977961600000.0, 24.4], [980640000000.0, 19.7], [983318400000.0, 25.4], [985737600000.0, 30.4], [988416000000.0, 35.9], [991008000000.0, 38.6], [993686400000.0, 35.6], [996278400000.0, 34.7], [998956800000.0, 35.1], [1001635200000.0, 36.1], [1004227200000.0, 34.3], [1006905600000.0, 29.1], [1009497600000.0, 23.3], [1012176000000.0, 20.8], [1014854400000.0, 24.2], [1017273600000.0, 31.1], [1019952000000.0, 38.3], [1022544000000.0, 42.4], [1025222400000.0, 39.1], [1027814400000.0, 39.3], [1030492800000.0, 34.6], [1033171200000.0, 32.5], [1035763200000.0, 33.2], [1038441600000.0, 28.0], [1041033600000.0, 23.6], [1043712000000.0, 17.7], [1046390400000.0, 23.5], [1048809600000.0, 29.6], [1051488000000.0, 37.8], [1054080000000.0, 39.8], [1056758400000.0, 39.9], [1059350400000.0, 34.0], [1062028800000.0, 33.8], [1064707200000.0, 32.7], [1067299200000.0, 33.0], [1069977600000.0, 28.0], [1072569600000.0, 20.9], [1075248000000.0, 18.7], [1077926400000.0, 25.7], [1080432000000.0, 33.6], [1083110400000.0, 37.8], [1085702400000.0, 39.4], [1088380800000.0, 37.6], [1090972800000.0, 37.7], [1093651200000.0, 33.7], [1096329600000.0, 35.4], [1098921600000.0, 31.1], [1101600000000.0, 28.6], [1104192000000.0, 23.0], [1106870400000.0, 20.1], [1109548800000.0, 23.5], [1111968000000.0, 30.5], [1114646400000.0, 36.4], [1117238400000.0, 39.6], [1119916800000.0, 40.3], [1122508800000.0, 34.2], [1125187200000.0, 35.8], [1127865600000.0, 33.8], [1130457600000.0, 33.1], [1133136000000.0, 29.5], [1135728000000.0, 22.6], [1138406400000.0, 22.5], [1141084800000.0, 29.6], [1143504000000.0, 29.8], [1146182400000.0, 37.6], [1148774400000.0, 39.9], [1151452800000.0, 38.0], [1154044800000.0, 35.0], [1156723200000.0, 35.3], [1159401600000.0, 34.5], [1161993600000.0, 33.5], [1164672000000.0, 28.7], [1167264000000.0, 23.1], [1169942400000.0, 21.7], [1172620800000.0, 24.1], [1175040000000.0, 29.0], [1177718400000.0, 38.3], [1180310400000.0, 38.8], [1182988800000.0, 38.0], [1185580800000.0, 35.9], [1188259200000.0, 34.9], [1190937600000.0, 34.6], [1193529600000.0, 33.3], [1196208000000.0, 28.8], [1198800000000.0, 22.7], [1201478400000.0, 20.8], [1204156800000.0, 23.9], [1206662400000.0, 33.5], [1209340800000.0, 36.4], [1211932800000.0, 36.9], [1214611200000.0, 35.3], [1217203200000.0, 35.4], [1219881600000.0, 33.9], [1222560000000.0, 34.1], [1225152000000.0, 34.2], [1227830400000.0, 28.8], [1230422400000.0, 24.2], [1233100800000.0, 22.1], [1235779200000.0, 26.3], [1238198400000.0, 31.9], [1240876800000.0, 37.4], [1243468800000.0, 40.0], [1246147200000.0, 41.1], [1248739200000.0, 37.2], [1251417600000.0, 35.5], [1254096000000.0, 33.9], [1256688000000.0, 33.0], [1259366400000.0, 27.2], [1261958400000.0, 23.6], [1264636800000.0, 19.2], [1267315200000.0, 25.7], [1269734400000.0, 34.1], [1272412800000.0, 40.2], [1275004800000.0, 41.8], [1277683200000.0, 40.4], [1280275200000.0, 35.6], [1282953600000.0, 33.9], [1285632000000.0, 32.7], [1288224000000.0, 33.0], [1290902400000.0, 27.6], [1293494400000.0, 22.3], [1296172800000.0, 20.0], [1298851200000.0, 24.8], [1301270400000.0, 30.4], [1303948800000.0, 36.0], [1306540800000.0, 40.1], [1309219200000.0, 38.0], [1311811200000.0, 35.7], [1314489600000.0, 34.6], [1317168000000.0, 34.3], [1319760000000.0, 33.4], [1322438400000.0, 29.3], [1325030400000.0, 24.0], [1327708800000.0, 20.3], [1330387200000.0, 24.3], [1332892800000.0, 31.6], [1335571200000.0, 35.8], [1338163200000.0, 41.2], [1340841600000.0, 42.1], [1343433600000.0, 36.9], [1346112000000.0, 33.6], [1348790400000.0, 34.3], [1351382400000.0, 32.6]];\n",
       "\n",
       "            Highcharts.stockChart('container4922', {\n",
       "                chart: {\n",
       "                    zoomType: 'x'\n",
       "                },\n",
       "                title: {\n",
       "                    text: 'Temperature in NewDelhiMax'\n",
       "                },\n",
       "                xAxis: {\n",
       "                    type: 'datetime', ordinal: false\n",
       "                },\n",
       "                yAxis: {\n",
       "                    title: {\n",
       "                        text: 'ºC'\n",
       "                    }\n",
       "                },\n",
       "                legend: {\n",
       "                    enabled: false\n",
       "                },\n",
       "\n",
       "                series: [{\n",
       "                    type: 'spline',\n",
       "                    name: 'ºC',\n",
       "                    data: data\n",
       "                }]\n",
       "            });\n",
       "        </script>\n",
       "\n",
       "        </body>\n",
       "        </html>\n",
       "    "
      ],
      "text/plain": [
       "<IPython.core.display.HTML object>"
      ]
     },
     "metadata": {},
     "output_type": "display_data"
    }
   ],
   "source": [
    "one_city = this_country_temps[0]\n",
    "city_name = one_city.stream_id.meta_data[0][1]\n",
    "\n",
    "print one_city\n",
    "print one_city.window(ti_all)\n",
    "\n",
    "my_time, my_data = zip(*[(key.__str__(), value) for key, value in one_city.window(ti_all).items()])\n",
    "\n",
    "plot_high_chart(my_time, my_data, type=\"high_stock\", title='Temperature in {}'.format(city_name), yax='ºC')"
   ]
  }
 ],
 "metadata": {
  "kernelspec": {
   "display_name": "Python 2",
   "language": "python",
   "name": "python2"
  },
  "language_info": {
   "codemirror_mode": {
    "name": "ipython",
    "version": 2
   },
   "file_extension": ".py",
   "mimetype": "text/x-python",
   "name": "python",
   "nbconvert_exporter": "python",
   "pygments_lexer": "ipython2",
   "version": "2.7.6"
  }
 },
 "nbformat": 4,
 "nbformat_minor": 1
}
