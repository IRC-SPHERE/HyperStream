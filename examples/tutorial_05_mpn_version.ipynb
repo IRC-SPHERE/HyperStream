{
 "cells": [
  {
   "cell_type": "markdown",
   "metadata": {
    "deletable": true,
    "editable": true
   },
   "source": [
    "<img style=\"float: right;\" src=\"images/hyperstream.svg\">\n",
    "\n",
    "# HyperStream Tutorial 5: Workflows\n",
    "\n",
    "Workflows define a graph of streams. Usually, the first stream will be a special \"raw\" stream that pulls in data from a custom data source. Workflows can have multiple time ranges, which will cause the streams to be computed on all of the ranges given.\n",
    "\n",
    "## Introduction\n",
    "\n",
    "In this tutorial, we will be ussing a time-series dataset about the temperature in different countries and cities. The dataset is availabel at [The Census at School New Zeland][1]. The necessary files for this tutorial are already included in the folder **data/TimeSeriesDatasets_130207**.\n",
    "\n",
    "In particular, there are four files with the minimum and maximum temperatures in different cities of Asia, Australia, NZ and USA from 2000 to 2012. And the rainfall levels of New Zeland. \n",
    "\n",
    "![workflows](images/workflow_world_temp.svg)\n",
    "\n",
    "[1]: http://new.censusatschool.org.nz/resource/time-series-data-sets-2013/"
   ]
  },
  {
   "cell_type": "code",
   "execution_count": 1,
   "metadata": {
    "collapsed": false,
    "deletable": true,
    "editable": true
   },
   "outputs": [
    {
     "name": "stdout",
     "output_type": "stream",
     "text": [
      "CPython 2.7.6\n",
      "IPython 5.3.0\n",
      "\n",
      "hyperstream 0.3.5\n",
      "\n",
      "compiler   : GCC 4.8.4\n",
      "system     : Linux\n",
      "release    : 3.19.0-80-generic\n",
      "machine    : x86_64\n",
      "processor  : x86_64\n",
      "CPU cores  : 4\n",
      "interpreter: 64bit\n",
      "Git hash   : db450f6100c7af2839f6cebae343182ec6d7a7a7\n",
      "HyperStream version 0.3.5, connected to mongodb://localhost:27017/hyperstream, session id <no session>\n",
      "[u'example', u'data_importers', u'data_generators']\n"
     ]
    }
   ],
   "source": [
    "try:\n",
    "    %load_ext watermark\n",
    "    watermark = True\n",
    "except ImportError:\n",
    "    watermark = False\n",
    "    pass\n",
    "\n",
    "import sys\n",
    "sys.path.append(\"../\") # Add parent dir in the Path\n",
    "\n",
    "from hyperstream import HyperStream\n",
    "from hyperstream import TimeInterval\n",
    "from hyperstream.utils import UTC\n",
    "import hyperstream\n",
    "\n",
    "from datetime import datetime\n",
    "from utils import plot_high_chart\n",
    "from utils import plot_multiple_stock\n",
    "from dateutil.parser import parse\n",
    "\n",
    "if watermark:\n",
    "    %watermark -v -m -p hyperstream -g\n",
    "\n",
    "hs = HyperStream(loglevel=30)\n",
    "print(hs)\n",
    "print([p.channel_id_prefix for p in hs.config.plugins])"
   ]
  },
  {
   "cell_type": "markdown",
   "metadata": {
    "deletable": true,
    "editable": true
   },
   "source": [
    "## Reading the data\n",
    "\n",
    "In the data folder there are four csv files with the names **TempAsia.csv, TempAustralia.csv, TempNZ.csv and TempUSA.csv**. The first column of each csv file contains a header with the names of the columns. The first one being the date and the following are the minimum and maximum temperature in different cities with the format **cityMin** and **cityMax**.\n",
    "\n",
    "Here is an example of the first 5 rows of the **TempAsia.csv** file:\n",
    "\n",
    "```\n",
    "Date,TokyoMax,TokyoMin,BangkokMax,BangkokMin\n",
    "2000M01,11.2,4.2,32.8,24\n",
    "```\n",
    "\n",
    "The format of the date has the form **YYYYMmm** where **YYYY** is the year and **mm** is the month. Because this format is not recognized by the default parser of the **csv_reader** tool, we will need to specify our own parser that first replaces the **M** by an hyphen **-** and then applies the **dateutils.parser**.\n",
    "\n",
    "Then, we will use a tool to read each csv, and a Stream to store all the results of applying the tool. When we specify to the tool that there is a header row in the csv file, the value of each Stream instance will be a dictionary with the name of the column and its corresponding value. For example, a Stream instance with the 4 cities shown above will look like:\n",
    "\n",
    "```\n",
    "[2000-01-19 00:00:00+00:00]: {'BangkokMin': 24.0, 'BangkokMax': 32.8, 'TokyoMin': 4.2}\n",
    "```"
   ]
  },
  {
   "cell_type": "code",
   "execution_count": 2,
   "metadata": {
    "collapsed": false,
    "deletable": true,
    "editable": true
   },
   "outputs": [],
   "source": [
    "def dateparser(dt):\n",
    "    return parse(dt.replace('M', '-')).replace(tzinfo=UTC)\n",
    "\n",
    "ti_all = TimeInterval(datetime(1999, 1, 1).replace(tzinfo=UTC),\n",
    "                      datetime(2013, 1, 1).replace(tzinfo=UTC))\n",
    "ti_sample = TimeInterval(datetime(2007, 1, 1).replace(tzinfo=UTC),\n",
    "                         datetime(2007, 3, 1).replace(tzinfo=UTC))\n",
    "\n",
    "# M will be the Memory Channel\n",
    "M = hs.channel_manager.memory\n",
    "\n",
    "countries_list = ['Asia', 'Australia', 'NZ', 'USA']"
   ]
  },
  {
   "cell_type": "markdown",
   "metadata": {},
   "source": [
    "## Create the plates and meta_data instances"
   ]
  },
  {
   "cell_type": "code",
   "execution_count": 3,
   "metadata": {
    "collapsed": false
   },
   "outputs": [],
   "source": [
    "countries_dict = {\n",
    "    'Asia': ['BangkokMin', 'BangkokMax', 'HongKongMax', 'HongKongMin', 'KualaLumpurMax', 'KualaLumpurMin',\n",
    "             'NewDelhiMax', 'NewDelhiMin', 'TokyoMax', 'TokyoMin'], \n",
    "    'Australia': ['BrisbaneMax', 'BrisbaneMin', 'CanberraMax', 'CanberraMin', 'GoldCoastMax', 'GodCoastMin',\n",
    "                  'MelbourneMin', 'Melbournemax',  'SydneyMax', 'SydneyMin'], \n",
    "    'NZ': ['AucklandMax', 'AucklandMin', 'ChristchurchMax', 'ChristchurchMin', 'DunedinMax', 'DunedinMin',\n",
    "           'HamiltonMax', 'HamiltonMin','WellingtonMax', 'WellingtonMin'], \n",
    "    'USA': ['ChicagoMin', 'ChicagoMax', 'HoustonMax', 'HoustonMin', 'LosAngelesMax', 'LosAngelesMin',\n",
    "            'NYMax', 'NYMin', 'SeattleMax', 'SeattleMin']\n",
    "}\n",
    "\n",
    "# delete_plate requires the deletion to be first childs and then parents\n",
    "for plate_id in ['C.C', 'C']:\n",
    "    if plate_id in [plate[0] for plate in hs.plate_manager.plates.items()]:\n",
    "        print('Deleting plate ' + plate_id)\n",
    "        hs.plate_manager.delete_plate(plate_id=plate_id, delete_meta_data=True)\n",
    "\n",
    "for country in countries_dict:\n",
    "    id_country = 'country_' + country\n",
    "    if not hs.plate_manager.meta_data_manager.contains(identifier=id_country):\n",
    "        hs.plate_manager.meta_data_manager.insert(\n",
    "            parent='root', data=country, tag='country', identifier=id_country)\n",
    "    for city in countries_dict[country]:\n",
    "        id_city = id_country + '.' + 'city_' + city\n",
    "        if not hs.plate_manager.meta_data_manager.contains(identifier=id_city):\n",
    "            hs.plate_manager.meta_data_manager.insert(\n",
    "                parent=id_country, data=city, tag='city', identifier=id_city)\n",
    "            \n",
    "C = hs.plate_manager.create_plate(plate_id=\"C\", description=\"Countries\", values=[], complement=True,\n",
    "                                  parent_plate=None, meta_data_id=\"country\")\n",
    "CC = hs.plate_manager.create_plate(plate_id=\"C.C\", description=\"Cities\", values=[], complement=True,\n",
    "                                   parent_plate=\"C\", meta_data_id=\"city\")"
   ]
  },
  {
   "cell_type": "code",
   "execution_count": 4,
   "metadata": {
    "collapsed": false
   },
   "outputs": [
    {
     "name": "stdout",
     "output_type": "stream",
     "text": [
      "\n",
      "root[root:None]\n",
      "╟── country[country_NZ:NZ]\n",
      "║   ╟── city[country_NZ.city_AucklandMax:AucklandMax]\n",
      "║   ╟── city[country_NZ.city_AucklandMin:AucklandMin]\n",
      "║   ╟── city[country_NZ.city_ChristchurchMax:ChristchurchMax]\n",
      "║   ╟── city[country_NZ.city_ChristchurchMin:ChristchurchMin]\n",
      "║   ╟── city[country_NZ.city_DunedinMax:DunedinMax]\n",
      "║   ╟── city[country_NZ.city_DunedinMin:DunedinMin]\n",
      "║   ╟── city[country_NZ.city_HamiltonMax:HamiltonMax]\n",
      "║   ╟── city[country_NZ.city_HamiltonMin:HamiltonMin]\n",
      "║   ╟── city[country_NZ.city_WellingtonMax:WellingtonMax]\n",
      "║   ╙── city[country_NZ.city_WellingtonMin:WellingtonMin]\n",
      "╟── country[country_Australia:Australia]\n",
      "║   ╟── city[country_Australia.city_BrisbaneMax:BrisbaneMax]\n",
      "║   ╟── city[country_Australia.city_BrisbaneMin:BrisbaneMin]\n",
      "║   ╟── city[country_Australia.city_CanberraMax:CanberraMax]\n",
      "║   ╟── city[country_Australia.city_CanberraMin:CanberraMin]\n",
      "║   ╟── city[country_Australia.city_GoldCoastMax:GoldCoastMax]\n",
      "║   ╟── city[country_Australia.city_GodCoastMin:GodCoastMin]\n",
      "║   ╟── city[country_Australia.city_MelbourneMin:MelbourneMin]\n",
      "║   ╟── city[country_Australia.city_Melbournemax:Melbournemax]\n",
      "║   ╟── city[country_Australia.city_SydneyMax:SydneyMax]\n",
      "║   ╙── city[country_Australia.city_SydneyMin:SydneyMin]\n",
      "╟── country[country_USA:USA]\n",
      "║   ╟── city[country_USA.city_ChicagoMin:ChicagoMin]\n",
      "║   ╟── city[country_USA.city_ChicagoMax:ChicagoMax]\n",
      "║   ╟── city[country_USA.city_HoustonMax:HoustonMax]\n",
      "║   ╟── city[country_USA.city_HoustonMin:HoustonMin]\n",
      "║   ╟── city[country_USA.city_LosAngelesMax:LosAngelesMax]\n",
      "║   ╟── city[country_USA.city_LosAngelesMin:LosAngelesMin]\n",
      "║   ╟── city[country_USA.city_NYMax:NYMax]\n",
      "║   ╟── city[country_USA.city_NYMin:NYMin]\n",
      "║   ╟── city[country_USA.city_SeattleMax:SeattleMax]\n",
      "║   ╙── city[country_USA.city_SeattleMin:SeattleMin]\n",
      "╙── country[country_Asia:Asia]\n",
      "    ╟── city[country_Asia.city_BangkokMin:BangkokMin]\n",
      "    ╟── city[country_Asia.city_BangkokMax:BangkokMax]\n",
      "    ╟── city[country_Asia.city_HongKongMax:HongKongMax]\n",
      "    ╟── city[country_Asia.city_HongKongMin:HongKongMin]\n",
      "    ╟── city[country_Asia.city_KualaLumpurMax:KualaLumpurMax]\n",
      "    ╟── city[country_Asia.city_KualaLumpurMin:KualaLumpurMin]\n",
      "    ╟── city[country_Asia.city_NewDelhiMax:NewDelhiMax]\n",
      "    ╟── city[country_Asia.city_NewDelhiMin:NewDelhiMin]\n",
      "    ╟── city[country_Asia.city_TokyoMax:TokyoMax]\n",
      "    ╙── city[country_Asia.city_TokyoMin:TokyoMin]\n",
      "\n"
     ]
    }
   ],
   "source": [
    "print hs.plate_manager.meta_data_manager.global_plate_definitions"
   ]
  },
  {
   "cell_type": "markdown",
   "metadata": {},
   "source": [
    "## Define the tools to use"
   ]
  },
  {
   "cell_type": "code",
   "execution_count": 5,
   "metadata": {
    "collapsed": false
   },
   "outputs": [],
   "source": [
    "csv_reader = hs.plugins.data_importers.tools.csv_multi_reader(\n",
    "                filename_template='data/TimeSeriesDatasets_130207/Temp{}.csv',\n",
    "                datetime_parser=dateparser, skip_rows=1)\n",
    "\n",
    "# TODO use this tool to separate the raw values of each country into their respective city\n",
    "splitter_tool = hs.tools.splitter_from_stream(element=None, use_mapping_keys_only=True)"
   ]
  },
  {
   "cell_type": "markdown",
   "metadata": {},
   "source": [
    "## Create the workflow and execute it"
   ]
  },
  {
   "cell_type": "code",
   "execution_count": 9,
   "metadata": {
    "collapsed": false
   },
   "outputs": [],
   "source": [
    "with hs.create_workflow(workflow_id='tutorial_05', name='tutorial_05', owner='tutorials', \n",
    "                    description='Tutorial 5 workflow', online=False, safe=False) as w:\n",
    "    country_node = w.create_node(stream_name='raw_data', channel=M, plate_ids=['C'])\n",
    "    \n",
    "    w.create_multi_output_factor(source=None, sink=country_node, splitting_node=None, tool=csv_reader)\n",
    "    \n",
    "    city_node = w.create_node(stream_name='temperature', channel=M, plate_ids=['C.C'])\n",
    "    \n",
    "    # TODO split the countries raw data into cities\n",
    "    w.create_multi_output_factor(source=country_node, sink=city_node, splitting_node=country_node,\n",
    "                                 tool=splitter_tool)\n",
    "    \n",
    "    w.execute(ti_all)"
   ]
  },
  {
   "cell_type": "markdown",
   "metadata": {},
   "source": [
    "## See the country raw data streams"
   ]
  },
  {
   "cell_type": "code",
   "execution_count": 10,
   "metadata": {
    "collapsed": false
   },
   "outputs": [
    {
     "name": "stdout",
     "output_type": "stream",
     "text": [
      "(('country', 'NZ'),)\n",
      "StreamInstance(timestamp=datetime.datetime(2000, 1, 26, 0, 0, tzinfo=<UTC>), value={'WellingtonMin': 14.2, 'ChristchurchMin': 10.8, 'HamiltonMin': 12.4, 'DunedinMax': 18.2, 'WellingtonMax': 20.0, 'ChristchurchMax': 20.2, 'AucklandMax': 23.4, 'HamiltonMax': 23.8, 'DunedinMin': 8.8, 'AucklandMin': 15.5})\n",
      "(('country', 'USA'),)\n",
      "StreamInstance(timestamp=datetime.datetime(2000, 1, 26, 0, 0, tzinfo=<UTC>), value={'ChicagoMax': 1.8, 'LosAngelesMin': 10.0, 'HoustonMax': 21.6, 'NYMax': 4.6, 'SeattleMax': 7.9, 'SeattleMin': 1.4, 'ChicagoMin': -8.1, 'NYMin': -5.6, 'HoustonMin': 7.4, 'LosAngelesMax': 19.6})\n",
      "(('country', 'Australia'),)\n",
      "StreamInstance(timestamp=datetime.datetime(2000, 1, 26, 0, 0, tzinfo=<UTC>), value={'BrisbaneMax': 28.2, 'MelbourneMin': 15.9, 'Melbournemax': 24.3, 'BrisbaneMin': 19.1, 'CanberraMin': 10.1, 'GoldCoastMax': 27.5, 'SydneyMax': 24.9, 'Canberramax': 24.5, 'GoldCoastMin': 20.2, 'SydneyMin': 17.7})\n",
      "(('country', 'Asia'),)\n",
      "StreamInstance(timestamp=datetime.datetime(2000, 1, 26, 0, 0, tzinfo=<UTC>), value={'NewDelhiMax': 20.1, 'NewDelhiMin': 8.1, 'HongKongMin': 14.3, 'KualaLumpurMin': 23.5, 'TokyoMax': 11.2, 'KualaLumpurMax': 32.2, 'HongKongMax': 19.5, 'BangkokMin': 24.0, 'BangkokMax': 32.8, 'TokyoMin': 4.2})\n"
     ]
    }
   ],
   "source": [
    "# Print the results\n",
    "for stream in country_node.streams:\n",
    "    print(stream)\n",
    "    print(country_node.streams[stream].window().first())"
   ]
  },
  {
   "cell_type": "code",
   "execution_count": 12,
   "metadata": {
    "collapsed": false
   },
   "outputs": [
    {
     "name": "stdout",
     "output_type": "stream",
     "text": [
      "(('country', 'Australia'), ('city', 'GoldCoastMax'))\n",
      "None\n",
      "(('country', 'Asia'), ('city', 'TokyoMax'))\n",
      "None\n",
      "(('country', 'Asia'), ('city', 'BangkokMin'))\n",
      "None\n",
      "(('country', 'Asia'), ('city', 'HongKongMin'))\n",
      "None\n",
      "(('country', 'Asia'), ('city', 'BangkokMax'))\n",
      "None\n",
      "(('country', 'Asia'), ('city', 'KualaLumpurMin'))\n",
      "None\n",
      "(('country', 'NZ'), ('city', 'WellingtonMin'))\n",
      "None\n",
      "(('country', 'NZ'), ('city', 'AucklandMax'))\n",
      "None\n",
      "(('country', 'Australia'), ('city', 'CanberraMin'))\n",
      "None\n",
      "(('country', 'NZ'), ('city', 'DunedinMin'))\n",
      "None\n",
      "(('country', 'NZ'), ('city', 'ChristchurchMin'))\n",
      "None\n",
      "(('country', 'USA'), ('city', 'NYMin'))\n",
      "None\n",
      "(('country', 'USA'), ('city', 'HoustonMin'))\n",
      "None\n",
      "(('country', 'Australia'), ('city', 'Melbournemax'))\n",
      "None\n",
      "(('country', 'NZ'), ('city', 'ChristchurchMax'))\n",
      "None\n",
      "(('country', 'Asia'), ('city', 'KualaLumpurMax'))\n",
      "None\n",
      "(('country', 'Australia'), ('city', 'MelbourneMin'))\n",
      "None\n",
      "(('country', 'USA'), ('city', 'LosAngelesMin'))\n",
      "None\n",
      "(('country', 'Australia'), ('city', 'BrisbaneMin'))\n",
      "None\n",
      "(('country', 'USA'), ('city', 'SeattleMax'))\n",
      "None\n",
      "(('country', 'NZ'), ('city', 'HamiltonMax'))\n",
      "None\n",
      "(('country', 'Asia'), ('city', 'TokyoMin'))\n",
      "None\n",
      "(('country', 'USA'), ('city', 'SeattleMin'))\n",
      "None\n",
      "(('country', 'Asia'), ('city', 'NewDelhiMin'))\n",
      "None\n",
      "(('country', 'Asia'), ('city', 'HongKongMax'))\n",
      "None\n",
      "(('country', 'USA'), ('city', 'ChicagoMax'))\n",
      "None\n",
      "(('country', 'Australia'), ('city', 'SydneyMax'))\n",
      "None\n",
      "(('country', 'USA'), ('city', 'NYMax'))\n",
      "None\n",
      "(('country', 'NZ'), ('city', 'DunedinMax'))\n",
      "None\n",
      "(('country', 'USA'), ('city', 'ChicagoMin'))\n",
      "None\n",
      "(('country', 'NZ'), ('city', 'AucklandMin'))\n",
      "None\n",
      "(('country', 'Asia'), ('city', 'NewDelhiMax'))\n",
      "None\n",
      "(('country', 'USA'), ('city', 'LosAngelesMax'))\n",
      "None\n",
      "(('country', 'Australia'), ('city', 'BrisbaneMax'))\n",
      "None\n",
      "(('country', 'NZ'), ('city', 'HamiltonMin'))\n",
      "None\n",
      "(('country', 'USA'), ('city', 'HoustonMax'))\n",
      "None\n",
      "(('country', 'NZ'), ('city', 'WellingtonMax'))\n",
      "None\n",
      "(('country', 'Australia'), ('city', 'CanberraMax'))\n",
      "None\n",
      "(('country', 'Australia'), ('city', 'SydneyMin'))\n",
      "None\n",
      "(('country', 'Australia'), ('city', 'GodCoastMin'))\n",
      "None\n"
     ]
    }
   ],
   "source": [
    "for stream in city_node.streams:\n",
    "    print(stream)\n",
    "    print(city_node.streams[stream].window().first())"
   ]
  },
  {
   "cell_type": "code",
   "execution_count": 9,
   "metadata": {
    "collapsed": false
   },
   "outputs": [],
   "source": [
    "temp_tools_csv = {}\n",
    "temp_streams = {}\n",
    "for country in countries_list:\n",
    "    temp_tools_csv[country] = hs.plugins.example.tools.csv_reader(\n",
    "            'data/TimeSeriesDatasets_130207/Temp{}.csv'.format(country),\n",
    "            header=True, dateparser=dateparser)\n",
    "    temp_streams[country] = M.get_or_create_stream(country)\n",
    "    temp_tools_csv[country].execute(sources=[], sink=temp_streams[country],\n",
    "                                    interval=ti_all)"
   ]
  },
  {
   "cell_type": "markdown",
   "metadata": {
    "deletable": true,
    "editable": true
   },
   "source": [
    "## Print one Stream Instance per Stream\n",
    "\n",
    "Now that we have generated one Stream per each country, we can inspect the first Stream Instance of each Stream."
   ]
  },
  {
   "cell_type": "code",
   "execution_count": 10,
   "metadata": {
    "collapsed": false,
    "deletable": true,
    "editable": true
   },
   "outputs": [
    {
     "name": "stdout",
     "output_type": "stream",
     "text": [
      "Stream(stream_id=Asia, channel_id=memory)\n",
      "StreamInstance(timestamp=datetime.datetime(2000, 1, 26, 0, 0, tzinfo=<UTC>), value={'NewDelhiMax': 20.1, 'NewDelhiMin': 8.1, 'HongKongMin': 14.3, 'KualaLumpurMin': 23.5, 'TokyoMax': 11.2, 'KualaLumpurMax': 32.2, 'HongKongMax': 19.5, 'BangkokMin': 24.0, 'BangkokMax': 32.8, 'TokyoMin': 4.2})\n",
      "Stream(stream_id=Australia, channel_id=memory)\n",
      "StreamInstance(timestamp=datetime.datetime(2000, 1, 26, 0, 0, tzinfo=<UTC>), value={'BrisbaneMax': 28.2, 'MelbourneMin': 15.9, 'Melbournemax': 24.3, 'BrisbaneMin': 19.1, 'CanberraMin': 10.1, 'GoldCoastMax': 27.5, 'SydneyMax': 24.9, 'Canberramax': 24.5, 'GoldCoastMin': 20.2, 'SydneyMin': 17.7})\n",
      "Stream(stream_id=NZ, channel_id=memory)\n",
      "StreamInstance(timestamp=datetime.datetime(2000, 1, 26, 0, 0, tzinfo=<UTC>), value={'WellingtonMin': 14.2, 'ChristchurchMin': 10.8, 'HamiltonMin': 12.4, 'DunedinMax': 18.2, 'WellingtonMax': 20.0, 'ChristchurchMax': 20.2, 'AucklandMax': 23.4, 'HamiltonMax': 23.8, 'DunedinMin': 8.8, 'AucklandMin': 15.5})\n",
      "Stream(stream_id=USA, channel_id=memory)\n",
      "StreamInstance(timestamp=datetime.datetime(2000, 1, 26, 0, 0, tzinfo=<UTC>), value={'ChicagoMax': 1.8, 'LosAngelesMin': 10.0, 'HoustonMax': 21.6, 'NYMax': 4.6, 'SeattleMax': 7.9, 'SeattleMin': 1.4, 'ChicagoMin': -8.1, 'NYMin': -5.6, 'HoustonMin': 7.4, 'LosAngelesMax': 19.6})\n"
     ]
    }
   ],
   "source": [
    "for country in countries_list:\n",
    "    print(temp_streams[country])\n",
    "    print(temp_streams[country].window().first())"
   ]
  },
  {
   "cell_type": "markdown",
   "metadata": {
    "deletable": true,
    "editable": true
   },
   "source": [
    "## Visualize the temperatures in one Country\n",
    "\n",
    "Now, we can visualize the temperatures of all the cities in one country. First, we will create a list of all the cities in one of the Streams by looking at the first Stream Instance. Then, we will create a list of lists containing the temperature value of each city, together with their corresponding time. Then, we can use the function **plot_multiple_stock** created for this tutorial."
   ]
  },
  {
   "cell_type": "code",
   "execution_count": 11,
   "metadata": {
    "collapsed": false,
    "deletable": true,
    "editable": true,
    "scrolled": false
   },
   "outputs": [
    {
     "data": {
      "text/html": [
       "\n",
       "     <html>\n",
       "        <head>\n",
       "        <title>Temperatures in Asia</title>\n",
       "           <script src=\"./scripts/jquery.min.js\"></script>\n",
       "           <script src=\"./scripts/highstock.js\"></script>\n",
       "           <script src=\"./scripts/exporting.js\"></script>\n",
       "        </head>\n",
       "        <body>\n",
       "\n",
       "        <div id=\"container3763\" style=\"width: 800px; height: 600px; margin: 125 auto\"></div>\n",
       "\n",
       "        <script language=\"JavaScript\">\n",
       "            var seriesOptions = [{'data': [[948844800000.0, 20.1], [951523200000.0, 21.9], [954028800000.0, 29.7], [956707200000.0, 38.4], [959299200000.0, 40.0], [961977600000.0, 36.6], [964569600000.0, 33.7], [967248000000.0, 34.2], [969926400000.0, 34.7], [972518400000.0, 34.4], [975196800000.0, 28.8], [977788800000.0, 24.4], [980467200000.0, 19.7], [983145600000.0, 25.4], [985564800000.0, 30.4], [988243200000.0, 35.9], [990835200000.0, 38.6], [993513600000.0, 35.6], [996105600000.0, 34.7], [998784000000.0, 35.1], [1001462400000.0, 36.1], [1004054400000.0, 34.3], [1006732800000.0, 29.1], [1009324800000.0, 23.3], [1012003200000.0, 20.8], [1014681600000.0, 24.2], [1017100800000.0, 31.1], [1019779200000.0, 38.3], [1022371200000.0, 42.4], [1025049600000.0, 39.1], [1027641600000.0, 39.3], [1030320000000.0, 34.6], [1032998400000.0, 32.5], [1035590400000.0, 33.2], [1038268800000.0, 28.0], [1040860800000.0, 23.6], [1043539200000.0, 17.7], [1046217600000.0, 23.5], [1048636800000.0, 29.6], [1051315200000.0, 37.8], [1053907200000.0, 39.8], [1056585600000.0, 39.9], [1059177600000.0, 34.0], [1061856000000.0, 33.8], [1064534400000.0, 32.7], [1067126400000.0, 33.0], [1069804800000.0, 28.0], [1072396800000.0, 20.9], [1075075200000.0, 18.7], [1077753600000.0, 25.7], [1080259200000.0, 33.6], [1082937600000.0, 37.8], [1085529600000.0, 39.4], [1088208000000.0, 37.6], [1090800000000.0, 37.7], [1093478400000.0, 33.7], [1096156800000.0, 35.4], [1098748800000.0, 31.1], [1101427200000.0, 28.6], [1104019200000.0, 23.0], [1106697600000.0, 20.1], [1109376000000.0, 23.5], [1111795200000.0, 30.5], [1114473600000.0, 36.4], [1117065600000.0, 39.6], [1119744000000.0, 40.3], [1122336000000.0, 34.2], [1125014400000.0, 35.8], [1127692800000.0, 33.8], [1130284800000.0, 33.1], [1132963200000.0, 29.5], [1135555200000.0, 22.6], [1138233600000.0, 22.5], [1140912000000.0, 29.6], [1143331200000.0, 29.8], [1146009600000.0, 37.6], [1148601600000.0, 39.9], [1151280000000.0, 38.0], [1153872000000.0, 35.0], [1156550400000.0, 35.3], [1159228800000.0, 34.5], [1161820800000.0, 33.5], [1164499200000.0, 28.7], [1167091200000.0, 23.1], [1169769600000.0, 21.7], [1172448000000.0, 24.1], [1174867200000.0, 29.0], [1177545600000.0, 38.3], [1180137600000.0, 38.8], [1182816000000.0, 38.0], [1185408000000.0, 35.9], [1188086400000.0, 34.9], [1190764800000.0, 34.6], [1193356800000.0, 33.3], [1196035200000.0, 28.8], [1198627200000.0, 22.7], [1201305600000.0, 20.8], [1203984000000.0, 23.9], [1206489600000.0, 33.5], [1209168000000.0, 36.4], [1211760000000.0, 36.9], [1214438400000.0, 35.3], [1217030400000.0, 35.4], [1219708800000.0, 33.9], [1222387200000.0, 34.1], [1224979200000.0, 34.2], [1227657600000.0, 28.8], [1230249600000.0, 24.2], [1232928000000.0, 22.1], [1235606400000.0, 26.3], [1238025600000.0, 31.9], [1240704000000.0, 37.4], [1243296000000.0, 40.0], [1245974400000.0, 41.1], [1248566400000.0, 37.2], [1251244800000.0, 35.5], [1253923200000.0, 33.9], [1256515200000.0, 33.0], [1259193600000.0, 27.2], [1261785600000.0, 23.6], [1264464000000.0, 19.2], [1267142400000.0, 25.7], [1269561600000.0, 34.1], [1272240000000.0, 40.2], [1274832000000.0, 41.8], [1277510400000.0, 40.4], [1280102400000.0, 35.6], [1282780800000.0, 33.9], [1285459200000.0, 32.7], [1288051200000.0, 33.0], [1290729600000.0, 27.6], [1293321600000.0, 22.3], [1296000000000.0, 20.0], [1298678400000.0, 24.8], [1301097600000.0, 30.4], [1303776000000.0, 36.0], [1306368000000.0, 40.1], [1309046400000.0, 38.0], [1311638400000.0, 35.7], [1314316800000.0, 34.6], [1316995200000.0, 34.3], [1319587200000.0, 33.4], [1322265600000.0, 29.3], [1324857600000.0, 24.0], [1327536000000.0, 20.3], [1330214400000.0, 24.3], [1332720000000.0, 31.6], [1335398400000.0, 35.8], [1337990400000.0, 41.2], [1340668800000.0, 42.1], [1343260800000.0, 36.9], [1345939200000.0, 33.6], [1348617600000.0, 34.3], [1351209600000.0, 32.6]], 'name': 'NewDelhiMax'}, {'data': [[948844800000.0, 8.1], [951523200000.0, 9.1], [954028800000.0, 14.4], [956707200000.0, 22.4], [959299200000.0, 27.7], [961977600000.0, 27.0], [964569600000.0, 26.6], [967248000000.0, 26.7], [969926400000.0, 25.2], [972518400000.0, 20.1], [975196800000.0, 13.6], [977788800000.0, 7.2], [980467200000.0, 6.7], [983145600000.0, 9.9], [985564800000.0, 14.9], [988243200000.0, 20.7], [990835200000.0, 25.9], [993513600000.0, 26.4], [996105600000.0, 27.4], [998784000000.0, 27.0], [1001462400000.0, 24.6], [1004054400000.0, 19.9], [1006732800000.0, 12.7], [1009324800000.0, 8.9], [1012003200000.0, 7.6], [1014681600000.0, 10.1], [1017100800000.0, 15.9], [1019779200000.0, 22.4], [1022371200000.0, 27.4], [1025049600000.0, 28.3], [1027641600000.0, 30.5], [1030320000000.0, 27.1], [1032998400000.0, 23.4], [1035590400000.0, 19.9], [1038268800000.0, 13.2], [1040860800000.0, 8.7], [1043539200000.0, 6.5], [1046217600000.0, 11.1], [1048636800000.0, 15.3], [1051315200000.0, 22.0], [1053907200000.0, 25.1], [1056585600000.0, 28.7], [1059177600000.0, 26.3], [1061856000000.0, 26.7], [1064534400000.0, 25.2], [1067126400000.0, 18.1], [1069804800000.0, 11.7], [1072396800000.0, 9.7], [1075075200000.0, 8.2], [1077753600000.0, 10.6], [1080259200000.0, 17.2], [1082937600000.0, 22.6], [1085529600000.0, 25.8], [1088208000000.0, 26.4], [1090800000000.0, 28.4], [1093478400000.0, 26.2], [1096156800000.0, 24.9], [1098748800000.0, 19.0], [1101427200000.0, 12.7], [1104019200000.0, 9.6], [1106697600000.0, 7.8], [1109376000000.0, 10.9], [1111795200000.0, 17.0], [1114473600000.0, 20.4], [1117065600000.0, 24.7], [1119744000000.0, 28.0], [1122336000000.0, 26.8], [1125014400000.0, 27.1], [1127692800000.0, 24.9], [1130284800000.0, 18.7], [1132963200000.0, 13.5], [1135555200000.0, 5.9], [1138233600000.0, 7.2], [1140912000000.0, 13.7], [1143331200000.0, 15.2], [1146009600000.0, 20.0], [1148601600000.0, 24.5], [1151280000000.0, 24.4], [1153872000000.0, 26.9], [1156550400000.0, 26.5], [1159228800000.0, 24.6], [1161820800000.0, 20.5], [1164499200000.0, 13.8], [1167091200000.0, 9.1], [1169769600000.0, 7.0], [1172448000000.0, 11.9], [1174867200000.0, 15.5], [1177545600000.0, 23.0], [1180137600000.0, 25.2], [1182816000000.0, 28.3], [1185408000000.0, 27.1], [1188086400000.0, 27.1], [1190764800000.0, 24.9], [1193356800000.0, 17.6], [1196035200000.0, 12.6], [1198627200000.0, 8.1], [1201305600000.0, 6.5], [1203984000000.0, 8.8], [1206489600000.0, 17.2], [1209168000000.0, 21.2], [1211760000000.0, 24.3], [1214438400000.0, 26.4], [1217030400000.0, 26.9], [1219708800000.0, 26.3], [1222387200000.0, 24.1], [1224979200000.0, 20.8], [1227657600000.0, 13.0], [1230249600000.0, 10.2], [1232928000000.0, 9.3], [1235606400000.0, 11.3], [1238025600000.0, 16.2], [1240704000000.0, 22.0], [1243296000000.0, 25.9], [1245974400000.0, 28.3], [1248566400000.0, 27.7], [1251244800000.0, 27.0], [1253923200000.0, 25.0], [1256515200000.0, 18.9], [1259193600000.0, 13.4], [1261785600000.0, 8.8], [1264464000000.0, 8.3], [1267142400000.0, 11.7], [1269561600000.0, 18.6], [1272240000000.0, 24.2], [1274832000000.0, 27.6], [1277510400000.0, 28.4], [1280102400000.0, 27.4], [1282780800000.0, 26.7], [1285459200000.0, 24.5], [1288051200000.0, 21.0], [1290729600000.0, 15.4], [1293321600000.0, 7.9], [1296000000000.0, 6.5], [1298678400000.0, 11.0], [1301097600000.0, 16.2], [1303776000000.0, 20.7], [1306368000000.0, 26.6], [1309046400000.0, 26.9], [1311638400000.0, 27.2], [1314316800000.0, 26.6], [1316995200000.0, 25.3], [1319587200000.0, 20.1], [1322265600000.0, 14.9], [1324857600000.0, 8.0], [1327536000000.0, 7.5], [1330214400000.0, 9.9], [1332720000000.0, 15.2], [1335398400000.0, 21.6], [1337990400000.0, 26.4], [1340668800000.0, 30.4], [1343260800000.0, 28.3], [1345939200000.0, 26.3], [1348617600000.0, 25.0], [1351209600000.0, 18.5]], 'name': 'NewDelhiMin'}, {'data': [[948844800000.0, 14.3], [951523200000.0, 13.3], [954028800000.0, 17.7], [956707200000.0, 21.7], [959299200000.0, 24.6], [961977600000.0, 26.4], [964569600000.0, 26.9], [967248000000.0, 26.9], [969926400000.0, 25.6], [972518400000.0, 23.9], [975196800000.0, 18.2], [977788800000.0, 15.6], [980467200000.0, 14.6], [983145600000.0, 14.1], [985564800000.0, 18.4], [988243200000.0, 20.7], [990835200000.0, 25.0], [993513600000.0, 25.8], [996105600000.0, 26.1], [998784000000.0, 27.1], [1001462400000.0, 26.1], [1004054400000.0, 24.4], [1006732800000.0, 18.2], [1009324800000.0, 14.8], [1012003200000.0, 13.6], [1014681600000.0, 15.9], [1017100800000.0, 19.6], [1019779200000.0, 22.6], [1022371200000.0, 24.9], [1025049600000.0, 27.0], [1027641600000.0, 26.8], [1030320000000.0, 26.3], [1032998400000.0, 25.0], [1035590400000.0, 22.8], [1038268800000.0, 18.3], [1040860800000.0, 15.1], [1043539200000.0, 12.3], [1046217600000.0, 16.4], [1048636800000.0, 17.1], [1051315200000.0, 22.1], [1053907200000.0, 25.4], [1056585600000.0, 25.9], [1059177600000.0, 27.5], [1061856000000.0, 26.6], [1064534400000.0, 25.9], [1067126400000.0, 22.9], [1069804800000.0, 19.2], [1072396800000.0, 13.8], [1075075200000.0, 12.8], [1077753600000.0, 14.5], [1080259200000.0, 17.2], [1082937600000.0, 21.3], [1085529600000.0, 24.1], [1088208000000.0, 27.0], [1090800000000.0, 26.5], [1093478400000.0, 26.4], [1096156800000.0, 25.4], [1098748800000.0, 21.9], [1101427200000.0, 20.0], [1104019200000.0, 15.4], [1106697600000.0, 12.5], [1109376000000.0, 13.8], [1111795200000.0, 14.8], [1114473600000.0, 20.9], [1117065600000.0, 25.2], [1119744000000.0, 25.8], [1122336000000.0, 26.8], [1125014400000.0, 26.2], [1127692800000.0, 26.4], [1130284800000.0, 24.0], [1132963200000.0, 24.0], [1135555200000.0, 14.0], [1138233600000.0, 14.0], [1140912000000.0, 15.6], [1143331200000.0, 16.5], [1146009600000.0, 21.9], [1148601600000.0, 24.2], [1151280000000.0, 26.5], [1153872000000.0, 27.3], [1156550400000.0, 26.4], [1159228800000.0, 24.6], [1161820800000.0, 24.5], [1164499200000.0, 20.8], [1167091200000.0, 15.0], [1169769600000.0, 13.3], [1172448000000.0, 17.5], [1174867200000.0, 18.5], [1177545600000.0, 19.5], [1180137600000.0, 24.4], [1182816000000.0, 26.6], [1185408000000.0, 27.8], [1188086400000.0, 26.4], [1190764800000.0, 26.1], [1193356800000.0, 23.8], [1196035200000.0, 18.2], [1198627200000.0, 17.0], [1201305600000.0, 12.8], [1203984000000.0, 10.6], [1206489600000.0, 17.7], [1209168000000.0, 21.6], [1211760000000.0, 23.9], [1214438400000.0, 25.0], [1217030400000.0, 26.6], [1219708800000.0, 26.1], [1222387200000.0, 26.6], [1224979200000.0, 24.8], [1227657600000.0, 19.0], [1230249600000.0, 14.9], [1232928000000.0, 11.8], [1235606400000.0, 18.6], [1238025600000.0, 17.6], [1240704000000.0, 20.2], [1243296000000.0, 23.7], [1245974400000.0, 26.4], [1248566400000.0, 27.1], [1251244800000.0, 27.5], [1253923200000.0, 27.2], [1256515200000.0, 24.5], [1259193600000.0, 17.2], [1261785600000.0, 15.0], [1264464000000.0, 14.5], [1267142400000.0, 15.7], [1269561600000.0, 17.7], [1272240000000.0, 19.4], [1274832000000.0, 24.0], [1277510400000.0, 25.9], [1280102400000.0, 27.2], [1282780800000.0, 26.8], [1285459200000.0, 25.8], [1288051200000.0, 23.0], [1290729600000.0, 18.8], [1293321600000.0, 14.7], [1296000000000.0, 10.1], [1298678400000.0, 13.6], [1301097600000.0, 15.1], [1303776000000.0, 20.5], [1306368000000.0, 23.9], [1309046400000.0, 26.6], [1311638400000.0, 27.1], [1314316800000.0, 27.6], [1316995200000.0, 26.4], [1319587200000.0, 23.0], [1322265600000.0, 21.2], [1324857600000.0, 13.8], [1327536000000.0, 12.3], [1330214400000.0, 13.5], [1332720000000.0, 17.0], [1335398400000.0, 22.4], [1337990400000.0, 26.3], [1340668800000.0, 26.9], [1343260800000.0, 26.8], [1345939200000.0, 27.2], [1348617600000.0, 25.9], [1351209600000.0, 23.7]], 'name': 'HongKongMin'}, {'data': [[948844800000.0, 23.5], [951523200000.0, 23.6], [954028800000.0, 23.9], [956707200000.0, 24.2], [959299200000.0, 24.5], [961977600000.0, 24.0], [964569600000.0, 23.7], [967248000000.0, 23.5], [969926400000.0, 23.8], [972518400000.0, 23.7], [975196800000.0, 24.0], [977788800000.0, 24.0], [980467200000.0, 23.6], [983145600000.0, 23.7], [985564800000.0, 24.3], [988243200000.0, 24.2], [990835200000.0, 24.7], [993513600000.0, 24.0], [996105600000.0, 23.8], [998784000000.0, 24.1], [1001462400000.0, 23.8], [1004054400000.0, 23.9], [1006732800000.0, 23.9], [1009324800000.0, 23.7], [1012003200000.0, 23.3], [1014681600000.0, 24.0], [1017100800000.0, 24.4], [1019779200000.0, 24.2], [1022371200000.0, 25.2], [1025049600000.0, 24.5], [1027641600000.0, 24.4], [1030320000000.0, 24.2], [1032998400000.0, 23.6], [1035590400000.0, 24.0], [1038268800000.0, 23.9], [1040860800000.0, 24.0], [1043539200000.0, 24.1], [1046217600000.0, 24.0], [1048636800000.0, 24.4], [1051315200000.0, 24.5], [1053907200000.0, 24.8], [1056585600000.0, 24.3], [1059177600000.0, 23.9], [1061856000000.0, 24.4], [1064534400000.0, 23.9], [1067126400000.0, 23.7], [1069804800000.0, 24.0], [1072396800000.0, 23.6], [1075075200000.0, 23.8], [1077753600000.0, 23.8], [1080259200000.0, 24.4], [1082937600000.0, 24.4], [1085529600000.0, 24.6], [1088208000000.0, 24.1], [1090800000000.0, 22.9], [1093478400000.0, 23.8], [1096156800000.0, 23.4], [1098748800000.0, 23.6], [1101427200000.0, 23.5], [1104019200000.0, 23.8], [1106697600000.0, 23.4], [1109376000000.0, 24.2], [1111795200000.0, 24.5], [1114473600000.0, 24.6], [1117065600000.0, 24.4], [1119744000000.0, 24.6], [1122336000000.0, 23.6], [1125014400000.0, 23.9], [1127692800000.0, 24.0], [1130284800000.0, 23.6], [1132963200000.0, 23.4], [1135555200000.0, 23.6], [1138233600000.0, 23.2], [1140912000000.0, 23.3], [1143331200000.0, 24.1], [1146009600000.0, 24.0], [1148601600000.0, 23.9], [1151280000000.0, 23.7], [1153872000000.0, 24.1], [1156550400000.0, 23.7], [1159228800000.0, 23.4], [1161820800000.0, 23.8], [1164499200000.0, 23.2], [1167091200000.0, 24.1], [1169769600000.0, 23.7], [1172448000000.0, 23.3], [1174867200000.0, 23.9], [1177545600000.0, 23.8], [1180137600000.0, 24.4], [1182816000000.0, 24.2], [1185408000000.0, 23.8], [1188086400000.0, 23.6], [1190764800000.0, 23.7], [1193356800000.0, 23.6], [1196035200000.0, 23.5], [1198627200000.0, 23.3], [1201305600000.0, 23.3], [1203984000000.0, 23.0], [1206489600000.0, 23.2], [1209168000000.0, 23.7], [1211760000000.0, 24.4], [1214438400000.0, 23.8], [1217030400000.0, 23.6], [1219708800000.0, 23.9], [1222387200000.0, 23.4], [1224979200000.0, 23.9], [1227657600000.0, 23.9], [1230249600000.0, 23.3], [1232928000000.0, 23.1], [1235606400000.0, 23.4], [1238025600000.0, 23.4], [1240704000000.0, 24.3], [1243296000000.0, 24.7], [1245974400000.0, 24.9], [1248566400000.0, 24.2], [1251244800000.0, 24.2], [1253923200000.0, 24.2], [1256515200000.0, 24.2], [1259193600000.0, 23.8], [1261785600000.0, 23.8], [1264464000000.0, 23.6], [1267142400000.0, 24.4], [1269561600000.0, 24.5], [1272240000000.0, 25.0], [1274832000000.0, 25.7], [1277510400000.0, 25.4], [1280102400000.0, 24.6], [1282780800000.0, 25.3], [1285459200000.0, 24.6], [1288051200000.0, 25.1], [1290729600000.0, 24.9], [1293321600000.0, 24.2], [1296000000000.0, 24.2], [1298678400000.0, 24.5], [1301097600000.0, 24.3], [1303776000000.0, 25.0], [1306368000000.0, 25.3], [1309046400000.0, 25.2], [1311638400000.0, 25.0], [1314316800000.0, 24.6], [1316995200000.0, 24.7], [1319587200000.0, 24.9], [1322265600000.0, 24.8], [1324857600000.0, 24.6], [1327536000000.0, 24.5], [1330214400000.0, 24.5], [1332720000000.0, 24.7], [1335398400000.0, 25.1], [1337990400000.0, 24.9], [1340668800000.0, 24.9], [1343260800000.0, 24.6], [1345939200000.0, 24.5], [1348617600000.0, 24.6], [1351209600000.0, 24.5]], 'name': 'KualaLumpurMin'}, {'data': [[948844800000.0, 11.2], [951523200000.0, 9.9], [954028800000.0, 13.5], [956707200000.0, 18.7], [959299200000.0, 24.0], [961977600000.0, 26.1], [964569600000.0, 31.6], [967248000000.0, 32.4], [969926400000.0, 28.9], [972518400000.0, 21.9], [975196800000.0, 16.7], [977788800000.0, 12.6], [980467200000.0, 8.6], [983145600000.0, 10.7], [985564800000.0, 14.4], [988243200000.0, 20.4], [990835200000.0, 23.0], [993513600000.0, 26.6], [996105600000.0, 33.0], [998784000000.0, 30.0], [1001462400000.0, 26.4], [1004054400000.0, 22.5], [1006732800000.0, 16.7], [1009324800000.0, 12.0], [1012003200000.0, 11.5], [1014681600000.0, 11.9], [1017100800000.0, 16.5], [1019779200000.0, 20.3], [1022371200000.0, 22.3], [1025049600000.0, 25.3], [1027641600000.0, 31.7], [1030320000000.0, 32.1], [1032998400000.0, 26.2], [1035590400000.0, 22.6], [1038268800000.0, 15.2], [1040860800000.0, 10.4], [1043539200000.0, 9.3], [1046217600000.0, 9.9], [1048636800000.0, 12.7], [1051315200000.0, 19.2], [1053907200000.0, 22.4], [1056585600000.0, 26.6], [1059177600000.0, 26.0], [1061856000000.0, 29.5], [1064534400000.0, 28.1], [1067126400000.0, 21.4], [1069804800000.0, 17.4], [1072396800000.0, 13.2], [1075075200000.0, 10.1], [1077753600000.0, 12.9], [1080259200000.0, 14.0], [1082937600000.0, 21.3], [1085529600000.0, 23.7], [1088208000000.0, 27.5], [1090800000000.0, 33.1], [1093478400000.0, 31.0], [1096156800000.0, 28.7], [1098748800000.0, 20.7], [1101427200000.0, 19.0], [1104019200000.0, 13.4], [1106697600000.0, 10.0], [1109376000000.0, 9.9], [1111795200000.0, 13.1], [1114473600000.0, 19.6], [1117065600000.0, 21.9], [1119744000000.0, 26.7], [1122336000000.0, 29.1], [1125014400000.0, 31.8], [1127692800000.0, 28.2], [1130284800000.0, 22.3], [1132963200000.0, 17.0], [1135555200000.0, 10.2], [1138233600000.0, 8.5], [1140912000000.0, 10.5], [1143331200000.0, 14.0], [1146009600000.0, 17.5], [1148601600000.0, 22.7], [1151280000000.0, 25.4], [1153872000000.0, 28.6], [1156550400000.0, 31.1], [1159228800000.0, 27.1], [1161820800000.0, 22.9], [1164499200000.0, 17.9], [1167091200000.0, 12.5], [1169769600000.0, 10.9], [1172448000000.0, 12.8], [1174867200000.0, 15.0], [1177545600000.0, 17.9], [1180137600000.0, 24.0], [1182816000000.0, 27.1], [1185408000000.0, 27.4], [1188086400000.0, 33.0], [1190764800000.0, 28.5], [1193356800000.0, 22.2], [1196035200000.0, 16.6], [1198627200000.0, 12.6], [1201305600000.0, 9.4], [1203984000000.0, 9.6], [1206489600000.0, 14.9], [1209168000000.0, 18.4], [1211760000000.0, 22.0], [1214438400000.0, 24.6], [1217030400000.0, 30.9], [1219708800000.0, 30.7], [1222387200000.0, 27.7], [1224979200000.0, 22.6], [1227657600000.0, 16.4], [1230249600000.0, 13.7], [1232928000000.0, 10.2], [1235606400000.0, 11.5], [1238025600000.0, 13.7], [1240704000000.0, 20.2], [1243296000000.0, 23.6], [1245974400000.0, 25.8], [1248566400000.0, 29.3], [1251244800000.0, 30.1], [1253923200000.0, 26.5], [1256515200000.0, 22.3], [1259193600000.0, 17.0], [1261785600000.0, 12.4], [1264464000000.0, 11.0], [1267142400000.0, 9.9], [1269561600000.0, 13.2], [1272240000000.0, 16.6], [1274832000000.0, 23.0], [1277510400000.0, 27.5], [1280102400000.0, 31.6], [1282780800000.0, 33.5], [1285459200000.0, 29.0], [1288051200000.0, 21.8], [1290729600000.0, 17.2], [1293321600000.0, 13.7], [1296000000000.0, 9.1], [1298678400000.0, 11.2], [1301097600000.0, 12.3], [1303776000000.0, 18.9], [1306368000000.0, 22.2], [1309046400000.0, 26.0], [1311638400000.0, 30.9], [1314316800000.0, 31.2], [1316995200000.0, 28.8], [1319587200000.0, 23.0], [1322265600000.0, 18.3], [1324857600000.0, 11.1], [1327536000000.0, 8.3], [1330214400000.0, 9.1], [1332720000000.0, 12.5], [1335398400000.0, 18.5], [1337990400000.0, 23.6], [1340668800000.0, 24.8], [1343260800000.0, 30.1], [1345939200000.0, 33.1], [1348617600000.0, 29.8], [1351209600000.0, 23.0]], 'name': 'TokyoMax'}, {'data': [[948844800000.0, 32.2], [951523200000.0, 32.9], [954028800000.0, 33.3], [956707200000.0, 33.0], [959299200000.0, 33.9], [961977600000.0, 32.6], [964569600000.0, 33.1], [967248000000.0, 32.3], [969926400000.0, 32.5], [972518400000.0, 32.9], [975196800000.0, 32.3], [977788800000.0, 32.6], [980467200000.0, 32.2], [983145600000.0, 32.3], [985564800000.0, 33.5], [988243200000.0, 33.1], [990835200000.0, 33.6], [993513600000.0, 33.4], [996105600000.0, 33.0], [998784000000.0, 32.9], [1001462400000.0, 33.1], [1004054400000.0, 32.7], [1006732800000.0, 32.5], [1009324800000.0, 32.5], [1012003200000.0, 33.4], [1014681600000.0, 34.6], [1017100800000.0, 34.6], [1019779200000.0, 33.9], [1022371200000.0, 34.4], [1025049600000.0, 33.4], [1027641600000.0, 33.5], [1030320000000.0, 33.2], [1032998400000.0, 32.8], [1035590400000.0, 33.2], [1038268800000.0, 32.8], [1040860800000.0, 33.3], [1043539200000.0, 32.7], [1046217600000.0, 33.3], [1048636800000.0, 34.3], [1051315200000.0, 33.6], [1053907200000.0, 34.3], [1056585600000.0, 33.9], [1059177600000.0, 32.9], [1061856000000.0, 33.6], [1064534400000.0, 32.8], [1067126400000.0, 32.7], [1069804800000.0, 32.9], [1072396800000.0, 32.4], [1075075200000.0, 33.6], [1077753600000.0, 33.7], [1080259200000.0, 33.9], [1082937600000.0, 34.0], [1085529600000.0, 34.0], [1088208000000.0, 33.6], [1090800000000.0, 31.9], [1093478400000.0, 32.9], [1096156800000.0, 33.0], [1098748800000.0, 32.5], [1101427200000.0, 32.6], [1104019200000.0, 32.2], [1106697600000.0, 33.4], [1109376000000.0, 34.7], [1111795200000.0, 34.8], [1114473600000.0, 34.0], [1117065600000.0, 33.1], [1119744000000.0, 33.7], [1122336000000.0, 32.3], [1125014400000.0, 32.9], [1127692800000.0, 33.8], [1130284800000.0, 32.0], [1132963200000.0, 32.3], [1135555200000.0, 31.4], [1138233600000.0, 31.7], [1140912000000.0, 33.0], [1143331200000.0, 33.6], [1146009600000.0, 33.1], [1148601600000.0, 32.7], [1151280000000.0, 32.3], [1153872000000.0, 32.4], [1156550400000.0, 32.1], [1159228800000.0, 31.9], [1161820800000.0, 32.4], [1164499200000.0, 32.2], [1167091200000.0, 32.1], [1169769600000.0, 31.8], [1172448000000.0, 32.7], [1174867200000.0, 32.8], [1177545600000.0, 33.2], [1180137600000.0, 33.3], [1182816000000.0, 32.9], [1185408000000.0, 32.3], [1188086400000.0, 32.1], [1190764800000.0, 32.4], [1193356800000.0, 31.6], [1196035200000.0, 31.5], [1198627200000.0, 31.4], [1201305600000.0, 32.4], [1203984000000.0, 32.7], [1206489600000.0, 32.0], [1209168000000.0, 32.5], [1211760000000.0, 32.9], [1214438400000.0, 32.1], [1217030400000.0, 31.7], [1219708800000.0, 32.1], [1222387200000.0, 32.1], [1224979200000.0, 32.2], [1227657600000.0, 31.8], [1230249600000.0, 31.4], [1232928000000.0, 31.9], [1235606400000.0, 32.4], [1238025600000.0, 32.4], [1240704000000.0, 33.5], [1243296000000.0, 34.2], [1245974400000.0, 33.9], [1248566400000.0, 33.0], [1251244800000.0, 32.8], [1253923200000.0, 32.5], [1256515200000.0, 32.9], [1259193600000.0, 31.8], [1261785600000.0, 32.2], [1264464000000.0, 32.9], [1267142400000.0, 34.0], [1269561600000.0, 34.2], [1272240000000.0, 34.9], [1274832000000.0, 34.9], [1277510400000.0, 34.0], [1280102400000.0, 33.6], [1282780800000.0, 33.9], [1285459200000.0, 33.4], [1288051200000.0, 34.3], [1290729600000.0, 33.4], [1293321600000.0, 32.1], [1296000000000.0, 31.8], [1298678400000.0, 34.1], [1301097600000.0, 33.5], [1303776000000.0, 33.9], [1306368000000.0, 34.4], [1309046400000.0, 33.7], [1311638400000.0, 33.4], [1314316800000.0, 33.4], [1316995200000.0, 33.4], [1319587200000.0, 33.4], [1322265600000.0, 32.9], [1324857600000.0, 32.4], [1327536000000.0, 33.6], [1330214400000.0, 34.0], [1332720000000.0, 33.4], [1335398400000.0, 34.1], [1337990400000.0, 34.1], [1340668800000.0, 34.4], [1343260800000.0, 33.0], [1345939200000.0, 33.3], [1348617600000.0, 33.0], [1351209600000.0, 33.0]], 'name': 'KualaLumpurMax'}, {'data': [[948844800000.0, 19.5], [951523200000.0, 17.8], [954028800000.0, 22.9], [956707200000.0, 27.3], [959299200000.0, 30.5], [961977600000.0, 32.4], [964569600000.0, 33.2], [967248000000.0, 32.8], [969926400000.0, 32.1], [972518400000.0, 29.9], [975196800000.0, 24.3], [977788800000.0, 22.3], [980467200000.0, 21.2], [983145600000.0, 21.0], [985564800000.0, 24.8], [988243200000.0, 26.3], [990835200000.0, 31.1], [993513600000.0, 31.7], [996105600000.0, 32.0], [998784000000.0, 33.5], [1001462400000.0, 32.1], [1004054400000.0, 30.4], [1006732800000.0, 25.6], [1009324800000.0, 21.1], [1012003200000.0, 20.4], [1014681600000.0, 22.4], [1017100800000.0, 25.5], [1019779200000.0, 29.4], [1022371200000.0, 31.6], [1025049600000.0, 33.0], [1027641600000.0, 32.9], [1030320000000.0, 32.8], [1032998400000.0, 31.0], [1035590400000.0, 28.4], [1038268800000.0, 24.9], [1040860800000.0, 21.2], [1043539200000.0, 19.9], [1046217600000.0, 22.9], [1048636800000.0, 23.2], [1051315200000.0, 28.4], [1053907200000.0, 31.4], [1056585600000.0, 31.6], [1059177600000.0, 34.3], [1061856000000.0, 33.0], [1064534400000.0, 32.0], [1067126400000.0, 29.6], [1069804800000.0, 25.8], [1072396800000.0, 21.4], [1075075200000.0, 19.0], [1077753600000.0, 20.7], [1080259200000.0, 22.9], [1082937600000.0, 27.6], [1085529600000.0, 30.6], [1088208000000.0, 33.3], [1090800000000.0, 32.7], [1093478400000.0, 32.8], [1096156800000.0, 31.9], [1098748800000.0, 29.1], [1101427200000.0, 26.6], [1104019200000.0, 22.5], [1106697600000.0, 18.9], [1109376000000.0, 19.7], [1111795200000.0, 21.3], [1114473600000.0, 26.8], [1117065600000.0, 30.8], [1119744000000.0, 31.4], [1122336000000.0, 33.2], [1125014400000.0, 32.5], [1127692800000.0, 32.9], [1130284800000.0, 30.7], [1132963200000.0, 30.5], [1135555200000.0, 20.9], [1138233600000.0, 20.1], [1140912000000.0, 21.8], [1143331200000.0, 22.6], [1146009600000.0, 28.1], [1148601600000.0, 29.7], [1151280000000.0, 31.4], [1153872000000.0, 33.1], [1156550400000.0, 32.6], [1159228800000.0, 30.9], [1161820800000.0, 30.8], [1164499200000.0, 27.1], [1167091200000.0, 22.0], [1169769600000.0, 19.3], [1172448000000.0, 23.3], [1174867200000.0, 23.7], [1177545600000.0, 25.5], [1180137600000.0, 31.0], [1182816000000.0, 32.4], [1185408000000.0, 34.0], [1188086400000.0, 32.0], [1190764800000.0, 31.9], [1193356800000.0, 29.9], [1196035200000.0, 25.0], [1198627200000.0, 22.9], [1201305600000.0, 18.4], [1203984000000.0, 15.8], [1206489600000.0, 24.4], [1209168000000.0, 26.9], [1211760000000.0, 29.3], [1214438400000.0, 30.5], [1217030400000.0, 32.5], [1219708800000.0, 32.3], [1222387200000.0, 32.8], [1224979200000.0, 30.5], [1227657600000.0, 25.9], [1230249600000.0, 22.0], [1232928000000.0, 18.9], [1235606400000.0, 25.2], [1238025600000.0, 23.1], [1240704000000.0, 26.2], [1243296000000.0, 29.8], [1245974400000.0, 32.2], [1248566400000.0, 33.1], [1251244800000.0, 33.6], [1253923200000.0, 33.3], [1256515200000.0, 30.5], [1259193600000.0, 24.1], [1261785600000.0, 20.4], [1264464000000.0, 20.0], [1267142400000.0, 20.8], [1269561600000.0, 24.0], [1272240000000.0, 25.0], [1274832000000.0, 30.1], [1277510400000.0, 30.9], [1280102400000.0, 33.7], [1282780800000.0, 33.1], [1285459200000.0, 32.0], [1288051200000.0, 28.7], [1290729600000.0, 25.4], [1293321600000.0, 21.9], [1296000000000.0, 15.8], [1298678400000.0, 19.5], [1301097600000.0, 21.2], [1303776000000.0, 27.4], [1306368000000.0, 29.9], [1309046400000.0, 32.5], [1311638400000.0, 33.0], [1314316800000.0, 34.0], [1316995200000.0, 32.4], [1319587200000.0, 28.6], [1322265600000.0, 26.7], [1324857600000.0, 20.2], [1327536000000.0, 16.9], [1330214400000.0, 19.3], [1332720000000.0, 23.6], [1335398400000.0, 27.8], [1337990400000.0, 31.4], [1340668800000.0, 32.3], [1343260800000.0, 32.5], [1345939200000.0, 33.5], [1348617600000.0, 32.2], [1351209600000.0, 29.9]], 'name': 'HongKongMax'}, {'data': [[948844800000.0, 24.0], [951523200000.0, 23.6], [954028800000.0, 26.1], [956707200000.0, 26.3], [959299200000.0, 26.3], [961977600000.0, 26.0], [964569600000.0, 25.9], [967248000000.0, 25.6], [969926400000.0, 25.5], [972518400000.0, 25.2], [975196800000.0, 23.8], [977788800000.0, 24.1], [980467200000.0, 25.1], [983145600000.0, 25.5], [985564800000.0, 25.6], [988243200000.0, 28.3], [990835200000.0, 26.1], [993513600000.0, 26.3], [996105600000.0, 26.7], [998784000000.0, 26.3], [1001462400000.0, 25.5], [1004054400000.0, 25.2], [1006732800000.0, 22.8], [1009324800000.0, 23.1], [1012003200000.0, 23.2], [1014681600000.0, 25.7], [1017100800000.0, 26.4], [1019779200000.0, 27.3], [1022371200000.0, 25.8], [1025049600000.0, 25.5], [1027641600000.0, 25.8], [1030320000000.0, 24.5], [1032998400000.0, 24.2], [1035590400000.0, 23.2], [1038268800000.0, 24.1], [1040860800000.0, 25.1], [1043539200000.0, 23.0], [1046217600000.0, 25.4], [1048636800000.0, 25.7], [1051315200000.0, 27.6], [1053907200000.0, 26.8], [1056585600000.0, 26.4], [1059177600000.0, 25.8], [1061856000000.0, 26.1], [1064534400000.0, 25.4], [1067126400000.0, 25.4], [1069804800000.0, 25.4], [1072396800000.0, 22.4], [1075075200000.0, 23.5], [1077753600000.0, 23.9], [1080259200000.0, 26.6], [1082937600000.0, 27.4], [1085529600000.0, 26.4], [1088208000000.0, 25.7], [1090800000000.0, 26.0], [1093478400000.0, 26.0], [1096156800000.0, 25.7], [1098748800000.0, 25.8], [1101427200000.0, 25.8], [1104019200000.0, 22.2], [1106697600000.0, 23.1], [1109376000000.0, 25.6], [1111795200000.0, 25.4], [1114473600000.0, 26.8], [1117065600000.0, 27.3], [1119744000000.0, 27.1], [1122336000000.0, 26.2], [1125014400000.0, 26.3], [1127692800000.0, 25.7], [1130284800000.0, 25.4], [1132963200000.0, 25.3], [1135555200000.0, 22.8], [1138233600000.0, 23.5], [1140912000000.0, 25.5], [1143331200000.0, 26.5], [1146009600000.0, 27.1], [1148601600000.0, 26.8], [1151280000000.0, 26.2], [1153872000000.0, 26.7], [1156550400000.0, 26.3], [1159228800000.0, 25.5], [1161820800000.0, 25.7], [1164499200000.0, 26.0], [1167091200000.0, 23.1], [1169769600000.0, 23.4], [1172448000000.0, 24.3], [1174867200000.0, 27.3], [1177545600000.0, 26.9], [1180137600000.0, 26.1], [1182816000000.0, 26.2], [1185408000000.0, 25.7], [1188086400000.0, 26.0], [1190764800000.0, 25.7], [1193356800000.0, 25.6], [1196035200000.0, 23.5], [1198627200000.0, 24.4], [1201305600000.0, 23.5], [1203984000000.0, 24.5], [1206489600000.0, 26.1], [1209168000000.0, 26.8], [1211760000000.0, 25.9], [1214438400000.0, 25.6], [1217030400000.0, 25.5], [1219708800000.0, 25.5], [1222387200000.0, 25.2], [1224979200000.0, 25.1], [1227657600000.0, 23.8], [1230249600000.0, 21.7], [1232928000000.0, 20.7], [1235606400000.0, 25.1], [1238025600000.0, 26.2], [1240704000000.0, 26.0], [1243296000000.0, 25.7], [1245974400000.0, 26.1], [1248566400000.0, 25.7], [1251244800000.0, 25.6], [1253923200000.0, 25.2], [1256515200000.0, 24.9], [1259193600000.0, 23.6], [1261785600000.0, 23.7], [1264464000000.0, 24.3], [1267142400000.0, 26.7], [1269561600000.0, 26.6], [1272240000000.0, 28.3], [1274832000000.0, 27.9], [1277510400000.0, 26.7], [1280102400000.0, 26.1], [1282780800000.0, 25.4], [1285459200000.0, 25.4], [1288051200000.0, 24.9], [1290729600000.0, 24.5], [1293321600000.0, 23.7], [1296000000000.0, 22.5], [1298678400000.0, 25.0], [1301097600000.0, 23.8], [1303776000000.0, 25.9], [1306368000000.0, 26.0], [1309046400000.0, 26.4], [1311638400000.0, 25.5], [1314316800000.0, 25.5], [1316995200000.0, 25.6], [1319587200000.0, 25.0], [1322265600000.0, 25.6], [1324857600000.0, 22.5], [1327536000000.0, 24.9], [1330214400000.0, 25.6], [1332720000000.0, 27.1], [1335398400000.0, 27.6], [1337990400000.0, 27.2], [1340668800000.0, 26.5], [1343260800000.0, 25.8], [1345939200000.0, 25.6], [1348617600000.0, 25.1], [1351209600000.0, 25.5]], 'name': 'BangkokMin'}, {'data': [[948844800000.0, 32.8], [951523200000.0, 33.5], [954028800000.0, 34.2], [956707200000.0, 33.5], [959299200000.0, 34.0], [961977600000.0, 32.6], [964569600000.0, 32.5], [967248000000.0, 32.6], [969926400000.0, 32.8], [972518400000.0, 32.6], [975196800000.0, 32.6], [977788800000.0, 33.4], [980467200000.0, 33.3], [983145600000.0, 33.7], [985564800000.0, 33.1], [988243200000.0, 35.7], [990835200000.0, 33.5], [993513600000.0, 33.1], [996105600000.0, 33.1], [998784000000.0, 32.7], [1001462400000.0, 33.6], [1004054400000.0, 32.7], [1006732800000.0, 31.7], [1009324800000.0, 32.2], [1012003200000.0, 32.4], [1014681600000.0, 33.6], [1017100800000.0, 33.5], [1019779200000.0, 35.7], [1022371200000.0, 33.6], [1025049600000.0, 33.7], [1027641600000.0, 33.3], [1030320000000.0, 32.5], [1032998400000.0, 32.5], [1035590400000.0, 32.9], [1038268800000.0, 32.7], [1040860800000.0, 33.2], [1043539200000.0, 32.4], [1046217600000.0, 33.9], [1048636800000.0, 33.8], [1051315200000.0, 35.9], [1053907200000.0, 35.0], [1056585600000.0, 34.0], [1059177600000.0, 32.7], [1061856000000.0, 33.1], [1064534400000.0, 32.1], [1067126400000.0, 33.3], [1069804800000.0, 34.7], [1072396800000.0, 32.4], [1075075200000.0, 32.9], [1077753600000.0, 32.6], [1080259200000.0, 34.9], [1082937600000.0, 36.9], [1085529600000.0, 33.9], [1088208000000.0, 33.1], [1090800000000.0, 33.6], [1093478400000.0, 33.0], [1096156800000.0, 32.7], [1098748800000.0, 34.4], [1101427200000.0, 34.7], [1104019200000.0, 33.1], [1106697600000.0, 32.4], [1109376000000.0, 33.9], [1111795200000.0, 34.4], [1114473600000.0, 35.3], [1117065600000.0, 35.1], [1119744000000.0, 33.8], [1122336000000.0, 33.3], [1125014400000.0, 33.4], [1127692800000.0, 32.8], [1130284800000.0, 33.5], [1132963200000.0, 33.3], [1135555200000.0, 30.6], [1138233600000.0, 33.0], [1140912000000.0, 34.1], [1143331200000.0, 35.1], [1146009600000.0, 35.3], [1148601600000.0, 34.3], [1151280000000.0, 33.7], [1153872000000.0, 33.5], [1156550400000.0, 33.3], [1159228800000.0, 33.6], [1161820800000.0, 34.2], [1164499200000.0, 35.1], [1167091200000.0, 33.2], [1169769600000.0, 33.4], [1172448000000.0, 34.0], [1174867200000.0, 35.7], [1177545600000.0, 36.7], [1180137600000.0, 34.3], [1182816000000.0, 35.2], [1185408000000.0, 33.8], [1188086400000.0, 33.7], [1190764800000.0, 33.9], [1193356800000.0, 33.1], [1196035200000.0, 32.6], [1198627200000.0, 34.4], [1201305600000.0, 33.5], [1203984000000.0, 32.9], [1206489600000.0, 34.7], [1209168000000.0, 35.8], [1211760000000.0, 34.1], [1214438400000.0, 33.9], [1217030400000.0, 33.0], [1219708800000.0, 33.5], [1222387200000.0, 33.3], [1224979200000.0, 33.4], [1227657600000.0, 32.2], [1230249600000.0, 31.6], [1232928000000.0, 31.4], [1235606400000.0, 34.9], [1238025600000.0, 35.2], [1240704000000.0, 35.8], [1243296000000.0, 34.0], [1245974400000.0, 33.5], [1248566400000.0, 33.2], [1251244800000.0, 34.1], [1253923200000.0, 33.9], [1256515200000.0, 33.6], [1259193600000.0, 33.2], [1261785600000.0, 33.1], [1264464000000.0, 32.9], [1267142400000.0, 33.9], [1269561600000.0, 35.6], [1272240000000.0, 36.9], [1274832000000.0, 36.7], [1277510400000.0, 35.8], [1280102400000.0, 34.5], [1282780800000.0, 33.7], [1285459200000.0, 33.9], [1288051200000.0, 32.5], [1290729600000.0, 32.7], [1293321600000.0, 32.5], [1296000000000.0, 32.4], [1298678400000.0, 34.1], [1301097600000.0, 31.5], [1303776000000.0, 34.2], [1306368000000.0, 34.9], [1309046400000.0, 33.4], [1311638400000.0, 33.3], [1314316800000.0, 33.2], [1316995200000.0, 33.1], [1319587200000.0, 33.0], [1322265600000.0, 34.2], [1324857600000.0, 32.0], [1327536000000.0, 33.0], [1330214400000.0, 33.6], [1332720000000.0, 36.0], [1335398400000.0, 36.9], [1337990400000.0, 35.6], [1340668800000.0, 34.2], [1343260800000.0, 33.5], [1345939200000.0, 33.5], [1348617600000.0, 32.9], [1351209600000.0, 33.6]], 'name': 'BangkokMax'}, {'data': [[948844800000.0, 4.2], [951523200000.0, 2.4], [954028800000.0, 5.2], [956707200000.0, 10.7], [959299200000.0, 16.5], [961977600000.0, 19.5], [964569600000.0, 24.5], [967248000000.0, 25.4], [969926400000.0, 22.7], [972518400000.0, 16.2], [975196800000.0, 10.5], [977788800000.0, 5.2], [980467200000.0, 1.7], [983145600000.0, 2.8], [985564800000.0, 5.7], [988243200000.0, 11.3], [990835200000.0, 16.4], [993513600000.0, 20.3], [996105600000.0, 25.2], [998784000000.0, 23.6], [1001462400000.0, 20.4], [1004054400000.0, 15.5], [1006732800000.0, 9.5], [1009324800000.0, 4.9], [1012003200000.0, 3.4], [1014681600000.0, 4.4], [1017100800000.0, 8.1], [1019779200000.0, 12.4], [1022371200000.0, 15.3], [1025049600000.0, 18.6], [1027641600000.0, 25.1], [1030320000000.0, 24.8], [1032998400000.0, 20.4], [1035590400000.0, 15.5], [1038268800000.0, 8.2], [1040860800000.0, 4.1], [1043539200000.0, 2.0], [1046217600000.0, 3.2], [1048636800000.0, 5.1], [1051315200000.0, 11.5], [1053907200000.0, 15.5], [1056585600000.0, 20.2], [1059177600000.0, 20.1], [1061856000000.0, 23.1], [1064534400000.0, 21.0], [1067126400000.0, 14.6], [1069804800000.0, 11.5], [1072396800000.0, 5.7], [1075075200000.0, 3.1], [1077753600000.0, 4.3], [1080259200000.0, 5.7], [1082937600000.0, 11.7], [1085529600000.0, 16.1], [1088208000000.0, 20.3], [1090800000000.0, 25.0], [1093478400000.0, 24.1], [1096156800000.0, 22.2], [1098748800000.0, 14.8], [1101427200000.0, 12.7], [1104019200000.0, 6.6], [1106697600000.0, 2.6], [1109376000000.0, 2.5], [1111795200000.0, 5.0], [1114473600000.0, 10.7], [1117065600000.0, 14.1], [1119744000000.0, 20.2], [1122336000000.0, 22.6], [1125014400000.0, 25.1], [1127692800000.0, 21.8], [1130284800000.0, 16.6], [1132963200000.0, 9.6], [1135555200000.0, 2.9], [1138233600000.0, 2.0], [1140912000000.0, 3.3], [1143331200000.0, 5.9], [1146009600000.0, 10.1], [1148601600000.0, 15.7], [1151280000000.0, 20.1], [1153872000000.0, 23.3], [1156550400000.0, 24.8], [1159228800000.0, 20.7], [1161820800000.0, 16.7], [1164499200000.0, 11.0], [1167091200000.0, 6.7], [1169769600000.0, 4.6], [1172448000000.0, 5.0], [1174867200000.0, 6.8], [1177545600000.0, 9.9], [1180137600000.0, 16.0], [1182816000000.0, 20.0], [1185408000000.0, 21.8], [1188086400000.0, 25.9], [1190764800000.0, 22.4], [1193356800000.0, 16.1], [1196035200000.0, 10.2], [1198627200000.0, 5.6], [1201305600000.0, 2.7], [1203984000000.0, 1.9], [1206489600000.0, 7.2], [1209168000000.0, 11.4], [1211760000000.0, 15.4], [1214438400000.0, 18.4], [1217030400000.0, 24.2], [1219708800000.0, 24.1], [1222387200000.0, 21.7], [1224979200000.0, 16.4], [1227657600000.0, 10.0], [1230249600000.0, 6.0], [1232928000000.0, 3.5], [1235606400000.0, 4.4], [1238025600000.0, 6.3], [1240704000000.0, 11.9], [1243296000000.0, 16.9], [1245974400000.0, 19.8], [1248566400000.0, 23.5], [1251244800000.0, 23.8], [1253923200000.0, 20.2], [1256515200000.0, 16.0], [1259193600000.0, 10.1], [1261785600000.0, 6.2], [1264464000000.0, 3.0], [1267142400000.0, 3.0], [1269561600000.0, 5.1], [1272240000000.0, 8.6], [1274832000000.0, 15.4], [1277510400000.0, 20.5], [1280102400000.0, 25.0], [1282780800000.0, 27.0], [1285459200000.0, 22.3], [1288051200000.0, 16.5], [1290729600000.0, 10.0], [1293321600000.0, 6.2], [1296000000000.0, 1.5], [1298678400000.0, 3.2], [1301097600000.0, 4.0], [1303776000000.0, 10.3], [1306368000000.0, 15.0], [1309046400000.0, 19.9], [1311638400000.0, 24.5], [1314316800000.0, 24.6], [1316995200000.0, 22.0], [1319587200000.0, 16.5], [1322265600000.0, 11.7], [1324857600000.0, 4.2], [1327536000000.0, 1.8], [1330214400000.0, 2.2], [1332720000000.0, 3.5], [1335398400000.0, 11.0], [1337990400000.0, 16.1], [1340668800000.0, 18.6], [1343260800000.0, 23.5], [1345939200000.0, 26.3], [1348617600000.0, 23.3], [1351209600000.0, 16.2]], 'name': 'TokyoMin'}];\n",
       "\n",
       "            /**\n",
       "             * Create the chart when all data is loaded\n",
       "             * @returns {undefined}\n",
       "             */\n",
       "            Highcharts.stockChart('container3763', {\n",
       "              chart: {\n",
       "                zoomType: 'x'\n",
       "              },\n",
       "              title: {\n",
       "                  text: 'Temperatures in Asia'\n",
       "              },\n",
       "              plotOptions: {\n",
       "                series: {\n",
       "                  showInNavigator: true,\n",
       "                }\n",
       "              },\n",
       "                yAxis: {\n",
       "                    title: {\n",
       "                        text: 'ºC'\n",
       "                    }\n",
       "                },\n",
       "              tooltip: {\n",
       "                pointFormat: '<span style=\"color:{series.color}\">{series.name}</span>:<b>{point.y}</b>',\n",
       "                valueDecimals: 2,\n",
       "                split: true\n",
       "              },\n",
       "              series: seriesOptions\n",
       "            });\n",
       "        </script>\n",
       "\n",
       "        </body>\n",
       "        </html>\n",
       "    "
      ],
      "text/plain": [
       "<IPython.core.display.HTML object>"
      ]
     },
     "metadata": {},
     "output_type": "display_data"
    }
   ],
   "source": [
    "one_country_name = countries_list[0]\n",
    "\n",
    "# The following code is only for the visualization\n",
    "this_cities_names = [key for key, value in temp_streams[one_country_name].window().items()[0].value.iteritems()]\n",
    "\n",
    "data = {city:[] for city in this_cities_names}\n",
    "time = []\n",
    "for key, values in temp_streams[one_country_name].window().items():\n",
    "    time.append(str(key))\n",
    "    for city, temperature in values.iteritems():\n",
    "        data[city].append(temperature)\n",
    "        \n",
    "data = [value for key, value in data.iteritems()]\n",
    "        \n",
    "plot_multiple_stock(data, time=time, names=this_cities_names,\n",
    "                    title='Temperatures in ' + one_country_name, ylabel='ºC')"
   ]
  },
  {
   "cell_type": "markdown",
   "metadata": {},
   "source": [
    "# Create a Stream with all the city names\n",
    "\n",
    "In order to split the raw streams that contain as a value a dictionary with every city and its corresponding temperature, we need to use a splitting tool. The splitting_from_stream tool is a MultiOutputTool that expects a stream with the keys that are used to split the original stream, and a list of streams that will act as sink.\n",
    "\n",
    "## Create the mapping names\n",
    "\n",
    "Here, we will generate first a stream with all the keys that we want to use for the split"
   ]
  },
  {
   "cell_type": "code",
   "execution_count": 12,
   "metadata": {
    "collapsed": false,
    "deletable": true,
    "editable": true
   },
   "outputs": [
    {
     "name": "stdout",
     "output_type": "stream",
     "text": [
      "{'NewDelhiMax': 'NewDelhiMax', 'NewDelhiMin': 'NewDelhiMin', 'HongKongMin': 'HongKongMin', 'KualaLumpurMin': 'KualaLumpurMin', 'TokyoMax': 'TokyoMax', 'KualaLumpurMax': 'KualaLumpurMax', 'HongKongMax': 'HongKongMax', 'BangkokMin': 'BangkokMin', 'BangkokMax': 'BangkokMax', 'TokyoMin': 'TokyoMin'}\n"
     ]
    }
   ],
   "source": [
    "one_country_stream = temp_streams[one_country_name]\n",
    "\n",
    "# It is similar to a database channel\n",
    "A = hs.channel_manager.assets\n",
    "this_cities_stream = A.get_or_create_stream('cities_{}'.format(one_country_name))\n",
    "\n",
    "mapping = {}\n",
    "for city in this_cities_names:\n",
    "    mapping[city] = city\n",
    "\n",
    "print mapping"
   ]
  },
  {
   "cell_type": "markdown",
   "metadata": {},
   "source": [
    "## Create the Stream with the names\n",
    "\n",
    "Now we can write the mapping into the stream that will be used with the splitting tool"
   ]
  },
  {
   "cell_type": "code",
   "execution_count": 13,
   "metadata": {
    "collapsed": false
   },
   "outputs": [
    {
     "name": "stdout",
     "output_type": "stream",
     "text": [
      "[StreamInstance(timestamp=datetime.datetime(1999, 1, 1, 0, 0, tzinfo=<bson.tz_util.FixedOffset object at 0x7fef34204a90>), value={u'NewDelhiMax': u'NewDelhiMax', u'NewDelhiMin': u'NewDelhiMin', u'HongKongMin': u'HongKongMin', u'KualaLumpurMin': u'KualaLumpurMin', u'TokyoMax': u'TokyoMax', u'KualaLumpurMax': u'KualaLumpurMax', u'HongKongMax': u'HongKongMax', u'BangkokMin': u'BangkokMin', u'BangkokMax': u'BangkokMax', u'TokyoMin': u'TokyoMin'})]\n"
     ]
    }
   ],
   "source": [
    "from hyperstream import StreamInstance\n",
    "from hyperstream import StreamId\n",
    "\n",
    "A.write_to_stream(stream_id=this_cities_stream.stream_id, data=StreamInstance(ti_all.start, mapping))\n",
    "\n",
    "print this_cities_stream.window(TimeInterval.up_to_now()).items()"
   ]
  },
  {
   "cell_type": "markdown",
   "metadata": {},
   "source": [
    "## Creating a city plate\n",
    "\n",
    "We are creating here one node per city"
   ]
  },
  {
   "cell_type": "code",
   "execution_count": 14,
   "metadata": {
    "collapsed": false,
    "deletable": true,
    "editable": true
   },
   "outputs": [],
   "source": [
    "for city in this_cities_names:\n",
    "    if not hs.plate_manager.meta_data_manager.contains(identifier='city_'+city):\n",
    "        print(\"Adding \" + city)\n",
    "        hs.plate_manager.meta_data_manager.insert(parent='root', data=city,\n",
    "                                                  tag='city', identifier='city_'+city)"
   ]
  },
  {
   "cell_type": "markdown",
   "metadata": {},
   "source": [
    "## Creating the sink Streams\n",
    "\n",
    "Now, we will create one Stream per each city. Then, we will use all these Streams as a sink when ussing the splitting tool."
   ]
  },
  {
   "cell_type": "code",
   "execution_count": 15,
   "metadata": {
    "collapsed": false,
    "deletable": true,
    "editable": true
   },
   "outputs": [
    {
     "name": "stdout",
     "output_type": "stream",
     "text": [
      "Adding NewDelhiMax\n",
      "Adding NewDelhiMin\n",
      "Adding HongKongMin\n",
      "Adding KualaLumpurMin\n",
      "Adding TokyoMax\n",
      "Adding KualaLumpurMax\n",
      "Adding HongKongMax\n",
      "Adding BangkokMin\n",
      "Adding BangkokMax\n",
      "Adding TokyoMin\n"
     ]
    }
   ],
   "source": [
    "cities_plate = hs.plate_manager.create_plate(plate_id='C', meta_data_id='city', parent_plate=None, \n",
    "                                             values=[], complement=True, description='Cities')\n",
    "this_country_temps = []\n",
    "for city in this_cities_names:\n",
    "    print(\"Adding \" + city)\n",
    "    this_country_temps.append(M.get_or_create_stream(stream_id=StreamId(name='temperature',\n",
    "                                                                         meta_data=(('city', city),))))"
   ]
  },
  {
   "cell_type": "markdown",
   "metadata": {
    "deletable": true,
    "editable": true
   },
   "source": [
    "It is possible to create all the Streams passing a list to the splitter tool **splitter_from_list**. However, this could not be automated in a workflow\n",
    "\n",
    "```Python\n",
    "# TODO Ussing this new tool, it is not necessary to create a new stream. However, if it is a Stream it could be\n",
    "# automated for any other countries\n",
    "splitter_tool = hs.plugins.example.tools.splitter_from_list(element=None)\n",
    "\n",
    "# TODO try to change the parameter name of MultiOutputTool splitting_stream to splitting_parameter\n",
    "# or something that does not force you to think that it is a stream\n",
    "splitter_tool.execute(source=one_country_stream, splitting_stream=this_cities_list, output_plate=cities_plate, \n",
    "                      interval=ti_all, input_plate_value=None, sinks=this_country_temps)\n",
    "```\n",
    "\n",
    "**TODO: Ask Tom: Question:** With the splitter_from_stream version we still need to create a list with the mapping... Then, I can not see the difference between using one or the other method.\n",
    "**Answer:** The list in the Stream is allowed to change over time, this makes the future Streams to be more robust to change (e.g. the number of houses in the SPHERE project). Also, there is a tool that uses a dictionary for the splitting criteria, that is **splitter_of_dict** that expects the splitter_stream to be None, and a mapping parameter containing the static mapping."
   ]
  },
  {
   "cell_type": "code",
   "execution_count": 16,
   "metadata": {
    "collapsed": false,
    "deletable": true,
    "editable": true
   },
   "outputs": [],
   "source": [
    "splitter_tool = hs.tools.splitter_from_stream(element=None, use_mapping_keys_only=False)\n",
    "\n",
    "splitter_tool.execute(source=one_country_stream, splitting_stream=this_cities_stream, output_plate_values=cities_plate, \n",
    "                      interval=ti_all, sinks=this_country_temps, meta_data_id=\"city\")"
   ]
  },
  {
   "cell_type": "code",
   "execution_count": 17,
   "metadata": {
    "collapsed": false,
    "deletable": true,
    "editable": true
   },
   "outputs": [
    {
     "name": "stdout",
     "output_type": "stream",
     "text": [
      "Stream(stream_id=temperature: [city=NewDelhiMax], channel_id=memory)\n",
      "StreamView(force_calculation=False, stream=Stream(stream_id=temperature: [city=NewDelhiMax], channel_id=memory), time_interval=TimeInterval(start=datetime.datetime(1999, 1, 1, 0, 0, tzinfo=<UTC>), end=datetime.datetime(2013, 1, 1, 0, 0, tzinfo=<UTC>)))\n"
     ]
    },
    {
     "data": {
      "text/html": [
       "\n",
       "        <html>\n",
       "        <head>\n",
       "        <title>Temperature in NewDelhiMax</title>\n",
       "           <!--<script src=\"https://ajax.googleapis.com/ajax/libs/jquery/2.1.3/jquery.min.js\"></script>-->\n",
       "           <!--<script src=\"https://code.highcharts.com/stock/highstock.js\"></script>-->\n",
       "           <!--<script src=\"https://code.highcharts.com/stock/modules/exporting.js\"></script>-->\n",
       "           <script src=\"./scripts/jquery.min.js\"></script>\n",
       "           <script src=\"./scripts/highstock.js\"></script>\n",
       "           <script src=\"./scripts/exporting.js\"></script>\n",
       "        </head>\n",
       "        <body>\n",
       "\n",
       "        <div id=\"container6921\" style=\"width: 800px; height: 600px; margin: 125 auto\"></div>\n",
       "\n",
       "        <script language=\"JavaScript\">\n",
       "               var data = [[948844800000.0, 20.1], [951523200000.0, 21.9], [954028800000.0, 29.7], [956707200000.0, 38.4], [959299200000.0, 40.0], [961977600000.0, 36.6], [964569600000.0, 33.7], [967248000000.0, 34.2], [969926400000.0, 34.7], [972518400000.0, 34.4], [975196800000.0, 28.8], [977788800000.0, 24.4], [980467200000.0, 19.7], [983145600000.0, 25.4], [985564800000.0, 30.4], [988243200000.0, 35.9], [990835200000.0, 38.6], [993513600000.0, 35.6], [996105600000.0, 34.7], [998784000000.0, 35.1], [1001462400000.0, 36.1], [1004054400000.0, 34.3], [1006732800000.0, 29.1], [1009324800000.0, 23.3], [1012003200000.0, 20.8], [1014681600000.0, 24.2], [1017100800000.0, 31.1], [1019779200000.0, 38.3], [1022371200000.0, 42.4], [1025049600000.0, 39.1], [1027641600000.0, 39.3], [1030320000000.0, 34.6], [1032998400000.0, 32.5], [1035590400000.0, 33.2], [1038268800000.0, 28.0], [1040860800000.0, 23.6], [1043539200000.0, 17.7], [1046217600000.0, 23.5], [1048636800000.0, 29.6], [1051315200000.0, 37.8], [1053907200000.0, 39.8], [1056585600000.0, 39.9], [1059177600000.0, 34.0], [1061856000000.0, 33.8], [1064534400000.0, 32.7], [1067126400000.0, 33.0], [1069804800000.0, 28.0], [1072396800000.0, 20.9], [1075075200000.0, 18.7], [1077753600000.0, 25.7], [1080259200000.0, 33.6], [1082937600000.0, 37.8], [1085529600000.0, 39.4], [1088208000000.0, 37.6], [1090800000000.0, 37.7], [1093478400000.0, 33.7], [1096156800000.0, 35.4], [1098748800000.0, 31.1], [1101427200000.0, 28.6], [1104019200000.0, 23.0], [1106697600000.0, 20.1], [1109376000000.0, 23.5], [1111795200000.0, 30.5], [1114473600000.0, 36.4], [1117065600000.0, 39.6], [1119744000000.0, 40.3], [1122336000000.0, 34.2], [1125014400000.0, 35.8], [1127692800000.0, 33.8], [1130284800000.0, 33.1], [1132963200000.0, 29.5], [1135555200000.0, 22.6], [1138233600000.0, 22.5], [1140912000000.0, 29.6], [1143331200000.0, 29.8], [1146009600000.0, 37.6], [1148601600000.0, 39.9], [1151280000000.0, 38.0], [1153872000000.0, 35.0], [1156550400000.0, 35.3], [1159228800000.0, 34.5], [1161820800000.0, 33.5], [1164499200000.0, 28.7], [1167091200000.0, 23.1], [1169769600000.0, 21.7], [1172448000000.0, 24.1], [1174867200000.0, 29.0], [1177545600000.0, 38.3], [1180137600000.0, 38.8], [1182816000000.0, 38.0], [1185408000000.0, 35.9], [1188086400000.0, 34.9], [1190764800000.0, 34.6], [1193356800000.0, 33.3], [1196035200000.0, 28.8], [1198627200000.0, 22.7], [1201305600000.0, 20.8], [1203984000000.0, 23.9], [1206489600000.0, 33.5], [1209168000000.0, 36.4], [1211760000000.0, 36.9], [1214438400000.0, 35.3], [1217030400000.0, 35.4], [1219708800000.0, 33.9], [1222387200000.0, 34.1], [1224979200000.0, 34.2], [1227657600000.0, 28.8], [1230249600000.0, 24.2], [1232928000000.0, 22.1], [1235606400000.0, 26.3], [1238025600000.0, 31.9], [1240704000000.0, 37.4], [1243296000000.0, 40.0], [1245974400000.0, 41.1], [1248566400000.0, 37.2], [1251244800000.0, 35.5], [1253923200000.0, 33.9], [1256515200000.0, 33.0], [1259193600000.0, 27.2], [1261785600000.0, 23.6], [1264464000000.0, 19.2], [1267142400000.0, 25.7], [1269561600000.0, 34.1], [1272240000000.0, 40.2], [1274832000000.0, 41.8], [1277510400000.0, 40.4], [1280102400000.0, 35.6], [1282780800000.0, 33.9], [1285459200000.0, 32.7], [1288051200000.0, 33.0], [1290729600000.0, 27.6], [1293321600000.0, 22.3], [1296000000000.0, 20.0], [1298678400000.0, 24.8], [1301097600000.0, 30.4], [1303776000000.0, 36.0], [1306368000000.0, 40.1], [1309046400000.0, 38.0], [1311638400000.0, 35.7], [1314316800000.0, 34.6], [1316995200000.0, 34.3], [1319587200000.0, 33.4], [1322265600000.0, 29.3], [1324857600000.0, 24.0], [1327536000000.0, 20.3], [1330214400000.0, 24.3], [1332720000000.0, 31.6], [1335398400000.0, 35.8], [1337990400000.0, 41.2], [1340668800000.0, 42.1], [1343260800000.0, 36.9], [1345939200000.0, 33.6], [1348617600000.0, 34.3], [1351209600000.0, 32.6]];\n",
       "\n",
       "            Highcharts.stockChart('container6921', {\n",
       "                chart: {\n",
       "                    zoomType: 'x'\n",
       "                },\n",
       "                title: {\n",
       "                    text: 'Temperature in NewDelhiMax'\n",
       "                },\n",
       "                xAxis: {\n",
       "                    type: 'datetime', ordinal: false\n",
       "                },\n",
       "                yAxis: {\n",
       "                    title: {\n",
       "                        text: 'ºC'\n",
       "                    }\n",
       "                },\n",
       "                legend: {\n",
       "                    enabled: false\n",
       "                },\n",
       "\n",
       "                series: [{\n",
       "                    type: 'spline',\n",
       "                    name: 'ºC',\n",
       "                    data: data\n",
       "                }]\n",
       "            });\n",
       "        </script>\n",
       "\n",
       "        </body>\n",
       "        </html>\n",
       "    "
      ],
      "text/plain": [
       "<IPython.core.display.HTML object>"
      ]
     },
     "metadata": {},
     "output_type": "display_data"
    }
   ],
   "source": [
    "one_city = this_country_temps[0]\n",
    "city_name = one_city.stream_id.meta_data[0][1]\n",
    "\n",
    "print one_city\n",
    "print one_city.window(ti_all)\n",
    "\n",
    "my_time, my_data = zip(*[(key.__str__(), value) for key, value in one_city.window(ti_all).items()])\n",
    "\n",
    "plot_high_chart(my_time, my_data, type=\"high_stock\", title='Temperature in {}'.format(city_name), yax='ºC')"
   ]
  }
 ],
 "metadata": {
  "kernelspec": {
   "display_name": "Python 2",
   "language": "python",
   "name": "python2"
  },
  "language_info": {
   "codemirror_mode": {
    "name": "ipython",
    "version": 2
   },
   "file_extension": ".py",
   "mimetype": "text/x-python",
   "name": "python",
   "nbconvert_exporter": "python",
   "pygments_lexer": "ipython2",
   "version": "2.7.6"
  }
 },
 "nbformat": 4,
 "nbformat_minor": 1
}
