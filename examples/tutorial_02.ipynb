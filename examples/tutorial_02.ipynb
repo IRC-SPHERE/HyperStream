{
 "cells": [
  {
   "cell_type": "markdown",
   "metadata": {},
   "source": [
    "# HyperStream Tutorial 2: Reading CSV\n"
   ]
  },
  {
   "cell_type": "code",
   "execution_count": 1,
   "metadata": {
    "collapsed": false
   },
   "outputs": [],
   "source": [
    "import sys\n",
    "sys.path.append(\"../\") # Add parent dir in the Path\n",
    "\n",
    "from hyperstream import HyperStream"
   ]
  },
  {
   "cell_type": "markdown",
   "metadata": {},
   "source": [
    "## Starting a Hyperstream instance\n",
    "\n",
    "First of all, we will create a HyperStream instance. This instance will connect to the MongoDB server that is specified in the configuration file and it will raise an error if the MongoDB server is not running."
   ]
  },
  {
   "cell_type": "code",
   "execution_count": 2,
   "metadata": {
    "collapsed": false
   },
   "outputs": [
    {
     "name": "stdout",
     "output_type": "stream",
     "text": [
      "HyperStream version 0.2.6, connected to mongodb://localhost:27017/hyperstream\n"
     ]
    }
   ],
   "source": [
    "from hyperstream import HyperStream\n",
    "\n",
    "hs = HyperStream(loglevel=0)\n",
    "print hs"
   ]
  },
  {
   "cell_type": "code",
   "execution_count": 3,
   "metadata": {
    "collapsed": false
   },
   "outputs": [
    {
     "ename": "AttributeError",
     "evalue": "'HyperStream' object has no attribute 'plugins'",
     "output_type": "error",
     "traceback": [
      "\u001b[0;31m---------------------------------------------------------------------------\u001b[0m",
      "\u001b[0;31mAttributeError\u001b[0m                            Traceback (most recent call last)",
      "\u001b[0;32m<ipython-input-3-4ddf7bcf802c>\u001b[0m in \u001b[0;36m<module>\u001b[0;34m()\u001b[0m\n\u001b[1;32m      8\u001b[0m \u001b[0mhs\u001b[0m \u001b[0;34m=\u001b[0m \u001b[0mHyperStream\u001b[0m\u001b[0;34m(\u001b[0m\u001b[0;34m)\u001b[0m\u001b[0;34m\u001b[0m\u001b[0m\n\u001b[1;32m      9\u001b[0m \u001b[0;34m\u001b[0m\u001b[0m\n\u001b[0;32m---> 10\u001b[0;31m \u001b[0mreader\u001b[0m \u001b[0;34m=\u001b[0m \u001b[0mhs\u001b[0m\u001b[0;34m.\u001b[0m\u001b[0mplugins\u001b[0m\u001b[0;34m.\u001b[0m\u001b[0mdata_importers\u001b[0m\u001b[0;34m.\u001b[0m\u001b[0mtools\u001b[0m\u001b[0;34m.\u001b[0m\u001b[0mcsv_reader\u001b[0m\u001b[0;34m(\u001b[0m\u001b[0;34m'plugins/data_importers/data/sea_ice.csv'\u001b[0m\u001b[0;34m)\u001b[0m\u001b[0;34m\u001b[0m\u001b[0m\n\u001b[0m\u001b[1;32m     11\u001b[0m \u001b[0;34m\u001b[0m\u001b[0m\n\u001b[1;32m     12\u001b[0m \u001b[0mti\u001b[0m \u001b[0;34m=\u001b[0m \u001b[0mTimeInterval\u001b[0m\u001b[0;34m(\u001b[0m\u001b[0mdatetime\u001b[0m\u001b[0;34m(\u001b[0m\u001b[0;36m1990\u001b[0m\u001b[0;34m,\u001b[0m \u001b[0;36m1\u001b[0m\u001b[0;34m,\u001b[0m \u001b[0;36m1\u001b[0m\u001b[0;34m)\u001b[0m\u001b[0;34m.\u001b[0m\u001b[0mreplace\u001b[0m\u001b[0;34m(\u001b[0m\u001b[0mtzinfo\u001b[0m\u001b[0;34m=\u001b[0m\u001b[0mUTC\u001b[0m\u001b[0;34m)\u001b[0m\u001b[0;34m,\u001b[0m \u001b[0mdatetime\u001b[0m\u001b[0;34m(\u001b[0m\u001b[0;36m2011\u001b[0m\u001b[0;34m,\u001b[0m \u001b[0;36m4\u001b[0m\u001b[0;34m,\u001b[0m \u001b[0;36m1\u001b[0m\u001b[0;34m)\u001b[0m\u001b[0;34m.\u001b[0m\u001b[0mreplace\u001b[0m\u001b[0;34m(\u001b[0m\u001b[0mtzinfo\u001b[0m\u001b[0;34m=\u001b[0m\u001b[0mUTC\u001b[0m\u001b[0;34m)\u001b[0m\u001b[0;34m)\u001b[0m\u001b[0;34m\u001b[0m\u001b[0m\n",
      "\u001b[0;31mAttributeError\u001b[0m: 'HyperStream' object has no attribute 'plugins'"
     ]
    }
   ],
   "source": [
    "from datetime import datetime\n",
    "\n",
    "from hyperstream import HyperStream\n",
    "from hyperstream import TimeInterval\n",
    "\n",
    "from hyperstream.utils import UTC\n",
    "\n",
    "hs = HyperStream()\n",
    "\n",
    "reader = hs.plugins.data_importers.tools.csv_reader('plugins/data_importers/data/sea_ice.csv')\n",
    "\n",
    "ti = TimeInterval(datetime(1990, 1, 1).replace(tzinfo=UTC), datetime(2011, 4, 1).replace(tzinfo=UTC))\n",
    "\n",
    "sea_ice = hs.channel_manager.memory.get_or_create_stream(\"sea_ice\")\n",
    "reader.execute(sources=[], sink=sea_ice, interval=ti)\n",
    "for key, value in sea_ice.window().items():\n",
    "    print '[%s]: %s' % (key, value)\n",
    "\n",
    "\n",
    "# comp = hs.tools.list_sum().execute()\n",
    "sea_ice_sums = hs.channel_manager.mongo.get_or_create_stream('sea_ice_sums')\n",
    "comp = hs.tools.list_sum().execute(sources=[sea_ice], sink=sea_ice_sums,\n",
    "                                   interval=ti)\n",
    "\n",
    "for key, value in sea_ice_sums.window().items():\n",
    "    print '[%s]: %s' % (key, value)\n",
    "\n",
    "assert(sea_ice_sums.window().last().value == sum(sea_ice.window().last().value))\n",
    "\n",
    "expected = [sum(values) for values in sea_ice.window().values()]\n",
    "assertItemsEqual(sea_ice_sums.window().values(), expected)\n"
   ]
  },
  {
   "cell_type": "markdown",
   "metadata": {},
   "source": [
    "## Selecting the tool to read csv\n",
    "\n",
    "HyperStream counts with a set of predefined tools in hyperstream.tools. This tools can be used to define the nodes of a factor graph that will produce values or compute certain functions given the specified input nodes. For this tutorial, we will focus on the **clock** tool. This tool produces time ticks from the specified start and stride times."
   ]
  },
  {
   "cell_type": "code",
   "execution_count": null,
   "metadata": {
    "collapsed": false
   },
   "outputs": [],
   "source": [
    "from hyperstream import StreamId\n",
    "\n",
    "T = hs.channel_manager.tools\n",
    "\n",
    "clock = StreamId(name=\"clock\")\n",
    "\n",
    "clock_tool = T[clock].window().last().value(stride=2.0)"
   ]
  },
  {
   "cell_type": "markdown",
   "metadata": {},
   "source": [
    "## Specifying the memory channel\n",
    "\n",
    "We need to specify where do we want to store the resulting stream of data that will be generated. It is possible to choose a MongoDB database instead of in memory selecting **hs.channel_manger.mongo**. In this tutorial we use the memory channel by creating an instance of memory and then creating the stream on it."
   ]
  },
  {
   "cell_type": "code",
   "execution_count": null,
   "metadata": {
    "collapsed": false
   },
   "outputs": [],
   "source": [
    "M = hs.channel_manager.memory\n",
    "\n",
    "ticker = M.get_or_create_stream(stream_id=StreamId(name=\"ticker\"))"
   ]
  },
  {
   "cell_type": "markdown",
   "metadata": {},
   "source": [
    "## Querying the tool\n",
    "\n",
    "Now we only need to create the time interval that we want to query. We do this by specifieng the begining and end."
   ]
  },
  {
   "cell_type": "code",
   "execution_count": null,
   "metadata": {
    "collapsed": false
   },
   "outputs": [],
   "source": [
    "from pytz import UTC\n",
    "from datetime import datetime, timedelta\n",
    "\n",
    "now = datetime.utcnow().replace(tzinfo=UTC)\n",
    "before = (now - timedelta(seconds=10)).replace(tzinfo=UTC)\n",
    "\n",
    "from hyperstream import TimeInterval\n",
    "\n",
    "ti = TimeInterval(before, now)"
   ]
  },
  {
   "cell_type": "markdown",
   "metadata": {},
   "source": [
    "## Executing the tool\n",
    "\n",
    "Now that we defined the tool to use, where we want to store the results and the time interval, it is possible to execute the tool."
   ]
  },
  {
   "cell_type": "code",
   "execution_count": null,
   "metadata": {
    "collapsed": true
   },
   "outputs": [],
   "source": [
    "clock_tool.execute(sources=[], sink=ticker, interval=ti, alignment_stream=None)"
   ]
  },
  {
   "cell_type": "markdown",
   "metadata": {},
   "source": [
    "## Printing the results\n",
    "\n",
    "The resulting stream is stored in the ticker. We can get now a list of tuples containing the timestamps and its corresponding clock value."
   ]
  },
  {
   "cell_type": "code",
   "execution_count": null,
   "metadata": {
    "collapsed": false
   },
   "outputs": [],
   "source": [
    "for timestamp, value in ticker.window().items():\n",
    "    print '[%s]: %s' % (timestamp, value)"
   ]
  }
 ],
 "metadata": {
  "kernelspec": {
   "display_name": "Python 2",
   "language": "python",
   "name": "python2"
  },
  "language_info": {
   "codemirror_mode": {
    "name": "ipython",
    "version": 2
   },
   "file_extension": ".py",
   "mimetype": "text/x-python",
   "name": "python",
   "nbconvert_exporter": "python",
   "pygments_lexer": "ipython2",
   "version": "2.7.6"
  }
 },
 "nbformat": 4,
 "nbformat_minor": 1
}
