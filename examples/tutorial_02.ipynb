{
 "cells": [
  {
   "cell_type": "markdown",
   "metadata": {},
   "source": [
    "<img style=\"float: right;\" src=\"hyperstream.svg\">\n",
    "\n",
    "# HyperStream Tutorial 2: Your own tools\n",
    "\n",
    "HyperStream has a set of predefined tools in hyperstream.tools. However, it is possible to define your own tools and factors. In this tutorial, we show how to create a simple plugin that reads a CSV file. In this tutorial, we already created the tool and made all the configurations necessary for it to work. We will describe how this one was created, and how can you create a new one.\n",
    "\n",
    "## Creating a plugin tool to read csv files\n",
    "\n",
    "### 1. Create a folder in plugins\n",
    "\n",
    "First of all, we need to create a new folder to contain our new tool. The new folder needs to be in the folder __plugins__, in this example __plugins/example/tools/csv_reader/__. We need to create an **\\__init\\__.py** file in every subfolder to be able to treat all the folders as a Python package.\n",
    "\n",
    "    plugins/\n",
    "        |- __init__.py\n",
    "        |- one_plugin/\n",
    "        |   |- __init__.py\n",
    "        |   |- tools/\n",
    "        |       |- __init__.py\n",
    "        |       |- tool_a\n",
    "        |           |- __init__.py\n",
    "        |           |- 2017-06-20_v0.0.1.py\n",
    "        |           |- 2017-06-22_v0.0.3.py\n",
    "        |- another_plugin/\n",
    "            |- __init__.py\n",
    "            |- tools/\n",
    "                |- tool_b/\n",
    "                |   |- __init__.py\n",
    "                |   |- 2017-06-20_v0.0.1.py\n",
    "                |   |- 2017-06-22_v0.1.0.py\n",
    "                |- tool_c/\n",
    "                    |- __init__.py\n",
    "                    |- 2017-06-20_v0.0.2.py\n",
    "\n",
    "### 2. Write the plugin in Python\n",
    "\n",
    "Then, we need to create a new Python file following the name convention &lt;year>-&lt;month\\>-&lt;day\\>_v&lt;version\\>.&lt;subversion\\>.&lt;subsubversion\\>.py. In this example you can find the file with the following content in **./plugins/example/tools/csv_reader/2017-06-20_v0.0.1.py**\n",
    "\n",
    "```Python\n",
    "from hyperstream import Tool, StreamInstance\n",
    "from hyperstream.utils import check_input_stream_count\n",
    "\n",
    "from dateutil.parser import parse\n",
    "\n",
    "\n",
    "class CsvReader(Tool):\n",
    "    def __init__(self, filename):\n",
    "        super(CsvReader, self).__init__(filename=filename)\n",
    "\n",
    "    @check_input_stream_count(0)\n",
    "    def _execute(self, sources, alignment_stream, interval):\n",
    "\n",
    "        # Let's make the assumption that the first field is the timestamp\n",
    "\n",
    "        first = True\n",
    "\n",
    "        with open(self.filename, 'rU') as f:\n",
    "            for line in f.readlines():\n",
    "                if first:\n",
    "                    first = False\n",
    "                    continue\n",
    "                elements = line.split(',')\n",
    "                dt = parse(elements[0])\n",
    "                if dt in interval:\n",
    "                    yield StreamInstance(dt, map(float, elements[1:]))\n",
    "\n",
    "```\n",
    "\n",
    "### 3. Add HyperStream configuration\n",
    "\n",
    "Now, it is necessary to add information about this plugin into the **hyperstream_config.json**. In particular, we need to add the following information in the plugin section:\n",
    "\n",
    "- channel_id_prefix:\n",
    "- channel_names: \n",
    "- path: path to the new plugin\n",
    "- has_tools: If the new plugin has tools\n",
    "- has_assets:\n",
    "\n",
    "Next, we have an example of an configuration file with the new plugin:\n",
    "\n",
    "```json\n",
    "{\n",
    "    \"mongo\": {\n",
    "        \"host\": \"localhost\",\n",
    "        \"port\": 27017,\n",
    "        \"tz_aware\": true,\n",
    "        \"db\": \"hyperstream\"\n",
    "    },\n",
    "    \"plugins\": [{\n",
    "        \"channel_id_prefix\": \"example\",\n",
    "        \"channel_names\": [],\n",
    "        \"path\": \"plugins/example\",\n",
    "        \"has_tools\": true,\n",
    "        \"has_assets\": false\n",
    "    }],\n",
    "    \"online_engine\": {\n",
    "        \"interval\": {\n",
    "            \"start\": -60,\n",
    "            \"end\": -10\n",
    "        },\n",
    "        \"sleep\": 5,\n",
    "        \"iterations\": 100\n",
    "    }\n",
    "}\n",
    "\n",
    "```\n",
    "\n",
    "## Using the new tool\n",
    "\n",
    "Now we can write some HyperStream code that uses the new plugin."
   ]
  },
  {
   "cell_type": "code",
   "execution_count": 1,
   "metadata": {
    "collapsed": false
   },
   "outputs": [
    {
     "name": "stdout",
     "output_type": "stream",
     "text": [
      "CPython 2.7.6\n",
      "IPython 5.3.0\n",
      "\n",
      "hyperstream 0.3.0-beta\n",
      "\n",
      "compiler   : GCC 4.8.4\n",
      "system     : Linux\n",
      "release    : 3.19.0-80-generic\n",
      "machine    : x86_64\n",
      "processor  : x86_64\n",
      "CPU cores  : 4\n",
      "interpreter: 64bit\n",
      "Git hash   : 33621000d8f335505eac32a5a274194d2588a4c9\n",
      "HyperStream version 0.3.0-beta, connected to mongodb://localhost:27017/hyperstream\n"
     ]
    }
   ],
   "source": [
    "%load_ext watermark\n",
    "\n",
    "import sys\n",
    "sys.path.append(\"../\") # Add parent dir in the Path\n",
    "\n",
    "from hyperstream import HyperStream\n",
    "from hyperstream import TimeInterval\n",
    "from hyperstream.utils import UTC\n",
    "\n",
    "from datetime import datetime\n",
    "\n",
    "from utils import plot_high_chart\n",
    "\n",
    "%watermark -v -m -p hyperstream -g\n",
    "\n",
    "hs = HyperStream(loglevel=20)\n",
    "print hs"
   ]
  },
  {
   "cell_type": "markdown",
   "metadata": {},
   "source": [
    "## Loading the new plugin\n",
    "\n",
    "After instantiating HyperStream, if the configuration of the plugin and the plugin are in the right place, we will be able to load our new tool **csv_reader**, specifying where is the input file.\n",
    "\n",
    "The data is the Polar Ice data that can be found in [this link][1]\n",
    "\n",
    "[1]: http://new.censusatschool.org.nz/resource/time-series-data-sets-2012/"
   ]
  },
  {
   "cell_type": "code",
   "execution_count": 2,
   "metadata": {
    "collapsed": false
   },
   "outputs": [],
   "source": [
    "reader_tool = hs.plugins.example.tools.csv_reader('data/sea_ice.csv')"
   ]
  },
  {
   "cell_type": "markdown",
   "metadata": {},
   "source": [
    "## Create a stream\n",
    "\n",
    "Now we can create a stream to store in memory the results of applying the new tool"
   ]
  },
  {
   "cell_type": "code",
   "execution_count": 3,
   "metadata": {
    "collapsed": false
   },
   "outputs": [],
   "source": [
    "sea_ice_stream = hs.channel_manager.memory.get_or_create_stream(\"sea_ice\")"
   ]
  },
  {
   "cell_type": "markdown",
   "metadata": {},
   "source": [
    "## Execute the tool\n",
    "\n",
    "We can now execute the tool in the interval of interest"
   ]
  },
  {
   "cell_type": "code",
   "execution_count": 4,
   "metadata": {
    "collapsed": false
   },
   "outputs": [
    {
     "data": {
      "text/plain": [
       "TimeIntervals([TimeInterval(start=datetime.datetime(1990, 1, 1, 0, 0, tzinfo=<UTC>), end=datetime.datetime(2012, 11, 1, 0, 0, tzinfo=<UTC>))])"
      ]
     },
     "execution_count": 4,
     "metadata": {},
     "output_type": "execute_result"
    }
   ],
   "source": [
    "ti = TimeInterval(datetime(1990, 1, 1).replace(tzinfo=UTC), datetime(2012, 11, 1).replace(tzinfo=UTC))\n",
    "\n",
    "reader_tool.execute(sources=[], sink=sea_ice_stream, interval=ti)\n",
    "\n",
    "sea_ice_stream.calculated_intervals"
   ]
  },
  {
   "cell_type": "markdown",
   "metadata": {},
   "source": [
    "## Query the stream\n",
    "\n",
    "And finally we can query certain period of time to the tool and store the information in the created stream"
   ]
  },
  {
   "cell_type": "code",
   "execution_count": 5,
   "metadata": {
    "collapsed": false
   },
   "outputs": [
    {
     "name": "stdout",
     "output_type": "stream",
     "text": [
      "[1995-02-01 00:00:00+00:00]: [13.3, 2.12]\n",
      "[1995-03-01 00:00:00+00:00]: [13.28, 2.74]\n",
      "[1995-04-01 00:00:00+00:00]: [12.32, 5.35]\n",
      "[1995-05-01 00:00:00+00:00]: [10.76, 8.23]\n",
      "[1995-06-01 00:00:00+00:00]: [8.86, 10.37]\n",
      "[1995-07-01 00:00:00+00:00]: [6.05, 12.47]\n",
      "[1995-08-01 00:00:00+00:00]: [4.61, 14.16]\n",
      "[1995-09-01 00:00:00+00:00]: [4.38, 14.42]\n",
      "[1995-10-01 00:00:00+00:00]: [5.91, 13.47]\n",
      "[1995-11-01 00:00:00+00:00]: [8.95, 11.38]\n",
      "[1995-12-01 00:00:00+00:00]: [11.02, 7.03]\n",
      "[1996-01-01 00:00:00+00:00]: [12.07, 3.43]\n"
     ]
    }
   ],
   "source": [
    "ti = TimeInterval(datetime(1995, 1, 1).replace(tzinfo=UTC), datetime(1996, 1, 1).replace(tzinfo=UTC))\n",
    "\n",
    "for key, value in sea_ice_stream.window(ti).items():\n",
    "    print '[%s]: %s' % (key, value)"
   ]
  },
  {
   "cell_type": "markdown",
   "metadata": {},
   "source": [
    "# Visualize all the interval"
   ]
  },
  {
   "cell_type": "code",
   "execution_count": 6,
   "metadata": {
    "collapsed": false
   },
   "outputs": [
    {
     "data": {
      "text/html": [
       "\n",
       "        <html>\n",
       "        <head>\n",
       "        <title>Sea level in the Antarctica</title>\n",
       "           <!--<script src=\"https://ajax.googleapis.com/ajax/libs/jquery/2.1.3/jquery.min.js\"></script>-->\n",
       "           <!--<script src=\"https://code.highcharts.com/stock/highstock.js\"></script>-->\n",
       "           <!--<script src=\"https://code.highcharts.com/stock/modules/exporting.js\"></script>-->\n",
       "           <script src=\"./scripts/jquery.min.js\"></script>\n",
       "           <script src=\"./scripts/highstock.js\"></script>\n",
       "           <script src=\"./scripts/exporting.js\"></script>\n",
       "        </head>\n",
       "        <body>\n",
       "\n",
       "        <div id=\"container1345\" style=\"width: 800px; height: 600px; margin: 125 auto\"></div>\n",
       "\n",
       "        <script language=\"JavaScript\">\n",
       "               var data = [['1990-02-01 00:00:00+00:00', 2.15], ['1990-03-01 00:00:00+00:00', 2.71], ['1990-04-01 00:00:00+00:00', 5.1], ['1990-05-01 00:00:00+00:00', 7.37], ['1990-06-01 00:00:00+00:00', 10.26], ['1990-07-01 00:00:00+00:00', 12.17], ['1990-08-01 00:00:00+00:00', 13.95], ['1990-09-01 00:00:00+00:00', 14.3], ['1990-10-01 00:00:00+00:00', 13.71], ['1990-11-01 00:00:00+00:00', 11.24], ['1990-12-01 00:00:00+00:00', 6.56], ['1991-01-01 00:00:00+00:00', 3.39], ['1991-02-01 00:00:00+00:00', 2.01], ['1991-03-01 00:00:00+00:00', 2.54], ['1991-04-01 00:00:00+00:00', 5.1], ['1991-05-01 00:00:00+00:00', 7.77], ['1991-06-01 00:00:00+00:00', 9.87], ['1991-07-01 00:00:00+00:00', 12.12], ['1991-08-01 00:00:00+00:00', 13.96], ['1991-09-01 00:00:00+00:00', 14.38], ['1991-10-01 00:00:00+00:00', 13.7], ['1991-11-01 00:00:00+00:00', 11.35], ['1991-12-01 00:00:00+00:00', 6.48], ['1992-01-01 00:00:00+00:00', 3.12], ['1992-02-01 00:00:00+00:00', 1.79], ['1992-03-01 00:00:00+00:00', 2.39], ['1992-04-01 00:00:00+00:00', 4.91], ['1992-05-01 00:00:00+00:00', 7.53], ['1992-06-01 00:00:00+00:00', 9.9], ['1992-07-01 00:00:00+00:00', 12.48], ['1992-08-01 00:00:00+00:00', 14.08], ['1992-09-01 00:00:00+00:00', 14.04], ['1992-10-01 00:00:00+00:00', 13.76], ['1992-11-01 00:00:00+00:00', 11.09], ['1992-12-01 00:00:00+00:00', 6.0], ['1993-01-01 00:00:00+00:00', 2.43], ['1993-02-01 00:00:00+00:00', 1.3], ['1993-03-01 00:00:00+00:00', 2.15], ['1993-04-01 00:00:00+00:00', 4.82], ['1993-05-01 00:00:00+00:00', 7.8], ['1993-06-01 00:00:00+00:00', 10.28], ['1993-07-01 00:00:00+00:00', 12.63], ['1993-08-01 00:00:00+00:00', 13.83], ['1993-09-01 00:00:00+00:00', 14.62], ['1993-10-01 00:00:00+00:00', 14.09], ['1993-11-01 00:00:00+00:00', 11.72], ['1993-12-01 00:00:00+00:00', 6.49], ['1994-01-01 00:00:00+00:00', 3.26], ['1994-02-01 00:00:00+00:00', 2.17], ['1994-03-01 00:00:00+00:00', 3.13], ['1994-04-01 00:00:00+00:00', 5.38], ['1994-05-01 00:00:00+00:00', 8.12], ['1994-06-01 00:00:00+00:00', 10.63], ['1994-07-01 00:00:00+00:00', 13.03], ['1994-08-01 00:00:00+00:00', 14.39], ['1994-09-01 00:00:00+00:00', 14.52], ['1994-10-01 00:00:00+00:00', 13.98], ['1994-11-01 00:00:00+00:00', 11.65], ['1994-12-01 00:00:00+00:00', 6.95], ['1995-01-01 00:00:00+00:00', 3.62], ['1995-02-01 00:00:00+00:00', 2.12], ['1995-03-01 00:00:00+00:00', 2.74], ['1995-04-01 00:00:00+00:00', 5.35], ['1995-05-01 00:00:00+00:00', 8.23], ['1995-06-01 00:00:00+00:00', 10.37], ['1995-07-01 00:00:00+00:00', 12.47], ['1995-08-01 00:00:00+00:00', 14.16], ['1995-09-01 00:00:00+00:00', 14.42], ['1995-10-01 00:00:00+00:00', 13.47], ['1995-11-01 00:00:00+00:00', 11.38], ['1995-12-01 00:00:00+00:00', 7.03], ['1996-01-01 00:00:00+00:00', 3.43], ['1996-02-01 00:00:00+00:00', 1.69], ['1996-03-01 00:00:00+00:00', 2.56], ['1996-04-01 00:00:00+00:00', 5.28], ['1996-05-01 00:00:00+00:00', 8.57], ['1996-06-01 00:00:00+00:00', 11.0], ['1996-07-01 00:00:00+00:00', 12.79], ['1996-08-01 00:00:00+00:00', 13.8], ['1996-09-01 00:00:00+00:00', 14.45], ['1996-10-01 00:00:00+00:00', 13.85], ['1996-11-01 00:00:00+00:00', 11.14], ['1996-12-01 00:00:00+00:00', 6.04], ['1997-01-01 00:00:00+00:00', 2.65], ['1997-02-01 00:00:00+00:00', 1.66], ['1997-03-01 00:00:00+00:00', 2.23], ['1997-04-01 00:00:00+00:00', 4.76], ['1997-05-01 00:00:00+00:00', 7.82], ['1997-06-01 00:00:00+00:00', 10.12], ['1997-07-01 00:00:00+00:00', 12.66], ['1997-08-01 00:00:00+00:00', 14.0], ['1997-09-01 00:00:00+00:00', 14.49], ['1997-10-01 00:00:00+00:00', 14.01], ['1997-11-01 00:00:00+00:00', 11.49], ['1997-12-01 00:00:00+00:00', 6.84], ['1998-01-01 00:00:00+00:00', 2.91], ['1998-02-01 00:00:00+00:00', 1.81], ['1998-03-01 00:00:00+00:00', 2.64], ['1998-04-01 00:00:00+00:00', 5.03], ['1998-05-01 00:00:00+00:00', 7.82], ['1998-06-01 00:00:00+00:00', 10.25], ['1998-07-01 00:00:00+00:00', 12.56], ['1998-08-01 00:00:00+00:00', 13.98], ['1998-09-01 00:00:00+00:00', 14.76], ['1998-10-01 00:00:00+00:00', 14.45], ['1998-11-01 00:00:00+00:00', 11.76], ['1998-12-01 00:00:00+00:00', 6.61], ['1999-01-01 00:00:00+00:00', 2.99], ['1999-02-01 00:00:00+00:00', 1.7], ['1999-03-01 00:00:00+00:00', 2.51], ['1999-04-01 00:00:00+00:00', 5.05], ['1999-05-01 00:00:00+00:00', 7.99], ['1999-06-01 00:00:00+00:00', 10.74], ['1999-07-01 00:00:00+00:00', 12.97], ['1999-08-01 00:00:00+00:00', 14.15], ['1999-09-01 00:00:00+00:00', 14.53], ['1999-10-01 00:00:00+00:00', 14.13], ['1999-11-01 00:00:00+00:00', 11.4], ['1999-12-01 00:00:00+00:00', 6.62], ['2000-01-01 00:00:00+00:00', 2.79], ['2000-02-01 00:00:00+00:00', 1.63], ['2000-03-01 00:00:00+00:00', 2.6], ['2000-04-01 00:00:00+00:00', 5.23], ['2000-05-01 00:00:00+00:00', 8.47], ['2000-06-01 00:00:00+00:00', 10.95], ['2000-07-01 00:00:00+00:00', 12.89], ['2000-08-01 00:00:00+00:00', 14.55], ['2000-09-01 00:00:00+00:00', 14.98], ['2000-10-01 00:00:00+00:00', 14.16], ['2000-11-01 00:00:00+00:00', 11.71], ['2000-12-01 00:00:00+00:00', 6.77], ['2001-01-01 00:00:00+00:00', 3.55], ['2001-02-01 00:00:00+00:00', 2.38], ['2001-03-01 00:00:00+00:00', 3.3], ['2001-04-01 00:00:00+00:00', 5.22], ['2001-05-01 00:00:00+00:00', 7.92], ['2001-06-01 00:00:00+00:00', 10.47], ['2001-07-01 00:00:00+00:00', 12.49], ['2001-08-01 00:00:00+00:00', 13.66], ['2001-09-01 00:00:00+00:00', 14.27], ['2001-10-01 00:00:00+00:00', 13.24], ['2001-11-01 00:00:00+00:00', 10.88], ['2001-12-01 00:00:00+00:00', 6.16], ['2002-01-01 00:00:00+00:00', 2.81], ['2002-02-01 00:00:00+00:00', 1.75], ['2002-03-01 00:00:00+00:00', 2.29], ['2002-04-01 00:00:00+00:00', 4.49], ['2002-05-01 00:00:00+00:00', 7.09], ['2002-06-01 00:00:00+00:00', 9.6], ['2002-07-01 00:00:00+00:00', 12.42], ['2002-08-01 00:00:00+00:00', 13.65], ['2002-09-01 00:00:00+00:00', 14.0], ['2002-10-01 00:00:00+00:00', 13.73], ['2002-11-01 00:00:00+00:00', 11.55], ['2002-12-01 00:00:00+00:00', 7.47], ['2003-01-01 00:00:00+00:00', 4.01], ['2003-02-01 00:00:00+00:00', 2.6], ['2003-03-01 00:00:00+00:00', 3.16], ['2003-04-01 00:00:00+00:00', 5.48], ['2003-05-01 00:00:00+00:00', 8.35], ['2003-06-01 00:00:00+00:00', 11.07], ['2003-07-01 00:00:00+00:00', 13.08], ['2003-08-01 00:00:00+00:00', 13.66], ['2003-09-01 00:00:00+00:00', 14.05], ['2003-10-01 00:00:00+00:00', 13.78], ['2003-11-01 00:00:00+00:00', 11.36], ['2003-12-01 00:00:00+00:00', 7.03], ['2004-01-01 00:00:00+00:00', 3.69], ['2004-02-01 00:00:00+00:00', 2.28], ['2004-03-01 00:00:00+00:00', 3.1], ['2004-04-01 00:00:00+00:00', 5.33], ['2004-05-01 00:00:00+00:00', 8.09], ['2004-06-01 00:00:00+00:00', 10.8], ['2004-07-01 00:00:00+00:00', 13.07], ['2004-08-01 00:00:00+00:00', 14.15], ['2004-09-01 00:00:00+00:00', 14.51], ['2004-10-01 00:00:00+00:00', 14.03], ['2004-11-01 00:00:00+00:00', 11.94], ['2004-12-01 00:00:00+00:00', 6.76], ['2005-01-01 00:00:00+00:00', 3.02], ['2005-02-01 00:00:00+00:00', 1.91], ['2005-03-01 00:00:00+00:00', 2.66], ['2005-04-01 00:00:00+00:00', 5.12], ['2005-05-01 00:00:00+00:00', 7.87], ['2005-06-01 00:00:00+00:00', 10.2], ['2005-07-01 00:00:00+00:00', 12.63], ['2005-08-01 00:00:00+00:00', 13.86], ['2005-09-01 00:00:00+00:00', 14.76], ['2005-10-01 00:00:00+00:00', 13.92], ['2005-11-01 00:00:00+00:00', 11.69], ['2005-12-01 00:00:00+00:00', 6.12], ['2006-01-01 00:00:00+00:00', 2.67], ['2006-02-01 00:00:00+00:00', 1.72], ['2006-03-01 00:00:00+00:00', 1.94], ['2006-04-01 00:00:00+00:00', 4.2], ['2006-05-01 00:00:00+00:00', 7.08], ['2006-06-01 00:00:00+00:00', 10.49], ['2006-07-01 00:00:00+00:00', 12.79], ['2006-08-01 00:00:00+00:00', 14.45], ['2006-09-01 00:00:00+00:00', 15.09], ['2006-10-01 00:00:00+00:00', 14.58], ['2006-11-01 00:00:00+00:00', 11.5], ['2006-12-01 00:00:00+00:00', 6.28], ['2007-01-01 00:00:00+00:00', 2.87], ['2007-02-01 00:00:00+00:00', 1.89], ['2007-03-01 00:00:00+00:00', 2.48], ['2007-04-01 00:00:00+00:00', 4.62], ['2007-05-01 00:00:00+00:00', 7.44], ['2007-06-01 00:00:00+00:00', 10.39], ['2007-07-01 00:00:00+00:00', 12.52], ['2007-08-01 00:00:00+00:00', 13.94], ['2007-09-01 00:00:00+00:00', 15.29], ['2007-10-01 00:00:00+00:00', 14.5], ['2007-11-01 00:00:00+00:00', 12.03], ['2007-12-01 00:00:00+00:00', 8.28], ['2008-01-01 00:00:00+00:00', 3.91], ['2008-02-01 00:00:00+00:00', 2.32], ['2008-03-01 00:00:00+00:00', 3.62], ['2008-04-01 00:00:00+00:00', 6.14], ['2008-05-01 00:00:00+00:00', 8.51], ['2008-06-01 00:00:00+00:00', 11.31], ['2008-07-01 00:00:00+00:00', 12.8], ['2008-08-01 00:00:00+00:00', 13.96], ['2008-09-01 00:00:00+00:00', 14.27], ['2008-10-01 00:00:00+00:00', 14.0], ['2008-11-01 00:00:00+00:00', 11.81], ['2008-12-01 00:00:00+00:00', 7.15], ['2009-01-01 00:00:00+00:00', 3.33], ['2009-02-01 00:00:00+00:00', 1.89], ['2009-03-01 00:00:00+00:00', 2.94], ['2009-04-01 00:00:00+00:00', 5.86], ['2009-05-01 00:00:00+00:00', 8.32], ['2009-06-01 00:00:00+00:00', 10.97], ['2009-07-01 00:00:00+00:00', 12.95], ['2009-08-01 00:00:00+00:00', 14.29], ['2009-09-01 00:00:00+00:00', 14.92], ['2009-10-01 00:00:00+00:00', 14.19], ['2009-11-01 00:00:00+00:00', 11.64], ['2009-12-01 00:00:00+00:00', 6.87], ['2010-01-01 00:00:00+00:00', 3.16], ['2010-02-01 00:00:00+00:00', 2.03], ['2010-03-01 00:00:00+00:00', 2.58], ['2010-04-01 00:00:00+00:00', 4.88], ['2010-05-01 00:00:00+00:00', 8.19], ['2010-06-01 00:00:00+00:00', 11.51], ['2010-07-01 00:00:00+00:00', 13.6], ['2010-08-01 00:00:00+00:00', 14.78], ['2010-09-01 00:00:00+00:00', 14.24], ['2010-10-01 00:00:00+00:00', 14.26], ['2010-11-01 00:00:00+00:00', 11.75], ['2010-12-01 00:00:00+00:00', 6.67], ['2011-01-01 00:00:00+00:00', 2.87], ['2011-02-01 00:00:00+00:00', 1.8], ['2011-03-01 00:00:00+00:00', 2.18]];\n",
       "\n",
       "            Highcharts.stockChart('container1345', {\n",
       "                chart: {\n",
       "                    zoomType: 'x'\n",
       "                },\n",
       "                title: {\n",
       "                    text: 'Sea level in the Antarctica'\n",
       "                },\n",
       "                subtitle: {\n",
       "                    text: document.ontouchstart === undefined ?\n",
       "                            'Click and drag in the plot area to zoom in' : 'Pinch the chart to zoom in'\n",
       "                },\n",
       "                xAxis: {\n",
       "                    type: 'datetime', ordinal: false\n",
       "\n",
       "                },\n",
       "                yAxis: {\n",
       "                    title: {\n",
       "                        text: 'meters'\n",
       "                    }\n",
       "                },\n",
       "                legend: {\n",
       "                    enabled: false\n",
       "                },\n",
       "\n",
       "                series: [{\n",
       "                    type: 'spline',\n",
       "                    name: 'Date',\n",
       "                    data: data\n",
       "                }]\n",
       "            });\n",
       "        </script>\n",
       "\n",
       "        </body>\n",
       "        </html>\n",
       "\n",
       "    "
      ],
      "text/plain": [
       "<IPython.core.display.HTML object>"
      ]
     },
     "metadata": {},
     "output_type": "display_data"
    }
   ],
   "source": [
    "my_time, my_data = zip(*[(key.__str__(), value[1]) for key, value in sea_ice_stream.window().items()])\n",
    "\n",
    "plot_high_chart(my_time, my_data, type=\"high_stock\", title='Sea level in the Antarctica', xax='Date', yax='meters')"
   ]
  }
 ],
 "metadata": {
  "kernelspec": {
   "display_name": "Python 2",
   "language": "python",
   "name": "python2"
  },
  "language_info": {
   "codemirror_mode": {
    "name": "ipython",
    "version": 2
   },
   "file_extension": ".py",
   "mimetype": "text/x-python",
   "name": "python",
   "nbconvert_exporter": "python",
   "pygments_lexer": "ipython2",
   "version": "2.7.6"
  }
 },
 "nbformat": 4,
 "nbformat_minor": 1
}
