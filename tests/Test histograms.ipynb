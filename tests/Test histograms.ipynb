{
 "cells": [
  {
   "cell_type": "code",
   "execution_count": 1,
   "metadata": {
    "collapsed": false,
    "deletable": true,
    "editable": true
   },
   "outputs": [],
   "source": [
    "import sys\n",
    "stdout = sys.stdout\n",
    "from hyperstream import HyperStream, UTC, TimeInterval\n",
    "import numpy\n",
    "import imp\n",
    "from re import sub\n",
    "import logging\n",
    "from datetime import datetime, timedelta\n",
    "import matplotlib.pyplot as plt\n",
    "import numpy as np\n",
    "import seaborn as sns\n",
    "\n",
    "sys.stdout = stdout\n",
    "\n",
    "import os\n",
    "os.system('find -name *.pyc | xargs rm')\n",
    "\n",
    "os.('..')\n",
    "\n",
    "os.getcwd\n",
    "\n",
    "%matplotlib inline\n",
    "%load_ext autoreload\n",
    "%autoreload 2\n",
    "\n",
    "sns.set_style(\"dark\")\n",
    "\n",
    "minute = timedelta(minutes=1)\n",
    "t1 = datetime(2016, 4, 28, 20, 0, 0, 0, UTC)\n",
    "t2 = t1 + minute\n",
    "ti = TimeInterval(t1, t2)\n",
    "\n",
    "module_file_old = '/Users/td6301/dev/IRC-SPHERE_public/HyperStream/hyperstream/tools/histogram_from_list/2016-12-02_v0.0.2.py'\n",
    "module_file_new = '/Users/td6301/dev/IRC-SPHERE_public/HyperStream/hyperstream/tools/histogram_from_list/2017-07-03_v0.0.3.py'"
   ]
  },
  {
   "cell_type": "code",
   "execution_count": 2,
   "metadata": {
    "collapsed": false,
    "deletable": true,
    "editable": true
   },
   "outputs": [
    {
     "name": "stderr",
     "output_type": "stream",
     "text": [
      "INFO:root:Reading /Users/td6301/dev/IRC-SPHERE_public/HyperStream/hyperstream_config.json\n",
      "INFO:root:Updating channels\n",
      "DEBUG:root:Processing devices\n"
     ]
    },
    {
     "ename": "ChannelNotFoundError",
     "evalue": "Channel sphere_assets not found",
     "output_type": "error",
     "traceback": [
      "\u001b[0;31m---------------------------------------------------------------------------\u001b[0m",
      "\u001b[0;31mChannelNotFoundError\u001b[0m                      Traceback (most recent call last)",
      "\u001b[0;32m<ipython-input-2-3b82c0d8910f>\u001b[0m in \u001b[0;36m<module>\u001b[0;34m()\u001b[0m\n\u001b[0;32m----> 1\u001b[0;31m \u001b[0mhs\u001b[0m \u001b[0;34m=\u001b[0m \u001b[0mHyperStream\u001b[0m\u001b[0;34m(\u001b[0m\u001b[0;34m)\u001b[0m\u001b[0;34m\u001b[0m\u001b[0m\n\u001b[0m",
      "\u001b[0;32m/Users/td6301/dev/IRC-SPHERE_private/HyperStream/hyperstream_core/hyperstream/hyperstream.pyc\u001b[0m in \u001b[0;36m__init__\u001b[0;34m(self, loglevel, file_logger, console_logger, mqtt_logger)\u001b[0m\n\u001b[1;32m     65\u001b[0m \u001b[0;34m\u001b[0m\u001b[0m\n\u001b[1;32m     66\u001b[0m         \u001b[0;31m# Define some managers\u001b[0m\u001b[0;34m\u001b[0m\u001b[0;34m\u001b[0m\u001b[0m\n\u001b[0;32m---> 67\u001b[0;31m         \u001b[0mself\u001b[0m\u001b[0;34m.\u001b[0m\u001b[0mchannel_manager\u001b[0m \u001b[0;34m=\u001b[0m \u001b[0mChannelManager\u001b[0m\u001b[0;34m(\u001b[0m\u001b[0mself\u001b[0m\u001b[0;34m.\u001b[0m\u001b[0mconfig\u001b[0m\u001b[0;34m.\u001b[0m\u001b[0mplugins\u001b[0m\u001b[0;34m)\u001b[0m\u001b[0;34m\u001b[0m\u001b[0m\n\u001b[0m\u001b[1;32m     68\u001b[0m         \u001b[0mself\u001b[0m\u001b[0;34m.\u001b[0m\u001b[0mplate_manager\u001b[0m \u001b[0;34m=\u001b[0m \u001b[0mPlateManager\u001b[0m\u001b[0;34m(\u001b[0m\u001b[0;34m)\u001b[0m\u001b[0;34m\u001b[0m\u001b[0m\n\u001b[1;32m     69\u001b[0m         self.workflow_manager = WorkflowManager(\n",
      "\u001b[0;32m/Users/td6301/dev/IRC-SPHERE_private/HyperStream/hyperstream_core/hyperstream/channels/channel_manager.pyc\u001b[0m in \u001b[0;36m__init__\u001b[0;34m(self, plugins, **kwargs)\u001b[0m\n\u001b[1;32m     59\u001b[0m                 \u001b[0mself\u001b[0m\u001b[0;34m[\u001b[0m\u001b[0mchannel\u001b[0m\u001b[0;34m.\u001b[0m\u001b[0mchannel_id\u001b[0m\u001b[0;34m]\u001b[0m \u001b[0;34m=\u001b[0m \u001b[0mchannel\u001b[0m\u001b[0;34m\u001b[0m\u001b[0m\n\u001b[1;32m     60\u001b[0m \u001b[0;34m\u001b[0m\u001b[0m\n\u001b[0;32m---> 61\u001b[0;31m         \u001b[0mself\u001b[0m\u001b[0;34m.\u001b[0m\u001b[0mupdate_channels\u001b[0m\u001b[0;34m(\u001b[0m\u001b[0;34m)\u001b[0m\u001b[0;34m\u001b[0m\u001b[0m\n\u001b[0m\u001b[1;32m     62\u001b[0m \u001b[0;34m\u001b[0m\u001b[0m\n\u001b[1;32m     63\u001b[0m     \u001b[0;34m@\u001b[0m\u001b[0mproperty\u001b[0m\u001b[0;34m\u001b[0m\u001b[0m\n",
      "\u001b[0;32m/Users/td6301/dev/IRC-SPHERE_private/HyperStream/hyperstream_core/hyperstream/channels/channel_manager.pyc\u001b[0m in \u001b[0;36mupdate_channels\u001b[0;34m(self)\u001b[0m\n\u001b[1;32m    106\u001b[0m                     \u001b[0;32mraise\u001b[0m \u001b[0me\u001b[0m\u001b[0;34m\u001b[0m\u001b[0m\n\u001b[1;32m    107\u001b[0m                 \u001b[0mlogging\u001b[0m\u001b[0;34m.\u001b[0m\u001b[0mdebug\u001b[0m\u001b[0;34m(\u001b[0m\u001b[0;34m\"Processing {}\"\u001b[0m\u001b[0;34m.\u001b[0m\u001b[0mformat\u001b[0m\u001b[0;34m(\u001b[0m\u001b[0mstream_id\u001b[0m\u001b[0;34m)\u001b[0m\u001b[0;34m)\u001b[0m\u001b[0;34m\u001b[0m\u001b[0m\n\u001b[0;32m--> 108\u001b[0;31m                 \u001b[0mchannel\u001b[0m \u001b[0;34m=\u001b[0m \u001b[0mself\u001b[0m\u001b[0;34m.\u001b[0m\u001b[0mget_channel\u001b[0m\u001b[0;34m(\u001b[0m\u001b[0ms\u001b[0m\u001b[0;34m.\u001b[0m\u001b[0mchannel_id\u001b[0m\u001b[0;34m)\u001b[0m\u001b[0;34m\u001b[0m\u001b[0m\n\u001b[0m\u001b[1;32m    109\u001b[0m                 \u001b[0;31m# calculated_intervals = TimeIntervals(map(lambda x: (x.start, x.end), s.calculated_intervals))\u001b[0m\u001b[0;34m\u001b[0m\u001b[0;34m\u001b[0m\u001b[0m\n\u001b[1;32m    110\u001b[0m                 \u001b[0mlast_accessed\u001b[0m \u001b[0;34m=\u001b[0m \u001b[0mutcnow\u001b[0m\u001b[0;34m(\u001b[0m\u001b[0;34m)\u001b[0m\u001b[0;34m\u001b[0m\u001b[0m\n",
      "\u001b[0;32m/Users/td6301/dev/IRC-SPHERE_private/HyperStream/hyperstream_core/hyperstream/channels/channel_manager.pyc\u001b[0m in \u001b[0;36mget_channel\u001b[0;34m(self, channel_id)\u001b[0m\n\u001b[1;32m     92\u001b[0m             \u001b[0;32mreturn\u001b[0m \u001b[0mself\u001b[0m\u001b[0;34m[\u001b[0m\u001b[0mchannel_id\u001b[0m\u001b[0;34m]\u001b[0m\u001b[0;34m\u001b[0m\u001b[0m\n\u001b[1;32m     93\u001b[0m         \u001b[0;32mexcept\u001b[0m \u001b[0mKeyError\u001b[0m\u001b[0;34m:\u001b[0m\u001b[0;34m\u001b[0m\u001b[0m\n\u001b[0;32m---> 94\u001b[0;31m             \u001b[0;32mraise\u001b[0m \u001b[0mChannelNotFoundError\u001b[0m\u001b[0;34m(\u001b[0m\u001b[0;34m\"Channel {} not found\"\u001b[0m\u001b[0;34m.\u001b[0m\u001b[0mformat\u001b[0m\u001b[0;34m(\u001b[0m\u001b[0mchannel_id\u001b[0m\u001b[0;34m)\u001b[0m\u001b[0;34m)\u001b[0m\u001b[0;34m\u001b[0m\u001b[0m\n\u001b[0m\u001b[1;32m     95\u001b[0m \u001b[0;34m\u001b[0m\u001b[0m\n\u001b[1;32m     96\u001b[0m     \u001b[0;32mdef\u001b[0m \u001b[0mupdate_channels\u001b[0m\u001b[0;34m(\u001b[0m\u001b[0mself\u001b[0m\u001b[0;34m)\u001b[0m\u001b[0;34m:\u001b[0m\u001b[0;34m\u001b[0m\u001b[0m\n",
      "\u001b[0;31mChannelNotFoundError\u001b[0m: Channel sphere_assets not found"
     ]
    }
   ],
   "source": [
    "hs = HyperStream()"
   ]
  },
  {
   "cell_type": "code",
   "execution_count": null,
   "metadata": {
    "collapsed": false,
    "deletable": true,
    "editable": true
   },
   "outputs": [],
   "source": [
    "def load_module(module_file):\n",
    "    module_file_components = module_file[:-3].split('/')\n",
    "\n",
    "    with open(module_file, 'rb') as fp:\n",
    "        module_name = '_'.join(map(lambda pp: sub(r'[^a-zA-Z0-9]', '_', pp), module_file_components))\n",
    "\n",
    "        if module_name in sys.modules:\n",
    "            print(\"module {} already loaded ...\".format(module_name))\n",
    "            del sys.modules[module_name]\n",
    "\n",
    "        mod = imp.load_module(\n",
    "            module_name, fp, module_file,\n",
    "            ('.py', 'rb', imp.PY_SOURCE)\n",
    "        )\n",
    "\n",
    "        return mod"
   ]
  },
  {
   "cell_type": "code",
   "execution_count": null,
   "metadata": {
    "collapsed": false,
    "deletable": true,
    "editable": true
   },
   "outputs": [],
   "source": [
    "# Generate some random date\n",
    "dg = hs.plugins.data_generators\n",
    "\n",
    "ticker = hs.channel_manager.memory.get_or_create_stream('ticker')\n",
    "random = hs.channel_manager.memory.get_or_create_stream('random')\n",
    "hs.tools.clock().execute(sources=[], sink=ticker, interval=ti)\n",
    "dg.tools.random(seed=1234).execute(sources=[], sink=random, interval=ti, alignment_stream=ticker)\n",
    "\n",
    "print(random.window().values()[:5])"
   ]
  },
  {
   "cell_type": "code",
   "execution_count": null,
   "metadata": {
    "collapsed": true,
    "deletable": true,
    "editable": true
   },
   "outputs": [],
   "source": [
    "def plot_histograms(stream_old, stream_new, pts):\n",
    "    data_old = stream_old.window().items()\n",
    "    data_new = stream_new.window().items()\n",
    "    \n",
    "    # f, axarr = plt.subplots(len(data), sharex=True)\n",
    "    for i, (old, new) in enumerate(zip(data_old, data_new)):\n",
    "        print('{0:2.0f}, {1:2.0f}, {2}, {3}, {4}'.format(old.timestamp.minute, old.timestamp.second, old.value, new.value, np.array_equal(old.value, new.value)))\n",
    "        # axarr[i].bar(pts, value)\n",
    "        # axarr[i].set_title(timestamp)\n"
   ]
  },
  {
   "cell_type": "code",
   "execution_count": null,
   "metadata": {
    "collapsed": false,
    "deletable": true,
    "editable": true
   },
   "outputs": [],
   "source": [
    "# Force loading of tool modules\n",
    "mod_old = load_module(module_file_old)\n",
    "mod_new = load_module(module_file_new)\n",
    "\n",
    "breaks = list(np.linspace(-2, 2, 11))\n",
    "# print(breaks, len(breaks))\n",
    "pts = [-float('inf')] + list(map(np.mean, zip(breaks[:-1], breaks[1:]))) + [float('inf')]\n",
    "# print(pts, len(pts))\n",
    "\n",
    "h_old = mod_old.HistogramFromList(breaks=breaks)\n",
    "h_new = mod_new.HistogramFromList(breaks=breaks)\n",
    "\n",
    "hist_old = hs.channel_manager.memory.get_or_create_stream('hist_old')\n",
    "hist_new = hs.channel_manager.memory.get_or_create_stream('hist_new')\n",
    "\n",
    "hs.channel_manager.memory.purge_stream(hist_old.stream_id)\n",
    "hs.channel_manager.memory.purge_stream(hist_new.stream_id)\n",
    "\n",
    "h_old.execute(sources=[random], sink=hist_old, interval=ti)\n",
    "h_new.execute(sources=[random], sink=hist_new, interval=ti)\n",
    "\n",
    "plot_histograms(hist_old, hist_new, pts)"
   ]
  },
  {
   "cell_type": "code",
   "execution_count": null,
   "metadata": {
    "collapsed": false,
    "deletable": true,
    "editable": true
   },
   "outputs": [],
   "source": [
    "# Force loading of tool modules\n",
    "mod_old = load_module(module_file_old)\n",
    "mod_new = load_module(module_file_new)\n",
    "\n",
    "# breaks = list(np.linspace(-2, 2, 11))\n",
    "# print(breaks, len(breaks))\n",
    "# pts = [-float('inf')] + list(map(np.mean, zip(breaks[:-1], breaks[1:]))) + [float('inf')]\n",
    "# print(pts, len(pts))\n",
    "\n",
    "h_old = mod_old.HistogramFromList(break_width=0.1, first_break=-0.5, n_breaks=21)\n",
    "h_new = mod_new.HistogramFromList(break_width=0.1, first_break=-0.5, n_breaks=21)\n",
    "\n",
    "hist_old = hs.channel_manager.memory.get_or_create_stream('hist_old')\n",
    "hist_new = hs.channel_manager.memory.get_or_create_stream('hist_new')\n",
    "\n",
    "hs.channel_manager.memory.purge_stream(hist_old.stream_id)\n",
    "hs.channel_manager.memory.purge_stream(hist_new.stream_id)\n",
    "\n",
    "h_old.execute(sources=[random], sink=hist_old, interval=ti)\n",
    "h_new.execute(sources=[random], sink=hist_new, interval=ti)\n",
    "\n",
    "plot_histograms(hist_old, hist_new, pts)\n"
   ]
  },
  {
   "cell_type": "code",
   "execution_count": null,
   "metadata": {
    "collapsed": false,
    "deletable": true,
    "editable": true
   },
   "outputs": [],
   "source": []
  },
  {
   "cell_type": "code",
   "execution_count": null,
   "metadata": {
    "collapsed": true,
    "deletable": true,
    "editable": true
   },
   "outputs": [],
   "source": []
  }
 ],
 "metadata": {
  "kernelspec": {
   "display_name": "Python 2",
   "language": "python",
   "name": "python2"
  },
  "language_info": {
   "codemirror_mode": {
    "name": "ipython",
    "version": 2
   },
   "file_extension": ".py",
   "mimetype": "text/x-python",
   "name": "python",
   "nbconvert_exporter": "python",
   "pygments_lexer": "ipython2",
   "version": "2.7.13"
  }
 },
 "nbformat": 4,
 "nbformat_minor": 2
}
