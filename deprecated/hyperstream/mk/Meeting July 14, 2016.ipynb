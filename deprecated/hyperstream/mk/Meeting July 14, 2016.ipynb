{
 "cells": [
  {
   "cell_type": "code",
   "execution_count": 1,
   "metadata": {
    "collapsed": true
   },
   "outputs": [],
   "source": [
    "from hyperstream import *\n",
    "from hyperstream_bases import *\n",
    "from hyperstream_modifiers import *\n",
    "from hyperstream_intervals import *\n",
    "from hyperstream_sphere import *"
   ]
  },
  {
   "cell_type": "code",
   "execution_count": 52,
   "metadata": {
    "collapsed": false
   },
   "outputs": [],
   "source": [
    "T = ToolBase(1,'codebase/tools',MAX_DATE)\n",
    "locals().update(T.versions)"
   ]
  },
  {
   "cell_type": "code",
   "execution_count": 3,
   "metadata": {
    "collapsed": false
   },
   "outputs": [],
   "source": [
    "M = MemoryBase(2)"
   ]
  },
  {
   "cell_type": "code",
   "execution_count": 4,
   "metadata": {
    "collapsed": false
   },
   "outputs": [],
   "source": [
    "S = SphereBase(3,date(2017,7,13,0,0,0,0,UTC))"
   ]
  },
  {
   "cell_type": "code",
   "execution_count": 6,
   "metadata": {
    "collapsed": false
   },
   "outputs": [],
   "source": [
    "e = 'environmental'"
   ]
  },
  {
   "cell_type": "code",
   "execution_count": 7,
   "metadata": {
    "collapsed": true
   },
   "outputs": [],
   "source": [
    "t1 = date(2016,4,28,20,0,0,0,UTC)\n",
    "t2 = date(2016,4,29,13,0,0,0,UTC)"
   ]
  },
  {
   "cell_type": "code",
   "execution_count": 15,
   "metadata": {
    "collapsed": false
   },
   "outputs": [
    {
     "name": "stderr",
     "output_type": "stream",
     "text": [
      "100%|██████████| 199/199 [00:00<00:00, 12180.82it/s]\n"
     ]
    },
    {
     "data": {
      "text/plain": [
       "[0.0, 0.0, 0.0, 0.0, 0.0, 0.0]"
      ]
     },
     "execution_count": 15,
     "metadata": {},
     "output_type": "execute_result"
    }
   ],
   "source": [
    "S[e,t1,t1+MINUTE,Component('electricity-04063')+Data()+List()]()"
   ]
  },
  {
   "cell_type": "code",
   "execution_count": 23,
   "metadata": {
    "collapsed": false
   },
   "outputs": [
    {
     "name": "stderr",
     "output_type": "stream",
     "text": [
      "100%|██████████| 37/37 [00:00<00:00, 5913.55it/s]\n"
     ]
    },
    {
     "data": {
      "text/plain": [
       "[{'cold-water': None,\n",
       "  'door': None,\n",
       "  u'door-S1_K': 0.0,\n",
       "  'dust': None,\n",
       "  'electricity': None,\n",
       "  'hot-water': None,\n",
       "  'humidity': None,\n",
       "  u'humidity-S1_K': 72.7,\n",
       "  'light': None,\n",
       "  'motion': None,\n",
       "  u'motion-S1_K': 0.0,\n",
       "  'noise': None,\n",
       "  'temperature': None,\n",
       "  u'temperature-S1_K': 19.68,\n",
       "  'uid': u'S1_K'}]"
      ]
     },
     "execution_count": 23,
     "metadata": {},
     "output_type": "execute_result"
    }
   ],
   "source": [
    "S[e,t1,t1+10*SEC,CompFilter('uid',['S1_K'])+Data()+List()]()"
   ]
  },
  {
   "cell_type": "code",
   "execution_count": 25,
   "metadata": {
    "collapsed": false
   },
   "outputs": [
    {
     "name": "stderr",
     "output_type": "stream",
     "text": [
      "100%|██████████| 199/199 [00:00<00:00, 1475.43it/s]\n"
     ]
    },
    {
     "data": {
      "text/plain": [
       "[(datetime.datetime(2016, 4, 28, 20, 0, 9, 212000, tzinfo=<bson.tz_util.FixedOffset object at 0x104b40dd0>),\n",
       "  0.0),\n",
       " (datetime.datetime(2016, 4, 28, 20, 0, 19, 716000, tzinfo=<bson.tz_util.FixedOffset object at 0x104b40dd0>),\n",
       "  0.0),\n",
       " (datetime.datetime(2016, 4, 28, 20, 0, 29, 716000, tzinfo=<bson.tz_util.FixedOffset object at 0x104b40dd0>),\n",
       "  0.0),\n",
       " (datetime.datetime(2016, 4, 28, 20, 0, 39, 554000, tzinfo=<bson.tz_util.FixedOffset object at 0x104b40dd0>),\n",
       "  0.0),\n",
       " (datetime.datetime(2016, 4, 28, 20, 0, 49, 715000, tzinfo=<bson.tz_util.FixedOffset object at 0x104b40dd0>),\n",
       "  0.0),\n",
       " (datetime.datetime(2016, 4, 28, 20, 0, 57, 64000, tzinfo=<bson.tz_util.FixedOffset object at 0x104b40dd0>),\n",
       "  1.0),\n",
       " (datetime.datetime(2016, 4, 28, 20, 0, 59, 712000, tzinfo=<bson.tz_util.FixedOffset object at 0x104b40dd0>),\n",
       "  0.0)]"
      ]
     },
     "execution_count": 25,
     "metadata": {},
     "output_type": "execute_result"
    }
   ],
   "source": [
    "S[e,t1,t1+MINUTE,Component('motion-S1_K')+List()]()"
   ]
  },
  {
   "cell_type": "code",
   "execution_count": 26,
   "metadata": {
    "collapsed": false
   },
   "outputs": [
    {
     "name": "stdout",
     "output_type": "stream",
     "text": [
      "importing codebase/tools/clock/2016_07_13_12_37_39_247_v3.py\n",
      "Defining a Clock stream\n"
     ]
    }
   ],
   "source": [
    "M['every30s'] = clock(stride=30*SEC)"
   ]
  },
  {
   "cell_type": "code",
   "execution_count": 39,
   "metadata": {
    "collapsed": false
   },
   "outputs": [
    {
     "name": "stdout",
     "output_type": "stream",
     "text": [
      "importing codebase/tools/pool/2016_07_13_10_58_10_563_v2.py\n",
      "Defining a Pool stream\n"
     ]
    }
   ],
   "source": [
    "M['aver'] = pool(timer=M['every30s'],\n",
    "              data=S[e,-30*SEC,delta(0), Component('motion-S1_K')],\n",
    "             func=Data()+Average())"
   ]
  },
  {
   "cell_type": "code",
   "execution_count": 32,
   "metadata": {
    "collapsed": false
   },
   "outputs": [
    {
     "name": "stderr",
     "output_type": "stream",
     "text": [
      "100%|██████████| 1097/1097 [00:00<00:00, 21561.77it/s]"
     ]
    },
    {
     "name": "stdout",
     "output_type": "stream",
     "text": [
      "Pool running from 2016-04-28 20:00:00+00:00 to 2016-04-28 20:05:00+00:00\n",
      "(2016-04-28 20:00:00+00:00,2016-04-28 20:05:00+00:00]\n",
      "\n"
     ]
    },
    {
     "name": "stderr",
     "output_type": "stream",
     "text": [
      "\n"
     ]
    },
    {
     "data": {
      "text/plain": [
       "[0.0, 0.25, 0.25, 0.0, 0.0, 0.0, 0.0, 0.0, 0.0, 0.0]"
      ]
     },
     "execution_count": 32,
     "metadata": {},
     "output_type": "execute_result"
    }
   ],
   "source": [
    "M['aver',t1,t1+5*MINUTE,Data()+List()]()"
   ]
  },
  {
   "cell_type": "code",
   "execution_count": 40,
   "metadata": {
    "collapsed": false
   },
   "outputs": [
    {
     "name": "stdout",
     "output_type": "stream",
     "text": [
      "importing codebase/tools/pool/2016_07_13_10_58_10_563_v2.py\n",
      "Defining a Pool stream\n"
     ]
    }
   ],
   "source": [
    "M['count'] = pool(timer=M['every30s'],\n",
    "              data=S[e,-30*SEC,delta(0),\n",
    "                     Component('motion-S1_K')],\n",
    "             func=Data()+Count())"
   ]
  },
  {
   "cell_type": "code",
   "execution_count": 35,
   "metadata": {
    "collapsed": false
   },
   "outputs": [
    {
     "name": "stderr",
     "output_type": "stream",
     "text": [
      "100%|██████████| 1097/1097 [00:00<00:00, 20681.01it/s]"
     ]
    },
    {
     "name": "stdout",
     "output_type": "stream",
     "text": [
      "Pool running from 2016-04-28 20:00:00+00:00 to 2016-04-28 20:05:00+00:00\n",
      "(2016-04-28 20:00:00+00:00,2016-04-28 20:05:00+00:00]\n",
      "\n"
     ]
    },
    {
     "name": "stderr",
     "output_type": "stream",
     "text": [
      "\n"
     ]
    },
    {
     "data": {
      "text/plain": [
       "[3, 4, 4, 3, 3, 3, 3, 3, 3, 3]"
      ]
     },
     "execution_count": 35,
     "metadata": {},
     "output_type": "execute_result"
    }
   ],
   "source": [
    "M['count',t1,t1+5*MINUTE,Data()+List()]()"
   ]
  },
  {
   "cell_type": "code",
   "execution_count": 36,
   "metadata": {
    "collapsed": false
   },
   "outputs": [
    {
     "data": {
      "text/plain": [
       "<hyperstream_bases.MemoryBase object at 0x11332dcd0> with ID: 2 and containing 5 streams:\n",
       "STREAM ID: 1\n",
       "  NAMES: every30s\n",
       "  CALCULATED RANGES: (2016-04-28 20:00:00+00:00,2016-04-28 20:05:00+00:00]\n",
       "  STREAM DEFINITION: StreamDef:\n",
       "    TOOL  : <codebase.tools.clock.2016_07_13_12_37_39_247_v3.Clock object at 0x11332db90>\n",
       "    ARGS  : ()\n",
       "    KWARGS: {'optim': 42, 'stride': datetime.timedelta(0, 30), 'optim2': 83, 'first': datetime.datetime(1, 1, 1, 0, 0, tzinfo=<UTC>)}\n",
       "STREAM ID: 2\n",
       "  NAMES: x\n",
       "  CALCULATED RANGES: (2016-04-28 20:00:00+00:00,2016-04-28 20:05:00+00:00]\n",
       "  STREAM DEFINITION: StreamDef:\n",
       "    TOOL  : <codebase.tools.pool.2016_07_13_10_58_10_563_v2.Pool object at 0x1133bba50>\n",
       "    ARGS  : ()\n",
       "    KWARGS: {'data': StreamRef\n",
       "      BASE_ID  : 3\n",
       "      STREAM_ID: 'environmental'\n",
       "      START    : datetime.timedelta(-1, 86370)\n",
       "      END      : datetime.timedelta(0)\n",
       "      MODIFIER : Component(key='motion-S1_K')\n",
       "    , 'timer': StreamRef\n",
       "      BASE_ID  : 2\n",
       "      STREAM_ID: 1\n",
       "      START    : datetime.timedelta(0)\n",
       "      END      : datetime.timedelta(0)\n",
       "      MODIFIER : Identity()\n",
       "    , 'func': Data()+Average()}\n",
       "STREAM ID: 3\n",
       "  NAMES: \n",
       "  CALCULATED RANGES: (2016-04-28 20:00:00+00:00,2016-04-28 20:05:00+00:00]\n",
       "  STREAM DEFINITION: StreamDef:\n",
       "    TOOL  : <codebase.tools.pool.2016_07_13_10_58_10_563_v2.Pool object at 0x1133bb510>\n",
       "    ARGS  : ()\n",
       "    KWARGS: {'data': StreamRef\n",
       "      BASE_ID  : 3\n",
       "      STREAM_ID: 'environmental'\n",
       "      START    : datetime.timedelta(-1, 86370)\n",
       "      END      : datetime.timedelta(0)\n",
       "      MODIFIER : Component(key='motion-S1_K')\n",
       "    , 'timer': StreamRef\n",
       "      BASE_ID  : 2\n",
       "      STREAM_ID: 1\n",
       "      START    : datetime.timedelta(0)\n",
       "      END      : datetime.timedelta(0)\n",
       "      MODIFIER : Identity()\n",
       "    , 'func': Data()+Average()}\n",
       "STREAM ID: 4\n",
       "  NAMES: aver\n",
       "  CALCULATED RANGES: \n",
       "  STREAM DEFINITION: StreamDef:\n",
       "    TOOL  : <codebase.tools.pool.2016_07_13_10_58_10_563_v2.Pool object at 0x1133c5110>\n",
       "    ARGS  : ()\n",
       "    KWARGS: {'data': StreamRef\n",
       "      BASE_ID  : 3\n",
       "      STREAM_ID: 'environmental'\n",
       "      START    : datetime.timedelta(-1, 86370)\n",
       "      END      : datetime.timedelta(0)\n",
       "      MODIFIER : Component(key='motion-S1_K')\n",
       "    , 'timer': StreamRef\n",
       "      BASE_ID  : 2\n",
       "      STREAM_ID: 1\n",
       "      START    : datetime.timedelta(0)\n",
       "      END      : datetime.timedelta(0)\n",
       "      MODIFIER : Identity()\n",
       "    , 'func': Data()+Count()}\n",
       "STREAM ID: 5\n",
       "  NAMES: count\n",
       "  CALCULATED RANGES: (2016-04-28 20:00:00+00:00,2016-04-28 20:05:00+00:00]\n",
       "  STREAM DEFINITION: StreamDef:\n",
       "    TOOL  : <codebase.tools.pool.2016_07_13_10_58_10_563_v2.Pool object at 0x1133c5390>\n",
       "    ARGS  : ()\n",
       "    KWARGS: {'data': StreamRef\n",
       "      BASE_ID  : 3\n",
       "      STREAM_ID: 'environmental'\n",
       "      START    : datetime.timedelta(-1, 86370)\n",
       "      END      : datetime.timedelta(0)\n",
       "      MODIFIER : Component(key='motion-S1_K')\n",
       "    , 'timer': StreamRef\n",
       "      BASE_ID  : 2\n",
       "      STREAM_ID: 1\n",
       "      START    : datetime.timedelta(0)\n",
       "      END      : datetime.timedelta(0)\n",
       "      MODIFIER : Identity()\n",
       "    , 'func': Data()+Count()}"
      ]
     },
     "execution_count": 36,
     "metadata": {},
     "output_type": "execute_result"
    }
   ],
   "source": [
    "M"
   ]
  },
  {
   "cell_type": "code",
   "execution_count": 41,
   "metadata": {
    "collapsed": false
   },
   "outputs": [
    {
     "name": "stderr",
     "output_type": "stream",
     "text": [
      "100%|██████████| 298/298 [00:00<00:00, 9687.29it/s]"
     ]
    },
    {
     "name": "stdout",
     "output_type": "stream",
     "text": [
      "Pool running from 2016-04-28 20:00:00+00:00 to 2016-04-28 20:01:00+00:00\n",
      "(2016-04-28 20:00:00+00:00,2016-04-28 20:01:00+00:00]\n",
      "\n"
     ]
    },
    {
     "name": "stderr",
     "output_type": "stream",
     "text": [
      "\n"
     ]
    },
    {
     "data": {
      "text/plain": [
       "[(datetime.datetime(2016, 4, 28, 20, 0, 30, tzinfo=<UTC>), 3),\n",
       " (datetime.datetime(2016, 4, 28, 20, 1, tzinfo=<UTC>), 4)]"
      ]
     },
     "execution_count": 41,
     "metadata": {},
     "output_type": "execute_result"
    }
   ],
   "source": [
    "M['count',t1,t1+MINUTE,List()]()"
   ]
  },
  {
   "cell_type": "code",
   "execution_count": 42,
   "metadata": {
    "collapsed": false
   },
   "outputs": [
    {
     "name": "stderr",
     "output_type": "stream",
     "text": [
      "100%|██████████| 298/298 [00:00<00:00, 10207.95it/s]"
     ]
    },
    {
     "name": "stdout",
     "output_type": "stream",
     "text": [
      "Pool running from 2016-04-28 20:00:00+00:00 to 2016-04-28 20:01:00+00:00\n",
      "(2016-04-28 20:00:00+00:00,2016-04-28 20:01:00+00:00]\n",
      "\n"
     ]
    },
    {
     "name": "stderr",
     "output_type": "stream",
     "text": [
      "\n"
     ]
    },
    {
     "data": {
      "text/plain": [
       "[(datetime.datetime(2016, 4, 28, 20, 0, 30, tzinfo=<UTC>), 0.0),\n",
       " (datetime.datetime(2016, 4, 28, 20, 1, tzinfo=<UTC>), 0.25)]"
      ]
     },
     "execution_count": 42,
     "metadata": {},
     "output_type": "execute_result"
    }
   ],
   "source": [
    "M['aver',t1,t1+MINUTE,List()]()"
   ]
  },
  {
   "cell_type": "code",
   "execution_count": 45,
   "metadata": {
    "collapsed": false
   },
   "outputs": [
    {
     "data": {
      "text/plain": [
       "<hyperstream_bases.ToolBase object at 0x1133c5450> with ID: 1 and containing 5 streams:\n",
       "STREAM ID: \n",
       "  NAMES: \n",
       "  CALCULATED RANGES: (0001-01-01 00:00:00+00:00,9999-12-31 23:59:59.999999+00:00]\n",
       "  STREAM DEFINITION: externally defined by the file system, read-only stream, currently holding 0 files\n",
       "STREAM ID: test2\n",
       "  NAMES: test2\n",
       "  CALCULATED RANGES: (0001-01-01 00:00:00+00:00,9999-12-31 23:59:59.999999+00:00]\n",
       "  STREAM DEFINITION: externally defined by the file system, read-only stream, currently holding 0 files\n",
       "STREAM ID: prod\n",
       "  NAMES: prod\n",
       "  CALCULATED RANGES: (0001-01-01 00:00:00+00:00,9999-12-31 23:59:59.999999+00:00]\n",
       "  STREAM DEFINITION: externally defined by the file system, read-only stream, currently holding 1 files\n",
       "STREAM ID: pool\n",
       "  NAMES: pool\n",
       "  CALCULATED RANGES: (0001-01-01 00:00:00+00:00,9999-12-31 23:59:59.999999+00:00]\n",
       "  STREAM DEFINITION: externally defined by the file system, read-only stream, currently holding 3 files\n",
       "STREAM ID: clock\n",
       "  NAMES: clock\n",
       "  CALCULATED RANGES: (0001-01-01 00:00:00+00:00,9999-12-31 23:59:59.999999+00:00]\n",
       "  STREAM DEFINITION: externally defined by the file system, read-only stream, currently holding 4 files"
      ]
     },
     "execution_count": 45,
     "metadata": {},
     "output_type": "execute_result"
    }
   ],
   "source": [
    "T"
   ]
  },
  {
   "cell_type": "code",
   "execution_count": 47,
   "metadata": {
    "collapsed": false
   },
   "outputs": [
    {
     "data": {
      "text/plain": [
       "['prod_v1',\n",
       " 'clock',\n",
       " 'clock_v3',\n",
       " 'clock_v2',\n",
       " 'clock_v1',\n",
       " 'pool_v1',\n",
       " 'pool_v2',\n",
       " 'prod',\n",
       " 'pool']"
      ]
     },
     "execution_count": 47,
     "metadata": {},
     "output_type": "execute_result"
    }
   ],
   "source": [
    "T.versions.keys()"
   ]
  },
  {
   "cell_type": "code",
   "execution_count": 53,
   "metadata": {
    "collapsed": false
   },
   "outputs": [
    {
     "name": "stdout",
     "output_type": "stream",
     "text": [
      "importing codebase/tools/prod/2016_07_14_11_32_26_595_v2.py\n",
      "Defining a Prod stream\n"
     ]
    }
   ],
   "source": [
    "M['aver*count'] = prod(stream1=M['aver'],stream2=M['count'])"
   ]
  },
  {
   "cell_type": "code",
   "execution_count": 58,
   "metadata": {
    "collapsed": false
   },
   "outputs": [
    {
     "data": {
      "text/plain": [
       "[0.0, 1.0]"
      ]
     },
     "execution_count": 58,
     "metadata": {},
     "output_type": "execute_result"
    }
   ],
   "source": [
    "M['aver*count',t1,t1+1*MINUTE,Data()+List()]()"
   ]
  },
  {
   "cell_type": "code",
   "execution_count": null,
   "metadata": {
    "collapsed": true
   },
   "outputs": [],
   "source": [
    "M['aver*count']\n",
    "    .timerange(t1, t1 + MINUTE)\n",
    "    .modify(Data())\n",
    "    .modify(List())()"
   ]
  }
 ],
 "metadata": {
  "kernelspec": {
   "display_name": "Python 2",
   "language": "python",
   "name": "python2"
  },
  "language_info": {
   "codemirror_mode": {
    "name": "ipython",
    "version": 2.0
   },
   "file_extension": ".py",
   "mimetype": "text/x-python",
   "name": "python",
   "nbconvert_exporter": "python",
   "pygments_lexer": "ipython2",
   "version": "2.7.11"
  }
 },
 "nbformat": 4,
 "nbformat_minor": 0
}